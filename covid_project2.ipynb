{
 "cells": [
  {
   "cell_type": "code",
   "execution_count": 1,
   "metadata": {},
   "outputs": [
    {
     "name": "stdout",
     "output_type": "stream",
     "text": [
      "Requirement already satisfied: missingno in c:\\users\\heung\\anaconda3\\envs\\pythondata\\lib\\site-packages (0.4.2)\n",
      "Requirement already satisfied: scipy in c:\\users\\heung\\anaconda3\\envs\\pythondata\\lib\\site-packages (from missingno) (1.5.0)\n",
      "Requirement already satisfied: seaborn in c:\\users\\heung\\anaconda3\\envs\\pythondata\\lib\\site-packages (from missingno) (0.10.1)\n",
      "Requirement already satisfied: numpy in c:\\users\\heung\\anaconda3\\envs\\pythondata\\lib\\site-packages (from missingno) (1.17.0)\n",
      "Requirement already satisfied: matplotlib in c:\\users\\heung\\anaconda3\\envs\\pythondata\\lib\\site-packages (from missingno) (3.2.2)\n",
      "Requirement already satisfied: pandas>=0.22.0 in c:\\users\\heung\\anaconda3\\envs\\pythondata\\lib\\site-packages (from seaborn->missingno) (1.0.5)\n",
      "Requirement already satisfied: kiwisolver>=1.0.1 in c:\\users\\heung\\anaconda3\\envs\\pythondata\\lib\\site-packages (from matplotlib->missingno) (1.2.0)\n",
      "Requirement already satisfied: python-dateutil>=2.1 in c:\\users\\heung\\anaconda3\\envs\\pythondata\\lib\\site-packages (from matplotlib->missingno) (2.8.1)\n",
      "Requirement already satisfied: cycler>=0.10 in c:\\users\\heung\\anaconda3\\envs\\pythondata\\lib\\site-packages (from matplotlib->missingno) (0.10.0)\n",
      "Requirement already satisfied: pyparsing!=2.0.4,!=2.1.2,!=2.1.6,>=2.0.1 in c:\\users\\heung\\anaconda3\\envs\\pythondata\\lib\\site-packages (from matplotlib->missingno) (2.4.7)\n",
      "Requirement already satisfied: pytz>=2017.2 in c:\\users\\heung\\anaconda3\\envs\\pythondata\\lib\\site-packages (from pandas>=0.22.0->seaborn->missingno) (2020.1)\n",
      "Requirement already satisfied: six>=1.5 in c:\\users\\heung\\anaconda3\\envs\\pythondata\\lib\\site-packages (from python-dateutil>=2.1->matplotlib->missingno) (1.15.0)\n",
      "Note: you may need to restart the kernel to use updated packages.\n"
     ]
    }
   ],
   "source": [
    "pip install missingno"
   ]
  },
  {
   "cell_type": "code",
   "execution_count": 2,
   "metadata": {},
   "outputs": [],
   "source": [
    "import os\n",
    "import csv\n",
    "import pandas as pd\n",
    "import missingno as msno\n",
    "import matplotlib.pyplot as plt\n",
    "import numpy as np\n",
    "import requests\n",
    "from scipy.stats import linregress\n",
    "import scipy.stats as st\n",
    "from scipy import stats\n",
    "import matplotlib.pyplot as plt\n",
    "import scipy.stats as sts\n",
    "\n",
    "csvpath = os.path.join('owid-covid-data.csv')"
   ]
  },
  {
   "cell_type": "code",
   "execution_count": 3,
   "metadata": {},
   "outputs": [
    {
     "data": {
      "text/html": [
       "<div>\n",
       "<style scoped>\n",
       "    .dataframe tbody tr th:only-of-type {\n",
       "        vertical-align: middle;\n",
       "    }\n",
       "\n",
       "    .dataframe tbody tr th {\n",
       "        vertical-align: top;\n",
       "    }\n",
       "\n",
       "    .dataframe thead th {\n",
       "        text-align: right;\n",
       "    }\n",
       "</style>\n",
       "<table border=\"1\" class=\"dataframe\">\n",
       "  <thead>\n",
       "    <tr style=\"text-align: right;\">\n",
       "      <th></th>\n",
       "      <th>iso_code</th>\n",
       "      <th>continent</th>\n",
       "      <th>location</th>\n",
       "      <th>month</th>\n",
       "      <th>date</th>\n",
       "      <th>total_cases</th>\n",
       "      <th>new_cases</th>\n",
       "      <th>new_cases_smoothed</th>\n",
       "      <th>total_deaths</th>\n",
       "      <th>new_deaths</th>\n",
       "      <th>...</th>\n",
       "      <th>gdp_per_capita</th>\n",
       "      <th>extreme_poverty</th>\n",
       "      <th>cardiovasc_death_rate</th>\n",
       "      <th>diabetes_prevalence</th>\n",
       "      <th>female_smokers</th>\n",
       "      <th>male_smokers</th>\n",
       "      <th>handwashing_facilities</th>\n",
       "      <th>hospital_beds_per_thousand</th>\n",
       "      <th>life_expectancy</th>\n",
       "      <th>human_development_index</th>\n",
       "    </tr>\n",
       "  </thead>\n",
       "  <tbody>\n",
       "    <tr>\n",
       "      <th>0</th>\n",
       "      <td>AFG</td>\n",
       "      <td>Asia</td>\n",
       "      <td>Afghanistan</td>\n",
       "      <td>02-2020</td>\n",
       "      <td>24/02/2020</td>\n",
       "      <td>1</td>\n",
       "      <td>1</td>\n",
       "      <td>NaN</td>\n",
       "      <td>NaN</td>\n",
       "      <td>NaN</td>\n",
       "      <td>...</td>\n",
       "      <td>1803.987</td>\n",
       "      <td>NaN</td>\n",
       "      <td>597.029</td>\n",
       "      <td>9.59</td>\n",
       "      <td>NaN</td>\n",
       "      <td>NaN</td>\n",
       "      <td>37.746</td>\n",
       "      <td>0.5</td>\n",
       "      <td>64.83</td>\n",
       "      <td>0.498</td>\n",
       "    </tr>\n",
       "    <tr>\n",
       "      <th>1</th>\n",
       "      <td>AFG</td>\n",
       "      <td>Asia</td>\n",
       "      <td>Afghanistan</td>\n",
       "      <td>02-2020</td>\n",
       "      <td>25/02/2020</td>\n",
       "      <td>1</td>\n",
       "      <td>0</td>\n",
       "      <td>NaN</td>\n",
       "      <td>NaN</td>\n",
       "      <td>NaN</td>\n",
       "      <td>...</td>\n",
       "      <td>1803.987</td>\n",
       "      <td>NaN</td>\n",
       "      <td>597.029</td>\n",
       "      <td>9.59</td>\n",
       "      <td>NaN</td>\n",
       "      <td>NaN</td>\n",
       "      <td>37.746</td>\n",
       "      <td>0.5</td>\n",
       "      <td>64.83</td>\n",
       "      <td>0.498</td>\n",
       "    </tr>\n",
       "    <tr>\n",
       "      <th>2</th>\n",
       "      <td>AFG</td>\n",
       "      <td>Asia</td>\n",
       "      <td>Afghanistan</td>\n",
       "      <td>02-2020</td>\n",
       "      <td>26/02/2020</td>\n",
       "      <td>1</td>\n",
       "      <td>0</td>\n",
       "      <td>NaN</td>\n",
       "      <td>NaN</td>\n",
       "      <td>NaN</td>\n",
       "      <td>...</td>\n",
       "      <td>1803.987</td>\n",
       "      <td>NaN</td>\n",
       "      <td>597.029</td>\n",
       "      <td>9.59</td>\n",
       "      <td>NaN</td>\n",
       "      <td>NaN</td>\n",
       "      <td>37.746</td>\n",
       "      <td>0.5</td>\n",
       "      <td>64.83</td>\n",
       "      <td>0.498</td>\n",
       "    </tr>\n",
       "    <tr>\n",
       "      <th>3</th>\n",
       "      <td>AFG</td>\n",
       "      <td>Asia</td>\n",
       "      <td>Afghanistan</td>\n",
       "      <td>02-2020</td>\n",
       "      <td>27/02/2020</td>\n",
       "      <td>1</td>\n",
       "      <td>0</td>\n",
       "      <td>NaN</td>\n",
       "      <td>NaN</td>\n",
       "      <td>NaN</td>\n",
       "      <td>...</td>\n",
       "      <td>1803.987</td>\n",
       "      <td>NaN</td>\n",
       "      <td>597.029</td>\n",
       "      <td>9.59</td>\n",
       "      <td>NaN</td>\n",
       "      <td>NaN</td>\n",
       "      <td>37.746</td>\n",
       "      <td>0.5</td>\n",
       "      <td>64.83</td>\n",
       "      <td>0.498</td>\n",
       "    </tr>\n",
       "    <tr>\n",
       "      <th>4</th>\n",
       "      <td>AFG</td>\n",
       "      <td>Asia</td>\n",
       "      <td>Afghanistan</td>\n",
       "      <td>02-2020</td>\n",
       "      <td>28/02/2020</td>\n",
       "      <td>1</td>\n",
       "      <td>0</td>\n",
       "      <td>NaN</td>\n",
       "      <td>NaN</td>\n",
       "      <td>NaN</td>\n",
       "      <td>...</td>\n",
       "      <td>1803.987</td>\n",
       "      <td>NaN</td>\n",
       "      <td>597.029</td>\n",
       "      <td>9.59</td>\n",
       "      <td>NaN</td>\n",
       "      <td>NaN</td>\n",
       "      <td>37.746</td>\n",
       "      <td>0.5</td>\n",
       "      <td>64.83</td>\n",
       "      <td>0.498</td>\n",
       "    </tr>\n",
       "  </tbody>\n",
       "</table>\n",
       "<p>5 rows × 55 columns</p>\n",
       "</div>"
      ],
      "text/plain": [
       "  iso_code continent     location    month        date total_cases new_cases  \\\n",
       "0      AFG      Asia  Afghanistan  02-2020  24/02/2020           1         1   \n",
       "1      AFG      Asia  Afghanistan  02-2020  25/02/2020           1         0   \n",
       "2      AFG      Asia  Afghanistan  02-2020  26/02/2020           1         0   \n",
       "3      AFG      Asia  Afghanistan  02-2020  27/02/2020           1         0   \n",
       "4      AFG      Asia  Afghanistan  02-2020  28/02/2020           1         0   \n",
       "\n",
       "  new_cases_smoothed total_deaths new_deaths  ... gdp_per_capita  \\\n",
       "0                NaN          NaN        NaN  ...       1803.987   \n",
       "1                NaN          NaN        NaN  ...       1803.987   \n",
       "2                NaN          NaN        NaN  ...       1803.987   \n",
       "3                NaN          NaN        NaN  ...       1803.987   \n",
       "4                NaN          NaN        NaN  ...       1803.987   \n",
       "\n",
       "  extreme_poverty cardiovasc_death_rate diabetes_prevalence female_smokers  \\\n",
       "0             NaN               597.029                9.59            NaN   \n",
       "1             NaN               597.029                9.59            NaN   \n",
       "2             NaN               597.029                9.59            NaN   \n",
       "3             NaN               597.029                9.59            NaN   \n",
       "4             NaN               597.029                9.59            NaN   \n",
       "\n",
       "  male_smokers handwashing_facilities hospital_beds_per_thousand  \\\n",
       "0          NaN                 37.746                        0.5   \n",
       "1          NaN                 37.746                        0.5   \n",
       "2          NaN                 37.746                        0.5   \n",
       "3          NaN                 37.746                        0.5   \n",
       "4          NaN                 37.746                        0.5   \n",
       "\n",
       "  life_expectancy human_development_index  \n",
       "0           64.83                   0.498  \n",
       "1           64.83                   0.498  \n",
       "2           64.83                   0.498  \n",
       "3           64.83                   0.498  \n",
       "4           64.83                   0.498  \n",
       "\n",
       "[5 rows x 55 columns]"
      ]
     },
     "execution_count": 3,
     "metadata": {},
     "output_type": "execute_result"
    }
   ],
   "source": [
    "covid = pd.read_csv(\"owid-covid-data.csv\", dtype=\"object\", encoding=\"utf-8\")\n",
    "covid.head()"
   ]
  },
  {
   "cell_type": "code",
   "execution_count": 4,
   "metadata": {},
   "outputs": [
    {
     "data": {
      "text/plain": [
       "<matplotlib.axes._subplots.AxesSubplot at 0x2a2973deb00>"
      ]
     },
     "execution_count": 4,
     "metadata": {},
     "output_type": "execute_result"
    },
    {
     "data": {
      "image/png": "[encoded data removed]",
      "text/plain": [
       "<Figure size 1800x720 with 2 Axes>"
      ]
     },
     "metadata": {
      "needs_background": "light"
     },
     "output_type": "display_data"
    }
   ],
   "source": [
    "msno.matrix(covid)"
   ]
  },
  {
   "cell_type": "code",
   "execution_count": 5,
   "metadata": {},
   "outputs": [
    {
     "data": {
      "text/plain": [
       "<bound method NDFrame.describe of       iso_code continent     location    month        date total_cases  \\\n",
       "0          AFG      Asia  Afghanistan  02-2020  24/02/2020           1   \n",
       "1          AFG      Asia  Afghanistan  02-2020  25/02/2020           1   \n",
       "2          AFG      Asia  Afghanistan  02-2020  26/02/2020           1   \n",
       "3          AFG      Asia  Afghanistan  02-2020  27/02/2020           1   \n",
       "4          AFG      Asia  Afghanistan  02-2020  28/02/2020           1   \n",
       "...        ...       ...          ...      ...         ...         ...   \n",
       "59314      ZWE    Africa     Zimbabwe  01-2021   6/01/2021       17804   \n",
       "59315      ZWE    Africa     Zimbabwe  01-2021   7/01/2021       18675   \n",
       "59316      ZWE    Africa     Zimbabwe  01-2021   8/01/2021       19660   \n",
       "59317      ZWE    Africa     Zimbabwe  01-2021   9/01/2021       20499   \n",
       "59318      ZWE    Africa     Zimbabwe  01-2021  10/01/2021       21477   \n",
       "\n",
       "      new_cases new_cases_smoothed total_deaths new_deaths  ...  \\\n",
       "0             1                NaN          NaN        NaN  ...   \n",
       "1             0                NaN          NaN        NaN  ...   \n",
       "2             0                NaN          NaN        NaN  ...   \n",
       "3             0                NaN          NaN        NaN  ...   \n",
       "4             0                NaN          NaN        NaN  ...   \n",
       "...         ...                ...          ...        ...  ...   \n",
       "59314       610                597          431         13  ...   \n",
       "59315       871            686.857          446         15  ...   \n",
       "59316       985            796.571          468         22  ...   \n",
       "59317       839            858.286          483         15  ...   \n",
       "59318       978            887.429          507         24  ...   \n",
       "\n",
       "      gdp_per_capita extreme_poverty cardiovasc_death_rate  \\\n",
       "0           1803.987             NaN               597.029   \n",
       "1           1803.987             NaN               597.029   \n",
       "2           1803.987             NaN               597.029   \n",
       "3           1803.987             NaN               597.029   \n",
       "4           1803.987             NaN               597.029   \n",
       "...              ...             ...                   ...   \n",
       "59314       1899.775            21.4               307.846   \n",
       "59315       1899.775            21.4               307.846   \n",
       "59316       1899.775            21.4               307.846   \n",
       "59317       1899.775            21.4               307.846   \n",
       "59318       1899.775            21.4               307.846   \n",
       "\n",
       "      diabetes_prevalence female_smokers male_smokers handwashing_facilities  \\\n",
       "0                    9.59            NaN          NaN                 37.746   \n",
       "1                    9.59            NaN          NaN                 37.746   \n",
       "2                    9.59            NaN          NaN                 37.746   \n",
       "3                    9.59            NaN          NaN                 37.746   \n",
       "4                    9.59            NaN          NaN                 37.746   \n",
       "...                   ...            ...          ...                    ...   \n",
       "59314                1.82            1.6         30.7                 36.791   \n",
       "59315                1.82            1.6         30.7                 36.791   \n",
       "59316                1.82            1.6         30.7                 36.791   \n",
       "59317                1.82            1.6         30.7                 36.791   \n",
       "59318                1.82            1.6         30.7                 36.791   \n",
       "\n",
       "      hospital_beds_per_thousand life_expectancy human_development_index  \n",
       "0                            0.5           64.83                   0.498  \n",
       "1                            0.5           64.83                   0.498  \n",
       "2                            0.5           64.83                   0.498  \n",
       "3                            0.5           64.83                   0.498  \n",
       "4                            0.5           64.83                   0.498  \n",
       "...                          ...             ...                     ...  \n",
       "59314                        1.7           61.49                   0.535  \n",
       "59315                        1.7           61.49                   0.535  \n",
       "59316                        1.7           61.49                   0.535  \n",
       "59317                        1.7           61.49                   0.535  \n",
       "59318                        1.7           61.49                   0.535  \n",
       "\n",
       "[59319 rows x 55 columns]>"
      ]
     },
     "execution_count": 5,
     "metadata": {},
     "output_type": "execute_result"
    }
   ],
   "source": [
    "covid.describe"
   ]
  },
  {
   "cell_type": "code",
   "execution_count": 6,
   "metadata": {},
   "outputs": [
    {
     "data": {
      "text/plain": [
       "iso_code                              58980\n",
       "continent                             58624\n",
       "location                              59319\n",
       "month                                 59319\n",
       "date                                  59319\n",
       "total_cases                           58772\n",
       "new_cases                             58765\n",
       "new_cases_smoothed                    57810\n",
       "total_deaths                          50365\n",
       "new_deaths                            50364\n",
       "new_deaths_smoothed                   57810\n",
       "total_cases_per_million               58433\n",
       "new_cases_per_million                 58426\n",
       "new_cases_smoothed_per_million        57476\n",
       "total_deaths_per_million              50039\n",
       "new_deaths_per_million                50038\n",
       "new_deaths_smoothed_per_million       57476\n",
       "reproduction_rate                     44995\n",
       "icu_patients                           6129\n",
       "icu_patients_per_million               6129\n",
       "hosp_patients                          6867\n",
       "hosp_patients_per_million              6867\n",
       "weekly_icu_admissions                   560\n",
       "weekly_icu_admissions_per_million       560\n",
       "weekly_hosp_admissions                  894\n",
       "weekly_hosp_admissions_per_million      894\n",
       "new_tests                             27365\n",
       "total_tests                           27192\n",
       "total_tests_per_thousand              27192\n",
       "new_tests_per_thousand                27365\n",
       "new_tests_smoothed                    30762\n",
       "new_tests_smoothed_per_thousand       30762\n",
       "positive_rate                         29032\n",
       "tests_per_case                        28566\n",
       "tests_units                           31889\n",
       "total_vaccinations                      364\n",
       "new_vaccinations                        443\n",
       "total_vaccinations_per_hundred          364\n",
       "new_vaccinations_per_million            443\n",
       "stringency_index                      52691\n",
       "population                            58980\n",
       "population_density                    57732\n",
       "median_age                            56440\n",
       "aged_65_older                         55784\n",
       "aged_70_older                         56120\n",
       "gdp_per_capita                        56462\n",
       "extreme_poverty                       38678\n",
       "cardiovasc_death_rate                 57054\n",
       "diabetes_prevalence                   57710\n",
       "female_smokers                        45051\n",
       "male_smokers                          44434\n",
       "handwashing_facilities                28558\n",
       "hospital_beds_per_thousand            52429\n",
       "life_expectancy                       58677\n",
       "human_development_index               56712\n",
       "dtype: int64"
      ]
     },
     "execution_count": 6,
     "metadata": {},
     "output_type": "execute_result"
    }
   ],
   "source": [
    "covid.count()"
   ]
  },
  {
   "cell_type": "code",
   "execution_count": 7,
   "metadata": {},
   "outputs": [],
   "source": [
    "#organized_df = covid[[\"continent\", \"location\", \"date\", \"total_cases\",\"total_deaths\",\"gdp_per_capita\", \"hospital_beds_per_thousand\", \"new_cases\", \"median_age\", \"population\", \"aged_65_older\", \"aged_70_older\",\"total_tests\" ]]\n",
    "#organized_df = covid[[\"continent\", \"location\", \"date\", \"new_cases\", \"new_deaths\", \"gdp_per_capita\", \"hospital_beds_per_thousand\", \"median_age\"]]\n",
    "#organized_df = covid[[\"continent\", \"location\", \"date\", \"new_deaths\", \"hospital_beds_per_thousand\"]]"
   ]
  },
  {
   "cell_type": "code",
   "execution_count": 8,
   "metadata": {},
   "outputs": [],
   "source": [
    "organized_df = covid[[\"continent\", \"location\", \"new_deaths\", \"hospital_beds_per_thousand\", \"gdp_per_capita\"]]"
   ]
  },
  {
   "cell_type": "code",
   "execution_count": 9,
   "metadata": {},
   "outputs": [
    {
     "data": {
      "text/html": [
       "<div>\n",
       "<style scoped>\n",
       "    .dataframe tbody tr th:only-of-type {\n",
       "        vertical-align: middle;\n",
       "    }\n",
       "\n",
       "    .dataframe tbody tr th {\n",
       "        vertical-align: top;\n",
       "    }\n",
       "\n",
       "    .dataframe thead th {\n",
       "        text-align: right;\n",
       "    }\n",
       "</style>\n",
       "<table border=\"1\" class=\"dataframe\">\n",
       "  <thead>\n",
       "    <tr style=\"text-align: right;\">\n",
       "      <th></th>\n",
       "      <th>continent</th>\n",
       "      <th>location</th>\n",
       "      <th>new_deaths</th>\n",
       "      <th>hospital_beds_per_thousand</th>\n",
       "      <th>gdp_per_capita</th>\n",
       "    </tr>\n",
       "  </thead>\n",
       "  <tbody>\n",
       "    <tr>\n",
       "      <th>0</th>\n",
       "      <td>Asia</td>\n",
       "      <td>Afghanistan</td>\n",
       "      <td>NaN</td>\n",
       "      <td>0.5</td>\n",
       "      <td>1803.987</td>\n",
       "    </tr>\n",
       "    <tr>\n",
       "      <th>1</th>\n",
       "      <td>Asia</td>\n",
       "      <td>Afghanistan</td>\n",
       "      <td>NaN</td>\n",
       "      <td>0.5</td>\n",
       "      <td>1803.987</td>\n",
       "    </tr>\n",
       "    <tr>\n",
       "      <th>2</th>\n",
       "      <td>Asia</td>\n",
       "      <td>Afghanistan</td>\n",
       "      <td>NaN</td>\n",
       "      <td>0.5</td>\n",
       "      <td>1803.987</td>\n",
       "    </tr>\n",
       "    <tr>\n",
       "      <th>3</th>\n",
       "      <td>Asia</td>\n",
       "      <td>Afghanistan</td>\n",
       "      <td>NaN</td>\n",
       "      <td>0.5</td>\n",
       "      <td>1803.987</td>\n",
       "    </tr>\n",
       "    <tr>\n",
       "      <th>4</th>\n",
       "      <td>Asia</td>\n",
       "      <td>Afghanistan</td>\n",
       "      <td>NaN</td>\n",
       "      <td>0.5</td>\n",
       "      <td>1803.987</td>\n",
       "    </tr>\n",
       "  </tbody>\n",
       "</table>\n",
       "</div>"
      ],
      "text/plain": [
       "  continent     location new_deaths hospital_beds_per_thousand gdp_per_capita\n",
       "0      Asia  Afghanistan        NaN                        0.5       1803.987\n",
       "1      Asia  Afghanistan        NaN                        0.5       1803.987\n",
       "2      Asia  Afghanistan        NaN                        0.5       1803.987\n",
       "3      Asia  Afghanistan        NaN                        0.5       1803.987\n",
       "4      Asia  Afghanistan        NaN                        0.5       1803.987"
      ]
     },
     "execution_count": 9,
     "metadata": {},
     "output_type": "execute_result"
    }
   ],
   "source": [
    "organized_df.head()"
   ]
  },
  {
   "cell_type": "code",
   "execution_count": 10,
   "metadata": {},
   "outputs": [
    {
     "data": {
      "text/plain": [
       "continent                     58624\n",
       "location                      59319\n",
       "new_deaths                    50364\n",
       "hospital_beds_per_thousand    52429\n",
       "gdp_per_capita                56462\n",
       "dtype: int64"
      ]
     },
     "execution_count": 10,
     "metadata": {},
     "output_type": "execute_result"
    }
   ],
   "source": [
    "organized_df.count()"
   ]
  },
  {
   "cell_type": "code",
   "execution_count": 11,
   "metadata": {},
   "outputs": [],
   "source": [
    "organized_df = organized_df.dropna(how='any')"
   ]
  },
  {
   "cell_type": "code",
   "execution_count": 12,
   "metadata": {},
   "outputs": [
    {
     "data": {
      "text/plain": [
       "continent                     42974\n",
       "location                      42974\n",
       "new_deaths                    42974\n",
       "hospital_beds_per_thousand    42974\n",
       "gdp_per_capita                42974\n",
       "dtype: int64"
      ]
     },
     "execution_count": 12,
     "metadata": {},
     "output_type": "execute_result"
    }
   ],
   "source": [
    "organized_df.count()"
   ]
  },
  {
   "cell_type": "code",
   "execution_count": 13,
   "metadata": {},
   "outputs": [
    {
     "data": {
      "text/html": [
       "<div>\n",
       "<style scoped>\n",
       "    .dataframe tbody tr th:only-of-type {\n",
       "        vertical-align: middle;\n",
       "    }\n",
       "\n",
       "    .dataframe tbody tr th {\n",
       "        vertical-align: top;\n",
       "    }\n",
       "\n",
       "    .dataframe thead th {\n",
       "        text-align: right;\n",
       "    }\n",
       "</style>\n",
       "<table border=\"1\" class=\"dataframe\">\n",
       "  <thead>\n",
       "    <tr style=\"text-align: right;\">\n",
       "      <th></th>\n",
       "      <th>continent</th>\n",
       "      <th>location</th>\n",
       "      <th>new_deaths</th>\n",
       "      <th>hospital_beds_per_thousand</th>\n",
       "      <th>gdp_per_capita</th>\n",
       "    </tr>\n",
       "  </thead>\n",
       "  <tbody>\n",
       "    <tr>\n",
       "      <th>27</th>\n",
       "      <td>Asia</td>\n",
       "      <td>Afghanistan</td>\n",
       "      <td>1</td>\n",
       "      <td>0.5</td>\n",
       "      <td>1803.987</td>\n",
       "    </tr>\n",
       "    <tr>\n",
       "      <th>28</th>\n",
       "      <td>Asia</td>\n",
       "      <td>Afghanistan</td>\n",
       "      <td>0</td>\n",
       "      <td>0.5</td>\n",
       "      <td>1803.987</td>\n",
       "    </tr>\n",
       "    <tr>\n",
       "      <th>29</th>\n",
       "      <td>Asia</td>\n",
       "      <td>Afghanistan</td>\n",
       "      <td>0</td>\n",
       "      <td>0.5</td>\n",
       "      <td>1803.987</td>\n",
       "    </tr>\n",
       "    <tr>\n",
       "      <th>30</th>\n",
       "      <td>Asia</td>\n",
       "      <td>Afghanistan</td>\n",
       "      <td>1</td>\n",
       "      <td>0.5</td>\n",
       "      <td>1803.987</td>\n",
       "    </tr>\n",
       "    <tr>\n",
       "      <th>31</th>\n",
       "      <td>Asia</td>\n",
       "      <td>Afghanistan</td>\n",
       "      <td>1</td>\n",
       "      <td>0.5</td>\n",
       "      <td>1803.987</td>\n",
       "    </tr>\n",
       "    <tr>\n",
       "      <th>...</th>\n",
       "      <td>...</td>\n",
       "      <td>...</td>\n",
       "      <td>...</td>\n",
       "      <td>...</td>\n",
       "      <td>...</td>\n",
       "    </tr>\n",
       "    <tr>\n",
       "      <th>59314</th>\n",
       "      <td>Africa</td>\n",
       "      <td>Zimbabwe</td>\n",
       "      <td>13</td>\n",
       "      <td>1.7</td>\n",
       "      <td>1899.775</td>\n",
       "    </tr>\n",
       "    <tr>\n",
       "      <th>59315</th>\n",
       "      <td>Africa</td>\n",
       "      <td>Zimbabwe</td>\n",
       "      <td>15</td>\n",
       "      <td>1.7</td>\n",
       "      <td>1899.775</td>\n",
       "    </tr>\n",
       "    <tr>\n",
       "      <th>59316</th>\n",
       "      <td>Africa</td>\n",
       "      <td>Zimbabwe</td>\n",
       "      <td>22</td>\n",
       "      <td>1.7</td>\n",
       "      <td>1899.775</td>\n",
       "    </tr>\n",
       "    <tr>\n",
       "      <th>59317</th>\n",
       "      <td>Africa</td>\n",
       "      <td>Zimbabwe</td>\n",
       "      <td>15</td>\n",
       "      <td>1.7</td>\n",
       "      <td>1899.775</td>\n",
       "    </tr>\n",
       "    <tr>\n",
       "      <th>59318</th>\n",
       "      <td>Africa</td>\n",
       "      <td>Zimbabwe</td>\n",
       "      <td>24</td>\n",
       "      <td>1.7</td>\n",
       "      <td>1899.775</td>\n",
       "    </tr>\n",
       "  </tbody>\n",
       "</table>\n",
       "<p>42974 rows × 5 columns</p>\n",
       "</div>"
      ],
      "text/plain": [
       "      continent     location new_deaths hospital_beds_per_thousand  \\\n",
       "27         Asia  Afghanistan          1                        0.5   \n",
       "28         Asia  Afghanistan          0                        0.5   \n",
       "29         Asia  Afghanistan          0                        0.5   \n",
       "30         Asia  Afghanistan          1                        0.5   \n",
       "31         Asia  Afghanistan          1                        0.5   \n",
       "...         ...          ...        ...                        ...   \n",
       "59314    Africa     Zimbabwe         13                        1.7   \n",
       "59315    Africa     Zimbabwe         15                        1.7   \n",
       "59316    Africa     Zimbabwe         22                        1.7   \n",
       "59317    Africa     Zimbabwe         15                        1.7   \n",
       "59318    Africa     Zimbabwe         24                        1.7   \n",
       "\n",
       "      gdp_per_capita  \n",
       "27          1803.987  \n",
       "28          1803.987  \n",
       "29          1803.987  \n",
       "30          1803.987  \n",
       "31          1803.987  \n",
       "...              ...  \n",
       "59314       1899.775  \n",
       "59315       1899.775  \n",
       "59316       1899.775  \n",
       "59317       1899.775  \n",
       "59318       1899.775  \n",
       "\n",
       "[42974 rows x 5 columns]"
      ]
     },
     "execution_count": 13,
     "metadata": {},
     "output_type": "execute_result"
    }
   ],
   "source": [
    "organized_df"
   ]
  },
  {
   "cell_type": "code",
   "execution_count": 14,
   "metadata": {},
   "outputs": [
    {
     "name": "stdout",
     "output_type": "stream",
     "text": [
      "continent                     object\n",
      "location                      object\n",
      "new_deaths                    object\n",
      "hospital_beds_per_thousand    object\n",
      "gdp_per_capita                object\n",
      "dtype: object\n"
     ]
    }
   ],
   "source": [
    "#check the data type\n",
    "print(organized_df.dtypes)"
   ]
  },
  {
   "cell_type": "code",
   "execution_count": 15,
   "metadata": {},
   "outputs": [],
   "source": [
    "# Use pd.to_numeric() method to convert the datatype of the new_deaths & hospital_beds_per_thousand column\n",
    "organized_df['new_deaths'] = pd.to_numeric(organized_df['new_deaths'])\n",
    "organized_df['hospital_beds_per_thousand'] = pd.to_numeric(organized_df['hospital_beds_per_thousand'])\n",
    "organized_df['gdp_per_capita'] = pd.to_numeric(organized_df['gdp_per_capita'])"
   ]
  },
  {
   "cell_type": "code",
   "execution_count": 16,
   "metadata": {},
   "outputs": [
    {
     "name": "stdout",
     "output_type": "stream",
     "text": [
      "continent                      object\n",
      "location                       object\n",
      "new_deaths                      int64\n",
      "hospital_beds_per_thousand    float64\n",
      "gdp_per_capita                float64\n",
      "dtype: object\n"
     ]
    }
   ],
   "source": [
    "#check the data type again\n",
    "print(organized_df.dtypes)"
   ]
  },
  {
   "cell_type": "markdown",
   "metadata": {},
   "source": [
    "# Total deaths VS Hospital beds per thousand"
   ]
  },
  {
   "cell_type": "code",
   "execution_count": 17,
   "metadata": {},
   "outputs": [
    {
     "data": {
      "text/plain": [
       "1926281"
      ]
     },
     "execution_count": 17,
     "metadata": {},
     "output_type": "execute_result"
    }
   ],
   "source": [
    "# The sum method adds every entry in the series\n",
    "total1 = organized_df[\"new_deaths\"].sum()\n",
    "total1"
   ]
  },
  {
   "cell_type": "code",
   "execution_count": 18,
   "metadata": {},
   "outputs": [
    {
     "data": {
      "text/plain": [
       "44.824335644808485"
      ]
     },
     "execution_count": 18,
     "metadata": {},
     "output_type": "execute_result"
    }
   ],
   "source": [
    "# The mean method averages the series\n",
    "average1 = organized_df[\"new_deaths\"].mean()\n",
    "average1"
   ]
  },
  {
   "cell_type": "code",
   "execution_count": 19,
   "metadata": {},
   "outputs": [
    {
     "data": {
      "text/plain": [
       "129489.57099999998"
      ]
     },
     "execution_count": 19,
     "metadata": {},
     "output_type": "execute_result"
    }
   ],
   "source": [
    "# The sum method adds every entry in the series\n",
    "total2 = organized_df[\"hospital_beds_per_thousand\"].sum()\n",
    "total2"
   ]
  },
  {
   "cell_type": "code",
   "execution_count": 20,
   "metadata": {},
   "outputs": [
    {
     "data": {
      "text/plain": [
       "3.0132073113979563"
      ]
     },
     "execution_count": 20,
     "metadata": {},
     "output_type": "execute_result"
    }
   ],
   "source": [
    "# The mean method averages the series\n",
    "average2 = organized_df[\"hospital_beds_per_thousand\"].mean()\n",
    "average2"
   ]
  },
  {
   "cell_type": "code",
   "execution_count": 21,
   "metadata": {},
   "outputs": [
    {
     "data": {
      "text/plain": [
       "array(['Afghanistan', 'Albania', 'Algeria', 'Antigua and Barbuda',\n",
       "       'Argentina', 'Armenia', 'Australia', 'Austria', 'Azerbaijan',\n",
       "       'Bahamas', 'Bahrain', 'Bangladesh', 'Barbados', 'Belarus',\n",
       "       'Belgium', 'Belize', 'Benin', 'Bolivia', 'Bosnia and Herzegovina',\n",
       "       'Botswana', 'Brazil', 'Brunei', 'Bulgaria', 'Burkina Faso',\n",
       "       'Burundi', 'Cameroon', 'Canada', 'Cape Verde',\n",
       "       'Central African Republic', 'Chile', 'China', 'Colombia',\n",
       "       'Comoros', 'Costa Rica', 'Croatia', 'Cyprus', 'Czechia', 'Denmark',\n",
       "       'Djibouti', 'Dominican Republic', 'Ecuador', 'Egypt',\n",
       "       'El Salvador', 'Equatorial Guinea', 'Eritrea', 'Estonia',\n",
       "       'Eswatini', 'Ethiopia', 'Fiji', 'Finland', 'France', 'Gabon',\n",
       "       'Gambia', 'Georgia', 'Germany', 'Ghana', 'Greece', 'Guatemala',\n",
       "       'Guinea', 'Guyana', 'Haiti', 'Honduras', 'Hungary', 'Iceland',\n",
       "       'India', 'Indonesia', 'Iran', 'Iraq', 'Ireland', 'Israel', 'Italy',\n",
       "       'Jamaica', 'Japan', 'Jordan', 'Kazakhstan', 'Kenya', 'Kuwait',\n",
       "       'Kyrgyzstan', 'Latvia', 'Lebanon', 'Liberia', 'Libya', 'Lithuania',\n",
       "       'Luxembourg', 'Madagascar', 'Malawi', 'Malaysia', 'Mali', 'Malta',\n",
       "       'Mauritius', 'Mexico', 'Moldova', 'Mongolia', 'Montenegro',\n",
       "       'Morocco', 'Mozambique', 'Myanmar', 'Nepal', 'Netherlands',\n",
       "       'New Zealand', 'Nicaragua', 'Niger', 'North Macedonia', 'Norway',\n",
       "       'Oman', 'Pakistan', 'Panama', 'Paraguay', 'Peru', 'Philippines',\n",
       "       'Poland', 'Portugal', 'Qatar', 'Romania', 'Russia', 'Saint Lucia',\n",
       "       'San Marino', 'Sao Tome and Principe', 'Saudi Arabia', 'Serbia',\n",
       "       'Singapore', 'Slovakia', 'Slovenia', 'South Africa', 'South Korea',\n",
       "       'Spain', 'Sri Lanka', 'Sudan', 'Suriname', 'Sweden', 'Switzerland',\n",
       "       'Tajikistan', 'Tanzania', 'Thailand', 'Togo',\n",
       "       'Trinidad and Tobago', 'Tunisia', 'Turkey', 'Uganda', 'Ukraine',\n",
       "       'United Arab Emirates', 'United Kingdom', 'United States',\n",
       "       'Uruguay', 'Uzbekistan', 'Venezuela', 'Vietnam', 'Yemen', 'Zambia',\n",
       "       'Zimbabwe'], dtype=object)"
      ]
     },
     "execution_count": 21,
     "metadata": {},
     "output_type": "execute_result"
    }
   ],
   "source": [
    "# The unique method shows every element of the series that appears only once\n",
    "unique1 = organized_df[\"location\"].unique()\n",
    "unique1"
   ]
  },
  {
   "cell_type": "code",
   "execution_count": 22,
   "metadata": {},
   "outputs": [
    {
     "data": {
      "text/plain": [
       "array(['Asia', 'Europe', 'Africa', 'North America', 'South America',\n",
       "       'Oceania'], dtype=object)"
      ]
     },
     "execution_count": 22,
     "metadata": {},
     "output_type": "execute_result"
    }
   ],
   "source": [
    "# The unique method shows every element of the series that appears only once\n",
    "unique2 = organized_df[\"continent\"].unique()\n",
    "unique2"
   ]
  },
  {
   "cell_type": "code",
   "execution_count": 23,
   "metadata": {
    "scrolled": true
   },
   "outputs": [
    {
     "data": {
      "text/plain": [
       "Europe           12365\n",
       "Asia             10888\n",
       "Africa           10350\n",
       "North America     5053\n",
       "South America     3550\n",
       "Oceania            768\n",
       "Name: continent, dtype: int64"
      ]
     },
     "execution_count": 23,
     "metadata": {},
     "output_type": "execute_result"
    }
   ],
   "source": [
    "# The value_counts method counts unique values in a column\n",
    "count1 = organized_df[\"continent\"].value_counts()\n",
    "count1"
   ]
  },
  {
   "cell_type": "code",
   "execution_count": 24,
   "metadata": {},
   "outputs": [
    {
     "data": {
      "text/plain": [
       "China          354\n",
       "Philippines    344\n",
       "Japan          333\n",
       "France         331\n",
       "Iran           327\n",
       "              ... \n",
       "Vietnam        164\n",
       "Fiji           164\n",
       "Saint Lucia     62\n",
       "Eritrea         20\n",
       "Mongolia        13\n",
       "Name: location, Length: 150, dtype: int64"
      ]
     },
     "execution_count": 24,
     "metadata": {},
     "output_type": "execute_result"
    }
   ],
   "source": [
    "# The value_counts method counts unique values in a column\n",
    "count2 = organized_df[\"location\"].value_counts()\n",
    "count2"
   ]
  },
  {
   "cell_type": "code",
   "execution_count": 25,
   "metadata": {},
   "outputs": [
    {
     "data": {
      "text/html": [
       "<div>\n",
       "<style scoped>\n",
       "    .dataframe tbody tr th:only-of-type {\n",
       "        vertical-align: middle;\n",
       "    }\n",
       "\n",
       "    .dataframe tbody tr th {\n",
       "        vertical-align: top;\n",
       "    }\n",
       "\n",
       "    .dataframe thead th {\n",
       "        text-align: right;\n",
       "    }\n",
       "</style>\n",
       "<table border=\"1\" class=\"dataframe\">\n",
       "  <thead>\n",
       "    <tr style=\"text-align: right;\">\n",
       "      <th></th>\n",
       "      <th>new_deaths</th>\n",
       "      <th>hospital_beds_per_thousand</th>\n",
       "      <th>gdp_per_capita</th>\n",
       "    </tr>\n",
       "  </thead>\n",
       "  <tbody>\n",
       "    <tr>\n",
       "      <th>count</th>\n",
       "      <td>42974.000000</td>\n",
       "      <td>42974.000000</td>\n",
       "      <td>42974.000000</td>\n",
       "    </tr>\n",
       "    <tr>\n",
       "      <th>mean</th>\n",
       "      <td>44.824336</td>\n",
       "      <td>3.013207</td>\n",
       "      <td>21498.421953</td>\n",
       "    </tr>\n",
       "    <tr>\n",
       "      <th>std</th>\n",
       "      <td>176.567623</td>\n",
       "      <td>2.394959</td>\n",
       "      <td>20461.425095</td>\n",
       "    </tr>\n",
       "    <tr>\n",
       "      <th>min</th>\n",
       "      <td>-1918.000000</td>\n",
       "      <td>0.100000</td>\n",
       "      <td>661.240000</td>\n",
       "    </tr>\n",
       "    <tr>\n",
       "      <th>25%</th>\n",
       "      <td>0.000000</td>\n",
       "      <td>1.300000</td>\n",
       "      <td>6253.104000</td>\n",
       "    </tr>\n",
       "    <tr>\n",
       "      <th>50%</th>\n",
       "      <td>2.000000</td>\n",
       "      <td>2.400000</td>\n",
       "      <td>15663.986000</td>\n",
       "    </tr>\n",
       "    <tr>\n",
       "      <th>75%</th>\n",
       "      <td>14.000000</td>\n",
       "      <td>4.200000</td>\n",
       "      <td>31400.840000</td>\n",
       "    </tr>\n",
       "    <tr>\n",
       "      <th>max</th>\n",
       "      <td>4194.000000</td>\n",
       "      <td>13.050000</td>\n",
       "      <td>116935.600000</td>\n",
       "    </tr>\n",
       "  </tbody>\n",
       "</table>\n",
       "</div>"
      ],
      "text/plain": [
       "         new_deaths  hospital_beds_per_thousand  gdp_per_capita\n",
       "count  42974.000000                42974.000000    42974.000000\n",
       "mean      44.824336                    3.013207    21498.421953\n",
       "std      176.567623                    2.394959    20461.425095\n",
       "min    -1918.000000                    0.100000      661.240000\n",
       "25%        0.000000                    1.300000     6253.104000\n",
       "50%        2.000000                    2.400000    15663.986000\n",
       "75%       14.000000                    4.200000    31400.840000\n",
       "max     4194.000000                   13.050000   116935.600000"
      ]
     },
     "execution_count": 25,
     "metadata": {},
     "output_type": "execute_result"
    }
   ],
   "source": [
    "organized_df.describe()"
   ]
  },
  {
   "cell_type": "code",
   "execution_count": 26,
   "metadata": {},
   "outputs": [
    {
     "data": {
      "text/html": [
       "<div>\n",
       "<style scoped>\n",
       "    .dataframe tbody tr th:only-of-type {\n",
       "        vertical-align: middle;\n",
       "    }\n",
       "\n",
       "    .dataframe tbody tr th {\n",
       "        vertical-align: top;\n",
       "    }\n",
       "\n",
       "    .dataframe thead th {\n",
       "        text-align: right;\n",
       "    }\n",
       "</style>\n",
       "<table border=\"1\" class=\"dataframe\">\n",
       "  <thead>\n",
       "    <tr style=\"text-align: right;\">\n",
       "      <th></th>\n",
       "      <th>continent</th>\n",
       "      <th>location</th>\n",
       "      <th>new_deaths</th>\n",
       "      <th>hospital_beds_per_thousand</th>\n",
       "      <th>gdp_per_capita</th>\n",
       "    </tr>\n",
       "  </thead>\n",
       "  <tbody>\n",
       "    <tr>\n",
       "      <th>26268</th>\n",
       "      <td>Europe</td>\n",
       "      <td>Italy</td>\n",
       "      <td>1</td>\n",
       "      <td>3.18</td>\n",
       "      <td>35220.084</td>\n",
       "    </tr>\n",
       "    <tr>\n",
       "      <th>26269</th>\n",
       "      <td>Europe</td>\n",
       "      <td>Italy</td>\n",
       "      <td>1</td>\n",
       "      <td>3.18</td>\n",
       "      <td>35220.084</td>\n",
       "    </tr>\n",
       "    <tr>\n",
       "      <th>26270</th>\n",
       "      <td>Europe</td>\n",
       "      <td>Italy</td>\n",
       "      <td>1</td>\n",
       "      <td>3.18</td>\n",
       "      <td>35220.084</td>\n",
       "    </tr>\n",
       "    <tr>\n",
       "      <th>26271</th>\n",
       "      <td>Europe</td>\n",
       "      <td>Italy</td>\n",
       "      <td>4</td>\n",
       "      <td>3.18</td>\n",
       "      <td>35220.084</td>\n",
       "    </tr>\n",
       "    <tr>\n",
       "      <th>26272</th>\n",
       "      <td>Europe</td>\n",
       "      <td>Italy</td>\n",
       "      <td>3</td>\n",
       "      <td>3.18</td>\n",
       "      <td>35220.084</td>\n",
       "    </tr>\n",
       "    <tr>\n",
       "      <th>...</th>\n",
       "      <td>...</td>\n",
       "      <td>...</td>\n",
       "      <td>...</td>\n",
       "      <td>...</td>\n",
       "      <td>...</td>\n",
       "    </tr>\n",
       "    <tr>\n",
       "      <th>26588</th>\n",
       "      <td>Europe</td>\n",
       "      <td>Italy</td>\n",
       "      <td>548</td>\n",
       "      <td>3.18</td>\n",
       "      <td>35220.084</td>\n",
       "    </tr>\n",
       "    <tr>\n",
       "      <th>26589</th>\n",
       "      <td>Europe</td>\n",
       "      <td>Italy</td>\n",
       "      <td>414</td>\n",
       "      <td>3.18</td>\n",
       "      <td>35220.084</td>\n",
       "    </tr>\n",
       "    <tr>\n",
       "      <th>26590</th>\n",
       "      <td>Europe</td>\n",
       "      <td>Italy</td>\n",
       "      <td>620</td>\n",
       "      <td>3.18</td>\n",
       "      <td>35220.084</td>\n",
       "    </tr>\n",
       "    <tr>\n",
       "      <th>26591</th>\n",
       "      <td>Europe</td>\n",
       "      <td>Italy</td>\n",
       "      <td>483</td>\n",
       "      <td>3.18</td>\n",
       "      <td>35220.084</td>\n",
       "    </tr>\n",
       "    <tr>\n",
       "      <th>26592</th>\n",
       "      <td>Europe</td>\n",
       "      <td>Italy</td>\n",
       "      <td>361</td>\n",
       "      <td>3.18</td>\n",
       "      <td>35220.084</td>\n",
       "    </tr>\n",
       "  </tbody>\n",
       "</table>\n",
       "<p>325 rows × 5 columns</p>\n",
       "</div>"
      ],
      "text/plain": [
       "      continent location  new_deaths  hospital_beds_per_thousand  \\\n",
       "26268    Europe    Italy           1                        3.18   \n",
       "26269    Europe    Italy           1                        3.18   \n",
       "26270    Europe    Italy           1                        3.18   \n",
       "26271    Europe    Italy           4                        3.18   \n",
       "26272    Europe    Italy           3                        3.18   \n",
       "...         ...      ...         ...                         ...   \n",
       "26588    Europe    Italy         548                        3.18   \n",
       "26589    Europe    Italy         414                        3.18   \n",
       "26590    Europe    Italy         620                        3.18   \n",
       "26591    Europe    Italy         483                        3.18   \n",
       "26592    Europe    Italy         361                        3.18   \n",
       "\n",
       "       gdp_per_capita  \n",
       "26268       35220.084  \n",
       "26269       35220.084  \n",
       "26270       35220.084  \n",
       "26271       35220.084  \n",
       "26272       35220.084  \n",
       "...               ...  \n",
       "26588       35220.084  \n",
       "26589       35220.084  \n",
       "26590       35220.084  \n",
       "26591       35220.084  \n",
       "26592       35220.084  \n",
       "\n",
       "[325 rows x 5 columns]"
      ]
     },
     "execution_count": 26,
     "metadata": {},
     "output_type": "execute_result"
    }
   ],
   "source": [
    "# Create a new DataFrame that looks into a specific region (eg: Italy)\n",
    "Italy_df = organized_df.loc[organized_df[\"location\"] == \"Italy\"]\n",
    "Italy_df"
   ]
  },
  {
   "cell_type": "code",
   "execution_count": 27,
   "metadata": {},
   "outputs": [
    {
     "data": {
      "text/html": [
       "<div>\n",
       "<style scoped>\n",
       "    .dataframe tbody tr th:only-of-type {\n",
       "        vertical-align: middle;\n",
       "    }\n",
       "\n",
       "    .dataframe tbody tr th {\n",
       "        vertical-align: top;\n",
       "    }\n",
       "\n",
       "    .dataframe thead th {\n",
       "        text-align: right;\n",
       "    }\n",
       "</style>\n",
       "<table border=\"1\" class=\"dataframe\">\n",
       "  <thead>\n",
       "    <tr style=\"text-align: right;\">\n",
       "      <th></th>\n",
       "      <th>Continent</th>\n",
       "      <th>Location</th>\n",
       "      <th>Total deaths</th>\n",
       "      <th>Hospital beds per thousand</th>\n",
       "      <th>GDP per capita</th>\n",
       "    </tr>\n",
       "  </thead>\n",
       "  <tbody>\n",
       "    <tr>\n",
       "      <th>27</th>\n",
       "      <td>Asia</td>\n",
       "      <td>Afghanistan</td>\n",
       "      <td>1</td>\n",
       "      <td>0.5</td>\n",
       "      <td>1803.987</td>\n",
       "    </tr>\n",
       "    <tr>\n",
       "      <th>28</th>\n",
       "      <td>Asia</td>\n",
       "      <td>Afghanistan</td>\n",
       "      <td>0</td>\n",
       "      <td>0.5</td>\n",
       "      <td>1803.987</td>\n",
       "    </tr>\n",
       "    <tr>\n",
       "      <th>29</th>\n",
       "      <td>Asia</td>\n",
       "      <td>Afghanistan</td>\n",
       "      <td>0</td>\n",
       "      <td>0.5</td>\n",
       "      <td>1803.987</td>\n",
       "    </tr>\n",
       "    <tr>\n",
       "      <th>30</th>\n",
       "      <td>Asia</td>\n",
       "      <td>Afghanistan</td>\n",
       "      <td>1</td>\n",
       "      <td>0.5</td>\n",
       "      <td>1803.987</td>\n",
       "    </tr>\n",
       "    <tr>\n",
       "      <th>31</th>\n",
       "      <td>Asia</td>\n",
       "      <td>Afghanistan</td>\n",
       "      <td>1</td>\n",
       "      <td>0.5</td>\n",
       "      <td>1803.987</td>\n",
       "    </tr>\n",
       "    <tr>\n",
       "      <th>...</th>\n",
       "      <td>...</td>\n",
       "      <td>...</td>\n",
       "      <td>...</td>\n",
       "      <td>...</td>\n",
       "      <td>...</td>\n",
       "    </tr>\n",
       "    <tr>\n",
       "      <th>59314</th>\n",
       "      <td>Africa</td>\n",
       "      <td>Zimbabwe</td>\n",
       "      <td>13</td>\n",
       "      <td>1.7</td>\n",
       "      <td>1899.775</td>\n",
       "    </tr>\n",
       "    <tr>\n",
       "      <th>59315</th>\n",
       "      <td>Africa</td>\n",
       "      <td>Zimbabwe</td>\n",
       "      <td>15</td>\n",
       "      <td>1.7</td>\n",
       "      <td>1899.775</td>\n",
       "    </tr>\n",
       "    <tr>\n",
       "      <th>59316</th>\n",
       "      <td>Africa</td>\n",
       "      <td>Zimbabwe</td>\n",
       "      <td>22</td>\n",
       "      <td>1.7</td>\n",
       "      <td>1899.775</td>\n",
       "    </tr>\n",
       "    <tr>\n",
       "      <th>59317</th>\n",
       "      <td>Africa</td>\n",
       "      <td>Zimbabwe</td>\n",
       "      <td>15</td>\n",
       "      <td>1.7</td>\n",
       "      <td>1899.775</td>\n",
       "    </tr>\n",
       "    <tr>\n",
       "      <th>59318</th>\n",
       "      <td>Africa</td>\n",
       "      <td>Zimbabwe</td>\n",
       "      <td>24</td>\n",
       "      <td>1.7</td>\n",
       "      <td>1899.775</td>\n",
       "    </tr>\n",
       "  </tbody>\n",
       "</table>\n",
       "<p>42974 rows × 5 columns</p>\n",
       "</div>"
      ],
      "text/plain": [
       "      Continent     Location  Total deaths  Hospital beds per thousand  \\\n",
       "27         Asia  Afghanistan             1                         0.5   \n",
       "28         Asia  Afghanistan             0                         0.5   \n",
       "29         Asia  Afghanistan             0                         0.5   \n",
       "30         Asia  Afghanistan             1                         0.5   \n",
       "31         Asia  Afghanistan             1                         0.5   \n",
       "...         ...          ...           ...                         ...   \n",
       "59314    Africa     Zimbabwe            13                         1.7   \n",
       "59315    Africa     Zimbabwe            15                         1.7   \n",
       "59316    Africa     Zimbabwe            22                         1.7   \n",
       "59317    Africa     Zimbabwe            15                         1.7   \n",
       "59318    Africa     Zimbabwe            24                         1.7   \n",
       "\n",
       "       GDP per capita  \n",
       "27           1803.987  \n",
       "28           1803.987  \n",
       "29           1803.987  \n",
       "30           1803.987  \n",
       "31           1803.987  \n",
       "...               ...  \n",
       "59314        1899.775  \n",
       "59315        1899.775  \n",
       "59316        1899.775  \n",
       "59317        1899.775  \n",
       "59318        1899.775  \n",
       "\n",
       "[42974 rows x 5 columns]"
      ]
     },
     "execution_count": 27,
     "metadata": {},
     "output_type": "execute_result"
    }
   ],
   "source": [
    "organized_df = organized_df.rename(columns={\"new_deaths\": \"Total deaths\", \"hospital_beds_per_thousand\": \"Hospital beds per thousand\", \"gdp_per_capita\": \"GDP per capita\", \"continent\": \"Continent\", \"location\": \"Location\"})\n",
    "organized_df"
   ]
  },
  {
   "cell_type": "code",
   "execution_count": null,
   "metadata": {},
   "outputs": [],
   "source": []
  },
  {
   "cell_type": "code",
   "execution_count": 28,
   "metadata": {},
   "outputs": [
    {
     "data": {
      "text/html": [
       "<div>\n",
       "<style scoped>\n",
       "    .dataframe tbody tr th:only-of-type {\n",
       "        vertical-align: middle;\n",
       "    }\n",
       "\n",
       "    .dataframe tbody tr th {\n",
       "        vertical-align: top;\n",
       "    }\n",
       "\n",
       "    .dataframe thead th {\n",
       "        text-align: right;\n",
       "    }\n",
       "</style>\n",
       "<table border=\"1\" class=\"dataframe\">\n",
       "  <thead>\n",
       "    <tr style=\"text-align: right;\">\n",
       "      <th></th>\n",
       "      <th></th>\n",
       "      <th>Total deaths</th>\n",
       "      <th>Hospital beds per thousand</th>\n",
       "      <th>GDP per capita</th>\n",
       "    </tr>\n",
       "    <tr>\n",
       "      <th>Continent</th>\n",
       "      <th>Location</th>\n",
       "      <th></th>\n",
       "      <th></th>\n",
       "      <th></th>\n",
       "    </tr>\n",
       "  </thead>\n",
       "  <tbody>\n",
       "    <tr>\n",
       "      <th rowspan=\"20\" valign=\"top\">Africa</th>\n",
       "      <th>Algeria</th>\n",
       "      <td>305</td>\n",
       "      <td>305</td>\n",
       "      <td>305</td>\n",
       "    </tr>\n",
       "    <tr>\n",
       "      <th>Benin</th>\n",
       "      <td>280</td>\n",
       "      <td>280</td>\n",
       "      <td>280</td>\n",
       "    </tr>\n",
       "    <tr>\n",
       "      <th>Botswana</th>\n",
       "      <td>286</td>\n",
       "      <td>286</td>\n",
       "      <td>286</td>\n",
       "    </tr>\n",
       "    <tr>\n",
       "      <th>Burkina Faso</th>\n",
       "      <td>299</td>\n",
       "      <td>299</td>\n",
       "      <td>299</td>\n",
       "    </tr>\n",
       "    <tr>\n",
       "      <th>Burundi</th>\n",
       "      <td>273</td>\n",
       "      <td>273</td>\n",
       "      <td>273</td>\n",
       "    </tr>\n",
       "    <tr>\n",
       "      <th>Cameroon</th>\n",
       "      <td>292</td>\n",
       "      <td>292</td>\n",
       "      <td>292</td>\n",
       "    </tr>\n",
       "    <tr>\n",
       "      <th>Cape Verde</th>\n",
       "      <td>293</td>\n",
       "      <td>293</td>\n",
       "      <td>293</td>\n",
       "    </tr>\n",
       "    <tr>\n",
       "      <th>Central African Republic</th>\n",
       "      <td>233</td>\n",
       "      <td>233</td>\n",
       "      <td>233</td>\n",
       "    </tr>\n",
       "    <tr>\n",
       "      <th>Comoros</th>\n",
       "      <td>250</td>\n",
       "      <td>250</td>\n",
       "      <td>250</td>\n",
       "    </tr>\n",
       "    <tr>\n",
       "      <th>Djibouti</th>\n",
       "      <td>276</td>\n",
       "      <td>276</td>\n",
       "      <td>276</td>\n",
       "    </tr>\n",
       "    <tr>\n",
       "      <th>Egypt</th>\n",
       "      <td>309</td>\n",
       "      <td>309</td>\n",
       "      <td>309</td>\n",
       "    </tr>\n",
       "    <tr>\n",
       "      <th>Equatorial Guinea</th>\n",
       "      <td>264</td>\n",
       "      <td>264</td>\n",
       "      <td>264</td>\n",
       "    </tr>\n",
       "    <tr>\n",
       "      <th>Eritrea</th>\n",
       "      <td>20</td>\n",
       "      <td>20</td>\n",
       "      <td>20</td>\n",
       "    </tr>\n",
       "    <tr>\n",
       "      <th>Eswatini</th>\n",
       "      <td>270</td>\n",
       "      <td>270</td>\n",
       "      <td>270</td>\n",
       "    </tr>\n",
       "    <tr>\n",
       "      <th>Ethiopia</th>\n",
       "      <td>281</td>\n",
       "      <td>281</td>\n",
       "      <td>281</td>\n",
       "    </tr>\n",
       "    <tr>\n",
       "      <th>Gabon</th>\n",
       "      <td>297</td>\n",
       "      <td>297</td>\n",
       "      <td>297</td>\n",
       "    </tr>\n",
       "    <tr>\n",
       "      <th>Gambia</th>\n",
       "      <td>294</td>\n",
       "      <td>294</td>\n",
       "      <td>294</td>\n",
       "    </tr>\n",
       "    <tr>\n",
       "      <th>Ghana</th>\n",
       "      <td>296</td>\n",
       "      <td>296</td>\n",
       "      <td>296</td>\n",
       "    </tr>\n",
       "    <tr>\n",
       "      <th>Guinea</th>\n",
       "      <td>271</td>\n",
       "      <td>271</td>\n",
       "      <td>271</td>\n",
       "    </tr>\n",
       "    <tr>\n",
       "      <th>Kenya</th>\n",
       "      <td>291</td>\n",
       "      <td>291</td>\n",
       "      <td>291</td>\n",
       "    </tr>\n",
       "  </tbody>\n",
       "</table>\n",
       "</div>"
      ],
      "text/plain": [
       "                                    Total deaths  Hospital beds per thousand  \\\n",
       "Continent Location                                                             \n",
       "Africa    Algeria                            305                         305   \n",
       "          Benin                              280                         280   \n",
       "          Botswana                           286                         286   \n",
       "          Burkina Faso                       299                         299   \n",
       "          Burundi                            273                         273   \n",
       "          Cameroon                           292                         292   \n",
       "          Cape Verde                         293                         293   \n",
       "          Central African Republic           233                         233   \n",
       "          Comoros                            250                         250   \n",
       "          Djibouti                           276                         276   \n",
       "          Egypt                              309                         309   \n",
       "          Equatorial Guinea                  264                         264   \n",
       "          Eritrea                             20                          20   \n",
       "          Eswatini                           270                         270   \n",
       "          Ethiopia                           281                         281   \n",
       "          Gabon                              297                         297   \n",
       "          Gambia                             294                         294   \n",
       "          Ghana                              296                         296   \n",
       "          Guinea                             271                         271   \n",
       "          Kenya                              291                         291   \n",
       "\n",
       "                                    GDP per capita  \n",
       "Continent Location                                  \n",
       "Africa    Algeria                              305  \n",
       "          Benin                                280  \n",
       "          Botswana                             286  \n",
       "          Burkina Faso                         299  \n",
       "          Burundi                              273  \n",
       "          Cameroon                             292  \n",
       "          Cape Verde                           293  \n",
       "          Central African Republic             233  \n",
       "          Comoros                              250  \n",
       "          Djibouti                             276  \n",
       "          Egypt                                309  \n",
       "          Equatorial Guinea                    264  \n",
       "          Eritrea                               20  \n",
       "          Eswatini                             270  \n",
       "          Ethiopia                             281  \n",
       "          Gabon                                297  \n",
       "          Gambia                               294  \n",
       "          Ghana                                296  \n",
       "          Guinea                               271  \n",
       "          Kenya                                291  "
      ]
     },
     "execution_count": 28,
     "metadata": {},
     "output_type": "execute_result"
    }
   ],
   "source": [
    "# It is also possible to group a DataFrame by multiple columns\n",
    "# This returns an object with multiple indexes, however, which can be harder to deal with\n",
    "grouped_international_data = organized_df.groupby(['Continent', 'Location'])\n",
    "\n",
    "grouped_international_data.count().head(20)"
   ]
  },
  {
   "cell_type": "code",
   "execution_count": 29,
   "metadata": {},
   "outputs": [
    {
     "data": {
      "text/html": [
       "<div>\n",
       "<style scoped>\n",
       "    .dataframe tbody tr th:only-of-type {\n",
       "        vertical-align: middle;\n",
       "    }\n",
       "\n",
       "    .dataframe tbody tr th {\n",
       "        vertical-align: top;\n",
       "    }\n",
       "\n",
       "    .dataframe thead th {\n",
       "        text-align: right;\n",
       "    }\n",
       "</style>\n",
       "<table border=\"1\" class=\"dataframe\">\n",
       "  <thead>\n",
       "    <tr style=\"text-align: right;\">\n",
       "      <th></th>\n",
       "      <th></th>\n",
       "      <th>Total deaths</th>\n",
       "      <th>Hospital beds per thousand</th>\n",
       "      <th>GDP per capita</th>\n",
       "    </tr>\n",
       "    <tr>\n",
       "      <th>Continent</th>\n",
       "      <th>Location</th>\n",
       "      <th></th>\n",
       "      <th></th>\n",
       "      <th></th>\n",
       "    </tr>\n",
       "  </thead>\n",
       "  <tbody>\n",
       "    <tr>\n",
       "      <th rowspan=\"5\" valign=\"top\">Africa</th>\n",
       "      <th>Algeria</th>\n",
       "      <td>2807</td>\n",
       "      <td>1.9</td>\n",
       "      <td>13913.839</td>\n",
       "    </tr>\n",
       "    <tr>\n",
       "      <th>Benin</th>\n",
       "      <td>44</td>\n",
       "      <td>0.5</td>\n",
       "      <td>2064.236</td>\n",
       "    </tr>\n",
       "    <tr>\n",
       "      <th>Botswana</th>\n",
       "      <td>48</td>\n",
       "      <td>1.8</td>\n",
       "      <td>15807.374</td>\n",
       "    </tr>\n",
       "    <tr>\n",
       "      <th>Burkina Faso</th>\n",
       "      <td>89</td>\n",
       "      <td>0.4</td>\n",
       "      <td>1703.102</td>\n",
       "    </tr>\n",
       "    <tr>\n",
       "      <th>Burundi</th>\n",
       "      <td>2</td>\n",
       "      <td>0.8</td>\n",
       "      <td>702.225</td>\n",
       "    </tr>\n",
       "    <tr>\n",
       "      <th>...</th>\n",
       "      <th>...</th>\n",
       "      <td>...</td>\n",
       "      <td>...</td>\n",
       "      <td>...</td>\n",
       "    </tr>\n",
       "    <tr>\n",
       "      <th rowspan=\"5\" valign=\"top\">South America</th>\n",
       "      <th>Paraguay</th>\n",
       "      <td>2405</td>\n",
       "      <td>1.3</td>\n",
       "      <td>8827.010</td>\n",
       "    </tr>\n",
       "    <tr>\n",
       "      <th>Peru</th>\n",
       "      <td>38049</td>\n",
       "      <td>1.6</td>\n",
       "      <td>12236.706</td>\n",
       "    </tr>\n",
       "    <tr>\n",
       "      <th>Suriname</th>\n",
       "      <td>133</td>\n",
       "      <td>3.1</td>\n",
       "      <td>13767.119</td>\n",
       "    </tr>\n",
       "    <tr>\n",
       "      <th>Uruguay</th>\n",
       "      <td>256</td>\n",
       "      <td>2.8</td>\n",
       "      <td>20551.409</td>\n",
       "    </tr>\n",
       "    <tr>\n",
       "      <th>Venezuela</th>\n",
       "      <td>1061</td>\n",
       "      <td>0.8</td>\n",
       "      <td>16745.022</td>\n",
       "    </tr>\n",
       "  </tbody>\n",
       "</table>\n",
       "<p>150 rows × 3 columns</p>\n",
       "</div>"
      ],
      "text/plain": [
       "                            Total deaths  Hospital beds per thousand  \\\n",
       "Continent     Location                                                 \n",
       "Africa        Algeria               2807                         1.9   \n",
       "              Benin                   44                         0.5   \n",
       "              Botswana                48                         1.8   \n",
       "              Burkina Faso            89                         0.4   \n",
       "              Burundi                  2                         0.8   \n",
       "...                                  ...                         ...   \n",
       "South America Paraguay              2405                         1.3   \n",
       "              Peru                 38049                         1.6   \n",
       "              Suriname               133                         3.1   \n",
       "              Uruguay                256                         2.8   \n",
       "              Venezuela             1061                         0.8   \n",
       "\n",
       "                            GDP per capita  \n",
       "Continent     Location                      \n",
       "Africa        Algeria            13913.839  \n",
       "              Benin               2064.236  \n",
       "              Botswana           15807.374  \n",
       "              Burkina Faso        1703.102  \n",
       "              Burundi              702.225  \n",
       "...                                    ...  \n",
       "South America Paraguay            8827.010  \n",
       "              Peru               12236.706  \n",
       "              Suriname           13767.119  \n",
       "              Uruguay            20551.409  \n",
       "              Venezuela          16745.022  \n",
       "\n",
       "[150 rows x 3 columns]"
      ]
     },
     "execution_count": 29,
     "metadata": {},
     "output_type": "execute_result"
    }
   ],
   "source": [
    "grouped_international_data = organized_df.groupby(['Continent', 'Location']).agg({'Total deaths':'sum','Hospital beds per thousand':'mean', 'GDP per capita':'mean'})\n",
    "grouped_international_data"
   ]
  },
  {
   "cell_type": "code",
   "execution_count": 30,
   "metadata": {
    "scrolled": true
   },
   "outputs": [
    {
     "data": {
      "text/html": [
       "<div>\n",
       "<style scoped>\n",
       "    .dataframe tbody tr th:only-of-type {\n",
       "        vertical-align: middle;\n",
       "    }\n",
       "\n",
       "    .dataframe tbody tr th {\n",
       "        vertical-align: top;\n",
       "    }\n",
       "\n",
       "    .dataframe thead th {\n",
       "        text-align: right;\n",
       "    }\n",
       "</style>\n",
       "<table border=\"1\" class=\"dataframe\">\n",
       "  <thead>\n",
       "    <tr style=\"text-align: right;\">\n",
       "      <th></th>\n",
       "      <th></th>\n",
       "      <th>Total deaths</th>\n",
       "      <th>Hospital beds per thousand</th>\n",
       "      <th>GDP per capita</th>\n",
       "    </tr>\n",
       "    <tr>\n",
       "      <th>Continent</th>\n",
       "      <th>Location</th>\n",
       "      <th></th>\n",
       "      <th></th>\n",
       "      <th></th>\n",
       "    </tr>\n",
       "  </thead>\n",
       "  <tbody>\n",
       "    <tr>\n",
       "      <th rowspan=\"5\" valign=\"top\">Africa</th>\n",
       "      <th>Algeria</th>\n",
       "      <td>2807</td>\n",
       "      <td>1.9</td>\n",
       "      <td>13913.839</td>\n",
       "    </tr>\n",
       "    <tr>\n",
       "      <th>Benin</th>\n",
       "      <td>44</td>\n",
       "      <td>0.5</td>\n",
       "      <td>2064.236</td>\n",
       "    </tr>\n",
       "    <tr>\n",
       "      <th>Botswana</th>\n",
       "      <td>48</td>\n",
       "      <td>1.8</td>\n",
       "      <td>15807.374</td>\n",
       "    </tr>\n",
       "    <tr>\n",
       "      <th>Burkina Faso</th>\n",
       "      <td>89</td>\n",
       "      <td>0.4</td>\n",
       "      <td>1703.102</td>\n",
       "    </tr>\n",
       "    <tr>\n",
       "      <th>Burundi</th>\n",
       "      <td>2</td>\n",
       "      <td>0.8</td>\n",
       "      <td>702.225</td>\n",
       "    </tr>\n",
       "    <tr>\n",
       "      <th>...</th>\n",
       "      <th>...</th>\n",
       "      <td>...</td>\n",
       "      <td>...</td>\n",
       "      <td>...</td>\n",
       "    </tr>\n",
       "    <tr>\n",
       "      <th rowspan=\"5\" valign=\"top\">South America</th>\n",
       "      <th>Paraguay</th>\n",
       "      <td>2405</td>\n",
       "      <td>1.3</td>\n",
       "      <td>8827.010</td>\n",
       "    </tr>\n",
       "    <tr>\n",
       "      <th>Peru</th>\n",
       "      <td>38049</td>\n",
       "      <td>1.6</td>\n",
       "      <td>12236.706</td>\n",
       "    </tr>\n",
       "    <tr>\n",
       "      <th>Suriname</th>\n",
       "      <td>133</td>\n",
       "      <td>3.1</td>\n",
       "      <td>13767.119</td>\n",
       "    </tr>\n",
       "    <tr>\n",
       "      <th>Uruguay</th>\n",
       "      <td>256</td>\n",
       "      <td>2.8</td>\n",
       "      <td>20551.409</td>\n",
       "    </tr>\n",
       "    <tr>\n",
       "      <th>Venezuela</th>\n",
       "      <td>1061</td>\n",
       "      <td>0.8</td>\n",
       "      <td>16745.022</td>\n",
       "    </tr>\n",
       "  </tbody>\n",
       "</table>\n",
       "<p>150 rows × 3 columns</p>\n",
       "</div>"
      ],
      "text/plain": [
       "                            Total deaths  Hospital beds per thousand  \\\n",
       "Continent     Location                                                 \n",
       "Africa        Algeria               2807                         1.9   \n",
       "              Benin                   44                         0.5   \n",
       "              Botswana                48                         1.8   \n",
       "              Burkina Faso            89                         0.4   \n",
       "              Burundi                  2                         0.8   \n",
       "...                                  ...                         ...   \n",
       "South America Paraguay              2405                         1.3   \n",
       "              Peru                 38049                         1.6   \n",
       "              Suriname               133                         3.1   \n",
       "              Uruguay                256                         2.8   \n",
       "              Venezuela             1061                         0.8   \n",
       "\n",
       "                            GDP per capita  \n",
       "Continent     Location                      \n",
       "Africa        Algeria            13913.839  \n",
       "              Benin               2064.236  \n",
       "              Botswana           15807.374  \n",
       "              Burkina Faso        1703.102  \n",
       "              Burundi              702.225  \n",
       "...                                    ...  \n",
       "South America Paraguay            8827.010  \n",
       "              Peru               12236.706  \n",
       "              Suriname           13767.119  \n",
       "              Uruguay            20551.409  \n",
       "              Venezuela          16745.022  \n",
       "\n",
       "[150 rows x 3 columns]"
      ]
     },
     "execution_count": 30,
     "metadata": {},
     "output_type": "execute_result"
    }
   ],
   "source": [
    "# Rename columns for readability\n",
    "covid_renamed_df = grouped_international_data.rename(columns={\"new_deaths\": \"Total deaths\", \"hospital_beds_per_thousand\": \"Hospital beds per thousand\", \"gdp_per_capita\": \"GDP per capita\"})\n",
    "covid_renamed_df"
   ]
  },
  {
   "cell_type": "code",
   "execution_count": 31,
   "metadata": {
    "scrolled": false
   },
   "outputs": [
    {
     "data": {
      "text/html": [
       "<div>\n",
       "<style scoped>\n",
       "    .dataframe tbody tr th:only-of-type {\n",
       "        vertical-align: middle;\n",
       "    }\n",
       "\n",
       "    .dataframe tbody tr th {\n",
       "        vertical-align: top;\n",
       "    }\n",
       "\n",
       "    .dataframe thead th {\n",
       "        text-align: right;\n",
       "    }\n",
       "</style>\n",
       "<table border=\"1\" class=\"dataframe\">\n",
       "  <thead>\n",
       "    <tr style=\"text-align: right;\">\n",
       "      <th></th>\n",
       "      <th></th>\n",
       "      <th>Total deaths</th>\n",
       "      <th>Hospital beds per thousand</th>\n",
       "      <th>GDP per capita</th>\n",
       "    </tr>\n",
       "    <tr>\n",
       "      <th>Continent</th>\n",
       "      <th>Location</th>\n",
       "      <th></th>\n",
       "      <th></th>\n",
       "      <th></th>\n",
       "    </tr>\n",
       "  </thead>\n",
       "  <tbody>\n",
       "    <tr>\n",
       "      <th rowspan=\"2\" valign=\"top\">Asia</th>\n",
       "      <th>Japan</th>\n",
       "      <td>3850</td>\n",
       "      <td>13.05</td>\n",
       "      <td>39002.223</td>\n",
       "    </tr>\n",
       "    <tr>\n",
       "      <th>South Korea</th>\n",
       "      <td>1140</td>\n",
       "      <td>12.27</td>\n",
       "      <td>35938.374</td>\n",
       "    </tr>\n",
       "    <tr>\n",
       "      <th rowspan=\"3\" valign=\"top\">Europe</th>\n",
       "      <th>Belarus</th>\n",
       "      <td>1517</td>\n",
       "      <td>11.00</td>\n",
       "      <td>17167.967</td>\n",
       "    </tr>\n",
       "    <tr>\n",
       "      <th>Ukraine</th>\n",
       "      <td>20641</td>\n",
       "      <td>8.80</td>\n",
       "      <td>7894.393</td>\n",
       "    </tr>\n",
       "    <tr>\n",
       "      <th>Russia</th>\n",
       "      <td>60963</td>\n",
       "      <td>8.05</td>\n",
       "      <td>24765.954</td>\n",
       "    </tr>\n",
       "  </tbody>\n",
       "</table>\n",
       "</div>"
      ],
      "text/plain": [
       "                       Total deaths  Hospital beds per thousand  \\\n",
       "Continent Location                                                \n",
       "Asia      Japan                3850                       13.05   \n",
       "          South Korea          1140                       12.27   \n",
       "Europe    Belarus              1517                       11.00   \n",
       "          Ukraine             20641                        8.80   \n",
       "          Russia              60963                        8.05   \n",
       "\n",
       "                       GDP per capita  \n",
       "Continent Location                     \n",
       "Asia      Japan             39002.223  \n",
       "          South Korea       35938.374  \n",
       "Europe    Belarus           17167.967  \n",
       "          Ukraine            7894.393  \n",
       "          Russia            24765.954  "
      ]
     },
     "execution_count": 31,
     "metadata": {},
     "output_type": "execute_result"
    }
   ],
   "source": [
    "# Sorting the DataFrame based on \"Hospital beds per thousand\" column\n",
    "hospital_beds_per_thousand_high = covid_renamed_df.sort_values(\"Hospital beds per thousand\", ascending=False)\n",
    "hospital_beds_per_thousand_high.head()"
   ]
  },
  {
   "cell_type": "code",
   "execution_count": 32,
   "metadata": {},
   "outputs": [
    {
     "data": {
      "text/html": [
       "<div>\n",
       "<style scoped>\n",
       "    .dataframe tbody tr th:only-of-type {\n",
       "        vertical-align: middle;\n",
       "    }\n",
       "\n",
       "    .dataframe tbody tr th {\n",
       "        vertical-align: top;\n",
       "    }\n",
       "\n",
       "    .dataframe thead th {\n",
       "        text-align: right;\n",
       "    }\n",
       "</style>\n",
       "<table border=\"1\" class=\"dataframe\">\n",
       "  <thead>\n",
       "    <tr style=\"text-align: right;\">\n",
       "      <th></th>\n",
       "      <th></th>\n",
       "      <th>Total deaths</th>\n",
       "      <th>Hospital beds per thousand</th>\n",
       "      <th>GDP per capita</th>\n",
       "    </tr>\n",
       "    <tr>\n",
       "      <th>Continent</th>\n",
       "      <th>Location</th>\n",
       "      <th></th>\n",
       "      <th></th>\n",
       "      <th></th>\n",
       "    </tr>\n",
       "  </thead>\n",
       "  <tbody>\n",
       "    <tr>\n",
       "      <th rowspan=\"5\" valign=\"top\">Africa</th>\n",
       "      <th>Mali</th>\n",
       "      <td>298</td>\n",
       "      <td>0.1</td>\n",
       "      <td>2014.306</td>\n",
       "    </tr>\n",
       "    <tr>\n",
       "      <th>Madagascar</th>\n",
       "      <td>267</td>\n",
       "      <td>0.2</td>\n",
       "      <td>1416.440</td>\n",
       "    </tr>\n",
       "    <tr>\n",
       "      <th>Niger</th>\n",
       "      <td>126</td>\n",
       "      <td>0.3</td>\n",
       "      <td>926.000</td>\n",
       "    </tr>\n",
       "    <tr>\n",
       "      <th>Ethiopia</th>\n",
       "      <td>1994</td>\n",
       "      <td>0.3</td>\n",
       "      <td>1729.927</td>\n",
       "    </tr>\n",
       "    <tr>\n",
       "      <th>Guinea</th>\n",
       "      <td>81</td>\n",
       "      <td>0.3</td>\n",
       "      <td>1998.926</td>\n",
       "    </tr>\n",
       "  </tbody>\n",
       "</table>\n",
       "</div>"
      ],
      "text/plain": [
       "                      Total deaths  Hospital beds per thousand  GDP per capita\n",
       "Continent Location                                                            \n",
       "Africa    Mali                 298                         0.1        2014.306\n",
       "          Madagascar           267                         0.2        1416.440\n",
       "          Niger                126                         0.3         926.000\n",
       "          Ethiopia            1994                         0.3        1729.927\n",
       "          Guinea                81                         0.3        1998.926"
      ]
     },
     "execution_count": 32,
     "metadata": {},
     "output_type": "execute_result"
    }
   ],
   "source": [
    "# Sorting the DataFrame based on \"Hospital beds per thousand\" column\n",
    "hospital_beds_per_thousand_low = covid_renamed_df.sort_values(\"Hospital beds per thousand\")\n",
    "hospital_beds_per_thousand_low.head()"
   ]
  },
  {
   "cell_type": "code",
   "execution_count": 33,
   "metadata": {
    "scrolled": false
   },
   "outputs": [
    {
     "data": {
      "text/html": [
       "<div>\n",
       "<style scoped>\n",
       "    .dataframe tbody tr th:only-of-type {\n",
       "        vertical-align: middle;\n",
       "    }\n",
       "\n",
       "    .dataframe tbody tr th {\n",
       "        vertical-align: top;\n",
       "    }\n",
       "\n",
       "    .dataframe thead th {\n",
       "        text-align: right;\n",
       "    }\n",
       "</style>\n",
       "<table border=\"1\" class=\"dataframe\">\n",
       "  <thead>\n",
       "    <tr style=\"text-align: right;\">\n",
       "      <th></th>\n",
       "      <th></th>\n",
       "      <th>Total deaths</th>\n",
       "      <th>Hospital beds per thousand</th>\n",
       "      <th>GDP per capita</th>\n",
       "    </tr>\n",
       "    <tr>\n",
       "      <th>Continent</th>\n",
       "      <th>Location</th>\n",
       "      <th></th>\n",
       "      <th></th>\n",
       "      <th></th>\n",
       "    </tr>\n",
       "  </thead>\n",
       "  <tbody>\n",
       "    <tr>\n",
       "      <th>North America</th>\n",
       "      <th>United States</th>\n",
       "      <td>374322</td>\n",
       "      <td>2.77</td>\n",
       "      <td>54225.446</td>\n",
       "    </tr>\n",
       "    <tr>\n",
       "      <th>South America</th>\n",
       "      <th>Brazil</th>\n",
       "      <td>203100</td>\n",
       "      <td>2.20</td>\n",
       "      <td>14103.452</td>\n",
       "    </tr>\n",
       "    <tr>\n",
       "      <th>Asia</th>\n",
       "      <th>India</th>\n",
       "      <td>151160</td>\n",
       "      <td>0.53</td>\n",
       "      <td>6426.674</td>\n",
       "    </tr>\n",
       "    <tr>\n",
       "      <th>North America</th>\n",
       "      <th>Mexico</th>\n",
       "      <td>133706</td>\n",
       "      <td>1.38</td>\n",
       "      <td>17336.469</td>\n",
       "    </tr>\n",
       "    <tr>\n",
       "      <th rowspan=\"4\" valign=\"top\">Europe</th>\n",
       "      <th>United Kingdom</th>\n",
       "      <td>81567</td>\n",
       "      <td>2.54</td>\n",
       "      <td>39753.244</td>\n",
       "    </tr>\n",
       "    <tr>\n",
       "      <th>Italy</th>\n",
       "      <td>78755</td>\n",
       "      <td>3.18</td>\n",
       "      <td>35220.084</td>\n",
       "    </tr>\n",
       "    <tr>\n",
       "      <th>France</th>\n",
       "      <td>67885</td>\n",
       "      <td>5.98</td>\n",
       "      <td>38605.671</td>\n",
       "    </tr>\n",
       "    <tr>\n",
       "      <th>Russia</th>\n",
       "      <td>60963</td>\n",
       "      <td>8.05</td>\n",
       "      <td>24765.954</td>\n",
       "    </tr>\n",
       "    <tr>\n",
       "      <th>Asia</th>\n",
       "      <th>Iran</th>\n",
       "      <td>56171</td>\n",
       "      <td>1.50</td>\n",
       "      <td>19082.620</td>\n",
       "    </tr>\n",
       "    <tr>\n",
       "      <th>Europe</th>\n",
       "      <th>Spain</th>\n",
       "      <td>51874</td>\n",
       "      <td>2.97</td>\n",
       "      <td>34272.360</td>\n",
       "    </tr>\n",
       "  </tbody>\n",
       "</table>\n",
       "</div>"
      ],
      "text/plain": [
       "                              Total deaths  Hospital beds per thousand  \\\n",
       "Continent     Location                                                   \n",
       "North America United States         374322                        2.77   \n",
       "South America Brazil                203100                        2.20   \n",
       "Asia          India                 151160                        0.53   \n",
       "North America Mexico                133706                        1.38   \n",
       "Europe        United Kingdom         81567                        2.54   \n",
       "              Italy                  78755                        3.18   \n",
       "              France                 67885                        5.98   \n",
       "              Russia                 60963                        8.05   \n",
       "Asia          Iran                   56171                        1.50   \n",
       "Europe        Spain                  51874                        2.97   \n",
       "\n",
       "                              GDP per capita  \n",
       "Continent     Location                        \n",
       "North America United States        54225.446  \n",
       "South America Brazil               14103.452  \n",
       "Asia          India                 6426.674  \n",
       "North America Mexico               17336.469  \n",
       "Europe        United Kingdom       39753.244  \n",
       "              Italy                35220.084  \n",
       "              France               38605.671  \n",
       "              Russia               24765.954  \n",
       "Asia          Iran                 19082.620  \n",
       "Europe        Spain                34272.360  "
      ]
     },
     "execution_count": 33,
     "metadata": {},
     "output_type": "execute_result"
    }
   ],
   "source": [
    "# Sorting the DataFrame based on \"Total deaths\" column\n",
    "total_deaths_high = covid_renamed_df.sort_values(\"Total deaths\", ascending=False)\n",
    "total_deaths_high.head(10)"
   ]
  },
  {
   "cell_type": "code",
   "execution_count": 34,
   "metadata": {},
   "outputs": [
    {
     "data": {
      "text/html": [
       "<div>\n",
       "<style scoped>\n",
       "    .dataframe tbody tr th:only-of-type {\n",
       "        vertical-align: middle;\n",
       "    }\n",
       "\n",
       "    .dataframe tbody tr th {\n",
       "        vertical-align: top;\n",
       "    }\n",
       "\n",
       "    .dataframe thead th {\n",
       "        text-align: right;\n",
       "    }\n",
       "</style>\n",
       "<table border=\"1\" class=\"dataframe\">\n",
       "  <thead>\n",
       "    <tr style=\"text-align: right;\">\n",
       "      <th></th>\n",
       "      <th>Total deaths</th>\n",
       "    </tr>\n",
       "    <tr>\n",
       "      <th>Continent</th>\n",
       "      <th></th>\n",
       "    </tr>\n",
       "  </thead>\n",
       "  <tbody>\n",
       "    <tr>\n",
       "      <th>Africa</th>\n",
       "      <td>68345</td>\n",
       "    </tr>\n",
       "    <tr>\n",
       "      <th>Asia</th>\n",
       "      <td>346243</td>\n",
       "    </tr>\n",
       "    <tr>\n",
       "      <th>Europe</th>\n",
       "      <td>589124</td>\n",
       "    </tr>\n",
       "    <tr>\n",
       "      <th>North America</th>\n",
       "      <td>545202</td>\n",
       "    </tr>\n",
       "    <tr>\n",
       "      <th>Oceania</th>\n",
       "      <td>936</td>\n",
       "    </tr>\n",
       "    <tr>\n",
       "      <th>South America</th>\n",
       "      <td>376431</td>\n",
       "    </tr>\n",
       "  </tbody>\n",
       "</table>\n",
       "</div>"
      ],
      "text/plain": [
       "               Total deaths\n",
       "Continent                  \n",
       "Africa                68345\n",
       "Asia                 346243\n",
       "Europe               589124\n",
       "North America        545202\n",
       "Oceania                 936\n",
       "South America        376431"
      ]
     },
     "execution_count": 34,
     "metadata": {},
     "output_type": "execute_result"
    }
   ],
   "source": [
    "#create dataframe for continent and total deaths\n",
    "continent_total_deaths = organized_df.groupby(['Continent']).agg({'Total deaths':'sum'})\n",
    "continent_total_deaths"
   ]
  },
  {
   "cell_type": "code",
   "execution_count": 35,
   "metadata": {},
   "outputs": [
    {
     "data": {
      "text/html": [
       "<div>\n",
       "<style scoped>\n",
       "    .dataframe tbody tr th:only-of-type {\n",
       "        vertical-align: middle;\n",
       "    }\n",
       "\n",
       "    .dataframe tbody tr th {\n",
       "        vertical-align: top;\n",
       "    }\n",
       "\n",
       "    .dataframe thead th {\n",
       "        text-align: right;\n",
       "    }\n",
       "</style>\n",
       "<table border=\"1\" class=\"dataframe\">\n",
       "  <thead>\n",
       "    <tr style=\"text-align: right;\">\n",
       "      <th></th>\n",
       "      <th>Total deaths</th>\n",
       "    </tr>\n",
       "    <tr>\n",
       "      <th>Continent</th>\n",
       "      <th></th>\n",
       "    </tr>\n",
       "  </thead>\n",
       "  <tbody>\n",
       "    <tr>\n",
       "      <th>Europe</th>\n",
       "      <td>589124</td>\n",
       "    </tr>\n",
       "    <tr>\n",
       "      <th>North America</th>\n",
       "      <td>545202</td>\n",
       "    </tr>\n",
       "    <tr>\n",
       "      <th>South America</th>\n",
       "      <td>376431</td>\n",
       "    </tr>\n",
       "    <tr>\n",
       "      <th>Asia</th>\n",
       "      <td>346243</td>\n",
       "    </tr>\n",
       "    <tr>\n",
       "      <th>Africa</th>\n",
       "      <td>68345</td>\n",
       "    </tr>\n",
       "    <tr>\n",
       "      <th>Oceania</th>\n",
       "      <td>936</td>\n",
       "    </tr>\n",
       "  </tbody>\n",
       "</table>\n",
       "</div>"
      ],
      "text/plain": [
       "               Total deaths\n",
       "Continent                  \n",
       "Europe               589124\n",
       "North America        545202\n",
       "South America        376431\n",
       "Asia                 346243\n",
       "Africa                68345\n",
       "Oceania                 936"
      ]
     },
     "execution_count": 35,
     "metadata": {},
     "output_type": "execute_result"
    }
   ],
   "source": [
    "continent_total_deaths_order = continent_total_deaths.sort_values(by='Total deaths', ascending=False)\n",
    "continent_total_deaths_order"
   ]
  },
  {
   "cell_type": "code",
   "execution_count": 36,
   "metadata": {},
   "outputs": [
    {
     "data": {
      "image/png": "[encoded data removed]",
      "text/plain": [
       "<Figure size 576x360 with 1 Axes>"
      ]
     },
     "metadata": {
      "needs_background": "light"
     },
     "output_type": "display_data"
    }
   ],
   "source": [
    "continent_total_deaths_order.plot(kind=\"bar\", figsize=(8,5))\n",
    "\n",
    "# Set a title for the chart\n",
    "plt.title(\"The total number of confirmed deaths from COVID-19\")\n",
    "plt.tight_layout()\n",
    "plt.savefig('The number of deaths from COVID-19 by continent.png', bbox_inches = \"tight\", dpi=300)\n",
    "plt.show()"
   ]
  },
  {
   "cell_type": "code",
   "execution_count": 37,
   "metadata": {},
   "outputs": [
    {
     "data": {
      "text/html": [
       "<div>\n",
       "<style scoped>\n",
       "    .dataframe tbody tr th:only-of-type {\n",
       "        vertical-align: middle;\n",
       "    }\n",
       "\n",
       "    .dataframe tbody tr th {\n",
       "        vertical-align: top;\n",
       "    }\n",
       "\n",
       "    .dataframe thead th {\n",
       "        text-align: right;\n",
       "    }\n",
       "</style>\n",
       "<table border=\"1\" class=\"dataframe\">\n",
       "  <thead>\n",
       "    <tr style=\"text-align: right;\">\n",
       "      <th></th>\n",
       "      <th>Total deaths</th>\n",
       "    </tr>\n",
       "    <tr>\n",
       "      <th>Location</th>\n",
       "      <th></th>\n",
       "    </tr>\n",
       "  </thead>\n",
       "  <tbody>\n",
       "    <tr>\n",
       "      <th>Afghanistan</th>\n",
       "      <td>2277</td>\n",
       "    </tr>\n",
       "    <tr>\n",
       "      <th>Albania</th>\n",
       "      <td>1241</td>\n",
       "    </tr>\n",
       "    <tr>\n",
       "      <th>Algeria</th>\n",
       "      <td>2807</td>\n",
       "    </tr>\n",
       "    <tr>\n",
       "      <th>Antigua and Barbuda</th>\n",
       "      <td>5</td>\n",
       "    </tr>\n",
       "    <tr>\n",
       "      <th>Argentina</th>\n",
       "      <td>44495</td>\n",
       "    </tr>\n",
       "    <tr>\n",
       "      <th>...</th>\n",
       "      <td>...</td>\n",
       "    </tr>\n",
       "    <tr>\n",
       "      <th>Venezuela</th>\n",
       "      <td>1061</td>\n",
       "    </tr>\n",
       "    <tr>\n",
       "      <th>Vietnam</th>\n",
       "      <td>35</td>\n",
       "    </tr>\n",
       "    <tr>\n",
       "      <th>Yemen</th>\n",
       "      <td>611</td>\n",
       "    </tr>\n",
       "    <tr>\n",
       "      <th>Zambia</th>\n",
       "      <td>469</td>\n",
       "    </tr>\n",
       "    <tr>\n",
       "      <th>Zimbabwe</th>\n",
       "      <td>507</td>\n",
       "    </tr>\n",
       "  </tbody>\n",
       "</table>\n",
       "<p>150 rows × 1 columns</p>\n",
       "</div>"
      ],
      "text/plain": [
       "                     Total deaths\n",
       "Location                         \n",
       "Afghanistan                  2277\n",
       "Albania                      1241\n",
       "Algeria                      2807\n",
       "Antigua and Barbuda             5\n",
       "Argentina                   44495\n",
       "...                           ...\n",
       "Venezuela                    1061\n",
       "Vietnam                        35\n",
       "Yemen                         611\n",
       "Zambia                        469\n",
       "Zimbabwe                      507\n",
       "\n",
       "[150 rows x 1 columns]"
      ]
     },
     "execution_count": 37,
     "metadata": {},
     "output_type": "execute_result"
    }
   ],
   "source": [
    "country_total_deaths = organized_df.groupby(['Location']).agg({'Total deaths':'sum'})\n",
    "country_total_deaths"
   ]
  },
  {
   "cell_type": "code",
   "execution_count": 38,
   "metadata": {},
   "outputs": [
    {
     "data": {
      "image/png": "[encoded data removed]",
      "text/plain": [
       "<Figure size 360x216 with 1 Axes>"
      ]
     },
     "metadata": {
      "needs_background": "light"
     },
     "output_type": "display_data"
    },
    {
     "data": {
      "text/plain": [
       "<Figure size 432x288 with 0 Axes>"
      ]
     },
     "metadata": {},
     "output_type": "display_data"
    }
   ],
   "source": [
    "# Use DataFrame.plot() in order to create a bar chart of the data\n",
    "continent_total_deaths.plot(kind=\"bar\", figsize=(5,3))\n",
    "\n",
    "# Set a title for the chart\n",
    "plt.title(\"Average Rain Per City\")\n",
    "\n",
    "plt.show()\n",
    "plt.tight_layout()"
   ]
  },
  {
   "cell_type": "code",
   "execution_count": 39,
   "metadata": {
    "scrolled": true
   },
   "outputs": [
    {
     "data": {
      "image/png": "[encoded data removed]",
      "text/plain": [
       "<Figure size 432x288 with 1 Axes>"
      ]
     },
     "metadata": {
      "needs_background": "light"
     },
     "output_type": "display_data"
    },
    {
     "name": "stdout",
     "output_type": "stream",
     "text": [
      "The mean hospital beds per thousand is 2.962539999999999\n",
      "The median hospital beds per thousand is 2.3100000000000076\n",
      "The mode hospital beds per thousand is ModeResult(mode=array([0.5]), count=array([3]))\n",
      "NormaltestResult(statistic=53.66934376261804, pvalue=2.217430813788593e-12)\n",
      "The population variance using the NumPy module is 5.615600795066669\n",
      "The population standard deviation using the NumPy module is 2.369725890280703\n",
      "Roughly 68% of the data is between 0.593 and 5.332\n",
      "Roughly 95% of the data is between -1.777 and 7.702\n",
      "Roughly 99.7% of the data is between -4.147 and 10.072\n",
      "The z-scores using the SciPy module are [-4.48380973e-01 -1.03916660e+00 -4.90579946e-01 -1.08136558e+00\n",
      " -9.12569681e-01 -7.01574814e-01 -3.63983026e-01 -8.28171734e-01\n",
      " -3.21784052e-01 -6.59375840e-01 -5.74977893e-01 -3.63983026e-01\n",
      " -9.54768655e-01 -3.63983026e-01 -1.12356455e+00  1.40837386e+00\n",
      " -7.85972761e-01 -8.70370708e-01 -1.12356455e+00 -6.59375840e-01\n",
      " -9.12569681e-01  3.11200550e-01 -1.16576352e+00 -7.01574814e-01\n",
      " -1.20796250e+00  1.84603629e-01 -7.85972761e-01 -9.54768655e-01\n",
      " -1.12356455e+00 -2.63912380e-02 -2.71145284e-01 -9.12569681e-01\n",
      " -9.54768655e-01 -9.54768655e-01 -2.79585079e-01 -1.03916660e+00\n",
      " -4.06181999e-01 -5.32778920e-01 -1.03916660e+00  5.22195417e-01\n",
      "  7.33190285e-01 -4.06181999e-01 -9.12569681e-01 -1.10789185e-01\n",
      "  5.81273980e-01 -1.52988158e-01 -1.02650691e+00 -8.11292145e-01\n",
      " -6.17176867e-01 -6.59375840e-01  1.15878381e-02  4.25680457e+00\n",
      " -6.59375840e-01  1.57716975e+00 -4.06181999e-01  6.48792338e-01\n",
      " -2.63912380e-02 -4.48380973e-01  1.70376667e+00 -8.70370708e-01\n",
      " -1.12356455e+00 -5.74977893e-01 -9.96967628e-01 -8.28171734e-01\n",
      " -7.43773787e-01 -1.10789185e-01 -2.37386105e-01  3.92765258e+00\n",
      "  2.69001576e-01  7.75389258e-01 -3.63983026e-01 -6.43703141e-02\n",
      " -7.43773787e-01  4.37797470e-01 -1.52988158e-01 -9.54768655e-01\n",
      " -3.06111354e-02  1.85990288e+00  3.39172561e+00  1.12986064e+00\n",
      "  2.26802603e-01  1.89535001e+00  1.08766166e+00  1.84603629e-01\n",
      "  1.54763047e+00 -1.95187132e-01  7.28970387e-01  1.33964861e-01\n",
      "  1.27333715e+00  2.12575641e+00  5.26415315e-01  1.71220647e+00\n",
      " -2.21713407e-02 -1.07185393e-03  9.17658877e-02  1.10032135e+00\n",
      "  1.51809119e+00  6.53012235e-01  6.42462492e-01  1.19737899e+00\n",
      "  3.79140897e-01  1.50844451e-01  5.55954596e-01  2.69001576e-01\n",
      "  1.54341058e+00  1.80383732e-01  1.65819178e+00  2.14685590e+00\n",
      "  3.53399523e-01  1.11677895e+00  1.20581879e+00  6.48792338e-01\n",
      "  3.14804342e-03 -3.13344258e-01  6.61452030e-01  2.46334820e+00\n",
      " -1.78307543e-01  3.53399523e-01 -2.63912380e-02  1.19737899e+00\n",
      " -7.01574814e-01 -1.95187132e-01 -7.73313069e-01 -5.74977893e-01\n",
      " -7.01574814e-01 -9.96967628e-01 -9.54768655e-01 -9.54768655e-01\n",
      " -5.32778920e-01 -6.67815635e-01 -8.70370708e-01 -2.79585079e-01\n",
      " -7.01574814e-01  1.58077355e-02 -8.12499035e-02  3.70279113e-01\n",
      " -2.79585079e-01 -1.48768261e-01  8.59787205e-01 -7.85972761e-01\n",
      " -3.21784052e-01 -3.59763129e-01 -5.28559022e-01 -6.17176867e-01\n",
      " -5.74977893e-01 -7.01574814e-01 -5.74977893e-01  5.80067089e-02\n",
      " -6.85902115e-02 -9.12569681e-01]\n"
     ]
    }
   ],
   "source": [
    "plt.hist(covid_renamed_df['Hospital beds per thousand'])\n",
    "plt.xlabel('Hospital beds per thousand')\n",
    "plt.ylabel('Counts')\n",
    "plt.axvline(covid_renamed_df['Hospital beds per thousand'].mean(), color='y', linestyle='dashed', linewidth=1)\n",
    "plt.axvline(covid_renamed_df['Hospital beds per thousand'].median(), color='r', linestyle='dashed', linewidth=1)\n",
    "min_ylim, max_ylim = plt.ylim()\n",
    "plt.text(covid_renamed_df['Hospital beds per thousand'].mean()*1, max_ylim*0.9, '->mean: {:.2f}'.format(covid_renamed_df['Hospital beds per thousand'].mean()))\n",
    "plt.text(covid_renamed_df['Hospital beds per thousand'].median()*1, max_ylim*0.7, '->Median: {:.2f}'.format(covid_renamed_df['Hospital beds per thousand'].median()))\n",
    "plt.savefig('Hospital beds per thousand Histogram', bbox_inches = \"tight\", dpi=300)\n",
    "plt.show()\n",
    "\n",
    "# Demonstrate calculating measures of central tendency\n",
    "mean_numpy = np.mean(covid_renamed_df['Hospital beds per thousand'])\n",
    "print(f\"The mean hospital beds per thousand is {mean_numpy}\")\n",
    "\n",
    "median_numpy = np.median(covid_renamed_df['Hospital beds per thousand'])\n",
    "print(f\"The median hospital beds per thousand is {median_numpy}\")\n",
    "\n",
    "mode_scipy = sts.mode(covid_renamed_df['Hospital beds per thousand'])\n",
    "print(f\"The mode hospital beds per thousand is {mode_scipy}\")\n",
    "\n",
    "# charaterized data using stats.normaltest\n",
    "print(sts.normaltest(covid_renamed_df['Hospital beds per thousand']))\n",
    "\n",
    "# Demonstrate calculating the variance and standard deviation using the different modules\n",
    "var_numpy = np.var(covid_renamed_df['Hospital beds per thousand'],ddof = 0)\n",
    "print(f\"The population variance using the NumPy module is {var_numpy}\")\n",
    "sd_numpy = np.std(covid_renamed_df['Hospital beds per thousand'],ddof = 0)\n",
    "print(f\"The population standard deviation using the NumPy module is {sd_numpy}\")\n",
    "\n",
    "# Calculate the 68-95-99.7 rule using the standard deviation\n",
    "print(f\"Roughly 68% of the data is between {round(mean_numpy-sd_numpy,3)} and {round(mean_numpy+sd_numpy,3)}\")\n",
    "print(f\"Roughly 95% of the data is between {round(mean_numpy-2*sd_numpy,3)} and {round(mean_numpy+2*sd_numpy,3)}\")\n",
    "print(f\"Roughly 99.7% of the data is between {round(mean_numpy-3*sd_numpy,3)} and {round(mean_numpy+3*sd_numpy,3)}\")\n",
    "\n",
    "# Demonstrate calculating the z-scores using SciPy\n",
    "z_scipy = sts.zscore(covid_renamed_df['Hospital beds per thousand'])\n",
    "print(f\"The z-scores using the SciPy module are {z_scipy}\")"
   ]
  },
  {
   "cell_type": "code",
   "execution_count": 40,
   "metadata": {},
   "outputs": [
    {
     "data": {
      "image/png": "[encoded data removed]",
      "text/plain": [
       "<Figure size 432x288 with 1 Axes>"
      ]
     },
     "metadata": {
      "needs_background": "light"
     },
     "output_type": "display_data"
    },
    {
     "name": "stdout",
     "output_type": "stream",
     "text": [
      "The mean GDP per capita is 20742.022626666694\n",
      "The median GDP per capita is 14352.156500000023\n",
      "The mode GDP per capita is ModeResult(mode=array([661.24]), count=array([1]))\n",
      "NormaltestResult(statistic=61.273783690218295, pvalue=4.9495638263411707e-14)\n",
      "The population variance using the NumPy module is 412981412.37733984\n",
      "The population standard deviation using the NumPy module is 20321.944109197324\n",
      "Roughly 68% of the data is between 420.079 and 41063.967\n",
      "Roughly 95% of the data is between -19901.866 and 61385.911\n",
      "Roughly 99.7% of the data is between -40223.81 and 81707.855\n",
      "The z-scores using the SciPy module are [-0.33600051 -0.91909448 -0.24282365 -0.93686512 -0.98611617 -0.85509027\n",
      " -0.71447242 -0.98813295 -0.95109663 -0.88754386 -0.5015178   0.09166694\n",
      " -0.94634468 -0.63985254 -0.93554512 -0.20566977 -0.94381992 -0.81263842\n",
      " -0.92230825 -0.87339058 -0.98362807 -0.14075984 -0.95097115 -0.96678647\n",
      " -0.92155143 -0.022108   -0.65234948 -0.96476595 -0.97510467 -0.87045356\n",
      " -0.41566627 -0.80088379 -0.88863145 -0.9503131  -0.48680016 -0.9371306\n",
      " -0.83913092 -0.92718726 -0.93190078 -0.5882529  -0.24085312  1.10957309\n",
      " -0.84726336  2.51291058 -0.26736175 -0.5411364  -0.70442811 -0.47009669\n",
      " -0.0816557  -0.24987947  0.6097004   0.89854594 -0.61040088  0.16305356\n",
      "  2.20394831 -0.85368548 -0.3628815   0.29850202 -0.43800812 -0.74552048\n",
      " -0.90046595  0.84729523 -0.77292382 -0.64673117  4.73348302  1.39275004\n",
      "  3.18834458  0.74778039 -0.44646051 -0.8781202  -0.21968133  0.21589068\n",
      "  2.29069916 -0.71296912 -0.71696579 -0.94788547 -0.43984924  1.21517229\n",
      " -0.17587174  1.07846736 -0.44425512 -0.10721     0.09486171  0.57440909\n",
      "  0.58379667  1.27647691  0.43003904  0.97646654  0.87903245  1.20496456\n",
      "  0.18858232  0.29699611  1.26665713  2.29275655  0.71243486  0.21266781\n",
      "  0.43215562  3.6185486   0.77607242 -0.7652836  -0.21320473  1.36456051\n",
      " -0.375496    2.16800293  0.31859267  0.35404454  0.12652217  0.19800917\n",
      "  1.77736181 -0.32935538  0.46320024  0.52449792  0.66579936  1.289604\n",
      "  1.80436198 -0.63220475  0.9355021   0.03685279  0.3432656  -0.18521627\n",
      " -0.63565083  1.14534162 -0.25671892 -0.30219361 -0.6618247  -0.65536125\n",
      " -0.93932202 -0.79717903 -0.61748283 -0.16758011 -0.75881414  0.07504274\n",
      " -0.3833385   0.39469887  1.64764863  1.17639765 -0.59241614  0.75503703\n",
      " -0.08897356 -0.68183406 -0.32667006  0.09964669 -0.3684231  -0.49995643\n",
      " -0.6548082  -0.58631264 -0.41852869 -0.34322029 -0.00937969 -0.19668397]\n"
     ]
    }
   ],
   "source": [
    "plt.hist(covid_renamed_df['GDP per capita'])\n",
    "plt.xlabel('GDP per capita')\n",
    "plt.ylabel('Counts')\n",
    "plt.axvline(covid_renamed_df['GDP per capita'].mean(), color='y', linestyle='dashed', linewidth=1)\n",
    "plt.axvline(covid_renamed_df['GDP per capita'].median(), color='r', linestyle='dashed', linewidth=1)\n",
    "min_ylim, max_ylim = plt.ylim()\n",
    "plt.text(covid_renamed_df['GDP per capita'].mean()*1, max_ylim*0.9, '->mean: {:.2f}'.format(covid_renamed_df['GDP per capita'].mean()))\n",
    "plt.text(covid_renamed_df['GDP per capita'].median()*1, max_ylim*0.7, '->Median: {:.2f}'.format(covid_renamed_df['GDP per capita'].median()))\n",
    "plt.savefig('GDP per capita Histogram', bbox_inches = \"tight\", dpi=300)\n",
    "plt.show()\n",
    "\n",
    "# Demonstrate calculating measures of central tendency\n",
    "mean_numpy = np.mean(covid_renamed_df['GDP per capita'])\n",
    "print(f\"The mean GDP per capita is {mean_numpy}\")\n",
    "\n",
    "median_numpy = np.median(covid_renamed_df['GDP per capita'])\n",
    "print(f\"The median GDP per capita is {median_numpy}\")\n",
    "\n",
    "mode_scipy = sts.mode(covid_renamed_df['GDP per capita'])\n",
    "print(f\"The mode GDP per capita is {mode_scipy}\")\n",
    "\n",
    "# charaterized data using stats.normaltest\n",
    "print(sts.normaltest(covid_renamed_df['GDP per capita']))\n",
    "\n",
    "# Demonstrate calculating the variance and standard deviation using the different modules\n",
    "var_numpy = np.var(covid_renamed_df['GDP per capita'],ddof = 0)\n",
    "print(f\"The population variance using the NumPy module is {var_numpy}\")\n",
    "sd_numpy = np.std(covid_renamed_df['GDP per capita'],ddof = 0)\n",
    "print(f\"The population standard deviation using the NumPy module is {sd_numpy}\")\n",
    "\n",
    "# Calculate the 68-95-99.7 rule using the standard deviation\n",
    "print(f\"Roughly 68% of the data is between {round(mean_numpy-sd_numpy,3)} and {round(mean_numpy+sd_numpy,3)}\")\n",
    "print(f\"Roughly 95% of the data is between {round(mean_numpy-2*sd_numpy,3)} and {round(mean_numpy+2*sd_numpy,3)}\")\n",
    "print(f\"Roughly 99.7% of the data is between {round(mean_numpy-3*sd_numpy,3)} and {round(mean_numpy+3*sd_numpy,3)}\")\n",
    "\n",
    "# Demonstrate calculating the z-scores using SciPy\n",
    "z_scipy = sts.zscore(covid_renamed_df['GDP per capita'])\n",
    "print(f\"The z-scores using the SciPy module are {z_scipy}\")"
   ]
  },
  {
   "cell_type": "code",
   "execution_count": 41,
   "metadata": {},
   "outputs": [
    {
     "data": {
      "text/html": [
       "<div>\n",
       "<style scoped>\n",
       "    .dataframe tbody tr th:only-of-type {\n",
       "        vertical-align: middle;\n",
       "    }\n",
       "\n",
       "    .dataframe tbody tr th {\n",
       "        vertical-align: top;\n",
       "    }\n",
       "\n",
       "    .dataframe thead th {\n",
       "        text-align: right;\n",
       "    }\n",
       "</style>\n",
       "<table border=\"1\" class=\"dataframe\">\n",
       "  <thead>\n",
       "    <tr style=\"text-align: right;\">\n",
       "      <th></th>\n",
       "      <th>Hospital beds per thousand</th>\n",
       "    </tr>\n",
       "    <tr>\n",
       "      <th>Location</th>\n",
       "      <th></th>\n",
       "    </tr>\n",
       "  </thead>\n",
       "  <tbody>\n",
       "    <tr>\n",
       "      <th>Afghanistan</th>\n",
       "      <td>0.50</td>\n",
       "    </tr>\n",
       "    <tr>\n",
       "      <th>Albania</th>\n",
       "      <td>2.89</td>\n",
       "    </tr>\n",
       "    <tr>\n",
       "      <th>Algeria</th>\n",
       "      <td>1.90</td>\n",
       "    </tr>\n",
       "    <tr>\n",
       "      <th>Antigua and Barbuda</th>\n",
       "      <td>3.80</td>\n",
       "    </tr>\n",
       "    <tr>\n",
       "      <th>Argentina</th>\n",
       "      <td>5.00</td>\n",
       "    </tr>\n",
       "    <tr>\n",
       "      <th>...</th>\n",
       "      <td>...</td>\n",
       "    </tr>\n",
       "    <tr>\n",
       "      <th>Venezuela</th>\n",
       "      <td>0.80</td>\n",
       "    </tr>\n",
       "    <tr>\n",
       "      <th>Vietnam</th>\n",
       "      <td>2.60</td>\n",
       "    </tr>\n",
       "    <tr>\n",
       "      <th>Yemen</th>\n",
       "      <td>0.70</td>\n",
       "    </tr>\n",
       "    <tr>\n",
       "      <th>Zambia</th>\n",
       "      <td>2.00</td>\n",
       "    </tr>\n",
       "    <tr>\n",
       "      <th>Zimbabwe</th>\n",
       "      <td>1.70</td>\n",
       "    </tr>\n",
       "  </tbody>\n",
       "</table>\n",
       "<p>150 rows × 1 columns</p>\n",
       "</div>"
      ],
      "text/plain": [
       "                     Hospital beds per thousand\n",
       "Location                                       \n",
       "Afghanistan                                0.50\n",
       "Albania                                    2.89\n",
       "Algeria                                    1.90\n",
       "Antigua and Barbuda                        3.80\n",
       "Argentina                                  5.00\n",
       "...                                         ...\n",
       "Venezuela                                  0.80\n",
       "Vietnam                                    2.60\n",
       "Yemen                                      0.70\n",
       "Zambia                                     2.00\n",
       "Zimbabwe                                   1.70\n",
       "\n",
       "[150 rows x 1 columns]"
      ]
     },
     "execution_count": 41,
     "metadata": {},
     "output_type": "execute_result"
    }
   ],
   "source": [
    "#create dataframe for continent and total deaths\n",
    "hospitalbed_location = organized_df.groupby(['Location']).agg({'Hospital beds per thousand':'mean'})\n",
    "hospitalbed_location"
   ]
  },
  {
   "cell_type": "code",
   "execution_count": 42,
   "metadata": {},
   "outputs": [
    {
     "data": {
      "image/png": "[encoded data removed]",
      "text/plain": [
       "<Figure size 432x288 with 1 Axes>"
      ]
     },
     "metadata": {
      "needs_background": "light"
     },
     "output_type": "display_data"
    },
    {
     "data": {
      "text/plain": [
       "13.05000000000008"
      ]
     },
     "execution_count": 42,
     "metadata": {},
     "output_type": "execute_result"
    }
   ],
   "source": [
    "botxplothospitalbed = hospitalbed_location['Hospital beds per thousand']\n",
    "fig1, ax1 = plt.subplots()\n",
    "ax1.set_title('Hospital beds per thousand - Covid 19')\n",
    "ax1.set_ylabel('Hospital beds per thousand')\n",
    "ax1.boxplot(botxplothospitalbed)\n",
    "plt.savefig('Hospital beds per thousand Boxplot', bbox_inches = \"tight\", dpi=300)\n",
    "plt.show()\n",
    "botxplothospitalbed.min()\n",
    "botxplothospitalbed.max()"
   ]
  },
  {
   "cell_type": "code",
   "execution_count": 43,
   "metadata": {},
   "outputs": [
    {
     "name": "stdout",
     "output_type": "stream",
     "text": [
      "The lower quartile of hospital bed per thousand is: 1.3000000000000005\n",
      "The upper quartile of hospital bed per thousand is: 3.9652500000000006\n",
      "The interquartile range of hospital bed per thousand is: 2.6652500000000003\n",
      "The the median of hospital bed per thousand is: 2.3100000000000076 \n",
      "Values below -2.697875 could be outliers.\n",
      "Values above 7.963125000000002 could be outliers.\n"
     ]
    },
    {
     "data": {
      "text/html": [
       "<div>\n",
       "<style scoped>\n",
       "    .dataframe tbody tr th:only-of-type {\n",
       "        vertical-align: middle;\n",
       "    }\n",
       "\n",
       "    .dataframe tbody tr th {\n",
       "        vertical-align: top;\n",
       "    }\n",
       "\n",
       "    .dataframe thead th {\n",
       "        text-align: right;\n",
       "    }\n",
       "</style>\n",
       "<table border=\"1\" class=\"dataframe\">\n",
       "  <thead>\n",
       "    <tr style=\"text-align: right;\">\n",
       "      <th></th>\n",
       "      <th>Hospital beds per thousand</th>\n",
       "    </tr>\n",
       "    <tr>\n",
       "      <th>Location</th>\n",
       "      <th></th>\n",
       "    </tr>\n",
       "  </thead>\n",
       "  <tbody>\n",
       "    <tr>\n",
       "      <th>Belarus</th>\n",
       "      <td>11.00</td>\n",
       "    </tr>\n",
       "    <tr>\n",
       "      <th>Germany</th>\n",
       "      <td>8.00</td>\n",
       "    </tr>\n",
       "    <tr>\n",
       "      <th>Japan</th>\n",
       "      <td>13.05</td>\n",
       "    </tr>\n",
       "    <tr>\n",
       "      <th>Russia</th>\n",
       "      <td>8.05</td>\n",
       "    </tr>\n",
       "    <tr>\n",
       "      <th>South Korea</th>\n",
       "      <td>12.27</td>\n",
       "    </tr>\n",
       "    <tr>\n",
       "      <th>Ukraine</th>\n",
       "      <td>8.80</td>\n",
       "    </tr>\n",
       "  </tbody>\n",
       "</table>\n",
       "</div>"
      ],
      "text/plain": [
       "             Hospital beds per thousand\n",
       "Location                               \n",
       "Belarus                           11.00\n",
       "Germany                            8.00\n",
       "Japan                             13.05\n",
       "Russia                             8.05\n",
       "South Korea                       12.27\n",
       "Ukraine                            8.80"
      ]
     },
     "execution_count": 43,
     "metadata": {},
     "output_type": "execute_result"
    }
   ],
   "source": [
    "# If the data is in a dataframe, we use pandas to give quartile calculations\n",
    "quartiles = botxplothospitalbed.quantile([.25,.5,.75])\n",
    "lowerq = quartiles[0.25]\n",
    "upperq = quartiles[0.75]\n",
    "iqr = upperq-lowerq\n",
    "\n",
    "print(f\"The lower quartile of hospital bed per thousand is: {lowerq}\")\n",
    "print(f\"The upper quartile of hospital bed per thousand is: {upperq}\")\n",
    "print(f\"The interquartile range of hospital bed per thousand is: {iqr}\")\n",
    "print(f\"The the median of hospital bed per thousand is: {quartiles[0.5]} \")\n",
    "\n",
    "lower_bound = lowerq - (1.5*iqr)\n",
    "upper_bound = upperq + (1.5*iqr)\n",
    "print(f\"Values below {lower_bound} could be outliers.\")\n",
    "print(f\"Values above {upper_bound} could be outliers.\")\n",
    "\n",
    "outlier_hospitalbed = hospitalbed_location.loc[(hospitalbed_location['Hospital beds per thousand'] < lower_bound) | (hospitalbed_location['Hospital beds per thousand'] > upper_bound)]\n",
    "outlier_hospitalbed"
   ]
  },
  {
   "cell_type": "code",
   "execution_count": 44,
   "metadata": {},
   "outputs": [
    {
     "data": {
      "text/html": [
       "<div>\n",
       "<style scoped>\n",
       "    .dataframe tbody tr th:only-of-type {\n",
       "        vertical-align: middle;\n",
       "    }\n",
       "\n",
       "    .dataframe tbody tr th {\n",
       "        vertical-align: top;\n",
       "    }\n",
       "\n",
       "    .dataframe thead th {\n",
       "        text-align: right;\n",
       "    }\n",
       "</style>\n",
       "<table border=\"1\" class=\"dataframe\">\n",
       "  <thead>\n",
       "    <tr style=\"text-align: right;\">\n",
       "      <th></th>\n",
       "      <th>Hospital beds per thousand</th>\n",
       "    </tr>\n",
       "    <tr>\n",
       "      <th>Location</th>\n",
       "      <th></th>\n",
       "    </tr>\n",
       "  </thead>\n",
       "  <tbody>\n",
       "    <tr>\n",
       "      <th>Japan</th>\n",
       "      <td>13.05</td>\n",
       "    </tr>\n",
       "    <tr>\n",
       "      <th>South Korea</th>\n",
       "      <td>12.27</td>\n",
       "    </tr>\n",
       "    <tr>\n",
       "      <th>Belarus</th>\n",
       "      <td>11.00</td>\n",
       "    </tr>\n",
       "    <tr>\n",
       "      <th>Ukraine</th>\n",
       "      <td>8.80</td>\n",
       "    </tr>\n",
       "    <tr>\n",
       "      <th>Russia</th>\n",
       "      <td>8.05</td>\n",
       "    </tr>\n",
       "    <tr>\n",
       "      <th>Germany</th>\n",
       "      <td>8.00</td>\n",
       "    </tr>\n",
       "  </tbody>\n",
       "</table>\n",
       "</div>"
      ],
      "text/plain": [
       "             Hospital beds per thousand\n",
       "Location                               \n",
       "Japan                             13.05\n",
       "South Korea                       12.27\n",
       "Belarus                           11.00\n",
       "Ukraine                            8.80\n",
       "Russia                             8.05\n",
       "Germany                            8.00"
      ]
     },
     "execution_count": 44,
     "metadata": {},
     "output_type": "execute_result"
    }
   ],
   "source": [
    "outlier_hospitalbed_order = outlier_hospitalbed.sort_values(by='Hospital beds per thousand', ascending=False)\n",
    "outlier_hospitalbed_order"
   ]
  },
  {
   "cell_type": "code",
   "execution_count": 45,
   "metadata": {},
   "outputs": [
    {
     "data": {
      "text/html": [
       "<div>\n",
       "<style scoped>\n",
       "    .dataframe tbody tr th:only-of-type {\n",
       "        vertical-align: middle;\n",
       "    }\n",
       "\n",
       "    .dataframe tbody tr th {\n",
       "        vertical-align: top;\n",
       "    }\n",
       "\n",
       "    .dataframe thead th {\n",
       "        text-align: right;\n",
       "    }\n",
       "</style>\n",
       "<table border=\"1\" class=\"dataframe\">\n",
       "  <thead>\n",
       "    <tr style=\"text-align: right;\">\n",
       "      <th></th>\n",
       "      <th>GDP per capita</th>\n",
       "    </tr>\n",
       "    <tr>\n",
       "      <th>Location</th>\n",
       "      <th></th>\n",
       "    </tr>\n",
       "  </thead>\n",
       "  <tbody>\n",
       "    <tr>\n",
       "      <th>Afghanistan</th>\n",
       "      <td>1803.987</td>\n",
       "    </tr>\n",
       "    <tr>\n",
       "      <th>Albania</th>\n",
       "      <td>11803.431</td>\n",
       "    </tr>\n",
       "    <tr>\n",
       "      <th>Algeria</th>\n",
       "      <td>13913.839</td>\n",
       "    </tr>\n",
       "    <tr>\n",
       "      <th>Antigua and Barbuda</th>\n",
       "      <td>21490.943</td>\n",
       "    </tr>\n",
       "    <tr>\n",
       "      <th>Argentina</th>\n",
       "      <td>18933.907</td>\n",
       "    </tr>\n",
       "    <tr>\n",
       "      <th>...</th>\n",
       "      <td>...</td>\n",
       "    </tr>\n",
       "    <tr>\n",
       "      <th>Venezuela</th>\n",
       "      <td>16745.022</td>\n",
       "    </tr>\n",
       "    <tr>\n",
       "      <th>Vietnam</th>\n",
       "      <td>6171.884</td>\n",
       "    </tr>\n",
       "    <tr>\n",
       "      <th>Yemen</th>\n",
       "      <td>1479.147</td>\n",
       "    </tr>\n",
       "    <tr>\n",
       "      <th>Zambia</th>\n",
       "      <td>3689.251</td>\n",
       "    </tr>\n",
       "    <tr>\n",
       "      <th>Zimbabwe</th>\n",
       "      <td>1899.775</td>\n",
       "    </tr>\n",
       "  </tbody>\n",
       "</table>\n",
       "<p>150 rows × 1 columns</p>\n",
       "</div>"
      ],
      "text/plain": [
       "                     GDP per capita\n",
       "Location                           \n",
       "Afghanistan                1803.987\n",
       "Albania                   11803.431\n",
       "Algeria                   13913.839\n",
       "Antigua and Barbuda       21490.943\n",
       "Argentina                 18933.907\n",
       "...                             ...\n",
       "Venezuela                 16745.022\n",
       "Vietnam                    6171.884\n",
       "Yemen                      1479.147\n",
       "Zambia                     3689.251\n",
       "Zimbabwe                   1899.775\n",
       "\n",
       "[150 rows x 1 columns]"
      ]
     },
     "execution_count": 45,
     "metadata": {},
     "output_type": "execute_result"
    }
   ],
   "source": [
    "#create dataframe for continent and total deaths\n",
    "gdp_location = organized_df.groupby(['Location']).agg({'GDP per capita':'mean'})\n",
    "gdp_location"
   ]
  },
  {
   "cell_type": "code",
   "execution_count": 46,
   "metadata": {},
   "outputs": [
    {
     "data": {
      "image/png": "[encoded data removed]",
      "text/plain": [
       "<Figure size 432x288 with 1 Axes>"
      ]
     },
     "metadata": {
      "needs_background": "light"
     },
     "output_type": "display_data"
    }
   ],
   "source": [
    "botxplotgdp = gdp_location['GDP per capita']\n",
    "fig1, ax1 = plt.subplots()\n",
    "ax1.set_title('GDP per capita - Covid 19')\n",
    "ax1.set_ylabel('GDP per capita')\n",
    "ax1.boxplot(botxplotgdp)\n",
    "plt.savefig('GDP per capita boxplot', bbox_inches = \"tight\", dpi=300)\n",
    "plt.show()"
   ]
  },
  {
   "cell_type": "code",
   "execution_count": 47,
   "metadata": {},
   "outputs": [
    {
     "name": "stdout",
     "output_type": "stream",
     "text": [
      "The lower quartile of GDP per capita is: 5736.6687500000035\n",
      "The upper quartile of GDP per capita is: 29513.51174999995\n",
      "The interquartile range of GDP per capita is: 23776.842999999946\n",
      "The the median of GDP per capita is: 14352.156500000023 \n",
      "Values below -29928.595749999913 could be outliers.\n",
      "Values above 65178.776249999864 could be outliers.\n"
     ]
    },
    {
     "data": {
      "text/html": [
       "<div>\n",
       "<style scoped>\n",
       "    .dataframe tbody tr th:only-of-type {\n",
       "        vertical-align: middle;\n",
       "    }\n",
       "\n",
       "    .dataframe tbody tr th {\n",
       "        vertical-align: top;\n",
       "    }\n",
       "\n",
       "    .dataframe thead th {\n",
       "        text-align: right;\n",
       "    }\n",
       "</style>\n",
       "<table border=\"1\" class=\"dataframe\">\n",
       "  <thead>\n",
       "    <tr style=\"text-align: right;\">\n",
       "      <th></th>\n",
       "      <th>GDP per capita</th>\n",
       "    </tr>\n",
       "    <tr>\n",
       "      <th>Location</th>\n",
       "      <th></th>\n",
       "    </tr>\n",
       "  </thead>\n",
       "  <tbody>\n",
       "    <tr>\n",
       "      <th>Brunei</th>\n",
       "      <td>71809.251</td>\n",
       "    </tr>\n",
       "    <tr>\n",
       "      <th>Ireland</th>\n",
       "      <td>67335.293</td>\n",
       "    </tr>\n",
       "    <tr>\n",
       "      <th>Kuwait</th>\n",
       "      <td>65530.537</td>\n",
       "    </tr>\n",
       "    <tr>\n",
       "      <th>Luxembourg</th>\n",
       "      <td>94277.965</td>\n",
       "    </tr>\n",
       "    <tr>\n",
       "      <th>Qatar</th>\n",
       "      <td>116935.600</td>\n",
       "    </tr>\n",
       "    <tr>\n",
       "      <th>Singapore</th>\n",
       "      <td>85535.383</td>\n",
       "    </tr>\n",
       "    <tr>\n",
       "      <th>United Arab Emirates</th>\n",
       "      <td>67293.483</td>\n",
       "    </tr>\n",
       "  </tbody>\n",
       "</table>\n",
       "</div>"
      ],
      "text/plain": [
       "                      GDP per capita\n",
       "Location                            \n",
       "Brunei                     71809.251\n",
       "Ireland                    67335.293\n",
       "Kuwait                     65530.537\n",
       "Luxembourg                 94277.965\n",
       "Qatar                     116935.600\n",
       "Singapore                  85535.383\n",
       "United Arab Emirates       67293.483"
      ]
     },
     "execution_count": 47,
     "metadata": {},
     "output_type": "execute_result"
    }
   ],
   "source": [
    "# If the data is in a dataframe, we use pandas to give quartile calculations\n",
    "quartiles = botxplotgdp.quantile([.25,.5,.75])\n",
    "lowerq = quartiles[0.25]\n",
    "upperq = quartiles[0.75]\n",
    "iqr = upperq-lowerq\n",
    "\n",
    "print(f\"The lower quartile of GDP per capita is: {lowerq}\")\n",
    "print(f\"The upper quartile of GDP per capita is: {upperq}\")\n",
    "print(f\"The interquartile range of GDP per capita is: {iqr}\")\n",
    "print(f\"The the median of GDP per capita is: {quartiles[0.5]} \")\n",
    "\n",
    "lower_bound = lowerq - (1.5*iqr)\n",
    "upper_bound = upperq + (1.5*iqr)\n",
    "print(f\"Values below {lower_bound} could be outliers.\")\n",
    "print(f\"Values above {upper_bound} could be outliers.\")\n",
    "\n",
    "outlier_gdp = gdp_location.loc[(gdp_location['GDP per capita'] < lower_bound) | (gdp_location['GDP per capita'] > upper_bound)]\n",
    "outlier_gdp"
   ]
  },
  {
   "cell_type": "code",
   "execution_count": 48,
   "metadata": {},
   "outputs": [
    {
     "data": {
      "text/html": [
       "<div>\n",
       "<style scoped>\n",
       "    .dataframe tbody tr th:only-of-type {\n",
       "        vertical-align: middle;\n",
       "    }\n",
       "\n",
       "    .dataframe tbody tr th {\n",
       "        vertical-align: top;\n",
       "    }\n",
       "\n",
       "    .dataframe thead th {\n",
       "        text-align: right;\n",
       "    }\n",
       "</style>\n",
       "<table border=\"1\" class=\"dataframe\">\n",
       "  <thead>\n",
       "    <tr style=\"text-align: right;\">\n",
       "      <th></th>\n",
       "      <th>GDP per capita</th>\n",
       "    </tr>\n",
       "    <tr>\n",
       "      <th>Location</th>\n",
       "      <th></th>\n",
       "    </tr>\n",
       "  </thead>\n",
       "  <tbody>\n",
       "    <tr>\n",
       "      <th>Qatar</th>\n",
       "      <td>116935.600</td>\n",
       "    </tr>\n",
       "    <tr>\n",
       "      <th>Luxembourg</th>\n",
       "      <td>94277.965</td>\n",
       "    </tr>\n",
       "    <tr>\n",
       "      <th>Singapore</th>\n",
       "      <td>85535.383</td>\n",
       "    </tr>\n",
       "    <tr>\n",
       "      <th>Brunei</th>\n",
       "      <td>71809.251</td>\n",
       "    </tr>\n",
       "    <tr>\n",
       "      <th>Ireland</th>\n",
       "      <td>67335.293</td>\n",
       "    </tr>\n",
       "    <tr>\n",
       "      <th>United Arab Emirates</th>\n",
       "      <td>67293.483</td>\n",
       "    </tr>\n",
       "    <tr>\n",
       "      <th>Kuwait</th>\n",
       "      <td>65530.537</td>\n",
       "    </tr>\n",
       "  </tbody>\n",
       "</table>\n",
       "</div>"
      ],
      "text/plain": [
       "                      GDP per capita\n",
       "Location                            \n",
       "Qatar                     116935.600\n",
       "Luxembourg                 94277.965\n",
       "Singapore                  85535.383\n",
       "Brunei                     71809.251\n",
       "Ireland                    67335.293\n",
       "United Arab Emirates       67293.483\n",
       "Kuwait                     65530.537"
      ]
     },
     "execution_count": 48,
     "metadata": {},
     "output_type": "execute_result"
    }
   ],
   "source": [
    "outlier_gdp_order = outlier_gdp.sort_values(by='GDP per capita', ascending=False)\n",
    "outlier_gdp_order"
   ]
  },
  {
   "cell_type": "code",
   "execution_count": 49,
   "metadata": {},
   "outputs": [
    {
     "data": {
      "image/png": "[encoded data removed]",
      "text/plain": [
       "<Figure size 720x216 with 1 Axes>"
      ]
     },
     "metadata": {
      "needs_background": "light"
     },
     "output_type": "display_data"
    },
    {
     "data": {
      "text/plain": [
       "<Figure size 432x288 with 0 Axes>"
      ]
     },
     "metadata": {},
     "output_type": "display_data"
    }
   ],
   "source": [
    "continent_total_deaths.plot(kind=\"bar\", figsize=(10,3))\n",
    "\n",
    "# Set a title for the chart\n",
    "plt.title(\"The Coronavirus deaths by continent\")\n",
    "\n",
    "plt.show()\n",
    "plt.tight_layout()"
   ]
  },
  {
   "cell_type": "code",
   "execution_count": 50,
   "metadata": {},
   "outputs": [
    {
     "data": {
      "text/html": [
       "<div>\n",
       "<style scoped>\n",
       "    .dataframe tbody tr th:only-of-type {\n",
       "        vertical-align: middle;\n",
       "    }\n",
       "\n",
       "    .dataframe tbody tr th {\n",
       "        vertical-align: top;\n",
       "    }\n",
       "\n",
       "    .dataframe thead th {\n",
       "        text-align: right;\n",
       "    }\n",
       "</style>\n",
       "<table border=\"1\" class=\"dataframe\">\n",
       "  <thead>\n",
       "    <tr style=\"text-align: right;\">\n",
       "      <th></th>\n",
       "      <th>Hospital beds per thousand</th>\n",
       "    </tr>\n",
       "    <tr>\n",
       "      <th>Continent</th>\n",
       "      <th></th>\n",
       "    </tr>\n",
       "  </thead>\n",
       "  <tbody>\n",
       "    <tr>\n",
       "      <th>Africa</th>\n",
       "      <td>1.507903</td>\n",
       "    </tr>\n",
       "    <tr>\n",
       "      <th>Asia</th>\n",
       "      <td>2.950384</td>\n",
       "    </tr>\n",
       "    <tr>\n",
       "      <th>Europe</th>\n",
       "      <td>5.006842</td>\n",
       "    </tr>\n",
       "    <tr>\n",
       "      <th>North America</th>\n",
       "      <td>2.006208</td>\n",
       "    </tr>\n",
       "    <tr>\n",
       "      <th>Oceania</th>\n",
       "      <td>3.049896</td>\n",
       "    </tr>\n",
       "    <tr>\n",
       "      <th>South America</th>\n",
       "      <td>2.075972</td>\n",
       "    </tr>\n",
       "  </tbody>\n",
       "</table>\n",
       "</div>"
      ],
      "text/plain": [
       "               Hospital beds per thousand\n",
       "Continent                                \n",
       "Africa                           1.507903\n",
       "Asia                             2.950384\n",
       "Europe                           5.006842\n",
       "North America                    2.006208\n",
       "Oceania                          3.049896\n",
       "South America                    2.075972"
      ]
     },
     "execution_count": 50,
     "metadata": {},
     "output_type": "execute_result"
    }
   ],
   "source": [
    "# create a dataframe for continent and hospital beds per thousand\n",
    "continent_hospitalbed = organized_df.groupby(['Continent']).agg({'Hospital beds per thousand':'mean'})\n",
    "continent_hospitalbed"
   ]
  },
  {
   "cell_type": "code",
   "execution_count": 51,
   "metadata": {},
   "outputs": [
    {
     "data": {
      "image/png": "[encoded data removed]",
      "text/plain": [
       "<Figure size 720x216 with 1 Axes>"
      ]
     },
     "metadata": {
      "needs_background": "light"
     },
     "output_type": "display_data"
    },
    {
     "data": {
      "text/plain": [
       "<Figure size 432x288 with 0 Axes>"
      ]
     },
     "metadata": {},
     "output_type": "display_data"
    }
   ],
   "source": [
    "continent_hospitalbed.plot(kind=\"bar\", figsize=(10,3))\n",
    "\n",
    "# Set a title for the chart\n",
    "plt.title(\"Hospital beds per thousand - continent\")\n",
    "\n",
    "plt.show()\n",
    "plt.tight_layout()"
   ]
  },
  {
   "cell_type": "code",
   "execution_count": 52,
   "metadata": {},
   "outputs": [
    {
     "data": {
      "text/html": [
       "<div>\n",
       "<style scoped>\n",
       "    .dataframe tbody tr th:only-of-type {\n",
       "        vertical-align: middle;\n",
       "    }\n",
       "\n",
       "    .dataframe tbody tr th {\n",
       "        vertical-align: top;\n",
       "    }\n",
       "\n",
       "    .dataframe thead th {\n",
       "        text-align: right;\n",
       "    }\n",
       "</style>\n",
       "<table border=\"1\" class=\"dataframe\">\n",
       "  <thead>\n",
       "    <tr style=\"text-align: right;\">\n",
       "      <th></th>\n",
       "      <th>Continent</th>\n",
       "      <th>Location</th>\n",
       "      <th>Total deaths</th>\n",
       "      <th>Hospital beds per thousand</th>\n",
       "      <th>GDP per capita</th>\n",
       "    </tr>\n",
       "  </thead>\n",
       "  <tbody>\n",
       "    <tr>\n",
       "      <th>7275</th>\n",
       "      <td>South America</td>\n",
       "      <td>Brazil</td>\n",
       "      <td>1</td>\n",
       "      <td>2.20</td>\n",
       "      <td>14103.452</td>\n",
       "    </tr>\n",
       "    <tr>\n",
       "      <th>7276</th>\n",
       "      <td>South America</td>\n",
       "      <td>Brazil</td>\n",
       "      <td>2</td>\n",
       "      <td>2.20</td>\n",
       "      <td>14103.452</td>\n",
       "    </tr>\n",
       "    <tr>\n",
       "      <th>7277</th>\n",
       "      <td>South America</td>\n",
       "      <td>Brazil</td>\n",
       "      <td>3</td>\n",
       "      <td>2.20</td>\n",
       "      <td>14103.452</td>\n",
       "    </tr>\n",
       "    <tr>\n",
       "      <th>7278</th>\n",
       "      <td>South America</td>\n",
       "      <td>Brazil</td>\n",
       "      <td>5</td>\n",
       "      <td>2.20</td>\n",
       "      <td>14103.452</td>\n",
       "    </tr>\n",
       "    <tr>\n",
       "      <th>7279</th>\n",
       "      <td>South America</td>\n",
       "      <td>Brazil</td>\n",
       "      <td>4</td>\n",
       "      <td>2.20</td>\n",
       "      <td>14103.452</td>\n",
       "    </tr>\n",
       "    <tr>\n",
       "      <th>...</th>\n",
       "      <td>...</td>\n",
       "      <td>...</td>\n",
       "      <td>...</td>\n",
       "      <td>...</td>\n",
       "      <td>...</td>\n",
       "    </tr>\n",
       "    <tr>\n",
       "      <th>56450</th>\n",
       "      <td>North America</td>\n",
       "      <td>United States</td>\n",
       "      <td>3854</td>\n",
       "      <td>2.77</td>\n",
       "      <td>54225.446</td>\n",
       "    </tr>\n",
       "    <tr>\n",
       "      <th>56451</th>\n",
       "      <td>North America</td>\n",
       "      <td>United States</td>\n",
       "      <td>4194</td>\n",
       "      <td>2.77</td>\n",
       "      <td>54225.446</td>\n",
       "    </tr>\n",
       "    <tr>\n",
       "      <th>56452</th>\n",
       "      <td>North America</td>\n",
       "      <td>United States</td>\n",
       "      <td>3939</td>\n",
       "      <td>2.77</td>\n",
       "      <td>54225.446</td>\n",
       "    </tr>\n",
       "    <tr>\n",
       "      <th>56453</th>\n",
       "      <td>North America</td>\n",
       "      <td>United States</td>\n",
       "      <td>3252</td>\n",
       "      <td>2.77</td>\n",
       "      <td>54225.446</td>\n",
       "    </tr>\n",
       "    <tr>\n",
       "      <th>56454</th>\n",
       "      <td>North America</td>\n",
       "      <td>United States</td>\n",
       "      <td>1814</td>\n",
       "      <td>2.77</td>\n",
       "      <td>54225.446</td>\n",
       "    </tr>\n",
       "  </tbody>\n",
       "</table>\n",
       "<p>2816 rows × 5 columns</p>\n",
       "</div>"
      ],
      "text/plain": [
       "           Continent       Location  Total deaths  Hospital beds per thousand  \\\n",
       "7275   South America         Brazil             1                        2.20   \n",
       "7276   South America         Brazil             2                        2.20   \n",
       "7277   South America         Brazil             3                        2.20   \n",
       "7278   South America         Brazil             5                        2.20   \n",
       "7279   South America         Brazil             4                        2.20   \n",
       "...              ...            ...           ...                         ...   \n",
       "56450  North America  United States          3854                        2.77   \n",
       "56451  North America  United States          4194                        2.77   \n",
       "56452  North America  United States          3939                        2.77   \n",
       "56453  North America  United States          3252                        2.77   \n",
       "56454  North America  United States          1814                        2.77   \n",
       "\n",
       "       GDP per capita  \n",
       "7275        14103.452  \n",
       "7276        14103.452  \n",
       "7277        14103.452  \n",
       "7278        14103.452  \n",
       "7279        14103.452  \n",
       "...               ...  \n",
       "56450       54225.446  \n",
       "56451       54225.446  \n",
       "56452       54225.446  \n",
       "56453       54225.446  \n",
       "56454       54225.446  \n",
       "\n",
       "[2816 rows x 5 columns]"
      ]
     },
     "execution_count": 52,
     "metadata": {},
     "output_type": "execute_result"
    }
   ],
   "source": [
    "# create data fram to only include the location of top 10 total deaths\n",
    "top_10_deaths = organized_df.loc[(organized_df[\"Location\"] == \"United States\") | (\n",
    "    organized_df[\"Location\"] == \"Brazil\") | (\n",
    "    organized_df[\"Location\"] == \"India\") | (\n",
    "    organized_df[\"Location\"] == \"Mexico\") | (\n",
    "    organized_df[\"Location\"] == \"United Kingdom\t\") | (\n",
    "    organized_df[\"Location\"] == \"Italy\") | (\n",
    "    organized_df[\"Location\"] == \"France\") | (\n",
    "    organized_df[\"Location\"] == \"Russia\") | (\n",
    "    organized_df[\"Location\"] == \"Iran\") | (\n",
    "    organized_df[\"Location\"] == \"Spain\"), :]\n",
    "top_10_deaths"
   ]
  },
  {
   "cell_type": "code",
   "execution_count": 53,
   "metadata": {},
   "outputs": [
    {
     "data": {
      "text/html": [
       "<div>\n",
       "<style scoped>\n",
       "    .dataframe tbody tr th:only-of-type {\n",
       "        vertical-align: middle;\n",
       "    }\n",
       "\n",
       "    .dataframe tbody tr th {\n",
       "        vertical-align: top;\n",
       "    }\n",
       "\n",
       "    .dataframe thead th {\n",
       "        text-align: right;\n",
       "    }\n",
       "</style>\n",
       "<table border=\"1\" class=\"dataframe\">\n",
       "  <thead>\n",
       "    <tr style=\"text-align: right;\">\n",
       "      <th></th>\n",
       "      <th>Total deaths</th>\n",
       "    </tr>\n",
       "    <tr>\n",
       "      <th>Location</th>\n",
       "      <th></th>\n",
       "    </tr>\n",
       "  </thead>\n",
       "  <tbody>\n",
       "    <tr>\n",
       "      <th>Brazil</th>\n",
       "      <td>203100</td>\n",
       "    </tr>\n",
       "    <tr>\n",
       "      <th>France</th>\n",
       "      <td>67885</td>\n",
       "    </tr>\n",
       "    <tr>\n",
       "      <th>India</th>\n",
       "      <td>151160</td>\n",
       "    </tr>\n",
       "    <tr>\n",
       "      <th>Iran</th>\n",
       "      <td>56171</td>\n",
       "    </tr>\n",
       "    <tr>\n",
       "      <th>Italy</th>\n",
       "      <td>78755</td>\n",
       "    </tr>\n",
       "    <tr>\n",
       "      <th>Mexico</th>\n",
       "      <td>133706</td>\n",
       "    </tr>\n",
       "    <tr>\n",
       "      <th>Russia</th>\n",
       "      <td>60963</td>\n",
       "    </tr>\n",
       "    <tr>\n",
       "      <th>Spain</th>\n",
       "      <td>51874</td>\n",
       "    </tr>\n",
       "    <tr>\n",
       "      <th>United States</th>\n",
       "      <td>374322</td>\n",
       "    </tr>\n",
       "  </tbody>\n",
       "</table>\n",
       "</div>"
      ],
      "text/plain": [
       "               Total deaths\n",
       "Location                   \n",
       "Brazil               203100\n",
       "France                67885\n",
       "India                151160\n",
       "Iran                  56171\n",
       "Italy                 78755\n",
       "Mexico               133706\n",
       "Russia                60963\n",
       "Spain                 51874\n",
       "United States        374322"
      ]
     },
     "execution_count": 53,
     "metadata": {},
     "output_type": "execute_result"
    }
   ],
   "source": [
    "# groupby the top 10 total deaths\n",
    "deaths_group = top_10_deaths.groupby(['Location']).agg({'Total deaths':'sum'})\n",
    "deaths_group"
   ]
  },
  {
   "cell_type": "code",
   "execution_count": 54,
   "metadata": {},
   "outputs": [
    {
     "data": {
      "text/html": [
       "<div>\n",
       "<style scoped>\n",
       "    .dataframe tbody tr th:only-of-type {\n",
       "        vertical-align: middle;\n",
       "    }\n",
       "\n",
       "    .dataframe tbody tr th {\n",
       "        vertical-align: top;\n",
       "    }\n",
       "\n",
       "    .dataframe thead th {\n",
       "        text-align: right;\n",
       "    }\n",
       "</style>\n",
       "<table border=\"1\" class=\"dataframe\">\n",
       "  <thead>\n",
       "    <tr style=\"text-align: right;\">\n",
       "      <th></th>\n",
       "      <th>Total deaths</th>\n",
       "    </tr>\n",
       "    <tr>\n",
       "      <th>Location</th>\n",
       "      <th></th>\n",
       "    </tr>\n",
       "  </thead>\n",
       "  <tbody>\n",
       "    <tr>\n",
       "      <th>United States</th>\n",
       "      <td>374322</td>\n",
       "    </tr>\n",
       "    <tr>\n",
       "      <th>Brazil</th>\n",
       "      <td>203100</td>\n",
       "    </tr>\n",
       "    <tr>\n",
       "      <th>India</th>\n",
       "      <td>151160</td>\n",
       "    </tr>\n",
       "    <tr>\n",
       "      <th>Mexico</th>\n",
       "      <td>133706</td>\n",
       "    </tr>\n",
       "    <tr>\n",
       "      <th>Italy</th>\n",
       "      <td>78755</td>\n",
       "    </tr>\n",
       "    <tr>\n",
       "      <th>France</th>\n",
       "      <td>67885</td>\n",
       "    </tr>\n",
       "    <tr>\n",
       "      <th>Russia</th>\n",
       "      <td>60963</td>\n",
       "    </tr>\n",
       "    <tr>\n",
       "      <th>Iran</th>\n",
       "      <td>56171</td>\n",
       "    </tr>\n",
       "    <tr>\n",
       "      <th>Spain</th>\n",
       "      <td>51874</td>\n",
       "    </tr>\n",
       "  </tbody>\n",
       "</table>\n",
       "</div>"
      ],
      "text/plain": [
       "               Total deaths\n",
       "Location                   \n",
       "United States        374322\n",
       "Brazil               203100\n",
       "India                151160\n",
       "Mexico               133706\n",
       "Italy                 78755\n",
       "France                67885\n",
       "Russia                60963\n",
       "Iran                  56171\n",
       "Spain                 51874"
      ]
     },
     "execution_count": 54,
     "metadata": {},
     "output_type": "execute_result"
    }
   ],
   "source": [
    "deaths_group_order = deaths_group.sort_values(by='Total deaths', ascending=False)\n",
    "deaths_group_order"
   ]
  },
  {
   "cell_type": "code",
   "execution_count": 55,
   "metadata": {},
   "outputs": [
    {
     "data": {
      "image/png": "[encoded data removed]",
      "text/plain": [
       "<Figure size 576x360 with 1 Axes>"
      ]
     },
     "metadata": {
      "needs_background": "light"
     },
     "output_type": "display_data"
    }
   ],
   "source": [
    "deaths_group_order.plot(kind=\"bar\", figsize=(8,5))\n",
    "\n",
    "# Set a title for the chart\n",
    "plt.title(\"The total number of confirmed deaths from COVID-19\")\n",
    "\n",
    "plt.tight_layout()\n",
    "plt.savefig('The number of deaths from COVID-19 by Location.png', bbox_inches = \"tight\", dpi=300)\n",
    "plt.show()"
   ]
  },
  {
   "cell_type": "code",
   "execution_count": 56,
   "metadata": {},
   "outputs": [
    {
     "data": {
      "text/html": [
       "<div>\n",
       "<style scoped>\n",
       "    .dataframe tbody tr th:only-of-type {\n",
       "        vertical-align: middle;\n",
       "    }\n",
       "\n",
       "    .dataframe tbody tr th {\n",
       "        vertical-align: top;\n",
       "    }\n",
       "\n",
       "    .dataframe thead th {\n",
       "        text-align: right;\n",
       "    }\n",
       "</style>\n",
       "<table border=\"1\" class=\"dataframe\">\n",
       "  <thead>\n",
       "    <tr style=\"text-align: right;\">\n",
       "      <th></th>\n",
       "      <th>Hospital beds per thousand</th>\n",
       "    </tr>\n",
       "    <tr>\n",
       "      <th>Location</th>\n",
       "      <th></th>\n",
       "    </tr>\n",
       "  </thead>\n",
       "  <tbody>\n",
       "    <tr>\n",
       "      <th>Brazil</th>\n",
       "      <td>2.20</td>\n",
       "    </tr>\n",
       "    <tr>\n",
       "      <th>France</th>\n",
       "      <td>5.98</td>\n",
       "    </tr>\n",
       "    <tr>\n",
       "      <th>India</th>\n",
       "      <td>0.53</td>\n",
       "    </tr>\n",
       "    <tr>\n",
       "      <th>Iran</th>\n",
       "      <td>1.50</td>\n",
       "    </tr>\n",
       "    <tr>\n",
       "      <th>Italy</th>\n",
       "      <td>3.18</td>\n",
       "    </tr>\n",
       "    <tr>\n",
       "      <th>Mexico</th>\n",
       "      <td>1.38</td>\n",
       "    </tr>\n",
       "    <tr>\n",
       "      <th>Russia</th>\n",
       "      <td>8.05</td>\n",
       "    </tr>\n",
       "    <tr>\n",
       "      <th>Spain</th>\n",
       "      <td>2.97</td>\n",
       "    </tr>\n",
       "    <tr>\n",
       "      <th>United States</th>\n",
       "      <td>2.77</td>\n",
       "    </tr>\n",
       "  </tbody>\n",
       "</table>\n",
       "</div>"
      ],
      "text/plain": [
       "               Hospital beds per thousand\n",
       "Location                                 \n",
       "Brazil                               2.20\n",
       "France                               5.98\n",
       "India                                0.53\n",
       "Iran                                 1.50\n",
       "Italy                                3.18\n",
       "Mexico                               1.38\n",
       "Russia                               8.05\n",
       "Spain                                2.97\n",
       "United States                        2.77"
      ]
     },
     "execution_count": 56,
     "metadata": {},
     "output_type": "execute_result"
    }
   ],
   "source": [
    "hospital_beds_deaths = top_10_deaths.groupby(['Location']).agg({'Hospital beds per thousand':'mean'})\n",
    "hospital_beds_deaths"
   ]
  },
  {
   "cell_type": "code",
   "execution_count": 57,
   "metadata": {},
   "outputs": [
    {
     "data": {
      "image/png": "[encoded data removed]",
      "text/plain": [
       "<Figure size 360x216 with 1 Axes>"
      ]
     },
     "metadata": {
      "needs_background": "light"
     },
     "output_type": "display_data"
    },
    {
     "data": {
      "text/plain": [
       "<Figure size 432x288 with 0 Axes>"
      ]
     },
     "metadata": {},
     "output_type": "display_data"
    }
   ],
   "source": [
    "hospital_beds_deaths.plot(kind=\"bar\", figsize=(5,3))\n",
    "\n",
    "# Set a title for the chart\n",
    "plt.title(\"Hospital beds per thousand for the top 10 total deaths countries\")\n",
    "\n",
    "plt.show()\n",
    "plt.tight_layout()"
   ]
  },
  {
   "cell_type": "code",
   "execution_count": 58,
   "metadata": {
    "scrolled": true
   },
   "outputs": [
    {
     "data": {
      "text/html": [
       "<div>\n",
       "<style scoped>\n",
       "    .dataframe tbody tr th:only-of-type {\n",
       "        vertical-align: middle;\n",
       "    }\n",
       "\n",
       "    .dataframe tbody tr th {\n",
       "        vertical-align: top;\n",
       "    }\n",
       "\n",
       "    .dataframe thead th {\n",
       "        text-align: right;\n",
       "    }\n",
       "</style>\n",
       "<table border=\"1\" class=\"dataframe\">\n",
       "  <thead>\n",
       "    <tr style=\"text-align: right;\">\n",
       "      <th></th>\n",
       "      <th></th>\n",
       "      <th>Total deaths</th>\n",
       "      <th>Hospital beds per thousand</th>\n",
       "      <th>GDP per capita</th>\n",
       "    </tr>\n",
       "    <tr>\n",
       "      <th>Continent</th>\n",
       "      <th>Location</th>\n",
       "      <th></th>\n",
       "      <th></th>\n",
       "      <th></th>\n",
       "    </tr>\n",
       "  </thead>\n",
       "  <tbody>\n",
       "    <tr>\n",
       "      <th>Africa</th>\n",
       "      <th>Burundi</th>\n",
       "      <td>2</td>\n",
       "      <td>0.8</td>\n",
       "      <td>702.225</td>\n",
       "    </tr>\n",
       "    <tr>\n",
       "      <th>Asia</th>\n",
       "      <th>Mongolia</th>\n",
       "      <td>2</td>\n",
       "      <td>7.0</td>\n",
       "      <td>11840.846</td>\n",
       "    </tr>\n",
       "    <tr>\n",
       "      <th>Oceania</th>\n",
       "      <th>Fiji</th>\n",
       "      <td>2</td>\n",
       "      <td>2.3</td>\n",
       "      <td>8702.975</td>\n",
       "    </tr>\n",
       "    <tr>\n",
       "      <th>Asia</th>\n",
       "      <th>Brunei</th>\n",
       "      <td>3</td>\n",
       "      <td>2.7</td>\n",
       "      <td>71809.251</td>\n",
       "    </tr>\n",
       "    <tr>\n",
       "      <th>Africa</th>\n",
       "      <th>Eritrea</th>\n",
       "      <td>3</td>\n",
       "      <td>0.7</td>\n",
       "      <td>1510.459</td>\n",
       "    </tr>\n",
       "  </tbody>\n",
       "</table>\n",
       "</div>"
      ],
      "text/plain": [
       "                    Total deaths  Hospital beds per thousand  GDP per capita\n",
       "Continent Location                                                          \n",
       "Africa    Burundi              2                         0.8         702.225\n",
       "Asia      Mongolia             2                         7.0       11840.846\n",
       "Oceania   Fiji                 2                         2.3        8702.975\n",
       "Asia      Brunei               3                         2.7       71809.251\n",
       "Africa    Eritrea              3                         0.7        1510.459"
      ]
     },
     "execution_count": 58,
     "metadata": {},
     "output_type": "execute_result"
    }
   ],
   "source": [
    "# Sorting the DataFrame based on \"Total deaths\" column\n",
    "total_deaths_low = covid_renamed_df.sort_values(\"Total deaths\")\n",
    "total_deaths_low.head()"
   ]
  },
  {
   "cell_type": "code",
   "execution_count": 86,
   "metadata": {},
   "outputs": [
    {
     "data": {
      "image/png": "[encoded data removed]",
      "text/plain": [
       "<Figure size 576x576 with 1 Axes>"
      ]
     },
     "metadata": {
      "needs_background": "light"
     },
     "output_type": "display_data"
    }
   ],
   "source": [
    "# Create a scatter plot which compares total deaths to hospital beds per thousand\n",
    "covid_renamed_df.plot(kind=\"scatter\", x=\"Total deaths\", y=\"Hospital beds per thousand\", grid=True, figsize=(8,8),\n",
    "              title=\"Total deaths Vs. Hospital beds per thousand\")\n",
    "plt.savefig('Total deaths VS Hospital beds per thousand', bbox_inches = \"tight\", dpi=300)\n",
    "plt.show()"
   ]
  },
  {
   "cell_type": "code",
   "execution_count": 60,
   "metadata": {},
   "outputs": [
    {
     "data": {
      "image/png": "[encoded data removed]",
      "text/plain": [
       "<Figure size 576x576 with 1 Axes>"
      ]
     },
     "metadata": {
      "needs_background": "light"
     },
     "output_type": "display_data"
    }
   ],
   "source": [
    "# Create a scatter plot which compares total deaths to hospital beds per thousand (limit the x axis from 0 to 100000)\n",
    "covid_renamed_df.plot(kind=\"scatter\", x=\"Total deaths\", y=\"Hospital beds per thousand\", grid=True, figsize=(8,8),\n",
    "              title=\"Total deaths Vs. Hospital beds per thousand\")\n",
    "plt.xlim(0, 100000)\n",
    "plt.show()"
   ]
  },
  {
   "cell_type": "code",
   "execution_count": 61,
   "metadata": {},
   "outputs": [
    {
     "name": "stdout",
     "output_type": "stream",
     "text": [
      "The correlation between both factors is 0.0102488385\n"
     ]
    }
   ],
   "source": [
    "# Compute the Pearson correlation coefficient between \"Total deaths\" and \"Hospital beds per thousand\"\n",
    "Total_deaths = covid_renamed_df[\"Total deaths\"]\n",
    "Hospital_beds_per_thousand = covid_renamed_df[\"Hospital beds per thousand\"]\n",
    "correlation = st.pearsonr(Total_deaths,Hospital_beds_per_thousand)\n",
    "print(f\"The correlation between both factors is {round(correlation[0],10)}\")"
   ]
  },
  {
   "cell_type": "code",
   "execution_count": 87,
   "metadata": {},
   "outputs": [
    {
     "data": {
      "image/png": "[encoded data removed]",
      "text/plain": [
       "<Figure size 432x288 with 1 Axes>"
      ]
     },
     "metadata": {
      "needs_background": "light"
     },
     "output_type": "display_data"
    }
   ],
   "source": [
    "# Add the linear regression equation and line to plot\n",
    "x_values = covid_renamed_df['Total deaths']\n",
    "y_values = covid_renamed_df['Hospital beds per thousand']\n",
    "(slope, intercept, rvalue, pvalue, stderr) = linregress(x_values, y_values)\n",
    "regress_values = x_values * slope + intercept\n",
    "line_eq = \"y = \" + str(round(slope,2)) + \"x + \" + str(round(intercept,2))\n",
    "plt.scatter(x_values,y_values)\n",
    "plt.plot(x_values,regress_values,\"r-\")\n",
    "plt.annotate(line_eq,(6,10),fontsize=15,color=\"red\")\n",
    "plt.title(\"Total deaths VS Hospital beds per thousand\")\n",
    "plt.xlabel('Total deaths')\n",
    "plt.ylabel('Hospital beds per thousand')\n",
    "plt.savefig('Total deaths VS Hospital beds per thousand with regression line', bbox_inches = \"tight\", dpi=300)\n",
    "plt.show()"
   ]
  },
  {
   "cell_type": "code",
   "execution_count": 63,
   "metadata": {},
   "outputs": [
    {
     "name": "stdout",
     "output_type": "stream",
     "text": [
      "The r-squared is: 0.00010503868991530593\n"
     ]
    },
    {
     "data": {
      "image/png": "[encoded data removed]",
      "text/plain": [
       "<Figure size 432x288 with 1 Axes>"
      ]
     },
     "metadata": {
      "needs_background": "light"
     },
     "output_type": "display_data"
    }
   ],
   "source": [
    "# Print out the r-squared value along with the plot.\n",
    "x_values = covid_renamed_df['Total deaths']\n",
    "y_values = covid_renamed_df['Hospital beds per thousand']\n",
    "(slope, intercept, rvalue, pvalue, stderr) = linregress(x_values, y_values)\n",
    "regress_values = x_values * slope + intercept\n",
    "line_eq = \"y = \" + str(round(slope,2)) + \"x + \" + str(round(intercept,2))\n",
    "plt.scatter(x_values,y_values)\n",
    "plt.plot(x_values,regress_values,\"r-\")\n",
    "plt.annotate(line_eq,(6,10),fontsize=15,color=\"red\")\n",
    "plt.xlabel('Total deaths')\n",
    "plt.ylabel('Hospital beds per thousand')\n",
    "print(f\"The r-squared is: {rvalue**2}\")\n",
    "plt.show()"
   ]
  },
  {
   "cell_type": "code",
   "execution_count": 64,
   "metadata": {},
   "outputs": [
    {
     "data": {
      "image/png": "[encoded data removed]",
      "text/plain": [
       "<Figure size 432x288 with 1 Axes>"
      ]
     },
     "metadata": {
      "needs_background": "light"
     },
     "output_type": "display_data"
    }
   ],
   "source": [
    "# Perform a linear regression on total deaths versus hospital beds per thousand\n",
    "vc_slope, vc_int, vc_r, vc_p, vc_std_err = stats.linregress(Total_deaths, Hospital_beds_per_thousand)\n",
    "\n",
    "# Create equation of line to calculate predicted hospital beds per thousand\n",
    "vc_fit = vc_slope * Total_deaths + vc_int\n",
    "\n",
    "# Plot the linear model on top of scatter plot \n",
    "Total_deaths = covid_renamed_df[\"Total deaths\"]\n",
    "Hospital_beds_per_thousand = covid_renamed_df[\"Hospital beds per thousand\"]\n",
    "plt.scatter(Total_deaths,Hospital_beds_per_thousand)\n",
    "plt.plot(Total_deaths,vc_fit,\"--\")\n",
    "##plt.xticks(Total deaths, rotation=90)???\n",
    "plt.xlabel('Total_deaths')\n",
    "plt.ylabel('Hospital beds per thousand')\n",
    "plt.show()"
   ]
  },
  {
   "cell_type": "code",
   "execution_count": 65,
   "metadata": {},
   "outputs": [],
   "source": [
    "#organized_df['continent'].value_counts()"
   ]
  },
  {
   "cell_type": "code",
   "execution_count": 66,
   "metadata": {},
   "outputs": [],
   "source": [
    "#organized_df['date'] = pd.to_datetime(organized_df[\"date\"])\n",
    "#organized_df['date']"
   ]
  },
  {
   "cell_type": "code",
   "execution_count": 67,
   "metadata": {},
   "outputs": [],
   "source": [
    "#organized_df['mnth_yr'] = organized_df['date'].apply(lambda x: x.strftime('%B-%Y')) \n",
    "#organized_df['month_year'] = organized_df['date'].dt.strftime('%B-%Y')\n",
    "#organized_df"
   ]
  },
  {
   "cell_type": "code",
   "execution_count": 68,
   "metadata": {},
   "outputs": [],
   "source": [
    "#organized_df[\"year\"] = organized_df[\"date\"].dt.year\n",
    "#organized_df[\"month\"] = organized_df[\"date\"].dt.month\n",
    "#organized_df"
   ]
  },
  {
   "cell_type": "code",
   "execution_count": 69,
   "metadata": {
    "scrolled": true
   },
   "outputs": [],
   "source": [
    "#organized_group = organized_df.groupby([\"location\", \"continent\"]).sum()\n",
    "#organized_group = organized_df.groupby([\"location\", \"continent\", \"new_deaths\", \"hospital_beds_per_thousand\"]).sum()\n",
    "#organized_group"
   ]
  },
  {
   "cell_type": "markdown",
   "metadata": {},
   "source": [
    "# Total Deaths vs Median age\n"
   ]
  },
  {
   "cell_type": "code",
   "execution_count": 70,
   "metadata": {},
   "outputs": [],
   "source": [
    "#"
   ]
  },
  {
   "cell_type": "markdown",
   "metadata": {},
   "source": [
    "# Total Deaths and Total GDP"
   ]
  },
  {
   "cell_type": "code",
   "execution_count": 71,
   "metadata": {},
   "outputs": [
    {
     "data": {
      "text/plain": [
       "923873184.9999999"
      ]
     },
     "execution_count": 71,
     "metadata": {},
     "output_type": "execute_result"
    }
   ],
   "source": [
    "## The sum method adds every entry in the series\n",
    "total3 = organized_df[\"GDP per capita\"].sum()\n",
    "total3"
   ]
  },
  {
   "cell_type": "code",
   "execution_count": 72,
   "metadata": {},
   "outputs": [
    {
     "data": {
      "text/plain": [
       "21498.421952806686"
      ]
     },
     "execution_count": 72,
     "metadata": {},
     "output_type": "execute_result"
    }
   ],
   "source": [
    "# The mean method averages the series\n",
    "average3 = organized_df[\"GDP per capita\"].mean()\n",
    "average3"
   ]
  },
  {
   "cell_type": "code",
   "execution_count": 73,
   "metadata": {},
   "outputs": [
    {
     "data": {
      "image/png": "[encoded data removed]",
      "text/plain": [
       "<Figure size 360x216 with 1 Axes>"
      ]
     },
     "metadata": {
      "needs_background": "light"
     },
     "output_type": "display_data"
    },
    {
     "data": {
      "text/plain": [
       "<Figure size 432x288 with 0 Axes>"
      ]
     },
     "metadata": {},
     "output_type": "display_data"
    }
   ],
   "source": [
    "# top 10 total deaths country\n",
    "deaths_group.plot(kind=\"bar\", figsize=(5,3))\n",
    "\n",
    "# Set a title for the chart\n",
    "plt.title(\"The total number of confirmed deaths from COVID-19\")\n",
    "\n",
    "plt.show()\n",
    "plt.tight_layout()"
   ]
  },
  {
   "cell_type": "code",
   "execution_count": 74,
   "metadata": {},
   "outputs": [
    {
     "data": {
      "text/html": [
       "<div>\n",
       "<style scoped>\n",
       "    .dataframe tbody tr th:only-of-type {\n",
       "        vertical-align: middle;\n",
       "    }\n",
       "\n",
       "    .dataframe tbody tr th {\n",
       "        vertical-align: top;\n",
       "    }\n",
       "\n",
       "    .dataframe thead th {\n",
       "        text-align: right;\n",
       "    }\n",
       "</style>\n",
       "<table border=\"1\" class=\"dataframe\">\n",
       "  <thead>\n",
       "    <tr style=\"text-align: right;\">\n",
       "      <th></th>\n",
       "      <th>GDP per capita</th>\n",
       "    </tr>\n",
       "    <tr>\n",
       "      <th>Location</th>\n",
       "      <th></th>\n",
       "    </tr>\n",
       "  </thead>\n",
       "  <tbody>\n",
       "    <tr>\n",
       "      <th>Brazil</th>\n",
       "      <td>14103.452</td>\n",
       "    </tr>\n",
       "    <tr>\n",
       "      <th>France</th>\n",
       "      <td>38605.671</td>\n",
       "    </tr>\n",
       "    <tr>\n",
       "      <th>India</th>\n",
       "      <td>6426.674</td>\n",
       "    </tr>\n",
       "    <tr>\n",
       "      <th>Iran</th>\n",
       "      <td>19082.620</td>\n",
       "    </tr>\n",
       "    <tr>\n",
       "      <th>Italy</th>\n",
       "      <td>35220.084</td>\n",
       "    </tr>\n",
       "    <tr>\n",
       "      <th>Mexico</th>\n",
       "      <td>17336.469</td>\n",
       "    </tr>\n",
       "    <tr>\n",
       "      <th>Russia</th>\n",
       "      <td>24765.954</td>\n",
       "    </tr>\n",
       "    <tr>\n",
       "      <th>Spain</th>\n",
       "      <td>34272.360</td>\n",
       "    </tr>\n",
       "    <tr>\n",
       "      <th>United States</th>\n",
       "      <td>54225.446</td>\n",
       "    </tr>\n",
       "  </tbody>\n",
       "</table>\n",
       "</div>"
      ],
      "text/plain": [
       "               GDP per capita\n",
       "Location                     \n",
       "Brazil              14103.452\n",
       "France              38605.671\n",
       "India                6426.674\n",
       "Iran                19082.620\n",
       "Italy               35220.084\n",
       "Mexico              17336.469\n",
       "Russia              24765.954\n",
       "Spain               34272.360\n",
       "United States       54225.446"
      ]
     },
     "execution_count": 74,
     "metadata": {},
     "output_type": "execute_result"
    }
   ],
   "source": [
    "#GDP for the top 10 total deaths country\n",
    "top10_death_gdp = top_10_deaths.groupby(['Location']).agg({'GDP per capita':'mean'})\n",
    "top10_death_gdp"
   ]
  },
  {
   "cell_type": "code",
   "execution_count": 75,
   "metadata": {},
   "outputs": [
    {
     "data": {
      "image/png": "[encoded data removed]",
      "text/plain": [
       "<Figure size 360x216 with 1 Axes>"
      ]
     },
     "metadata": {
      "needs_background": "light"
     },
     "output_type": "display_data"
    },
    {
     "data": {
      "text/plain": [
       "<Figure size 432x288 with 0 Axes>"
      ]
     },
     "metadata": {},
     "output_type": "display_data"
    }
   ],
   "source": [
    "top10_death_gdp.plot(kind=\"bar\", figsize=(5,3))\n",
    "\n",
    "# Set a title for the chart\n",
    "plt.title(\"Top 10 total deaths countries - GDP\")\n",
    "\n",
    "plt.show()\n",
    "plt.tight_layout()"
   ]
  },
  {
   "cell_type": "code",
   "execution_count": 76,
   "metadata": {},
   "outputs": [
    {
     "data": {
      "text/html": [
       "<div>\n",
       "<style scoped>\n",
       "    .dataframe tbody tr th:only-of-type {\n",
       "        vertical-align: middle;\n",
       "    }\n",
       "\n",
       "    .dataframe tbody tr th {\n",
       "        vertical-align: top;\n",
       "    }\n",
       "\n",
       "    .dataframe thead th {\n",
       "        text-align: right;\n",
       "    }\n",
       "</style>\n",
       "<table border=\"1\" class=\"dataframe\">\n",
       "  <thead>\n",
       "    <tr style=\"text-align: right;\">\n",
       "      <th></th>\n",
       "      <th></th>\n",
       "      <th>Total deaths</th>\n",
       "      <th>Hospital beds per thousand</th>\n",
       "      <th>GDP per capita</th>\n",
       "    </tr>\n",
       "    <tr>\n",
       "      <th>Continent</th>\n",
       "      <th>Location</th>\n",
       "      <th></th>\n",
       "      <th></th>\n",
       "      <th></th>\n",
       "    </tr>\n",
       "  </thead>\n",
       "  <tbody>\n",
       "    <tr>\n",
       "      <th>Asia</th>\n",
       "      <th>Qatar</th>\n",
       "      <td>246</td>\n",
       "      <td>1.20</td>\n",
       "      <td>116935.600</td>\n",
       "    </tr>\n",
       "    <tr>\n",
       "      <th>Europe</th>\n",
       "      <th>Luxembourg</th>\n",
       "      <td>527</td>\n",
       "      <td>4.51</td>\n",
       "      <td>94277.965</td>\n",
       "    </tr>\n",
       "    <tr>\n",
       "      <th rowspan=\"2\" valign=\"top\">Asia</th>\n",
       "      <th>Singapore</th>\n",
       "      <td>29</td>\n",
       "      <td>2.40</td>\n",
       "      <td>85535.383</td>\n",
       "    </tr>\n",
       "    <tr>\n",
       "      <th>Brunei</th>\n",
       "      <td>3</td>\n",
       "      <td>2.70</td>\n",
       "      <td>71809.251</td>\n",
       "    </tr>\n",
       "    <tr>\n",
       "      <th>Europe</th>\n",
       "      <th>Ireland</th>\n",
       "      <td>2344</td>\n",
       "      <td>2.96</td>\n",
       "      <td>67335.293</td>\n",
       "    </tr>\n",
       "    <tr>\n",
       "      <th rowspan=\"2\" valign=\"top\">Asia</th>\n",
       "      <th>United Arab Emirates</th>\n",
       "      <td>708</td>\n",
       "      <td>1.20</td>\n",
       "      <td>67293.483</td>\n",
       "    </tr>\n",
       "    <tr>\n",
       "      <th>Kuwait</th>\n",
       "      <td>943</td>\n",
       "      <td>2.00</td>\n",
       "      <td>65530.537</td>\n",
       "    </tr>\n",
       "    <tr>\n",
       "      <th rowspan=\"3\" valign=\"top\">Europe</th>\n",
       "      <th>Norway</th>\n",
       "      <td>472</td>\n",
       "      <td>3.60</td>\n",
       "      <td>64800.057</td>\n",
       "    </tr>\n",
       "    <tr>\n",
       "      <th>Switzerland</th>\n",
       "      <td>8267</td>\n",
       "      <td>4.53</td>\n",
       "      <td>57410.166</td>\n",
       "    </tr>\n",
       "    <tr>\n",
       "      <th>San Marino</th>\n",
       "      <td>64</td>\n",
       "      <td>3.80</td>\n",
       "      <td>56861.470</td>\n",
       "    </tr>\n",
       "  </tbody>\n",
       "</table>\n",
       "</div>"
      ],
      "text/plain": [
       "                                Total deaths  Hospital beds per thousand  \\\n",
       "Continent Location                                                         \n",
       "Asia      Qatar                          246                        1.20   \n",
       "Europe    Luxembourg                     527                        4.51   \n",
       "Asia      Singapore                       29                        2.40   \n",
       "          Brunei                           3                        2.70   \n",
       "Europe    Ireland                       2344                        2.96   \n",
       "Asia      United Arab Emirates           708                        1.20   \n",
       "          Kuwait                         943                        2.00   \n",
       "Europe    Norway                         472                        3.60   \n",
       "          Switzerland                   8267                        4.53   \n",
       "          San Marino                      64                        3.80   \n",
       "\n",
       "                                GDP per capita  \n",
       "Continent Location                              \n",
       "Asia      Qatar                     116935.600  \n",
       "Europe    Luxembourg                 94277.965  \n",
       "Asia      Singapore                  85535.383  \n",
       "          Brunei                     71809.251  \n",
       "Europe    Ireland                    67335.293  \n",
       "Asia      United Arab Emirates       67293.483  \n",
       "          Kuwait                     65530.537  \n",
       "Europe    Norway                     64800.057  \n",
       "          Switzerland                57410.166  \n",
       "          San Marino                 56861.470  "
      ]
     },
     "execution_count": 76,
     "metadata": {},
     "output_type": "execute_result"
    }
   ],
   "source": [
    "gdp_per_capita_high = covid_renamed_df.sort_values(\"GDP per capita\", ascending=False)\n",
    "gdp_per_capita_high.head(10)"
   ]
  },
  {
   "cell_type": "code",
   "execution_count": 77,
   "metadata": {},
   "outputs": [
    {
     "data": {
      "text/html": [
       "<div>\n",
       "<style scoped>\n",
       "    .dataframe tbody tr th:only-of-type {\n",
       "        vertical-align: middle;\n",
       "    }\n",
       "\n",
       "    .dataframe tbody tr th {\n",
       "        vertical-align: top;\n",
       "    }\n",
       "\n",
       "    .dataframe thead th {\n",
       "        text-align: right;\n",
       "    }\n",
       "</style>\n",
       "<table border=\"1\" class=\"dataframe\">\n",
       "  <thead>\n",
       "    <tr style=\"text-align: right;\">\n",
       "      <th></th>\n",
       "      <th></th>\n",
       "      <th>Total deaths</th>\n",
       "      <th>Hospital beds per thousand</th>\n",
       "      <th>GDP per capita</th>\n",
       "    </tr>\n",
       "    <tr>\n",
       "      <th>Continent</th>\n",
       "      <th>Location</th>\n",
       "      <th></th>\n",
       "      <th></th>\n",
       "      <th></th>\n",
       "    </tr>\n",
       "  </thead>\n",
       "  <tbody>\n",
       "    <tr>\n",
       "      <th rowspan=\"9\" valign=\"top\">Africa</th>\n",
       "      <th>Central African Republic</th>\n",
       "      <td>63</td>\n",
       "      <td>1.0</td>\n",
       "      <td>661.240</td>\n",
       "    </tr>\n",
       "    <tr>\n",
       "      <th>Burundi</th>\n",
       "      <td>2</td>\n",
       "      <td>0.8</td>\n",
       "      <td>702.225</td>\n",
       "    </tr>\n",
       "    <tr>\n",
       "      <th>Liberia</th>\n",
       "      <td>83</td>\n",
       "      <td>0.8</td>\n",
       "      <td>752.788</td>\n",
       "    </tr>\n",
       "    <tr>\n",
       "      <th>Niger</th>\n",
       "      <td>126</td>\n",
       "      <td>0.3</td>\n",
       "      <td>926.000</td>\n",
       "    </tr>\n",
       "    <tr>\n",
       "      <th>Malawi</th>\n",
       "      <td>225</td>\n",
       "      <td>1.3</td>\n",
       "      <td>1095.042</td>\n",
       "    </tr>\n",
       "    <tr>\n",
       "      <th>Mozambique</th>\n",
       "      <td>192</td>\n",
       "      <td>0.7</td>\n",
       "      <td>1136.103</td>\n",
       "    </tr>\n",
       "    <tr>\n",
       "      <th>Comoros</th>\n",
       "      <td>18</td>\n",
       "      <td>2.2</td>\n",
       "      <td>1413.890</td>\n",
       "    </tr>\n",
       "    <tr>\n",
       "      <th>Madagascar</th>\n",
       "      <td>267</td>\n",
       "      <td>0.2</td>\n",
       "      <td>1416.440</td>\n",
       "    </tr>\n",
       "    <tr>\n",
       "      <th>Togo</th>\n",
       "      <td>72</td>\n",
       "      <td>0.7</td>\n",
       "      <td>1429.813</td>\n",
       "    </tr>\n",
       "    <tr>\n",
       "      <th>Asia</th>\n",
       "      <th>Yemen</th>\n",
       "      <td>611</td>\n",
       "      <td>0.7</td>\n",
       "      <td>1479.147</td>\n",
       "    </tr>\n",
       "  </tbody>\n",
       "</table>\n",
       "</div>"
      ],
      "text/plain": [
       "                                    Total deaths  Hospital beds per thousand  \\\n",
       "Continent Location                                                             \n",
       "Africa    Central African Republic            63                         1.0   \n",
       "          Burundi                              2                         0.8   \n",
       "          Liberia                             83                         0.8   \n",
       "          Niger                              126                         0.3   \n",
       "          Malawi                             225                         1.3   \n",
       "          Mozambique                         192                         0.7   \n",
       "          Comoros                             18                         2.2   \n",
       "          Madagascar                         267                         0.2   \n",
       "          Togo                                72                         0.7   \n",
       "Asia      Yemen                              611                         0.7   \n",
       "\n",
       "                                    GDP per capita  \n",
       "Continent Location                                  \n",
       "Africa    Central African Republic         661.240  \n",
       "          Burundi                          702.225  \n",
       "          Liberia                          752.788  \n",
       "          Niger                            926.000  \n",
       "          Malawi                          1095.042  \n",
       "          Mozambique                      1136.103  \n",
       "          Comoros                         1413.890  \n",
       "          Madagascar                      1416.440  \n",
       "          Togo                            1429.813  \n",
       "Asia      Yemen                           1479.147  "
      ]
     },
     "execution_count": 77,
     "metadata": {},
     "output_type": "execute_result"
    }
   ],
   "source": [
    "gdp_per_capita_low = covid_renamed_df.sort_values(\"GDP per capita\")\n",
    "gdp_per_capita_low.head(10)"
   ]
  },
  {
   "cell_type": "code",
   "execution_count": 88,
   "metadata": {},
   "outputs": [
    {
     "data": {
      "image/png": "[encoded data removed]",
      "text/plain": [
       "<Figure size 576x576 with 1 Axes>"
      ]
     },
     "metadata": {
      "needs_background": "light"
     },
     "output_type": "display_data"
    }
   ],
   "source": [
    "# Create a scatter plot which compares total deaths to hospital beds per thousand\n",
    "covid_renamed_df.plot(kind=\"scatter\", x=\"Total deaths\", y=\"GDP per capita\", grid=True, figsize=(8,8),\n",
    "              title=\"Total deaths VS GDP per capita\")\n",
    "plt.savefig('total deaths vs gdp scatterplot.png', bbox_inches = \"tight\", dpi=300)\n",
    "plt.show()"
   ]
  },
  {
   "cell_type": "code",
   "execution_count": 79,
   "metadata": {},
   "outputs": [
    {
     "data": {
      "image/png": "[encoded data removed]",
      "text/plain": [
       "<Figure size 576x576 with 1 Axes>"
      ]
     },
     "metadata": {
      "needs_background": "light"
     },
     "output_type": "display_data"
    }
   ],
   "source": [
    "# Create a scatter plot which compares total deaths to hospital beds per thousand (limit the x axis from 0 to 100000)\n",
    "covid_renamed_df.plot(kind=\"scatter\", x=\"Total deaths\", y=\"GDP per capita\", grid=True, figsize=(8,8),\n",
    "              title=\"Total deaths Vs. GDP per capita\")\n",
    "plt.xlim(0, 100000)\n",
    "plt.show()"
   ]
  },
  {
   "cell_type": "code",
   "execution_count": 80,
   "metadata": {},
   "outputs": [
    {
     "name": "stdout",
     "output_type": "stream",
     "text": [
      "The correlation between both factors is 0.1173729232\n"
     ]
    }
   ],
   "source": [
    "# Compute the Pearson correlation coefficient between \"Total deaths\" and \"GDP per capita\"\n",
    "Total_deaths = covid_renamed_df[\"Total deaths\"]\n",
    "gdp_per_capita = covid_renamed_df[\"GDP per capita\"]\n",
    "correlation = st.pearsonr(Total_deaths,gdp_per_capita)\n",
    "print(f\"The correlation between both factors is {round(correlation[0],10)}\")"
   ]
  },
  {
   "cell_type": "code",
   "execution_count": 81,
   "metadata": {},
   "outputs": [
    {
     "data": {
      "image/png": "[encoded data removed]",
      "text/plain": [
       "<Figure size 432x288 with 1 Axes>"
      ]
     },
     "metadata": {
      "needs_background": "light"
     },
     "output_type": "display_data"
    }
   ],
   "source": [
    "# Add the linear regression equation and line to plot\n",
    "x_values = covid_renamed_df['Total deaths']\n",
    "y_values = covid_renamed_df['GDP per capita']\n",
    "(slope, intercept, rvalue, pvalue, stderr) = linregress(x_values, y_values)\n",
    "regress_values = x_values * slope + intercept\n",
    "line_eq = \"y = \" + str(round(slope,2)) + \"x + \" + str(round(intercept,2))\n",
    "plt.scatter(x_values,y_values)\n",
    "plt.plot(x_values,regress_values,\"r-\")\n",
    "plt.annotate(line_eq,(6,10),fontsize=15,color=\"red\")\n",
    "plt.title('Total deaths VS GDP per capita')\n",
    "plt.xlabel('Total deaths')\n",
    "plt.ylabel('GDP per capita')\n",
    "plt.savefig('Total deaths VS GDP per capita with regression line', bbox_inches = \"tight\", dpi=300)\n",
    "plt.show()"
   ]
  },
  {
   "cell_type": "code",
   "execution_count": 82,
   "metadata": {},
   "outputs": [
    {
     "name": "stdout",
     "output_type": "stream",
     "text": [
      "The r-squared is: 0.013776403101048421\n"
     ]
    },
    {
     "data": {
      "image/png": "[encoded data removed]",
      "text/plain": [
       "<Figure size 432x288 with 1 Axes>"
      ]
     },
     "metadata": {
      "needs_background": "light"
     },
     "output_type": "display_data"
    }
   ],
   "source": [
    "# Print out the r-squared value along with the plot.\n",
    "x_values = covid_renamed_df['Total deaths']\n",
    "y_values = covid_renamed_df['GDP per capita']\n",
    "(slope, intercept, rvalue, pvalue, stderr) = linregress(x_values, y_values)\n",
    "regress_values = x_values * slope + intercept\n",
    "line_eq = \"y = \" + str(round(slope,2)) + \"x + \" + str(round(intercept,2))\n",
    "plt.scatter(x_values,y_values)\n",
    "plt.plot(x_values,regress_values,\"r-\")\n",
    "plt.annotate(line_eq,(6,10),fontsize=15,color=\"red\")\n",
    "plt.xlabel('Total deaths')\n",
    "plt.ylabel('GDP per capita')\n",
    "print(f\"The r-squared is: {rvalue**2}\")\n",
    "plt.show()"
   ]
  },
  {
   "cell_type": "code",
   "execution_count": 83,
   "metadata": {},
   "outputs": [
    {
     "data": {
      "image/png": "[encoded data removed]",
      "text/plain": [
       "<Figure size 432x288 with 1 Axes>"
      ]
     },
     "metadata": {
      "needs_background": "light"
     },
     "output_type": "display_data"
    }
   ],
   "source": [
    "# Perform a linear regression on total deaths versus hospital beds per thousand\n",
    "vc_slope, vc_int, vc_r, vc_p, vc_std_err = stats.linregress(Total_deaths, gdp_per_capita)\n",
    "\n",
    "# Create equation of line to calculate predicted hospital beds per thousand\n",
    "vc_fit = vc_slope * Total_deaths + vc_int\n",
    "\n",
    "# Plot the linear model on top of scatter plot \n",
    "Total_deaths = covid_renamed_df[\"Total deaths\"]\n",
    "Hospital_beds_per_thousand = covid_renamed_df[\"GDP per capita\"]\n",
    "plt.scatter(Total_deaths,gdp_per_capita)\n",
    "plt.plot(Total_deaths,vc_fit,\"--\")\n",
    "###plt.xticks(Total_deaths, rotation=90)??\n",
    "plt.xlabel('Total_deaths')\n",
    "plt.ylabel('GDP per capita')\n",
    "plt.show()"
   ]
  },
  {
   "cell_type": "markdown",
   "metadata": {},
   "source": [
    "# Total Deaths vs Total Cases"
   ]
  },
  {
   "cell_type": "code",
   "execution_count": 84,
   "metadata": {},
   "outputs": [],
   "source": [
    "#"
   ]
  },
  {
   "cell_type": "code",
   "execution_count": 85,
   "metadata": {},
   "outputs": [],
   "source": [
    "# Export file as a CSV, without the Pandas index, but with the header\n",
    "#grouped_international_data.to_csv(\"fileOne.csv\", index=False, header=True)"
   ]
  },
  {
   "cell_type": "code",
   "execution_count": null,
   "metadata": {},
   "outputs": [],
   "source": []
  }
 ],
 "metadata": {
  "kernelspec": {
   "display_name": "Python 3",
   "language": "python",
   "name": "python3"
  },
  "language_info": {
   "codemirror_mode": {
    "name": "ipython",
    "version": 3
   },
   "file_extension": ".py",
   "mimetype": "text/x-python",
   "name": "python",
   "nbconvert_exporter": "python",
   "pygments_lexer": "ipython3",
   "version": "3.6.10"
  }
 },
 "nbformat": 4,
 "nbformat_minor": 4
}
