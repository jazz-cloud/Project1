{
 "cells": [
  {
   "cell_type": "code",
   "execution_count": 1,
   "metadata": {},
   "outputs": [
    {
     "name": "stdout",
     "output_type": "stream",
     "text": [
<<<<<<< HEAD
      "Requirement already satisfied: missingno in /Users/dianamadonko/opt/anaconda3/envs/PythonData/lib/python3.6/site-packages (0.4.2)\n",
      "Requirement already satisfied: scipy in /Users/dianamadonko/opt/anaconda3/envs/PythonData/lib/python3.6/site-packages (from missingno) (1.5.0)\n",
      "Requirement already satisfied: numpy in /Users/dianamadonko/opt/anaconda3/envs/PythonData/lib/python3.6/site-packages (from missingno) (1.17.0)\n",
      "Requirement already satisfied: seaborn in /Users/dianamadonko/opt/anaconda3/envs/PythonData/lib/python3.6/site-packages (from missingno) (0.10.1)\n",
      "Requirement already satisfied: matplotlib in /Users/dianamadonko/opt/anaconda3/envs/PythonData/lib/python3.6/site-packages (from missingno) (3.2.2)\n",
      "Requirement already satisfied: pandas>=0.22.0 in /Users/dianamadonko/opt/anaconda3/envs/PythonData/lib/python3.6/site-packages (from seaborn->missingno) (1.0.5)\n",
      "Requirement already satisfied: kiwisolver>=1.0.1 in /Users/dianamadonko/opt/anaconda3/envs/PythonData/lib/python3.6/site-packages (from matplotlib->missingno) (1.2.0)\n",
      "Requirement already satisfied: python-dateutil>=2.1 in /Users/dianamadonko/opt/anaconda3/envs/PythonData/lib/python3.6/site-packages (from matplotlib->missingno) (2.8.1)\n",
      "Requirement already satisfied: cycler>=0.10 in /Users/dianamadonko/opt/anaconda3/envs/PythonData/lib/python3.6/site-packages (from matplotlib->missingno) (0.10.0)\n",
      "Requirement already satisfied: pyparsing!=2.0.4,!=2.1.2,!=2.1.6,>=2.0.1 in /Users/dianamadonko/opt/anaconda3/envs/PythonData/lib/python3.6/site-packages (from matplotlib->missingno) (2.4.7)\n",
      "Requirement already satisfied: pytz>=2017.2 in /Users/dianamadonko/opt/anaconda3/envs/PythonData/lib/python3.6/site-packages (from pandas>=0.22.0->seaborn->missingno) (2020.1)\n",
      "Requirement already satisfied: six>=1.5 in /Users/dianamadonko/opt/anaconda3/envs/PythonData/lib/python3.6/site-packages (from python-dateutil>=2.1->matplotlib->missingno) (1.15.0)\n",
=======
      "Requirement already satisfied: missingno in c:\\users\\heung\\anaconda3\\envs\\pythondata\\lib\\site-packages (0.4.2)\n",
      "Requirement already satisfied: matplotlib in c:\\users\\heung\\anaconda3\\envs\\pythondata\\lib\\site-packages (from missingno) (3.2.2)\n",
      "Requirement already satisfied: numpy in c:\\users\\heung\\anaconda3\\envs\\pythondata\\lib\\site-packages (from missingno) (1.17.0)\n",
      "Requirement already satisfied: seaborn in c:\\users\\heung\\anaconda3\\envs\\pythondata\\lib\\site-packages (from missingno) (0.10.1)\n",
      "Requirement already satisfied: scipy in c:\\users\\heung\\anaconda3\\envs\\pythondata\\lib\\site-packages (from missingno) (1.5.0)\n",
      "Requirement already satisfied: pyparsing!=2.0.4,!=2.1.2,!=2.1.6,>=2.0.1 in c:\\users\\heung\\anaconda3\\envs\\pythondata\\lib\\site-packages (from matplotlib->missingno) (2.4.7)\n",
      "Requirement already satisfied: kiwisolver>=1.0.1 in c:\\users\\heung\\anaconda3\\envs\\pythondata\\lib\\site-packages (from matplotlib->missingno) (1.2.0)\n",
      "Requirement already satisfied: python-dateutil>=2.1 in c:\\users\\heung\\anaconda3\\envs\\pythondata\\lib\\site-packages (from matplotlib->missingno) (2.8.1)\n",
      "Requirement already satisfied: cycler>=0.10 in c:\\users\\heung\\anaconda3\\envs\\pythondata\\lib\\site-packages (from matplotlib->missingno) (0.10.0)\n",
      "Requirement already satisfied: pandas>=0.22.0 in c:\\users\\heung\\anaconda3\\envs\\pythondata\\lib\\site-packages (from seaborn->missingno) (1.0.5)\n",
      "Requirement already satisfied: six>=1.5 in c:\\users\\heung\\anaconda3\\envs\\pythondata\\lib\\site-packages (from python-dateutil>=2.1->matplotlib->missingno) (1.15.0)\n",
      "Requirement already satisfied: pytz>=2017.2 in c:\\users\\heung\\anaconda3\\envs\\pythondata\\lib\\site-packages (from pandas>=0.22.0->seaborn->missingno) (2020.1)\n",
>>>>>>> c6748ff9a0e8e121c95c64bfdcb4b48de5a411b2
      "Note: you may need to restart the kernel to use updated packages.\n"
     ]
    }
   ],
   "source": [
    "pip install missingno"
   ]
  },
  {
   "cell_type": "code",
   "execution_count": 2,
   "metadata": {},
   "outputs": [],
   "source": [
    "import os\n",
    "import csv\n",
    "import pandas as pd\n",
    "import missingno as msno\n",
    "import matplotlib.pyplot as plt\n",
    "import numpy as np\n",
    "import requests\n",
    "from scipy.stats import linregress\n",
    "import scipy.stats as st\n",
    "from scipy import stats\n",
    "\n",
    "csvpath = os.path.join('owid-covid-data.csv')"
   ]
  },
  {
   "cell_type": "code",
   "execution_count": 3,
   "metadata": {},
   "outputs": [
    {
     "data": {
      "text/html": [
       "<div>\n",
       "<style scoped>\n",
       "    .dataframe tbody tr th:only-of-type {\n",
       "        vertical-align: middle;\n",
       "    }\n",
       "\n",
       "    .dataframe tbody tr th {\n",
       "        vertical-align: top;\n",
       "    }\n",
       "\n",
       "    .dataframe thead th {\n",
       "        text-align: right;\n",
       "    }\n",
       "</style>\n",
       "<table border=\"1\" class=\"dataframe\">\n",
       "  <thead>\n",
       "    <tr style=\"text-align: right;\">\n",
       "      <th></th>\n",
       "      <th>iso_code</th>\n",
       "      <th>continent</th>\n",
       "      <th>location</th>\n",
       "      <th>month</th>\n",
       "      <th>date</th>\n",
       "      <th>total_cases</th>\n",
       "      <th>new_cases</th>\n",
       "      <th>new_cases_smoothed</th>\n",
       "      <th>total_deaths</th>\n",
       "      <th>new_deaths</th>\n",
       "      <th>...</th>\n",
       "      <th>gdp_per_capita</th>\n",
       "      <th>extreme_poverty</th>\n",
       "      <th>cardiovasc_death_rate</th>\n",
       "      <th>diabetes_prevalence</th>\n",
       "      <th>female_smokers</th>\n",
       "      <th>male_smokers</th>\n",
       "      <th>handwashing_facilities</th>\n",
       "      <th>hospital_beds_per_thousand</th>\n",
       "      <th>life_expectancy</th>\n",
       "      <th>human_development_index</th>\n",
       "    </tr>\n",
       "  </thead>\n",
       "  <tbody>\n",
       "    <tr>\n",
       "      <th>0</th>\n",
       "      <td>AFG</td>\n",
       "      <td>Asia</td>\n",
       "      <td>Afghanistan</td>\n",
       "      <td>02-2020</td>\n",
       "      <td>24/02/2020</td>\n",
       "      <td>1</td>\n",
       "      <td>1</td>\n",
       "      <td>NaN</td>\n",
       "      <td>NaN</td>\n",
       "      <td>NaN</td>\n",
       "      <td>...</td>\n",
       "      <td>1803.987</td>\n",
       "      <td>NaN</td>\n",
       "      <td>597.029</td>\n",
       "      <td>9.59</td>\n",
       "      <td>NaN</td>\n",
       "      <td>NaN</td>\n",
       "      <td>37.746</td>\n",
       "      <td>0.5</td>\n",
       "      <td>64.83</td>\n",
       "      <td>0.498</td>\n",
       "    </tr>\n",
       "    <tr>\n",
       "      <th>1</th>\n",
       "      <td>AFG</td>\n",
       "      <td>Asia</td>\n",
       "      <td>Afghanistan</td>\n",
       "      <td>02-2020</td>\n",
       "      <td>25/02/2020</td>\n",
       "      <td>1</td>\n",
       "      <td>0</td>\n",
       "      <td>NaN</td>\n",
       "      <td>NaN</td>\n",
       "      <td>NaN</td>\n",
       "      <td>...</td>\n",
       "      <td>1803.987</td>\n",
       "      <td>NaN</td>\n",
       "      <td>597.029</td>\n",
       "      <td>9.59</td>\n",
       "      <td>NaN</td>\n",
       "      <td>NaN</td>\n",
       "      <td>37.746</td>\n",
       "      <td>0.5</td>\n",
       "      <td>64.83</td>\n",
       "      <td>0.498</td>\n",
       "    </tr>\n",
       "    <tr>\n",
       "      <th>2</th>\n",
       "      <td>AFG</td>\n",
       "      <td>Asia</td>\n",
       "      <td>Afghanistan</td>\n",
       "      <td>02-2020</td>\n",
       "      <td>26/02/2020</td>\n",
       "      <td>1</td>\n",
       "      <td>0</td>\n",
       "      <td>NaN</td>\n",
       "      <td>NaN</td>\n",
       "      <td>NaN</td>\n",
       "      <td>...</td>\n",
       "      <td>1803.987</td>\n",
       "      <td>NaN</td>\n",
       "      <td>597.029</td>\n",
       "      <td>9.59</td>\n",
       "      <td>NaN</td>\n",
       "      <td>NaN</td>\n",
       "      <td>37.746</td>\n",
       "      <td>0.5</td>\n",
       "      <td>64.83</td>\n",
       "      <td>0.498</td>\n",
       "    </tr>\n",
       "    <tr>\n",
       "      <th>3</th>\n",
       "      <td>AFG</td>\n",
       "      <td>Asia</td>\n",
       "      <td>Afghanistan</td>\n",
       "      <td>02-2020</td>\n",
       "      <td>27/02/2020</td>\n",
       "      <td>1</td>\n",
       "      <td>0</td>\n",
       "      <td>NaN</td>\n",
       "      <td>NaN</td>\n",
       "      <td>NaN</td>\n",
       "      <td>...</td>\n",
       "      <td>1803.987</td>\n",
       "      <td>NaN</td>\n",
       "      <td>597.029</td>\n",
       "      <td>9.59</td>\n",
       "      <td>NaN</td>\n",
       "      <td>NaN</td>\n",
       "      <td>37.746</td>\n",
       "      <td>0.5</td>\n",
       "      <td>64.83</td>\n",
       "      <td>0.498</td>\n",
       "    </tr>\n",
       "    <tr>\n",
       "      <th>4</th>\n",
       "      <td>AFG</td>\n",
       "      <td>Asia</td>\n",
       "      <td>Afghanistan</td>\n",
       "      <td>02-2020</td>\n",
       "      <td>28/02/2020</td>\n",
       "      <td>1</td>\n",
       "      <td>0</td>\n",
       "      <td>NaN</td>\n",
       "      <td>NaN</td>\n",
       "      <td>NaN</td>\n",
       "      <td>...</td>\n",
       "      <td>1803.987</td>\n",
       "      <td>NaN</td>\n",
       "      <td>597.029</td>\n",
       "      <td>9.59</td>\n",
       "      <td>NaN</td>\n",
       "      <td>NaN</td>\n",
       "      <td>37.746</td>\n",
       "      <td>0.5</td>\n",
       "      <td>64.83</td>\n",
       "      <td>0.498</td>\n",
       "    </tr>\n",
       "  </tbody>\n",
       "</table>\n",
       "<p>5 rows × 55 columns</p>\n",
       "</div>"
      ],
      "text/plain": [
       "  iso_code continent     location    month        date total_cases new_cases  \\\n",
       "0      AFG      Asia  Afghanistan  02-2020  24/02/2020           1         1   \n",
       "1      AFG      Asia  Afghanistan  02-2020  25/02/2020           1         0   \n",
       "2      AFG      Asia  Afghanistan  02-2020  26/02/2020           1         0   \n",
       "3      AFG      Asia  Afghanistan  02-2020  27/02/2020           1         0   \n",
       "4      AFG      Asia  Afghanistan  02-2020  28/02/2020           1         0   \n",
       "\n",
       "  new_cases_smoothed total_deaths new_deaths  ... gdp_per_capita  \\\n",
       "0                NaN          NaN        NaN  ...       1803.987   \n",
       "1                NaN          NaN        NaN  ...       1803.987   \n",
       "2                NaN          NaN        NaN  ...       1803.987   \n",
       "3                NaN          NaN        NaN  ...       1803.987   \n",
       "4                NaN          NaN        NaN  ...       1803.987   \n",
       "\n",
       "  extreme_poverty cardiovasc_death_rate diabetes_prevalence female_smokers  \\\n",
       "0             NaN               597.029                9.59            NaN   \n",
       "1             NaN               597.029                9.59            NaN   \n",
       "2             NaN               597.029                9.59            NaN   \n",
       "3             NaN               597.029                9.59            NaN   \n",
       "4             NaN               597.029                9.59            NaN   \n",
       "\n",
       "  male_smokers handwashing_facilities hospital_beds_per_thousand  \\\n",
       "0          NaN                 37.746                        0.5   \n",
       "1          NaN                 37.746                        0.5   \n",
       "2          NaN                 37.746                        0.5   \n",
       "3          NaN                 37.746                        0.5   \n",
       "4          NaN                 37.746                        0.5   \n",
       "\n",
       "  life_expectancy human_development_index  \n",
       "0           64.83                   0.498  \n",
       "1           64.83                   0.498  \n",
       "2           64.83                   0.498  \n",
       "3           64.83                   0.498  \n",
       "4           64.83                   0.498  \n",
       "\n",
       "[5 rows x 55 columns]"
      ]
     },
     "execution_count": 3,
     "metadata": {},
     "output_type": "execute_result"
    }
   ],
   "source": [
    "covid = pd.read_csv(\"owid-covid-data.csv\", dtype=\"object\", encoding=\"utf-8\")\n",
    "covid.head()"
   ]
  },
  {
   "cell_type": "code",
   "execution_count": 4,
   "metadata": {},
   "outputs": [
    {
     "data": {
      "text/plain": [
<<<<<<< HEAD
       "<matplotlib.axes._subplots.AxesSubplot at 0x7feea8cc56a0>"
=======
       "<matplotlib.axes._subplots.AxesSubplot at 0x195a5cf0b00>"
>>>>>>> c6748ff9a0e8e121c95c64bfdcb4b48de5a411b2
      ]
     },
     "execution_count": 4,
     "metadata": {},
     "output_type": "execute_result"
    },
    {
     "data": {
      "image/png": "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\n",
      "text/plain": [
       "<Figure size 1800x720 with 2 Axes>"
      ]
     },
     "metadata": {
      "needs_background": "light"
     },
     "output_type": "display_data"
    }
   ],
   "source": [
    "msno.matrix(covid)"
   ]
  },
  {
   "cell_type": "code",
   "execution_count": 5,
   "metadata": {},
   "outputs": [
    {
     "data": {
      "text/plain": [
       "<bound method NDFrame.describe of       iso_code continent     location    month        date total_cases  \\\n",
       "0          AFG      Asia  Afghanistan  02-2020  24/02/2020           1   \n",
       "1          AFG      Asia  Afghanistan  02-2020  25/02/2020           1   \n",
       "2          AFG      Asia  Afghanistan  02-2020  26/02/2020           1   \n",
       "3          AFG      Asia  Afghanistan  02-2020  27/02/2020           1   \n",
       "4          AFG      Asia  Afghanistan  02-2020  28/02/2020           1   \n",
       "...        ...       ...          ...      ...         ...         ...   \n",
       "59314      ZWE    Africa     Zimbabwe  01-2021   6/01/2021       17804   \n",
       "59315      ZWE    Africa     Zimbabwe  01-2021   7/01/2021       18675   \n",
       "59316      ZWE    Africa     Zimbabwe  01-2021   8/01/2021       19660   \n",
       "59317      ZWE    Africa     Zimbabwe  01-2021   9/01/2021       20499   \n",
       "59318      ZWE    Africa     Zimbabwe  01-2021  10/01/2021       21477   \n",
       "\n",
       "      new_cases new_cases_smoothed total_deaths new_deaths  ...  \\\n",
       "0             1                NaN          NaN        NaN  ...   \n",
       "1             0                NaN          NaN        NaN  ...   \n",
       "2             0                NaN          NaN        NaN  ...   \n",
       "3             0                NaN          NaN        NaN  ...   \n",
       "4             0                NaN          NaN        NaN  ...   \n",
       "...         ...                ...          ...        ...  ...   \n",
       "59314       610                597          431         13  ...   \n",
       "59315       871            686.857          446         15  ...   \n",
       "59316       985            796.571          468         22  ...   \n",
       "59317       839            858.286          483         15  ...   \n",
       "59318       978            887.429          507         24  ...   \n",
       "\n",
       "      gdp_per_capita extreme_poverty cardiovasc_death_rate  \\\n",
       "0           1803.987             NaN               597.029   \n",
       "1           1803.987             NaN               597.029   \n",
       "2           1803.987             NaN               597.029   \n",
       "3           1803.987             NaN               597.029   \n",
       "4           1803.987             NaN               597.029   \n",
       "...              ...             ...                   ...   \n",
       "59314       1899.775            21.4               307.846   \n",
       "59315       1899.775            21.4               307.846   \n",
       "59316       1899.775            21.4               307.846   \n",
       "59317       1899.775            21.4               307.846   \n",
       "59318       1899.775            21.4               307.846   \n",
       "\n",
       "      diabetes_prevalence female_smokers male_smokers handwashing_facilities  \\\n",
       "0                    9.59            NaN          NaN                 37.746   \n",
       "1                    9.59            NaN          NaN                 37.746   \n",
       "2                    9.59            NaN          NaN                 37.746   \n",
       "3                    9.59            NaN          NaN                 37.746   \n",
       "4                    9.59            NaN          NaN                 37.746   \n",
       "...                   ...            ...          ...                    ...   \n",
       "59314                1.82            1.6         30.7                 36.791   \n",
       "59315                1.82            1.6         30.7                 36.791   \n",
       "59316                1.82            1.6         30.7                 36.791   \n",
       "59317                1.82            1.6         30.7                 36.791   \n",
       "59318                1.82            1.6         30.7                 36.791   \n",
       "\n",
       "      hospital_beds_per_thousand life_expectancy human_development_index  \n",
       "0                            0.5           64.83                   0.498  \n",
       "1                            0.5           64.83                   0.498  \n",
       "2                            0.5           64.83                   0.498  \n",
       "3                            0.5           64.83                   0.498  \n",
       "4                            0.5           64.83                   0.498  \n",
       "...                          ...             ...                     ...  \n",
       "59314                        1.7           61.49                   0.535  \n",
       "59315                        1.7           61.49                   0.535  \n",
       "59316                        1.7           61.49                   0.535  \n",
       "59317                        1.7           61.49                   0.535  \n",
       "59318                        1.7           61.49                   0.535  \n",
       "\n",
       "[59319 rows x 55 columns]>"
      ]
     },
     "execution_count": 5,
     "metadata": {},
     "output_type": "execute_result"
    }
   ],
   "source": [
    "covid.describe"
   ]
  },
  {
   "cell_type": "code",
   "execution_count": 6,
   "metadata": {},
   "outputs": [
    {
     "data": {
      "text/plain": [
       "iso_code                              58980\n",
       "continent                             58624\n",
       "location                              59319\n",
       "month                                 59319\n",
       "date                                  59319\n",
       "total_cases                           58772\n",
       "new_cases                             58765\n",
       "new_cases_smoothed                    57810\n",
       "total_deaths                          50365\n",
       "new_deaths                            50364\n",
       "new_deaths_smoothed                   57810\n",
       "total_cases_per_million               58433\n",
       "new_cases_per_million                 58426\n",
       "new_cases_smoothed_per_million        57476\n",
       "total_deaths_per_million              50039\n",
       "new_deaths_per_million                50038\n",
       "new_deaths_smoothed_per_million       57476\n",
       "reproduction_rate                     44995\n",
       "icu_patients                           6129\n",
       "icu_patients_per_million               6129\n",
       "hosp_patients                          6867\n",
       "hosp_patients_per_million              6867\n",
       "weekly_icu_admissions                   560\n",
       "weekly_icu_admissions_per_million       560\n",
       "weekly_hosp_admissions                  894\n",
       "weekly_hosp_admissions_per_million      894\n",
       "new_tests                             27365\n",
       "total_tests                           27192\n",
       "total_tests_per_thousand              27192\n",
       "new_tests_per_thousand                27365\n",
       "new_tests_smoothed                    30762\n",
       "new_tests_smoothed_per_thousand       30762\n",
       "positive_rate                         29032\n",
       "tests_per_case                        28566\n",
       "tests_units                           31889\n",
       "total_vaccinations                      364\n",
       "new_vaccinations                        443\n",
       "total_vaccinations_per_hundred          364\n",
       "new_vaccinations_per_million            443\n",
       "stringency_index                      52691\n",
       "population                            58980\n",
       "population_density                    57732\n",
       "median_age                            56440\n",
       "aged_65_older                         55784\n",
       "aged_70_older                         56120\n",
       "gdp_per_capita                        56462\n",
       "extreme_poverty                       38678\n",
       "cardiovasc_death_rate                 57054\n",
       "diabetes_prevalence                   57710\n",
       "female_smokers                        45051\n",
       "male_smokers                          44434\n",
       "handwashing_facilities                28558\n",
       "hospital_beds_per_thousand            52429\n",
       "life_expectancy                       58677\n",
       "human_development_index               56712\n",
       "dtype: int64"
      ]
     },
     "execution_count": 6,
     "metadata": {},
     "output_type": "execute_result"
    }
   ],
   "source": [
    "covid.count()"
   ]
  },
  {
   "cell_type": "code",
   "execution_count": 7,
   "metadata": {},
   "outputs": [],
   "source": [
    "#organized_df = covid[[\"continent\", \"location\", \"date\", \"total_cases\",\"total_deaths\",\"gdp_per_capita\", \"hospital_beds_per_thousand\", \"new_cases\", \"median_age\", \"population\", \"aged_65_older\", \"aged_70_older\",\"total_tests\" ]]\n",
    "#organized_df = covid[[\"continent\", \"location\", \"date\", \"new_cases\", \"new_deaths\", \"gdp_per_capita\", \"hospital_beds_per_thousand\", \"median_age\"]]\n",
    "#organized_df = covid[[\"continent\", \"location\", \"date\", \"new_deaths\", \"hospital_beds_per_thousand\"]]"
   ]
  },
  {
   "cell_type": "code",
   "execution_count": 8,
   "metadata": {},
   "outputs": [],
   "source": [
    "organized_df = covid[[\"continent\", \"location\", \"new_deaths\", \"hospital_beds_per_thousand\", \"gdp_per_capita\"]]"
   ]
  },
  {
   "cell_type": "code",
   "execution_count": 9,
   "metadata": {},
   "outputs": [
    {
     "data": {
      "text/html": [
       "<div>\n",
       "<style scoped>\n",
       "    .dataframe tbody tr th:only-of-type {\n",
       "        vertical-align: middle;\n",
       "    }\n",
       "\n",
       "    .dataframe tbody tr th {\n",
       "        vertical-align: top;\n",
       "    }\n",
       "\n",
       "    .dataframe thead th {\n",
       "        text-align: right;\n",
       "    }\n",
       "</style>\n",
       "<table border=\"1\" class=\"dataframe\">\n",
       "  <thead>\n",
       "    <tr style=\"text-align: right;\">\n",
       "      <th></th>\n",
       "      <th>continent</th>\n",
       "      <th>location</th>\n",
       "      <th>new_deaths</th>\n",
       "      <th>hospital_beds_per_thousand</th>\n",
       "      <th>gdp_per_capita</th>\n",
       "    </tr>\n",
       "  </thead>\n",
       "  <tbody>\n",
       "    <tr>\n",
       "      <th>0</th>\n",
       "      <td>Asia</td>\n",
       "      <td>Afghanistan</td>\n",
       "      <td>NaN</td>\n",
       "      <td>0.5</td>\n",
       "      <td>1803.987</td>\n",
       "    </tr>\n",
       "    <tr>\n",
       "      <th>1</th>\n",
       "      <td>Asia</td>\n",
       "      <td>Afghanistan</td>\n",
       "      <td>NaN</td>\n",
       "      <td>0.5</td>\n",
       "      <td>1803.987</td>\n",
       "    </tr>\n",
       "    <tr>\n",
       "      <th>2</th>\n",
       "      <td>Asia</td>\n",
       "      <td>Afghanistan</td>\n",
       "      <td>NaN</td>\n",
       "      <td>0.5</td>\n",
       "      <td>1803.987</td>\n",
       "    </tr>\n",
       "    <tr>\n",
       "      <th>3</th>\n",
       "      <td>Asia</td>\n",
       "      <td>Afghanistan</td>\n",
       "      <td>NaN</td>\n",
       "      <td>0.5</td>\n",
       "      <td>1803.987</td>\n",
       "    </tr>\n",
       "    <tr>\n",
       "      <th>4</th>\n",
       "      <td>Asia</td>\n",
       "      <td>Afghanistan</td>\n",
       "      <td>NaN</td>\n",
       "      <td>0.5</td>\n",
       "      <td>1803.987</td>\n",
       "    </tr>\n",
       "  </tbody>\n",
       "</table>\n",
       "</div>"
      ],
      "text/plain": [
       "  continent     location new_deaths hospital_beds_per_thousand gdp_per_capita\n",
       "0      Asia  Afghanistan        NaN                        0.5       1803.987\n",
       "1      Asia  Afghanistan        NaN                        0.5       1803.987\n",
       "2      Asia  Afghanistan        NaN                        0.5       1803.987\n",
       "3      Asia  Afghanistan        NaN                        0.5       1803.987\n",
       "4      Asia  Afghanistan        NaN                        0.5       1803.987"
      ]
     },
     "execution_count": 9,
     "metadata": {},
     "output_type": "execute_result"
    }
   ],
   "source": [
    "organized_df.head()"
   ]
  },
  {
   "cell_type": "code",
   "execution_count": 10,
   "metadata": {},
   "outputs": [
    {
     "data": {
      "text/plain": [
       "continent                     58624\n",
       "location                      59319\n",
       "new_deaths                    50364\n",
       "hospital_beds_per_thousand    52429\n",
       "gdp_per_capita                56462\n",
       "dtype: int64"
      ]
     },
     "execution_count": 10,
     "metadata": {},
     "output_type": "execute_result"
    }
   ],
   "source": [
    "organized_df.count()"
   ]
  },
  {
   "cell_type": "code",
   "execution_count": 11,
   "metadata": {},
   "outputs": [],
   "source": [
    "organized_df = organized_df.dropna(how='any')"
   ]
  },
  {
   "cell_type": "code",
   "execution_count": 12,
   "metadata": {},
   "outputs": [
    {
     "data": {
      "text/plain": [
       "continent                     42974\n",
       "location                      42974\n",
       "new_deaths                    42974\n",
       "hospital_beds_per_thousand    42974\n",
       "gdp_per_capita                42974\n",
       "dtype: int64"
      ]
     },
     "execution_count": 12,
     "metadata": {},
     "output_type": "execute_result"
    }
   ],
   "source": [
    "organized_df.count()"
   ]
  },
  {
   "cell_type": "code",
   "execution_count": 13,
   "metadata": {},
   "outputs": [
    {
     "data": {
      "text/html": [
       "<div>\n",
       "<style scoped>\n",
       "    .dataframe tbody tr th:only-of-type {\n",
       "        vertical-align: middle;\n",
       "    }\n",
       "\n",
       "    .dataframe tbody tr th {\n",
       "        vertical-align: top;\n",
       "    }\n",
       "\n",
       "    .dataframe thead th {\n",
       "        text-align: right;\n",
       "    }\n",
       "</style>\n",
       "<table border=\"1\" class=\"dataframe\">\n",
       "  <thead>\n",
       "    <tr style=\"text-align: right;\">\n",
       "      <th></th>\n",
       "      <th>continent</th>\n",
       "      <th>location</th>\n",
       "      <th>new_deaths</th>\n",
       "      <th>hospital_beds_per_thousand</th>\n",
       "      <th>gdp_per_capita</th>\n",
       "    </tr>\n",
       "  </thead>\n",
       "  <tbody>\n",
       "    <tr>\n",
       "      <th>27</th>\n",
       "      <td>Asia</td>\n",
       "      <td>Afghanistan</td>\n",
       "      <td>1</td>\n",
       "      <td>0.5</td>\n",
       "      <td>1803.987</td>\n",
       "    </tr>\n",
       "    <tr>\n",
       "      <th>28</th>\n",
       "      <td>Asia</td>\n",
       "      <td>Afghanistan</td>\n",
       "      <td>0</td>\n",
       "      <td>0.5</td>\n",
       "      <td>1803.987</td>\n",
       "    </tr>\n",
       "    <tr>\n",
       "      <th>29</th>\n",
       "      <td>Asia</td>\n",
       "      <td>Afghanistan</td>\n",
       "      <td>0</td>\n",
       "      <td>0.5</td>\n",
       "      <td>1803.987</td>\n",
       "    </tr>\n",
       "    <tr>\n",
       "      <th>30</th>\n",
       "      <td>Asia</td>\n",
       "      <td>Afghanistan</td>\n",
       "      <td>1</td>\n",
       "      <td>0.5</td>\n",
       "      <td>1803.987</td>\n",
       "    </tr>\n",
       "    <tr>\n",
       "      <th>31</th>\n",
       "      <td>Asia</td>\n",
       "      <td>Afghanistan</td>\n",
       "      <td>1</td>\n",
       "      <td>0.5</td>\n",
       "      <td>1803.987</td>\n",
       "    </tr>\n",
       "    <tr>\n",
       "      <th>...</th>\n",
       "      <td>...</td>\n",
       "      <td>...</td>\n",
       "      <td>...</td>\n",
       "      <td>...</td>\n",
       "      <td>...</td>\n",
       "    </tr>\n",
       "    <tr>\n",
       "      <th>59314</th>\n",
       "      <td>Africa</td>\n",
       "      <td>Zimbabwe</td>\n",
       "      <td>13</td>\n",
       "      <td>1.7</td>\n",
       "      <td>1899.775</td>\n",
       "    </tr>\n",
       "    <tr>\n",
       "      <th>59315</th>\n",
       "      <td>Africa</td>\n",
       "      <td>Zimbabwe</td>\n",
       "      <td>15</td>\n",
       "      <td>1.7</td>\n",
       "      <td>1899.775</td>\n",
       "    </tr>\n",
       "    <tr>\n",
       "      <th>59316</th>\n",
       "      <td>Africa</td>\n",
       "      <td>Zimbabwe</td>\n",
       "      <td>22</td>\n",
       "      <td>1.7</td>\n",
       "      <td>1899.775</td>\n",
       "    </tr>\n",
       "    <tr>\n",
       "      <th>59317</th>\n",
       "      <td>Africa</td>\n",
       "      <td>Zimbabwe</td>\n",
       "      <td>15</td>\n",
       "      <td>1.7</td>\n",
       "      <td>1899.775</td>\n",
       "    </tr>\n",
       "    <tr>\n",
       "      <th>59318</th>\n",
       "      <td>Africa</td>\n",
       "      <td>Zimbabwe</td>\n",
       "      <td>24</td>\n",
       "      <td>1.7</td>\n",
       "      <td>1899.775</td>\n",
       "    </tr>\n",
       "  </tbody>\n",
       "</table>\n",
       "<p>42974 rows × 5 columns</p>\n",
       "</div>"
      ],
      "text/plain": [
<<<<<<< HEAD
       "      continent     location new_deaths hospital_beds_per_thousand\n",
       "27         Asia  Afghanistan          1                        0.5\n",
       "28         Asia  Afghanistan          0                        0.5\n",
       "29         Asia  Afghanistan          0                        0.5\n",
       "30         Asia  Afghanistan          1                        0.5\n",
       "31         Asia  Afghanistan          1                        0.5\n",
       "...         ...          ...        ...                        ...\n",
       "59314    Africa     Zimbabwe         13                        1.7\n",
       "59315    Africa     Zimbabwe         15                        1.7\n",
       "59316    Africa     Zimbabwe         22                        1.7\n",
       "59317    Africa     Zimbabwe         15                        1.7\n",
       "59318    Africa     Zimbabwe         24                        1.7\n",
=======
       "      continent     location new_deaths hospital_beds_per_thousand  \\\n",
       "27         Asia  Afghanistan          1                        0.5   \n",
       "28         Asia  Afghanistan          0                        0.5   \n",
       "29         Asia  Afghanistan          0                        0.5   \n",
       "30         Asia  Afghanistan          1                        0.5   \n",
       "31         Asia  Afghanistan          1                        0.5   \n",
       "...         ...          ...        ...                        ...   \n",
       "59314    Africa     Zimbabwe         13                        1.7   \n",
       "59315    Africa     Zimbabwe         15                        1.7   \n",
       "59316    Africa     Zimbabwe         22                        1.7   \n",
       "59317    Africa     Zimbabwe         15                        1.7   \n",
       "59318    Africa     Zimbabwe         24                        1.7   \n",
>>>>>>> c6748ff9a0e8e121c95c64bfdcb4b48de5a411b2
       "\n",
       "      gdp_per_capita  \n",
       "27          1803.987  \n",
       "28          1803.987  \n",
       "29          1803.987  \n",
       "30          1803.987  \n",
       "31          1803.987  \n",
       "...              ...  \n",
       "59314       1899.775  \n",
       "59315       1899.775  \n",
       "59316       1899.775  \n",
       "59317       1899.775  \n",
       "59318       1899.775  \n",
       "\n",
       "[42974 rows x 5 columns]"
      ]
     },
     "execution_count": 13,
     "metadata": {},
     "output_type": "execute_result"
    }
   ],
   "source": [
    "organized_df"
   ]
  },
  {
   "cell_type": "code",
   "execution_count": 14,
   "metadata": {},
   "outputs": [
    {
     "name": "stdout",
     "output_type": "stream",
     "text": [
      "continent                     object\n",
      "location                      object\n",
      "new_deaths                    object\n",
      "hospital_beds_per_thousand    object\n",
      "gdp_per_capita                object\n",
      "dtype: object\n"
     ]
    }
   ],
   "source": [
    "#check the data type\n",
    "print(organized_df.dtypes)"
   ]
  },
  {
   "cell_type": "code",
   "execution_count": 15,
   "metadata": {},
   "outputs": [],
   "source": [
    "# Use pd.to_numeric() method to convert the datatype of the new_deaths & hospital_beds_per_thousand column\n",
    "organized_df['new_deaths'] = pd.to_numeric(organized_df['new_deaths'])\n",
    "organized_df['hospital_beds_per_thousand'] = pd.to_numeric(organized_df['hospital_beds_per_thousand'])\n",
    "organized_df['gdp_per_capita'] = pd.to_numeric(organized_df['gdp_per_capita'])"
   ]
  },
  {
   "cell_type": "code",
   "execution_count": 16,
   "metadata": {},
   "outputs": [
    {
     "name": "stdout",
     "output_type": "stream",
     "text": [
      "continent                      object\n",
      "location                       object\n",
      "new_deaths                      int64\n",
      "hospital_beds_per_thousand    float64\n",
      "gdp_per_capita                float64\n",
      "dtype: object\n"
     ]
    }
   ],
   "source": [
    "#check the data type again\n",
    "print(organized_df.dtypes)"
   ]
  },
  {
   "cell_type": "markdown",
   "metadata": {},
   "source": [
    "# Total deaths VS Hospital beds per thousand"
   ]
  },
  {
   "cell_type": "code",
   "execution_count": 17,
   "metadata": {},
   "outputs": [
    {
     "data": {
      "text/plain": [
<<<<<<< HEAD
       "1927389"
=======
       "1926281"
>>>>>>> c6748ff9a0e8e121c95c64bfdcb4b48de5a411b2
      ]
     },
     "execution_count": 17,
     "metadata": {},
     "output_type": "execute_result"
    }
   ],
   "source": [
    "# The sum method adds every entry in the series\n",
    "total1 = organized_df[\"new_deaths\"].sum()\n",
    "total1"
   ]
  },
  {
   "cell_type": "code",
   "execution_count": 18,
   "metadata": {},
   "outputs": [
    {
     "data": {
      "text/plain": [
       "44.824335644808485"
      ]
     },
     "execution_count": 18,
     "metadata": {},
     "output_type": "execute_result"
    }
   ],
   "source": [
    "# The mean method averages the series\n",
    "average1 = organized_df[\"new_deaths\"].mean()\n",
    "average1"
   ]
  },
  {
   "cell_type": "code",
   "execution_count": 19,
   "metadata": {},
   "outputs": [
    {
     "data": {
      "text/plain": [
       "129489.57099999998"
      ]
     },
     "execution_count": 19,
     "metadata": {},
     "output_type": "execute_result"
    }
   ],
   "source": [
    "# The sum method adds every entry in the series\n",
    "total2 = organized_df[\"hospital_beds_per_thousand\"].sum()\n",
    "total2"
   ]
  },
  {
   "cell_type": "code",
   "execution_count": 20,
   "metadata": {},
   "outputs": [
    {
     "data": {
      "text/plain": [
       "3.0132073113979563"
      ]
     },
     "execution_count": 20,
     "metadata": {},
     "output_type": "execute_result"
    }
   ],
   "source": [
    "# The mean method averages the series\n",
    "average2 = organized_df[\"hospital_beds_per_thousand\"].mean()\n",
    "average2"
   ]
  },
  {
   "cell_type": "code",
   "execution_count": 21,
   "metadata": {},
   "outputs": [
    {
     "data": {
      "text/plain": [
       "array(['Afghanistan', 'Albania', 'Algeria', 'Antigua and Barbuda',\n",
       "       'Argentina', 'Armenia', 'Australia', 'Austria', 'Azerbaijan',\n",
       "       'Bahamas', 'Bahrain', 'Bangladesh', 'Barbados', 'Belarus',\n",
       "       'Belgium', 'Belize', 'Benin', 'Bolivia', 'Bosnia and Herzegovina',\n",
       "       'Botswana', 'Brazil', 'Brunei', 'Bulgaria', 'Burkina Faso',\n",
       "       'Burundi', 'Cameroon', 'Canada', 'Cape Verde',\n",
       "       'Central African Republic', 'Chile', 'China', 'Colombia',\n",
       "       'Comoros', 'Costa Rica', 'Croatia', 'Cyprus', 'Czechia', 'Denmark',\n",
       "       'Djibouti', 'Dominican Republic', 'Ecuador', 'Egypt',\n",
       "       'El Salvador', 'Equatorial Guinea', 'Eritrea', 'Estonia',\n",
       "       'Eswatini', 'Ethiopia', 'Fiji', 'Finland', 'France', 'Gabon',\n",
       "       'Gambia', 'Georgia', 'Germany', 'Ghana', 'Greece', 'Guatemala',\n",
       "       'Guinea', 'Guyana', 'Haiti', 'Honduras', 'Hungary', 'Iceland',\n",
       "       'India', 'Indonesia', 'Iran', 'Iraq', 'Ireland', 'Israel', 'Italy',\n",
       "       'Jamaica', 'Japan', 'Jordan', 'Kazakhstan', 'Kenya', 'Kuwait',\n",
       "       'Kyrgyzstan', 'Latvia', 'Lebanon', 'Liberia', 'Libya', 'Lithuania',\n",
       "       'Luxembourg', 'Madagascar', 'Malawi', 'Malaysia', 'Mali', 'Malta',\n",
       "       'Mauritius', 'Mexico', 'Moldova', 'Mongolia', 'Montenegro',\n",
       "       'Morocco', 'Mozambique', 'Myanmar', 'Nepal', 'Netherlands',\n",
       "       'New Zealand', 'Nicaragua', 'Niger', 'North Macedonia', 'Norway',\n",
       "       'Oman', 'Pakistan', 'Panama', 'Paraguay', 'Peru', 'Philippines',\n",
       "       'Poland', 'Portugal', 'Qatar', 'Romania', 'Russia', 'Saint Lucia',\n",
       "       'San Marino', 'Sao Tome and Principe', 'Saudi Arabia', 'Serbia',\n",
       "       'Singapore', 'Slovakia', 'Slovenia', 'South Africa', 'South Korea',\n",
       "       'Spain', 'Sri Lanka', 'Sudan', 'Suriname', 'Sweden', 'Switzerland',\n",
       "       'Tajikistan', 'Tanzania', 'Thailand', 'Togo',\n",
       "       'Trinidad and Tobago', 'Tunisia', 'Turkey', 'Uganda', 'Ukraine',\n",
       "       'United Arab Emirates', 'United Kingdom', 'United States',\n",
       "       'Uruguay', 'Uzbekistan', 'Venezuela', 'Vietnam', 'Yemen', 'Zambia',\n",
       "       'Zimbabwe'], dtype=object)"
      ]
     },
     "execution_count": 21,
     "metadata": {},
     "output_type": "execute_result"
    }
   ],
   "source": [
    "# The unique method shows every element of the series that appears only once\n",
    "unique1 = organized_df[\"location\"].unique()\n",
    "unique1"
   ]
  },
  {
   "cell_type": "code",
   "execution_count": 22,
   "metadata": {},
   "outputs": [
    {
     "data": {
      "text/plain": [
       "array(['Asia', 'Europe', 'Africa', 'North America', 'South America',\n",
       "       'Oceania'], dtype=object)"
      ]
     },
     "execution_count": 22,
     "metadata": {},
     "output_type": "execute_result"
    }
   ],
   "source": [
    "# The unique method shows every element of the series that appears only once\n",
    "unique2 = organized_df[\"continent\"].unique()\n",
    "unique2"
   ]
  },
  {
   "cell_type": "code",
   "execution_count": 23,
   "metadata": {
    "scrolled": true
   },
   "outputs": [
    {
     "data": {
      "text/plain": [
       "Europe           12365\n",
       "Asia             10888\n",
       "Africa           10350\n",
       "North America     5053\n",
       "South America     3550\n",
       "Oceania            768\n",
       "Name: continent, dtype: int64"
      ]
     },
     "execution_count": 23,
     "metadata": {},
     "output_type": "execute_result"
    }
   ],
   "source": [
    "# The value_counts method counts unique values in a column\n",
    "count1 = organized_df[\"continent\"].value_counts()\n",
    "count1"
   ]
  },
  {
   "cell_type": "code",
   "execution_count": 24,
   "metadata": {},
   "outputs": [
    {
     "data": {
      "text/plain": [
       "China          354\n",
       "Philippines    344\n",
       "Japan          333\n",
       "France         331\n",
       "Iran           327\n",
       "              ... \n",
       "Vietnam        164\n",
       "Fiji           164\n",
       "Saint Lucia     62\n",
       "Eritrea         20\n",
       "Mongolia        13\n",
       "Name: location, Length: 150, dtype: int64"
      ]
     },
     "execution_count": 24,
     "metadata": {},
     "output_type": "execute_result"
    }
   ],
   "source": [
    "# The value_counts method counts unique values in a column\n",
    "count2 = organized_df[\"location\"].value_counts()\n",
    "count2"
   ]
  },
  {
   "cell_type": "code",
   "execution_count": 25,
   "metadata": {},
   "outputs": [
    {
     "data": {
      "text/html": [
       "<div>\n",
       "<style scoped>\n",
       "    .dataframe tbody tr th:only-of-type {\n",
       "        vertical-align: middle;\n",
       "    }\n",
       "\n",
       "    .dataframe tbody tr th {\n",
       "        vertical-align: top;\n",
       "    }\n",
       "\n",
       "    .dataframe thead th {\n",
       "        text-align: right;\n",
       "    }\n",
       "</style>\n",
       "<table border=\"1\" class=\"dataframe\">\n",
       "  <thead>\n",
       "    <tr style=\"text-align: right;\">\n",
       "      <th></th>\n",
       "      <th>new_deaths</th>\n",
       "      <th>hospital_beds_per_thousand</th>\n",
       "      <th>gdp_per_capita</th>\n",
       "    </tr>\n",
       "  </thead>\n",
       "  <tbody>\n",
       "    <tr>\n",
       "      <th>count</th>\n",
       "      <td>42974.000000</td>\n",
       "      <td>42974.000000</td>\n",
       "      <td>42974.000000</td>\n",
       "    </tr>\n",
       "    <tr>\n",
       "      <th>mean</th>\n",
       "      <td>44.824336</td>\n",
       "      <td>3.013207</td>\n",
       "      <td>21498.421953</td>\n",
       "    </tr>\n",
       "    <tr>\n",
       "      <th>std</th>\n",
       "      <td>176.567623</td>\n",
       "      <td>2.394959</td>\n",
       "      <td>20461.425095</td>\n",
       "    </tr>\n",
       "    <tr>\n",
       "      <th>min</th>\n",
       "      <td>-1918.000000</td>\n",
       "      <td>0.100000</td>\n",
       "      <td>661.240000</td>\n",
       "    </tr>\n",
       "    <tr>\n",
       "      <th>25%</th>\n",
       "      <td>0.000000</td>\n",
       "      <td>1.300000</td>\n",
       "      <td>6253.104000</td>\n",
       "    </tr>\n",
       "    <tr>\n",
       "      <th>50%</th>\n",
       "      <td>2.000000</td>\n",
       "      <td>2.400000</td>\n",
       "      <td>15663.986000</td>\n",
       "    </tr>\n",
       "    <tr>\n",
       "      <th>75%</th>\n",
       "      <td>14.000000</td>\n",
       "      <td>4.200000</td>\n",
       "      <td>31400.840000</td>\n",
       "    </tr>\n",
       "    <tr>\n",
       "      <th>max</th>\n",
       "      <td>4194.000000</td>\n",
       "      <td>13.050000</td>\n",
       "      <td>116935.600000</td>\n",
       "    </tr>\n",
       "  </tbody>\n",
       "</table>\n",
       "</div>"
      ],
      "text/plain": [
       "         new_deaths  hospital_beds_per_thousand  gdp_per_capita\n",
       "count  42974.000000                42974.000000    42974.000000\n",
       "mean      44.824336                    3.013207    21498.421953\n",
       "std      176.567623                    2.394959    20461.425095\n",
       "min    -1918.000000                    0.100000      661.240000\n",
       "25%        0.000000                    1.300000     6253.104000\n",
       "50%        2.000000                    2.400000    15663.986000\n",
       "75%       14.000000                    4.200000    31400.840000\n",
       "max     4194.000000                   13.050000   116935.600000"
      ]
     },
     "execution_count": 25,
     "metadata": {},
     "output_type": "execute_result"
    }
   ],
   "source": [
    "organized_df.describe()"
   ]
  },
  {
   "cell_type": "code",
   "execution_count": 26,
   "metadata": {},
   "outputs": [
    {
     "data": {
      "text/html": [
       "<div>\n",
       "<style scoped>\n",
       "    .dataframe tbody tr th:only-of-type {\n",
       "        vertical-align: middle;\n",
       "    }\n",
       "\n",
       "    .dataframe tbody tr th {\n",
       "        vertical-align: top;\n",
       "    }\n",
       "\n",
       "    .dataframe thead th {\n",
       "        text-align: right;\n",
       "    }\n",
       "</style>\n",
       "<table border=\"1\" class=\"dataframe\">\n",
       "  <thead>\n",
       "    <tr style=\"text-align: right;\">\n",
       "      <th></th>\n",
       "      <th>continent</th>\n",
       "      <th>location</th>\n",
       "      <th>new_deaths</th>\n",
       "      <th>hospital_beds_per_thousand</th>\n",
       "      <th>gdp_per_capita</th>\n",
       "    </tr>\n",
       "  </thead>\n",
       "  <tbody>\n",
       "    <tr>\n",
       "      <th>26268</th>\n",
       "      <td>Europe</td>\n",
       "      <td>Italy</td>\n",
       "      <td>1</td>\n",
       "      <td>3.18</td>\n",
       "      <td>35220.084</td>\n",
       "    </tr>\n",
       "    <tr>\n",
       "      <th>26269</th>\n",
       "      <td>Europe</td>\n",
       "      <td>Italy</td>\n",
       "      <td>1</td>\n",
       "      <td>3.18</td>\n",
       "      <td>35220.084</td>\n",
       "    </tr>\n",
       "    <tr>\n",
       "      <th>26270</th>\n",
       "      <td>Europe</td>\n",
       "      <td>Italy</td>\n",
       "      <td>1</td>\n",
       "      <td>3.18</td>\n",
       "      <td>35220.084</td>\n",
       "    </tr>\n",
       "    <tr>\n",
       "      <th>26271</th>\n",
       "      <td>Europe</td>\n",
       "      <td>Italy</td>\n",
       "      <td>4</td>\n",
       "      <td>3.18</td>\n",
       "      <td>35220.084</td>\n",
       "    </tr>\n",
       "    <tr>\n",
       "      <th>26272</th>\n",
       "      <td>Europe</td>\n",
       "      <td>Italy</td>\n",
       "      <td>3</td>\n",
       "      <td>3.18</td>\n",
       "      <td>35220.084</td>\n",
       "    </tr>\n",
       "    <tr>\n",
       "      <th>...</th>\n",
       "      <td>...</td>\n",
       "      <td>...</td>\n",
       "      <td>...</td>\n",
       "      <td>...</td>\n",
       "      <td>...</td>\n",
       "    </tr>\n",
       "    <tr>\n",
       "      <th>26588</th>\n",
       "      <td>Europe</td>\n",
       "      <td>Italy</td>\n",
       "      <td>548</td>\n",
       "      <td>3.18</td>\n",
       "      <td>35220.084</td>\n",
       "    </tr>\n",
       "    <tr>\n",
       "      <th>26589</th>\n",
       "      <td>Europe</td>\n",
       "      <td>Italy</td>\n",
       "      <td>414</td>\n",
       "      <td>3.18</td>\n",
       "      <td>35220.084</td>\n",
       "    </tr>\n",
       "    <tr>\n",
       "      <th>26590</th>\n",
       "      <td>Europe</td>\n",
       "      <td>Italy</td>\n",
       "      <td>620</td>\n",
       "      <td>3.18</td>\n",
       "      <td>35220.084</td>\n",
       "    </tr>\n",
       "    <tr>\n",
       "      <th>26591</th>\n",
       "      <td>Europe</td>\n",
       "      <td>Italy</td>\n",
       "      <td>483</td>\n",
       "      <td>3.18</td>\n",
       "      <td>35220.084</td>\n",
       "    </tr>\n",
       "    <tr>\n",
       "      <th>26592</th>\n",
       "      <td>Europe</td>\n",
       "      <td>Italy</td>\n",
       "      <td>361</td>\n",
       "      <td>3.18</td>\n",
       "      <td>35220.084</td>\n",
       "    </tr>\n",
       "  </tbody>\n",
       "</table>\n",
       "<p>325 rows × 5 columns</p>\n",
       "</div>"
      ],
      "text/plain": [
<<<<<<< HEAD
       "      continent location  new_deaths  hospital_beds_per_thousand\n",
       "26268    Europe    Italy           1                        3.18\n",
       "26269    Europe    Italy           1                        3.18\n",
       "26270    Europe    Italy           1                        3.18\n",
       "26271    Europe    Italy           4                        3.18\n",
       "26272    Europe    Italy           3                        3.18\n",
       "...         ...      ...         ...                         ...\n",
       "26588    Europe    Italy         548                        3.18\n",
       "26589    Europe    Italy         414                        3.18\n",
       "26590    Europe    Italy         620                        3.18\n",
       "26591    Europe    Italy         483                        3.18\n",
       "26592    Europe    Italy         361                        3.18\n",
=======
       "      continent location  new_deaths  hospital_beds_per_thousand  \\\n",
       "26268    Europe    Italy           1                        3.18   \n",
       "26269    Europe    Italy           1                        3.18   \n",
       "26270    Europe    Italy           1                        3.18   \n",
       "26271    Europe    Italy           4                        3.18   \n",
       "26272    Europe    Italy           3                        3.18   \n",
       "...         ...      ...         ...                         ...   \n",
       "26588    Europe    Italy         548                        3.18   \n",
       "26589    Europe    Italy         414                        3.18   \n",
       "26590    Europe    Italy         620                        3.18   \n",
       "26591    Europe    Italy         483                        3.18   \n",
       "26592    Europe    Italy         361                        3.18   \n",
>>>>>>> c6748ff9a0e8e121c95c64bfdcb4b48de5a411b2
       "\n",
       "       gdp_per_capita  \n",
       "26268       35220.084  \n",
       "26269       35220.084  \n",
       "26270       35220.084  \n",
       "26271       35220.084  \n",
       "26272       35220.084  \n",
       "...               ...  \n",
       "26588       35220.084  \n",
       "26589       35220.084  \n",
       "26590       35220.084  \n",
       "26591       35220.084  \n",
       "26592       35220.084  \n",
       "\n",
       "[325 rows x 5 columns]"
      ]
     },
     "execution_count": 26,
     "metadata": {},
     "output_type": "execute_result"
    }
   ],
   "source": [
    "# Create a new DataFrame that looks into a specific region (eg: Italy)\n",
    "Italy_df = organized_df.loc[organized_df[\"location\"] == \"Italy\"]\n",
    "Italy_df"
   ]
  },
  {
   "cell_type": "code",
   "execution_count": 27,
   "metadata": {},
   "outputs": [
    {
     "data": {
      "text/html": [
       "<div>\n",
       "<style scoped>\n",
       "    .dataframe tbody tr th:only-of-type {\n",
       "        vertical-align: middle;\n",
       "    }\n",
       "\n",
       "    .dataframe tbody tr th {\n",
       "        vertical-align: top;\n",
       "    }\n",
       "\n",
       "    .dataframe thead th {\n",
       "        text-align: right;\n",
       "    }\n",
       "</style>\n",
       "<table border=\"1\" class=\"dataframe\">\n",
       "  <thead>\n",
       "    <tr style=\"text-align: right;\">\n",
       "      <th></th>\n",
       "      <th>continent</th>\n",
       "      <th>location</th>\n",
       "      <th>new_deaths</th>\n",
       "      <th>hospital_beds_per_thousand</th>\n",
       "      <th>gdp_per_capita</th>\n",
       "    </tr>\n",
       "  </thead>\n",
       "  <tbody>\n",
       "    <tr>\n",
       "      <th>27</th>\n",
       "      <td>Asia</td>\n",
       "      <td>Afghanistan</td>\n",
       "      <td>1</td>\n",
       "      <td>0.5</td>\n",
       "      <td>1803.987</td>\n",
       "    </tr>\n",
       "    <tr>\n",
       "      <th>28</th>\n",
       "      <td>Asia</td>\n",
       "      <td>Afghanistan</td>\n",
       "      <td>0</td>\n",
       "      <td>0.5</td>\n",
       "      <td>1803.987</td>\n",
       "    </tr>\n",
       "    <tr>\n",
       "      <th>29</th>\n",
       "      <td>Asia</td>\n",
       "      <td>Afghanistan</td>\n",
       "      <td>0</td>\n",
       "      <td>0.5</td>\n",
       "      <td>1803.987</td>\n",
       "    </tr>\n",
       "    <tr>\n",
       "      <th>30</th>\n",
       "      <td>Asia</td>\n",
       "      <td>Afghanistan</td>\n",
       "      <td>1</td>\n",
       "      <td>0.5</td>\n",
       "      <td>1803.987</td>\n",
       "    </tr>\n",
       "    <tr>\n",
       "      <th>31</th>\n",
       "      <td>Asia</td>\n",
       "      <td>Afghanistan</td>\n",
       "      <td>1</td>\n",
       "      <td>0.5</td>\n",
       "      <td>1803.987</td>\n",
       "    </tr>\n",
       "    <tr>\n",
       "      <th>...</th>\n",
       "      <td>...</td>\n",
       "      <td>...</td>\n",
       "      <td>...</td>\n",
       "      <td>...</td>\n",
       "      <td>...</td>\n",
       "    </tr>\n",
       "    <tr>\n",
       "      <th>59314</th>\n",
       "      <td>Africa</td>\n",
       "      <td>Zimbabwe</td>\n",
       "      <td>13</td>\n",
       "      <td>1.7</td>\n",
       "      <td>1899.775</td>\n",
       "    </tr>\n",
       "    <tr>\n",
       "      <th>59315</th>\n",
       "      <td>Africa</td>\n",
       "      <td>Zimbabwe</td>\n",
       "      <td>15</td>\n",
       "      <td>1.7</td>\n",
       "      <td>1899.775</td>\n",
       "    </tr>\n",
       "    <tr>\n",
       "      <th>59316</th>\n",
       "      <td>Africa</td>\n",
       "      <td>Zimbabwe</td>\n",
       "      <td>22</td>\n",
       "      <td>1.7</td>\n",
       "      <td>1899.775</td>\n",
       "    </tr>\n",
       "    <tr>\n",
       "      <th>59317</th>\n",
       "      <td>Africa</td>\n",
       "      <td>Zimbabwe</td>\n",
       "      <td>15</td>\n",
       "      <td>1.7</td>\n",
       "      <td>1899.775</td>\n",
       "    </tr>\n",
       "    <tr>\n",
       "      <th>59318</th>\n",
       "      <td>Africa</td>\n",
       "      <td>Zimbabwe</td>\n",
       "      <td>24</td>\n",
       "      <td>1.7</td>\n",
       "      <td>1899.775</td>\n",
       "    </tr>\n",
       "  </tbody>\n",
       "</table>\n",
       "<p>42974 rows × 5 columns</p>\n",
       "</div>"
      ],
      "text/plain": [
<<<<<<< HEAD
       "      continent     location  new_deaths  hospital_beds_per_thousand\n",
       "27         Asia  Afghanistan           1                         0.5\n",
       "28         Asia  Afghanistan           0                         0.5\n",
       "29         Asia  Afghanistan           0                         0.5\n",
       "30         Asia  Afghanistan           1                         0.5\n",
       "31         Asia  Afghanistan           1                         0.5\n",
       "...         ...          ...         ...                         ...\n",
       "59314    Africa     Zimbabwe          13                         1.7\n",
       "59315    Africa     Zimbabwe          15                         1.7\n",
       "59316    Africa     Zimbabwe          22                         1.7\n",
       "59317    Africa     Zimbabwe          15                         1.7\n",
       "59318    Africa     Zimbabwe          24                         1.7\n",
=======
       "      continent     location  new_deaths  hospital_beds_per_thousand  \\\n",
       "27         Asia  Afghanistan           1                         0.5   \n",
       "28         Asia  Afghanistan           0                         0.5   \n",
       "29         Asia  Afghanistan           0                         0.5   \n",
       "30         Asia  Afghanistan           1                         0.5   \n",
       "31         Asia  Afghanistan           1                         0.5   \n",
       "...         ...          ...         ...                         ...   \n",
       "59314    Africa     Zimbabwe          13                         1.7   \n",
       "59315    Africa     Zimbabwe          15                         1.7   \n",
       "59316    Africa     Zimbabwe          22                         1.7   \n",
       "59317    Africa     Zimbabwe          15                         1.7   \n",
       "59318    Africa     Zimbabwe          24                         1.7   \n",
       "\n",
       "       gdp_per_capita  \n",
       "27           1803.987  \n",
       "28           1803.987  \n",
       "29           1803.987  \n",
       "30           1803.987  \n",
       "31           1803.987  \n",
       "...               ...  \n",
       "59314        1899.775  \n",
       "59315        1899.775  \n",
       "59316        1899.775  \n",
       "59317        1899.775  \n",
       "59318        1899.775  \n",
>>>>>>> c6748ff9a0e8e121c95c64bfdcb4b48de5a411b2
       "\n",
       "[42974 rows x 5 columns]"
      ]
     },
     "execution_count": 27,
     "metadata": {},
     "output_type": "execute_result"
    }
   ],
   "source": [
    "organized_df"
   ]
  },
  {
   "cell_type": "code",
   "execution_count": 28,
   "metadata": {},
   "outputs": [
    {
     "data": {
      "text/html": [
       "<div>\n",
       "<style scoped>\n",
       "    .dataframe tbody tr th:only-of-type {\n",
       "        vertical-align: middle;\n",
       "    }\n",
       "\n",
       "    .dataframe tbody tr th {\n",
       "        vertical-align: top;\n",
       "    }\n",
       "\n",
       "    .dataframe thead th {\n",
       "        text-align: right;\n",
       "    }\n",
       "</style>\n",
       "<table border=\"1\" class=\"dataframe\">\n",
       "  <thead>\n",
       "    <tr style=\"text-align: right;\">\n",
       "      <th></th>\n",
       "      <th></th>\n",
       "      <th>new_deaths</th>\n",
       "      <th>hospital_beds_per_thousand</th>\n",
       "      <th>gdp_per_capita</th>\n",
       "    </tr>\n",
       "    <tr>\n",
       "      <th>continent</th>\n",
       "      <th>location</th>\n",
       "      <th></th>\n",
       "      <th></th>\n",
       "      <th></th>\n",
       "    </tr>\n",
       "  </thead>\n",
       "  <tbody>\n",
       "    <tr>\n",
       "      <th rowspan=\"20\" valign=\"top\">Africa</th>\n",
       "      <th>Algeria</th>\n",
       "      <td>305</td>\n",
       "      <td>305</td>\n",
       "      <td>305</td>\n",
       "    </tr>\n",
       "    <tr>\n",
       "      <th>Benin</th>\n",
       "      <td>280</td>\n",
       "      <td>280</td>\n",
       "      <td>280</td>\n",
       "    </tr>\n",
       "    <tr>\n",
       "      <th>Botswana</th>\n",
       "      <td>286</td>\n",
       "      <td>286</td>\n",
       "      <td>286</td>\n",
       "    </tr>\n",
       "    <tr>\n",
       "      <th>Burkina Faso</th>\n",
       "      <td>299</td>\n",
       "      <td>299</td>\n",
       "      <td>299</td>\n",
       "    </tr>\n",
       "    <tr>\n",
       "      <th>Burundi</th>\n",
       "      <td>273</td>\n",
       "      <td>273</td>\n",
       "      <td>273</td>\n",
       "    </tr>\n",
       "    <tr>\n",
       "      <th>Cameroon</th>\n",
       "      <td>292</td>\n",
       "      <td>292</td>\n",
       "      <td>292</td>\n",
       "    </tr>\n",
       "    <tr>\n",
       "      <th>Cape Verde</th>\n",
       "      <td>293</td>\n",
       "      <td>293</td>\n",
       "      <td>293</td>\n",
       "    </tr>\n",
       "    <tr>\n",
       "      <th>Central African Republic</th>\n",
       "      <td>233</td>\n",
       "      <td>233</td>\n",
       "      <td>233</td>\n",
       "    </tr>\n",
       "    <tr>\n",
       "      <th>Comoros</th>\n",
       "      <td>250</td>\n",
       "      <td>250</td>\n",
       "      <td>250</td>\n",
       "    </tr>\n",
       "    <tr>\n",
       "      <th>Djibouti</th>\n",
       "      <td>276</td>\n",
       "      <td>276</td>\n",
       "      <td>276</td>\n",
       "    </tr>\n",
       "    <tr>\n",
       "      <th>Egypt</th>\n",
       "      <td>309</td>\n",
       "      <td>309</td>\n",
       "      <td>309</td>\n",
       "    </tr>\n",
       "    <tr>\n",
       "      <th>Equatorial Guinea</th>\n",
       "      <td>264</td>\n",
       "      <td>264</td>\n",
       "      <td>264</td>\n",
       "    </tr>\n",
       "    <tr>\n",
       "      <th>Eritrea</th>\n",
       "      <td>20</td>\n",
       "      <td>20</td>\n",
       "      <td>20</td>\n",
       "    </tr>\n",
       "    <tr>\n",
       "      <th>Eswatini</th>\n",
       "      <td>270</td>\n",
       "      <td>270</td>\n",
       "      <td>270</td>\n",
       "    </tr>\n",
       "    <tr>\n",
       "      <th>Ethiopia</th>\n",
       "      <td>281</td>\n",
       "      <td>281</td>\n",
       "      <td>281</td>\n",
       "    </tr>\n",
       "    <tr>\n",
       "      <th>Gabon</th>\n",
       "      <td>297</td>\n",
       "      <td>297</td>\n",
       "      <td>297</td>\n",
       "    </tr>\n",
       "    <tr>\n",
       "      <th>Gambia</th>\n",
       "      <td>294</td>\n",
       "      <td>294</td>\n",
       "      <td>294</td>\n",
       "    </tr>\n",
       "    <tr>\n",
       "      <th>Ghana</th>\n",
       "      <td>296</td>\n",
       "      <td>296</td>\n",
       "      <td>296</td>\n",
       "    </tr>\n",
       "    <tr>\n",
       "      <th>Guinea</th>\n",
       "      <td>271</td>\n",
       "      <td>271</td>\n",
       "      <td>271</td>\n",
       "    </tr>\n",
       "    <tr>\n",
       "      <th>Kenya</th>\n",
       "      <td>291</td>\n",
       "      <td>291</td>\n",
       "      <td>291</td>\n",
       "    </tr>\n",
       "  </tbody>\n",
       "</table>\n",
       "</div>"
      ],
      "text/plain": [
       "                                    new_deaths  hospital_beds_per_thousand  \\\n",
       "continent location                                                           \n",
       "Africa    Algeria                          305                         305   \n",
       "          Benin                            280                         280   \n",
       "          Botswana                         286                         286   \n",
       "          Burkina Faso                     299                         299   \n",
       "          Burundi                          273                         273   \n",
       "          Cameroon                         292                         292   \n",
       "          Cape Verde                       293                         293   \n",
       "          Central African Republic         233                         233   \n",
       "          Comoros                          250                         250   \n",
       "          Djibouti                         276                         276   \n",
       "          Egypt                            309                         309   \n",
       "          Equatorial Guinea                264                         264   \n",
       "          Eritrea                           20                          20   \n",
       "          Eswatini                         270                         270   \n",
       "          Ethiopia                         281                         281   \n",
       "          Gabon                            297                         297   \n",
       "          Gambia                           294                         294   \n",
       "          Ghana                            296                         296   \n",
       "          Guinea                           271                         271   \n",
       "          Kenya                            291                         291   \n",
       "\n",
       "                                    gdp_per_capita  \n",
       "continent location                                  \n",
       "Africa    Algeria                              305  \n",
       "          Benin                                280  \n",
       "          Botswana                             286  \n",
       "          Burkina Faso                         299  \n",
       "          Burundi                              273  \n",
       "          Cameroon                             292  \n",
       "          Cape Verde                           293  \n",
       "          Central African Republic             233  \n",
       "          Comoros                              250  \n",
       "          Djibouti                             276  \n",
       "          Egypt                                309  \n",
       "          Equatorial Guinea                    264  \n",
       "          Eritrea                               20  \n",
       "          Eswatini                             270  \n",
       "          Ethiopia                             281  \n",
       "          Gabon                                297  \n",
       "          Gambia                               294  \n",
       "          Ghana                                296  \n",
       "          Guinea                               271  \n",
       "          Kenya                                291  "
      ]
     },
     "execution_count": 28,
     "metadata": {},
     "output_type": "execute_result"
    }
   ],
   "source": [
    "# It is also possible to group a DataFrame by multiple columns\n",
    "# This returns an object with multiple indexes, however, which can be harder to deal with\n",
    "grouped_international_data = organized_df.groupby(['continent', 'location'])\n",
    "\n",
    "grouped_international_data.count().head(20)"
   ]
  },
  {
   "cell_type": "code",
   "execution_count": 29,
   "metadata": {},
   "outputs": [
    {
     "data": {
      "text/html": [
       "<div>\n",
       "<style scoped>\n",
       "    .dataframe tbody tr th:only-of-type {\n",
       "        vertical-align: middle;\n",
       "    }\n",
       "\n",
       "    .dataframe tbody tr th {\n",
       "        vertical-align: top;\n",
       "    }\n",
       "\n",
       "    .dataframe thead th {\n",
       "        text-align: right;\n",
       "    }\n",
       "</style>\n",
       "<table border=\"1\" class=\"dataframe\">\n",
       "  <thead>\n",
       "    <tr style=\"text-align: right;\">\n",
       "      <th></th>\n",
       "      <th></th>\n",
       "      <th>new_deaths</th>\n",
       "      <th>hospital_beds_per_thousand</th>\n",
       "      <th>gdp_per_capita</th>\n",
       "    </tr>\n",
       "    <tr>\n",
       "      <th>continent</th>\n",
       "      <th>location</th>\n",
       "      <th></th>\n",
       "      <th></th>\n",
       "      <th></th>\n",
       "    </tr>\n",
       "  </thead>\n",
       "  <tbody>\n",
       "    <tr>\n",
       "      <th rowspan=\"5\" valign=\"top\">Africa</th>\n",
       "      <th>Algeria</th>\n",
       "      <td>2807</td>\n",
       "      <td>1.9</td>\n",
       "      <td>13913.839</td>\n",
       "    </tr>\n",
       "    <tr>\n",
       "      <th>Benin</th>\n",
       "      <td>44</td>\n",
       "      <td>0.5</td>\n",
       "      <td>2064.236</td>\n",
       "    </tr>\n",
       "    <tr>\n",
       "      <th>Botswana</th>\n",
       "      <td>48</td>\n",
       "      <td>1.8</td>\n",
       "      <td>15807.374</td>\n",
       "    </tr>\n",
       "    <tr>\n",
       "      <th>Burkina Faso</th>\n",
       "      <td>89</td>\n",
       "      <td>0.4</td>\n",
       "      <td>1703.102</td>\n",
       "    </tr>\n",
       "    <tr>\n",
       "      <th>Burundi</th>\n",
       "      <td>2</td>\n",
       "      <td>0.8</td>\n",
       "      <td>702.225</td>\n",
       "    </tr>\n",
       "    <tr>\n",
       "      <th>...</th>\n",
       "      <th>...</th>\n",
       "      <td>...</td>\n",
       "      <td>...</td>\n",
       "      <td>...</td>\n",
       "    </tr>\n",
       "    <tr>\n",
       "      <th rowspan=\"5\" valign=\"top\">South America</th>\n",
       "      <th>Paraguay</th>\n",
       "      <td>2405</td>\n",
       "      <td>1.3</td>\n",
       "      <td>8827.010</td>\n",
       "    </tr>\n",
       "    <tr>\n",
       "      <th>Peru</th>\n",
       "      <td>38049</td>\n",
       "      <td>1.6</td>\n",
       "      <td>12236.706</td>\n",
       "    </tr>\n",
       "    <tr>\n",
       "      <th>Suriname</th>\n",
       "      <td>133</td>\n",
       "      <td>3.1</td>\n",
       "      <td>13767.119</td>\n",
       "    </tr>\n",
       "    <tr>\n",
       "      <th>Uruguay</th>\n",
       "      <td>256</td>\n",
       "      <td>2.8</td>\n",
       "      <td>20551.409</td>\n",
       "    </tr>\n",
       "    <tr>\n",
       "      <th>Venezuela</th>\n",
       "      <td>1061</td>\n",
       "      <td>0.8</td>\n",
       "      <td>16745.022</td>\n",
       "    </tr>\n",
       "  </tbody>\n",
       "</table>\n",
       "<p>150 rows × 3 columns</p>\n",
       "</div>"
      ],
      "text/plain": [
<<<<<<< HEAD
       "                            new_deaths  hospital_beds_per_thousand\n",
       "continent     location                                            \n",
       "Africa        Algeria             2807                         1.9\n",
       "              Benin                 44                         0.5\n",
       "              Botswana              48                         1.8\n",
       "              Burkina Faso          89                         0.4\n",
       "              Burundi                2                         0.8\n",
       "...                                ...                         ...\n",
       "South America Paraguay            2405                         1.3\n",
       "              Peru               38049                         1.6\n",
       "              Suriname             133                         3.1\n",
       "              Uruguay              256                         2.8\n",
       "              Venezuela           1061                         0.8\n",
=======
       "                            new_deaths  hospital_beds_per_thousand  \\\n",
       "continent     location                                               \n",
       "Africa        Algeria             2807                         1.9   \n",
       "              Benin                 44                         0.5   \n",
       "              Botswana              48                         1.8   \n",
       "              Burkina Faso          89                         0.4   \n",
       "              Burundi                2                         0.8   \n",
       "...                                ...                         ...   \n",
       "South America Paraguay            2405                         1.3   \n",
       "              Peru               38049                         1.6   \n",
       "              Suriname             133                         3.1   \n",
       "              Uruguay              256                         2.8   \n",
       "              Venezuela           1061                         0.8   \n",
       "\n",
       "                            gdp_per_capita  \n",
       "continent     location                      \n",
       "Africa        Algeria            13913.839  \n",
       "              Benin               2064.236  \n",
       "              Botswana           15807.374  \n",
       "              Burkina Faso        1703.102  \n",
       "              Burundi              702.225  \n",
       "...                                    ...  \n",
       "South America Paraguay            8827.010  \n",
       "              Peru               12236.706  \n",
       "              Suriname           13767.119  \n",
       "              Uruguay            20551.409  \n",
       "              Venezuela          16745.022  \n",
>>>>>>> c6748ff9a0e8e121c95c64bfdcb4b48de5a411b2
       "\n",
       "[150 rows x 3 columns]"
      ]
     },
     "execution_count": 29,
     "metadata": {},
     "output_type": "execute_result"
    }
   ],
   "source": [
    "grouped_international_data = organized_df.groupby(['continent', 'location']).agg({'new_deaths':'sum','hospital_beds_per_thousand':'mean', 'gdp_per_capita':'mean'})\n",
    "grouped_international_data"
   ]
  },
  {
   "cell_type": "code",
   "execution_count": 30,
   "metadata": {},
   "outputs": [
    {
     "data": {
      "text/html": [
       "<div>\n",
       "<style scoped>\n",
       "    .dataframe tbody tr th:only-of-type {\n",
       "        vertical-align: middle;\n",
       "    }\n",
       "\n",
       "    .dataframe tbody tr th {\n",
       "        vertical-align: top;\n",
       "    }\n",
       "\n",
       "    .dataframe thead th {\n",
       "        text-align: right;\n",
       "    }\n",
       "</style>\n",
       "<table border=\"1\" class=\"dataframe\">\n",
       "  <thead>\n",
       "    <tr style=\"text-align: right;\">\n",
       "      <th></th>\n",
       "      <th></th>\n",
       "      <th>Total deaths</th>\n",
       "      <th>Hospital beds per thousand</th>\n",
       "      <th>GDP per capita</th>\n",
       "    </tr>\n",
       "    <tr>\n",
       "      <th>continent</th>\n",
       "      <th>location</th>\n",
       "      <th></th>\n",
       "      <th></th>\n",
       "      <th></th>\n",
       "    </tr>\n",
       "  </thead>\n",
       "  <tbody>\n",
       "    <tr>\n",
       "      <th rowspan=\"5\" valign=\"top\">Africa</th>\n",
       "      <th>Algeria</th>\n",
       "      <td>2807</td>\n",
       "      <td>1.9</td>\n",
       "      <td>13913.839</td>\n",
       "    </tr>\n",
       "    <tr>\n",
       "      <th>Benin</th>\n",
       "      <td>44</td>\n",
       "      <td>0.5</td>\n",
       "      <td>2064.236</td>\n",
       "    </tr>\n",
       "    <tr>\n",
       "      <th>Botswana</th>\n",
       "      <td>48</td>\n",
       "      <td>1.8</td>\n",
       "      <td>15807.374</td>\n",
       "    </tr>\n",
       "    <tr>\n",
       "      <th>Burkina Faso</th>\n",
       "      <td>89</td>\n",
       "      <td>0.4</td>\n",
       "      <td>1703.102</td>\n",
       "    </tr>\n",
       "    <tr>\n",
       "      <th>Burundi</th>\n",
       "      <td>2</td>\n",
       "      <td>0.8</td>\n",
       "      <td>702.225</td>\n",
       "    </tr>\n",
       "    <tr>\n",
       "      <th>...</th>\n",
       "      <th>...</th>\n",
       "      <td>...</td>\n",
       "      <td>...</td>\n",
       "      <td>...</td>\n",
       "    </tr>\n",
       "    <tr>\n",
       "      <th rowspan=\"5\" valign=\"top\">South America</th>\n",
       "      <th>Paraguay</th>\n",
       "      <td>2405</td>\n",
       "      <td>1.3</td>\n",
       "      <td>8827.010</td>\n",
       "    </tr>\n",
       "    <tr>\n",
       "      <th>Peru</th>\n",
       "      <td>38049</td>\n",
       "      <td>1.6</td>\n",
       "      <td>12236.706</td>\n",
       "    </tr>\n",
       "    <tr>\n",
       "      <th>Suriname</th>\n",
       "      <td>133</td>\n",
       "      <td>3.1</td>\n",
       "      <td>13767.119</td>\n",
       "    </tr>\n",
       "    <tr>\n",
       "      <th>Uruguay</th>\n",
       "      <td>256</td>\n",
       "      <td>2.8</td>\n",
       "      <td>20551.409</td>\n",
       "    </tr>\n",
       "    <tr>\n",
       "      <th>Venezuela</th>\n",
       "      <td>1061</td>\n",
       "      <td>0.8</td>\n",
       "      <td>16745.022</td>\n",
       "    </tr>\n",
       "  </tbody>\n",
       "</table>\n",
       "<p>150 rows × 3 columns</p>\n",
       "</div>"
      ],
      "text/plain": [
<<<<<<< HEAD
       "                            Total deaths  Hospital beds per thousand\n",
       "continent     location                                              \n",
       "Africa        Algeria               2807                         1.9\n",
       "              Benin                   44                         0.5\n",
       "              Botswana                48                         1.8\n",
       "              Burkina Faso            89                         0.4\n",
       "              Burundi                  2                         0.8\n",
       "...                                  ...                         ...\n",
       "South America Paraguay              2405                         1.3\n",
       "              Peru                 38049                         1.6\n",
       "              Suriname               133                         3.1\n",
       "              Uruguay                256                         2.8\n",
       "              Venezuela             1061                         0.8\n",
=======
       "                            Total deaths  Hospital beds per thousand  \\\n",
       "continent     location                                                 \n",
       "Africa        Algeria               2807                         1.9   \n",
       "              Benin                   44                         0.5   \n",
       "              Botswana                48                         1.8   \n",
       "              Burkina Faso            89                         0.4   \n",
       "              Burundi                  2                         0.8   \n",
       "...                                  ...                         ...   \n",
       "South America Paraguay              2405                         1.3   \n",
       "              Peru                 38049                         1.6   \n",
       "              Suriname               133                         3.1   \n",
       "              Uruguay                256                         2.8   \n",
       "              Venezuela             1061                         0.8   \n",
       "\n",
       "                            GDP per capita  \n",
       "continent     location                      \n",
       "Africa        Algeria            13913.839  \n",
       "              Benin               2064.236  \n",
       "              Botswana           15807.374  \n",
       "              Burkina Faso        1703.102  \n",
       "              Burundi              702.225  \n",
       "...                                    ...  \n",
       "South America Paraguay            8827.010  \n",
       "              Peru               12236.706  \n",
       "              Suriname           13767.119  \n",
       "              Uruguay            20551.409  \n",
       "              Venezuela          16745.022  \n",
>>>>>>> c6748ff9a0e8e121c95c64bfdcb4b48de5a411b2
       "\n",
       "[150 rows x 3 columns]"
      ]
     },
     "execution_count": 30,
     "metadata": {},
     "output_type": "execute_result"
    }
   ],
   "source": [
    "# Rename columns for readability\n",
    "covid_renamed_df = grouped_international_data.rename(columns={\"new_deaths\": \"Total deaths\", \"hospital_beds_per_thousand\": \"Hospital beds per thousand\", \"gdp_per_capita\": \"GDP per capita\"})\n",
    "covid_renamed_df"
   ]
  },
  {
   "cell_type": "code",
   "execution_count": 31,
   "metadata": {
    "scrolled": false
   },
   "outputs": [
    {
     "data": {
      "text/html": [
       "<div>\n",
       "<style scoped>\n",
       "    .dataframe tbody tr th:only-of-type {\n",
       "        vertical-align: middle;\n",
       "    }\n",
       "\n",
       "    .dataframe tbody tr th {\n",
       "        vertical-align: top;\n",
       "    }\n",
       "\n",
       "    .dataframe thead th {\n",
       "        text-align: right;\n",
       "    }\n",
       "</style>\n",
       "<table border=\"1\" class=\"dataframe\">\n",
       "  <thead>\n",
       "    <tr style=\"text-align: right;\">\n",
       "      <th></th>\n",
       "      <th></th>\n",
       "      <th>Total deaths</th>\n",
       "      <th>Hospital beds per thousand</th>\n",
       "      <th>GDP per capita</th>\n",
       "    </tr>\n",
       "    <tr>\n",
       "      <th>continent</th>\n",
       "      <th>location</th>\n",
       "      <th></th>\n",
       "      <th></th>\n",
       "      <th></th>\n",
       "    </tr>\n",
       "  </thead>\n",
       "  <tbody>\n",
       "    <tr>\n",
<<<<<<< HEAD
       "      <th>Europe</th>\n",
       "      <th>Monaco</th>\n",
       "      <td>4</td>\n",
       "      <td>13.80</td>\n",
       "    </tr>\n",
       "    <tr>\n",
=======
>>>>>>> c6748ff9a0e8e121c95c64bfdcb4b48de5a411b2
       "      <th rowspan=\"2\" valign=\"top\">Asia</th>\n",
       "      <th>Japan</th>\n",
       "      <td>3850</td>\n",
       "      <td>13.05</td>\n",
       "      <td>39002.223</td>\n",
       "    </tr>\n",
       "    <tr>\n",
       "      <th>South Korea</th>\n",
       "      <td>1140</td>\n",
       "      <td>12.27</td>\n",
       "      <td>35938.374</td>\n",
       "    </tr>\n",
       "    <tr>\n",
       "      <th rowspan=\"3\" valign=\"top\">Europe</th>\n",
       "      <th>Belarus</th>\n",
       "      <td>1517</td>\n",
       "      <td>11.00</td>\n",
       "      <td>17167.967</td>\n",
       "    </tr>\n",
       "    <tr>\n",
       "      <th>Ukraine</th>\n",
       "      <td>20641</td>\n",
       "      <td>8.80</td>\n",
       "      <td>7894.393</td>\n",
       "    </tr>\n",
       "    <tr>\n",
       "      <th>Russia</th>\n",
       "      <td>60963</td>\n",
       "      <td>8.05</td>\n",
       "      <td>24765.954</td>\n",
       "    </tr>\n",
       "  </tbody>\n",
       "</table>\n",
       "</div>"
      ],
      "text/plain": [
<<<<<<< HEAD
       "                       Total deaths  Hospital beds per thousand\n",
       "continent location                                             \n",
       "Europe    Monaco                  4                       13.80\n",
       "Asia      Japan                3850                       13.05\n",
       "          South Korea          1140                       12.27\n",
       "Europe    Belarus              1517                       11.00\n",
       "          Ukraine             20641                        8.80"
=======
       "                       Total deaths  Hospital beds per thousand  \\\n",
       "continent location                                                \n",
       "Asia      Japan                3850                       13.05   \n",
       "          South Korea          1140                       12.27   \n",
       "Europe    Belarus              1517                       11.00   \n",
       "          Ukraine             20641                        8.80   \n",
       "          Russia              60963                        8.05   \n",
       "\n",
       "                       GDP per capita  \n",
       "continent location                     \n",
       "Asia      Japan             39002.223  \n",
       "          South Korea       35938.374  \n",
       "Europe    Belarus           17167.967  \n",
       "          Ukraine            7894.393  \n",
       "          Russia            24765.954  "
>>>>>>> c6748ff9a0e8e121c95c64bfdcb4b48de5a411b2
      ]
     },
     "execution_count": 31,
     "metadata": {},
     "output_type": "execute_result"
    }
   ],
   "source": [
    "# Sorting the DataFrame based on \"Hospital beds per thousand\" column\n",
    "hospital_beds_per_thousand_high = covid_renamed_df.sort_values(\"Hospital beds per thousand\", ascending=False)\n",
    "hospital_beds_per_thousand_high.head()"
   ]
  },
  {
   "cell_type": "code",
   "execution_count": 32,
   "metadata": {},
   "outputs": [
    {
     "data": {
      "text/html": [
       "<div>\n",
       "<style scoped>\n",
       "    .dataframe tbody tr th:only-of-type {\n",
       "        vertical-align: middle;\n",
       "    }\n",
       "\n",
       "    .dataframe tbody tr th {\n",
       "        vertical-align: top;\n",
       "    }\n",
       "\n",
       "    .dataframe thead th {\n",
       "        text-align: right;\n",
       "    }\n",
       "</style>\n",
       "<table border=\"1\" class=\"dataframe\">\n",
       "  <thead>\n",
       "    <tr style=\"text-align: right;\">\n",
       "      <th></th>\n",
       "      <th></th>\n",
       "      <th>Total deaths</th>\n",
       "      <th>Hospital beds per thousand</th>\n",
       "      <th>GDP per capita</th>\n",
       "    </tr>\n",
       "    <tr>\n",
       "      <th>continent</th>\n",
       "      <th>location</th>\n",
       "      <th></th>\n",
       "      <th></th>\n",
       "      <th></th>\n",
       "    </tr>\n",
       "  </thead>\n",
       "  <tbody>\n",
       "    <tr>\n",
       "      <th rowspan=\"5\" valign=\"top\">Africa</th>\n",
       "      <th>Mali</th>\n",
       "      <td>298</td>\n",
       "      <td>0.1</td>\n",
       "      <td>2014.306</td>\n",
       "    </tr>\n",
       "    <tr>\n",
       "      <th>Madagascar</th>\n",
       "      <td>267</td>\n",
       "      <td>0.2</td>\n",
       "      <td>1416.440</td>\n",
       "    </tr>\n",
       "    <tr>\n",
       "      <th>Niger</th>\n",
       "      <td>126</td>\n",
       "      <td>0.3</td>\n",
       "      <td>926.000</td>\n",
       "    </tr>\n",
       "    <tr>\n",
       "      <th>Ethiopia</th>\n",
       "      <td>1994</td>\n",
       "      <td>0.3</td>\n",
       "      <td>1729.927</td>\n",
       "    </tr>\n",
       "    <tr>\n",
       "      <th>Guinea</th>\n",
       "      <td>81</td>\n",
       "      <td>0.3</td>\n",
       "      <td>1998.926</td>\n",
       "    </tr>\n",
       "  </tbody>\n",
       "</table>\n",
       "</div>"
      ],
      "text/plain": [
<<<<<<< HEAD
       "                      Total deaths  Hospital beds per thousand\n",
       "continent location                                            \n",
       "Africa    Mali                 298                         0.1\n",
       "          Madagascar           267                         0.2\n",
       "          Niger                126                         0.3\n",
       "          Ethiopia            1994                         0.3\n",
       "          Guinea                81                         0.3"
=======
       "                      Total deaths  Hospital beds per thousand  GDP per capita\n",
       "continent location                                                            \n",
       "Africa    Mali                 298                         0.1        2014.306\n",
       "          Madagascar           267                         0.2        1416.440\n",
       "          Niger                126                         0.3         926.000\n",
       "          Ethiopia            1994                         0.3        1729.927\n",
       "          Guinea                81                         0.3        1998.926"
>>>>>>> c6748ff9a0e8e121c95c64bfdcb4b48de5a411b2
      ]
     },
     "execution_count": 32,
     "metadata": {},
     "output_type": "execute_result"
    }
   ],
   "source": [
    "# Sorting the DataFrame based on \"Hospital beds per thousand\" column\n",
    "hospital_beds_per_thousand_low = covid_renamed_df.sort_values(\"Hospital beds per thousand\")\n",
    "hospital_beds_per_thousand_low.head()"
   ]
  },
  {
   "cell_type": "code",
   "execution_count": 33,
   "metadata": {
    "scrolled": true
   },
   "outputs": [
    {
     "data": {
      "text/html": [
       "<div>\n",
       "<style scoped>\n",
       "    .dataframe tbody tr th:only-of-type {\n",
       "        vertical-align: middle;\n",
       "    }\n",
       "\n",
       "    .dataframe tbody tr th {\n",
       "        vertical-align: top;\n",
       "    }\n",
       "\n",
       "    .dataframe thead th {\n",
       "        text-align: right;\n",
       "    }\n",
       "</style>\n",
       "<table border=\"1\" class=\"dataframe\">\n",
       "  <thead>\n",
       "    <tr style=\"text-align: right;\">\n",
       "      <th></th>\n",
       "      <th></th>\n",
       "      <th>Total deaths</th>\n",
       "      <th>Hospital beds per thousand</th>\n",
       "      <th>GDP per capita</th>\n",
       "    </tr>\n",
       "    <tr>\n",
       "      <th>continent</th>\n",
       "      <th>location</th>\n",
       "      <th></th>\n",
       "      <th></th>\n",
       "      <th></th>\n",
       "    </tr>\n",
       "  </thead>\n",
       "  <tbody>\n",
       "    <tr>\n",
       "      <th>North America</th>\n",
       "      <th>United States</th>\n",
       "      <td>374322</td>\n",
       "      <td>2.77</td>\n",
       "      <td>54225.446</td>\n",
       "    </tr>\n",
       "    <tr>\n",
       "      <th>South America</th>\n",
       "      <th>Brazil</th>\n",
       "      <td>203100</td>\n",
       "      <td>2.20</td>\n",
       "      <td>14103.452</td>\n",
       "    </tr>\n",
       "    <tr>\n",
       "      <th>Asia</th>\n",
       "      <th>India</th>\n",
       "      <td>151160</td>\n",
       "      <td>0.53</td>\n",
       "      <td>6426.674</td>\n",
       "    </tr>\n",
       "    <tr>\n",
       "      <th>North America</th>\n",
       "      <th>Mexico</th>\n",
       "      <td>133706</td>\n",
       "      <td>1.38</td>\n",
       "      <td>17336.469</td>\n",
       "    </tr>\n",
       "    <tr>\n",
       "      <th>Europe</th>\n",
       "      <th>United Kingdom</th>\n",
       "      <td>81567</td>\n",
       "      <td>2.54</td>\n",
       "      <td>39753.244</td>\n",
       "    </tr>\n",
       "  </tbody>\n",
       "</table>\n",
       "</div>"
      ],
      "text/plain": [
<<<<<<< HEAD
       "                              Total deaths  Hospital beds per thousand\n",
       "continent     location                                                \n",
       "North America United States         374322                        2.77\n",
       "South America Brazil                203100                        2.20\n",
       "Asia          India                 151160                        0.53\n",
       "North America Mexico                133706                        1.38\n",
       "Europe        United Kingdom         81567                        2.54"
=======
       "                              Total deaths  Hospital beds per thousand  \\\n",
       "continent     location                                                   \n",
       "North America United States         374322                        2.77   \n",
       "South America Brazil                203100                        2.20   \n",
       "Asia          India                 151160                        0.53   \n",
       "North America Mexico                133706                        1.38   \n",
       "Europe        United Kingdom         81567                        2.54   \n",
       "\n",
       "                              GDP per capita  \n",
       "continent     location                        \n",
       "North America United States        54225.446  \n",
       "South America Brazil               14103.452  \n",
       "Asia          India                 6426.674  \n",
       "North America Mexico               17336.469  \n",
       "Europe        United Kingdom       39753.244  "
>>>>>>> c6748ff9a0e8e121c95c64bfdcb4b48de5a411b2
      ]
     },
     "execution_count": 33,
     "metadata": {},
     "output_type": "execute_result"
    }
   ],
   "source": [
    "# Sorting the DataFrame based on \"Total deaths\" column\n",
    "total_deaths_high = covid_renamed_df.sort_values(\"Total deaths\", ascending=False)\n",
    "total_deaths_high.head()"
   ]
  },
  {
   "cell_type": "code",
   "execution_count": 34,
   "metadata": {},
   "outputs": [
    {
     "data": {
      "text/html": [
       "<div>\n",
       "<style scoped>\n",
       "    .dataframe tbody tr th:only-of-type {\n",
       "        vertical-align: middle;\n",
       "    }\n",
       "\n",
       "    .dataframe tbody tr th {\n",
       "        vertical-align: top;\n",
       "    }\n",
       "\n",
       "    .dataframe thead th {\n",
       "        text-align: right;\n",
       "    }\n",
       "</style>\n",
       "<table border=\"1\" class=\"dataframe\">\n",
       "  <thead>\n",
       "    <tr style=\"text-align: right;\">\n",
       "      <th></th>\n",
       "      <th></th>\n",
       "      <th>Total deaths</th>\n",
       "      <th>Hospital beds per thousand</th>\n",
       "      <th>GDP per capita</th>\n",
       "    </tr>\n",
       "    <tr>\n",
       "      <th>continent</th>\n",
       "      <th>location</th>\n",
       "      <th></th>\n",
       "      <th></th>\n",
       "      <th></th>\n",
       "    </tr>\n",
       "  </thead>\n",
       "  <tbody>\n",
       "    <tr>\n",
<<<<<<< HEAD
       "      <th>Oceania</th>\n",
       "      <th>Fiji</th>\n",
       "      <td>2</td>\n",
       "      <td>2.3</td>\n",
       "    </tr>\n",
       "    <tr>\n",
=======
>>>>>>> c6748ff9a0e8e121c95c64bfdcb4b48de5a411b2
       "      <th>Africa</th>\n",
       "      <th>Burundi</th>\n",
       "      <td>2</td>\n",
       "      <td>0.8</td>\n",
       "      <td>702.225</td>\n",
       "    </tr>\n",
       "    <tr>\n",
       "      <th>Asia</th>\n",
       "      <th>Mongolia</th>\n",
       "      <td>2</td>\n",
       "      <td>7.0</td>\n",
       "      <td>11840.846</td>\n",
       "    </tr>\n",
       "    <tr>\n",
       "      <th>Oceania</th>\n",
       "      <th>Fiji</th>\n",
       "      <td>2</td>\n",
       "      <td>2.3</td>\n",
       "      <td>8702.975</td>\n",
       "    </tr>\n",
       "    <tr>\n",
       "      <th>Asia</th>\n",
       "      <th>Brunei</th>\n",
       "      <td>3</td>\n",
       "      <td>2.7</td>\n",
       "      <td>71809.251</td>\n",
       "    </tr>\n",
       "    <tr>\n",
       "      <th>Africa</th>\n",
       "      <th>Eritrea</th>\n",
       "      <td>3</td>\n",
       "      <td>0.7</td>\n",
       "      <td>1510.459</td>\n",
       "    </tr>\n",
       "  </tbody>\n",
       "</table>\n",
       "</div>"
      ],
      "text/plain": [
<<<<<<< HEAD
       "                    Total deaths  Hospital beds per thousand\n",
       "continent location                                          \n",
       "Oceania   Fiji                 2                         2.3\n",
       "Africa    Burundi              2                         0.8\n",
       "Asia      Mongolia             2                         7.0\n",
       "          Brunei               3                         2.7\n",
       "Africa    Eritrea              3                         0.7"
=======
       "                    Total deaths  Hospital beds per thousand  GDP per capita\n",
       "continent location                                                          \n",
       "Africa    Burundi              2                         0.8         702.225\n",
       "Asia      Mongolia             2                         7.0       11840.846\n",
       "Oceania   Fiji                 2                         2.3        8702.975\n",
       "Asia      Brunei               3                         2.7       71809.251\n",
       "Africa    Eritrea              3                         0.7        1510.459"
>>>>>>> c6748ff9a0e8e121c95c64bfdcb4b48de5a411b2
      ]
     },
     "execution_count": 34,
     "metadata": {},
     "output_type": "execute_result"
    }
   ],
   "source": [
    "# Sorting the DataFrame based on \"hospital_beds_per_thousand\" column\n",
    "total_deaths_low = covid_renamed_df.sort_values(\"Total deaths\")\n",
    "total_deaths_low.head()"
   ]
  },
  {
   "cell_type": "code",
   "execution_count": 35,
   "metadata": {},
   "outputs": [
    {
     "data": {
      "image/png": "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\n",
      "text/plain": [
       "<Figure size 576x576 with 1 Axes>"
      ]
     },
     "metadata": {
      "needs_background": "light"
     },
     "output_type": "display_data"
    }
   ],
   "source": [
    "# Create a scatter plot which compares total deaths to hospital beds per thousand\n",
    "covid_renamed_df.plot(kind=\"scatter\", x=\"Total deaths\", y=\"Hospital beds per thousand\", grid=True, figsize=(8,8),\n",
    "              title=\"Total deaths Vs. Hospital beds per thousand\")\n",
    "plt.show()"
   ]
  },
  {
   "cell_type": "code",
   "execution_count": 36,
   "metadata": {},
   "outputs": [],
   "source": [
    "#covid_renamed_df.dropna(subset=['United States', 'Brazil', 'India','Mexico'])"
   ]
  },
  {
   "cell_type": "code",
   "execution_count": 37,
   "metadata": {},
   "outputs": [
    {
     "data": {
      "image/png": "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\n",
      "text/plain": [
       "<Figure size 576x576 with 1 Axes>"
      ]
     },
     "metadata": {
      "needs_background": "light"
     },
     "output_type": "display_data"
    }
   ],
   "source": [
    "# Create a scatter plot which compares total deaths to hospital beds per thousand (limit the x axis from 0 to 100000)\n",
    "covid_renamed_df.plot(kind=\"scatter\", x=\"Total deaths\", y=\"Hospital beds per thousand\", grid=True, figsize=(8,8),\n",
    "              title=\"Total deaths Vs. Hospital beds per thousand\")\n",
    "plt.xlim(0, 100000)\n",
    "plt.show()"
   ]
  },
  {
   "cell_type": "code",
   "execution_count": 37,
   "metadata": {},
   "outputs": [
    {
     "name": "stdout",
     "output_type": "stream",
     "text": [
      "The correlation between both factors is 0.0102488385\n"
     ]
    }
   ],
   "source": [
    "# Compute the Pearson correlation coefficient between \"Total deaths\" and \"Hospital beds per thousand\"\n",
    "Total_deaths = covid_renamed_df[\"Total deaths\"]\n",
    "Hospital_beds_per_thousand = covid_renamed_df[\"Hospital beds per thousand\"]\n",
    "correlation = st.pearsonr(Total_deaths,Hospital_beds_per_thousand)\n",
    "print(f\"The correlation between both factors is {round(correlation[0],10)}\")"
   ]
  },
  {
   "cell_type": "code",
   "execution_count": 38,
   "metadata": {},
   "outputs": [
    {
     "data": {
<<<<<<< HEAD
      "image/png": "iVBORw0KGgoAAAANSUhEUgAAAX4AAAEGCAYAAABiq/5QAAAABHNCSVQICAgIfAhkiAAAAAlwSFlzAAALEgAACxIB0t1+/AAAADh0RVh0U29mdHdhcmUAbWF0cGxvdGxpYiB2ZXJzaW9uMy4yLjIsIGh0dHA6Ly9tYXRwbG90bGliLm9yZy+WH4yJAAAgAElEQVR4nO3dfbhUdbn/8ffNZisb5UnlmGzdgh7DfCJ0p6SeiizBjhlHyyTr51MX9SsfKwoO/VLP6ahJnfToycISsLw8pCBqVORRsSRTQVBE3Wb4uCXFZIPpVjeb+/fHWgOzh5k1a/bMmsfP67rm2jPfWQ/3LOWeNd/1XffX3B0REWkcAyodgIiIlJcSv4hIg1HiFxFpMEr8IiINRolfRKTBDKx0AHHssccePnr06EqHISJSU1auXPmau4/MbK+JxD969GhWrFhR6TBERGqKmT2frV1dPSIiDUaJX0SkwSSW+M3sBjN71cwez/LeN8zMzWyPpPYvIiLZJXnGPw+YnNloZvsAHwdeSHDfIiKSQ2KJ391/D7ye5a0fAt8EVCRIRKQCyjqqx8xOAjrd/VEzy7fsNGAaQFtbW8H7Wryqk9lLO3i5q5tRw1uYPmksU8a39idsEZG6UrbEb2aDgVnA8XGWd/c5wByA9vb2gn4dLF7VycxFa+ju6QWgs6ubmYvWACj5i0jDK+eonv2BMcCjZvYcsDfwiJm9p9Q7mr20Y1vST+nu6WX20o5S70pEpOaU7Yzf3dcA/5B6HSb/dnd/rdT7ermru6B2EZFGkuRwzpuBB4CxZvaSmZ2T1L4yjRreUlC7iEgjSXJUz1R338vdm919b3f/Wcb7o5M42weYPmksLc1NfdpampuYPmlsErsTEakpNVGrp1CpC7ga1SMisqO6TPwQJH8lehGRHalWj4hIg1HiFxFpMEr8IiINpm77+NOpfIOIyHZ1n/hVvkFEpK+67+pR+QYRkb7qPvGrfIOISF91n/hVvkFEpK+6T/wq3yAi0lfdX9xV+QYRkb7qPvGDyjeIiKSr+64eERHpS4lfRKTBKPGLiDSYuu7jV6kGEZEd1W3iV6kGEZHs6rarR6UaRESyq9vEr1INIiLZJZb4zewGM3vVzB5Pa5ttZk+Z2WNmdpuZDU9q/yrVICKSXZJn/POAyRltdwGHuPthwNPAzKR2rlINIiLZJZb43f33wOsZbb9z9y3hyz8Beye1/ynjW7n85ENpHd6CAa3DW7j85EN1YVdEGl4lR/WcDSzI9aaZTQOmAbS1tfVrByrVICKyo4pc3DWzWcAW4KZcy7j7HHdvd/f2kSNHli84EZE6V/YzfjM7AzgROM7dvdz7FxFpdGVN/GY2GfgW8GF3f6uc+xYRkUCSwzlvBh4AxprZS2Z2DnAtMAS4y8xWm9mPk9q/iIhkl9gZv7tPzdL8s6T2JyIi8dTtnbsiIpJdzjN+M/ta1Iru/p+lD0dERJIW1dUzJPw7FvgAcEf4+pPA75MMSkREkpMz8bv7pQBm9jvgcHd/I3x9CXBLWaITEZGSi9PH3wa8m/b6XWB0ItGIiEji4ozq+TnwkJndBjjwL8CNiUYlIiKJyZv43f0/zOy3wLFh01nuvirZsEpDUy+KiOwo7jj+1cD61PJm1ubuLyQWVQlo6kURkezy9vGb2XnAKwS19H8FLAn/VjVNvSgikl2cM/4LgLHu/rekgyklTb0oIpJdnFE9LwKbkg6k1DT1oohIdnHO+NcBy8xsCfBOqrHa79ydPmlsnz5+0NSLIiIQ74z/BYL+/Z0I7uZNPapaVU29+MQTcNxxMHgwjBoF3/kO9PbmX2/TJjjrLBgxAoYNg9NPh79VUY/bxRfDoYfC0KEwZAi0t8OCnJOq9ZXvmKxfD9Onw7hxsOuusM8+cMYZ8PLLyXwWkQYSZzjnpeUIJAlVMfXixo3wsY/BQQfB7bfDX/4CX/86bN0K3/1u9Lqf/Sx0dMBPfwoDBsC3vgVTpsAf/lCe2PPZvBnOPDP4bE1NcOutcNppwfNPfzr3enGOycqVcNtt8MUvwlFHwSuvwCWXwNFHw+OPB18GItI/7h75AEYCs4FfA/ekHvnWK+XjiCOO8Jp12WXuw4e7b9q0ve1733NvaenblumPf3QH9/vu29724INB2113lT7Offd1nzu3+O0cfbT7Jz8ZvUycY7Jxo3tPT9/1OjqCzz9vXvFxijQAYIVnyalxunpuAp4CxgCXAs8BDyfwHZSMJUuCs+Vnn+3b/uyzQfsdd2Rfr1R+8xuYNCnoDkk57TTo7ob77oteb8894UMf2t525JEwZkzwHsCf/gQDB8INN2xfZtOmoFvk858v7eeIa/fd4d13o5eJc0yGDw8+W7r3vjfoGnr11dLGLNJg4iT+3d39Z0CPu9/n7mcDExKOq3QmTw76kOfP79s+bx6MHAmf+ETudXt7YcuW6MfWrdH7f+opOPDAvm1tbUECe+qpwtYDeN/7tq83YULQD37RRfBCeD/d+ecHMV1zTXRcpbRlC3R1wU03we9+B1/+cvTy/T0mjz0Gb70VdBGJSL/FSfw94d/1ZvbPZjYe2DvBmEqrqSnoh54/H1Jzu7sHr7/whR3PKtMddxw0N0c/zj47ev8bNwZnr5lGjAjeK3a9Sy+FffcN4rj9drjxRrj++mC5KJlfYBB8YaS3pY5XlD/9KTgOI0YEx/nqq4PrEFH6c0y2boULLoADDoDjj88fl4jkFGc453fNbBjwdeAaYChwUaJRldrZZ8Nll8GyZTBxItx7Lzz/fDBiJspPfgJvvBG9zB575N+/2Y5t7tnbC11vp52CZH/kkXD//cHF0KhfMSnNzTu2nXNO8EiZOzdI5lEOPRQefjg441+yBM49N+jCmZpt5s00hR6TmTPhgQeCrqBssYtIbHFG9aTKM2wCJiYbTkL22w8+8pEgkU2cGPw98kg4+ODo9f7xH/Of9Q7I86NpxIggKWbatCn7WW/6ehs27Nje1bXjeuPGBd0fjz4KX/lKdDwpD2dcpjnpJJg2DU48cXvbmDH5t7PLLsEwTghG6mzaFIw+ikr8hR6TH/0IZs+Gm28ORviISFHi1Oq50syGmlmzmd1tZq+ZWd4rh2Z2g5m9amaPp7XtZmZ3mdmfw795+iNK6ItfhIULobMTFi3Kf7YPpenqOfDAHfutX3wR3nwzex9+1HqQvX/8qqu2t593Xv7rDhAk6/THTjvB6NF923bfPf92Mh1+ePD5enpyL1PIMVm4MPhMV14ZDG8VkaLF6eM/3t03AycCLwHvBabHWG8eMDmjbQZwt7sfANwdvi6Pk08OkttppwWJ8bTT8q/zk58EZ8ZRj0suid7GCSfA0qV9u4wWLICWFvjwh6PX++tfg+6blBUrYN264L2Ujg6YNSsY/37LLUFMP/xh/s+WlOXLYe+9o7tj4h6TZcuCm9bOPRe+8Y3EQhZpONnGeKY/gLXh3+uByeHzR/OtFy43Gng87XUHsFf4fC+gI852SjaO/6tfDcaBT51amu3F8frr7u95j/vHPhaMv//JT9x32cV91qy+y+2/v/vZZ/dtmzTJfcwY94UL3W+7zf2973U/9tjt72/Z4n7UUcHY+d7eoO3yy90HDXJ/8snC4ix0HP9zz7lPnOh+/fXud9/tfvvt7meeGRzf667ru1xTk/v8+dvb4hyTJ55wHzbMfdw49+XL3R94YPvjmWcK+2wiDYoc4/jjJO8rCMbxrwKaCW7oejDfep498XdlvL8xYt1pwApgRVtbW2mOwl13JXcDVJS1a4MkOWhQkPC+/e0gaafbd1/3M87o27ZxY5BMhw1zHzIk+MLasGH7+5dd5j54sPvTT29v27LFfcIE9yOP3HEfUQpN/F1d7qefHqy3887ue+4ZfMYlS/ou9+yzwTHP3Ha+YzJ3brBetkfmcRKRrHIlfvMYQ/bCvvjN7t5rZoOBoe7+1xjrjQZ+5e6HhK+73H142vsb3T1vP397e7uvWLEib5x5ffObQZdC6uYtEZE6ZmYr3b09sz3vqB4z+z9pz9Pf6s+8u6+Y2V7uvt7M9gLKcwtmR0dQFOy664LCYkr6ItLA4ozj/0Da80HAccAj9C/x3wGcQdB9dAZwez+2UbgvfQkefDAYsnj++WXZpYhItYozjv+89NfhzVw/z7eemd0MfATYw8xeAi4mSPi/NLNzCMo9f6YfMRdu2bKy7EZEpBbEnWw93VvAAfkWcvdcd/Ac1499iohIicTp478TSF0BbgLeB/wyyaBERCQ5cc74v5/2fAvwvLu/lFA8IiKSsLzDW9z9PoJx/EOAEUCeYusiIlLN4tTqORV4iOBC7KnAg2YWMa+eiIhUszhdPbOAD7j7qwBmNhL4X+DWJAMTEZFkxLmTaUAq6Yf+FnM9ERGpQnHO+H9rZkuBm8PXnyWYeF1ERGpQnBu4ppvZKcAxgAFz3P22xCMTEZFExLqBy90XAgsTjqXqLF7VyeylHbzc1c2o4S1MnzSWKeNbKx2WiEhR4ozqOTmcMWuTmW02szfMbHM5gqukxas6mbloDZ1d3TjQ2dXNzEVrWLyqs9KhiYgUJc5F2iuBk9x9mLsPdfch7j406cAqbfbSDrp7evu0dff0MntpR4UiEhEpjTiJ/xV3fzLxSKrMy13dBbWLiNSKnH38ZnZy+HSFmS0AFgPvpN5390UJx1ZRo4a30JklyY8a3lKBaERESifqjP+T4WMoQUXO49PaTkw+tMqaPmksLc1NfdpampuYPmlshSISESmNnGf87n4WgJkd4+7L098zs2OSDqzSUqN3NKpHROpNnOGc1wCHx2irO1PGtyrRi0jdierj/yBwNDDSzL6W9tZQgrr8IiJSg6LO+HcCdg2XGZLWvhlQdU4RkRoV1cd/H3Cfmc1z9+fLGJOIiCQoTq0eJf0KUtkIESm1/ky2XjQzuwj4IsFcvmuAs9z97UrEkqRik3aqbETqDuJU2QhAyV9E+i3yzl0zawqTdMmYWStwPtDu7ocQXCg+rZT7qAalqPWjshEikoTIxO/uvcCnEtjvQKDFzAYCg4GXE9hHRZUiaatshIgkIU6tnuVmdq2Z/ZOZHZ569HeH7t4JfB94AVgPbHL332UuZ2bTzGyFma3YsGFDf3dXMaVI2rnKQ6hshIgUI07iPxo4GPg34Afh4/v93aGZjSD4FTEGGAXsYmafz1zO3ee4e7u7t48cObK/u6uYUiRtlY0QkSTEGdUzscT7/BjwrLtvADCzRQRfLr8o8X4qavqksX0uzELhSVtlI0QkCXkTv5ntCVwGjHL3E8zsIOCD7v6zfu7zBWCCmQ0GuoHjgBX93FbVKlXSVtkIESm1OMM55wFzgVnh66eBBUC/Er+7P2hmtwKPAFuAVcCc/myr2ilpi0g1ipP493D3X5rZTAB332JmvflWiuLuFwMXF7ONYuimKBFpZHES/5tmtjvBzVaY2QRgU6JRJejbi9dw059eCD4MuilKRBpPnFE9XwPuAPY3s+XAjcB5iUaVkMWrOvsk/RTdFCUijSTOqJ5HzOzDwFjAgA5370k8sgTMXtqxQ9JP0U1RItIo4ozqGQR8BTiWoLvnD2b241qsrROV3HVTlIg0ijhdPTcS3MB1DXAtcBDw8ySDSkqu5G6gm6JEpGHEubg71t3Hpb2+18weTSqgUsk2cifbTVUQ/IxJ9fHrAq+I1Ls4Z/yrwpE8AJjZUcDyiOUrLldlTIDLTz6U1vDM39LW6U/1TBGRWmTuuS53hguYPUlwYfeFsKkNeBLYCri7H5ZohEB7e7uvWBH/5t5jrriHziz9+a3DW1g+46ORywxvaWaXnQdqjL+I1DwzW+nu7Zntcbp6JicQT6LiVMbMtUxXdw9d3cGgJY3xF5F6lLerx92fj3qUI8hCxamMGXcUj8b4i0i9idPHX3OylTMGePOdLdv68HMtk43G+ItIPanInLtJS3XLXHrnWja+tf1es67unh26bmYv7aCzq5smM3pzXO+I+nWguj8iUmvynvGb2S5mNiB8/l4zO8nMmpMPrThTxrcyeKcdv9fSu26mjG/dduafK+lH1dAvxby6IiLlFqer5/fAoHCS9LuBswhKNVe9bKN2MtuzzY2b0jq8hctPPjTnGbwmQxeRWhSnq8fc/S0zOwe4xt2vNLNVSQdWCrm6b5ps+wj+XP33BtuGfuaiydBFpBbFOeM3M/sgcDqwJGyr+msDi1d15uy+SW8vZm5cTYYuIrUoTuK/EJgJ3Obua81sP+DeZMMqTqrvPZfWtMRczITmmgxdRGpRnLLM9wH3pb1eB5yfZFDFiuq3z0zMxcyNq8nQRaQW5SzZYGZ3Qs7y9bj7SUkFlanQkg1jZizJGfhVn32/ErOINIT+lGz4fvj3ZOA9wC/C11OB50oaXYmNGt6Ss1aPkr6INLqciT/s4sHM/t3dP5T21p1m9vtidmpmw4GfAocQ/Ko4290fKGab6bKVX66nvnfdNCYixYgzOmekme0X9u1jZmOAkUXu92rgt+7+aTPbCRhc5Pb6qOe+99SF69SXmgrJiUih4pRlngzMAdaFTaOBL7n70n7t0Gwo8Ciwn+fbeajQPv5M9XSGHKfktIgIFFGW2d1/a2YHAAeGTU+5+ztFxLIfsAGYa2bjgJXABe7+ZkbA04BpAG1tbQXvJJXsM5NkZ1c3028NJhCrxeSvm8ZEpFhxavUMBqYD57r7o0CbmZ1YxD4HAocD17n7eOBNYEbmQu4+x93b3b195MjCepbSa+hk09PrXHrn2sIjrwK6aUxEihXnBq65wLvAB8PXLwHfLWKfLwEvufuD4etbCb4ISiZqHH9KetXObBav6uSYK+5hzIwlHHPFPVVTeE03jYlIseIk/v3d/UqgB8Ddu+k7XW1B3P2vwItmlspUxwFP9Hd72RTb7VHNVTenjG/dNm+wkb+QnIhIpjijet41sxbCm7nMbH+gmD5+gPOAm8IRPesIKn6WTK5x/JkWr+rMmjCjqm5WQ4KdMr61KuIQkdoU54z/YuC3wD5mdhNBaeZvFrNTd18d9t8f5u5T3H1jMdvLNH3S2Fg/SXKVT9YFVBGpZ3Hm3L2L4O7dM4GbgXZ3X5ZsWMWZMr41d62JNLkSuS6gikg9izvn7ocJ+uInAv+UXDil01pEWWVdQBWRehZnOOePgC8Da4DHgS+Z2X8nHVixJh44MrK7JyqR6wKqiNSzOBd3PwwckrrL1szmE3wJVK3FqzpZuLJzh+6eluYBvN2zNdbdu7qAKiL1Kk7i7wDagOfD1/sAjyUWUQnkGse/2y47q6yBiDS8nIk/rR7/MOBJM3sofH0U8MfyhNc/1Tgqp57qBYlIbYtTj7/m5BrHX6lROaqoKSLVJG89/lpUbfX4q/2GMBFpLHGHc9aUKeNbOeWIVposGNfTZMYpR1TuYm01dj2JSOOqy8SfGtXTG5b773Vn4crOitXa0Q1hIlJN6jLx5+pauXDB6opU2tQNYSJSTaJG9ayBrJUPDHB3PyyxqIoUVaCtEhdW63kqSBGpPTmnXjSzfaNWdPfno94vpUKnXtx/5q+3dfPk0mTGVnclYRGpWwVPvVjOxF5q+ZJ++jIaWikijSZOrZ4JZvawmf3dzN41s14z21yO4PpreEtzQcunhlaKiDSCOBd3rwWmAn8GWoAvAtckGVSxrB/zg2lopYg0iji1enD3Z8ysyd17gblmVtUlG7ryzKebjYZWikijiJP43wqnSFxtZlcC64Fdkg2rOHGnXkzR0EoRaSRxunq+EC53LvAmQXXOk5MMqljZxs3nolr7ItJo4pzxT3H3q4G3gUsBzOwC4OpidmxmTcAKoNPdTyxmW5lSSfzCBasjl2syU5lmEWk4cc74z8jSdmYJ9n0B8GQJtpPVlPGtjBgcPbonzrBPEZF6E3Xn7lTgc8AYM7sj7a0hwN+K2amZ7Q38M/AfwNeK2VYui1d18ve3t0QuE2deXhGRehPV1fNHggu5ewA/SGt/g+Jn4LoK+CbBl0giZi/toGdr7jP65ibTBV0RaUj57tx9HvhgKXdoZicCr7r7SjP7SMRy04BpAG1tbQXvJ2pUz4jBzVz8yYN1QVdEGlJUV8/97n6smb1B32JtqSJtQ/u5z2OAk8zsE8AgYKiZ/cLdP5++kLvPAeZAUKunkB18e3H0XPCrvnN8QQGLiNSTnBd33f3Y8O8Qdx+a9hhSRNLH3We6+97uPho4DbgnM+kX6+YHXyzl5kRE6kqsO3fN7HDgWIIz//vdfVWiURVJo3VERHKLU6TtO8B8YHeCC73zzOzbpdi5uy8r9Rj+OCoxGYuISLXIWY9/2wJmTwLj3f3t8HUL8Ii7v68M8QGF1+MfPWNJ3mWM4OdLq+rxi0idylWPP84NXM8RXIRN2Rn4S4niSsTg5vwfK/V119nVzUULVjN6xhL9EhCRhhCnj/8dYK2Z3UWQLz8O3G9m/wXg7ucnGF+/dG/ZWtDy6V8CmpRFROpdnMR/W/hIWZZMKKVTzLXd1KQstZ74F6/q1By/IpJV3sTv7vNTz81sBLCPuxd7526imsyKGtlT65OyLF7VycxFa+ju6QX0S0ZE+oozqmeZmQ01s92ARwkmYvnP5EPrv6lH7RP5fr4Jump9UpbZSzu2Jf0UTS8pIilxLu4Oc/fNBDX457r7EcDHkg2rOO377pbzvSYzTp/Qtq1AW+aXQD1MypLrF0ut/5IRkdKI08c/0Mz2Ak4FZiUcT0lceufanO/1urNwZee2yVf61RfuDlu3Bn/TH+lt+d4PH795tJMfL3uGVzZ1s9eQnfnyh/Zj0sF7FrXNiW++yIbNb2M4A9wxdwxn5K47w/LlxcceM47E11EctRWHFK6pCTZsgBEjSrrZOIn/34ClwHJ3f9jM9iOYeL1qbQzn3P3kE/dxzZ2zsy/03eDPlPCxzcwkI9vRCeFjm+8Vv80bot78cfHbF5Ey6e2Fd94p+WbjXNy9Bbgl7fU64JSSR5KAtXvun9zGBwwAs76PfG0Z77/e3cMWN9wMB7baAByjqcl4z7CWfm0z1baxewt/3fwO727dysCmJvYaMZjddt25qG2WfZ1a2abiiP++xLatN+KqlSUfmZc38YeTplxDUFXTgfuBC9z9pZJEkKB1u+/N6G/9Kut7TWb84NRxeQ9k5ggZCK4DlGKe3iNmLOlT9jTFgGev+Oeitj0ifIhI7Ul6ZF6ci7tzgTuAUUArcGfYVtN63Zm5aE3eO3WTHCGTa/RQrY8qEpHiJD0yL07iH+nuc919S/iYB4wsyd4rLM6BTHKEzPRJY2lpburTVg+jikSkOEmPzItzcfc1M/s8cHP4eipFzrlbTTIPZOYon2EtzXR19+ywXinOylM/2ZK8w1Z38IrUnlHDW7LOIliq3oA4if9s4FrghwR9/H8M2+pC+oHM1q/W3GQ0D7A+8/eW8qx8yvjWxBKx7uAVqU3TJ43Nem2xVHknzqieF4CTSrK3KpN5ILP1q/X0OiMGNzN4p4E1d9Yc1U9YC/GLNKqkewOi5ty9BrIOOgGgGqtyphgRgYcGNw/gsoyRObn6z7re6omcp7dau1N0B69I7UqyNyDqjD995pNLgYsTiSAB+ZI+wFs9W/nXRY9x0YLV25J1f/rVqrk7Jel+QhGpTVGTrc9PPYCN6a/TK3bWsrd6tuJsT9YTDxxZ8Cibai6IplFD1WXxqk6OueIexmjSH6mwOMM5Id5JdE3r7unl3qc2cMoRrTSFdxg2mXHKEdE/t6q5O2XK+FYuP/lQWoe3YATTTJbixjMpXOqXYWdXd5+TDSV/qYQ4o3pKysz2AW4E3gNsBea4+9XljiObzq5uFq7s3FbLP1XQrX3f3XImy2rvTkmyn1Di04V2qSY5z/jN7A0z22xmm4HDUs9T7UXscwvw9XCy9gnAV83soCK2VzJNZgV326g7ReKo5l+G0nhynvG7+5Akduju64H14fM3zOxJglIQTySxv2zMgpE/aUPzaWlu2iHpp0T94yzHTVhS+6r9l6E0lrJ39aQzs9HAeODBcu73h6e+H9gxWc9e2tGvf5zqTpF8kr4hR6QQFUv8ZrYrsBC4MJzhK/P9acA0gLa2tpLue/bSDpbP+GjWZK1/nJIE/TKUalKRxG9mzQRJ/yZ3X5RtGXefA8wBaG9vL2hUUb7J1nN13ah2jiRJvwylWlRiVI8BPwOedPdEJm2PSvoAw1qaOeaKe7Im31L848yV3Kv5Zi8RaRyVOOM/BvgCsMbMVodt/+ruvy7VDvKVbNj8ds+2ipulTr5RyV1D+kSkGpQ98bv7/QS5Obl95Hl/a8YC3T29XHLH2pJ0wUQl9zhD+tQVJCJJq+ionmrS1V2aXwFRyT3fkL5G7wrSl55IecQt2VBTdtmpKf9CefS33k7UdIr5bvaq5ro/SVNJA5HyqcvE39xUmo/Vn7sqo5J7vto5jXx3ZyN/6YmUW1129WSbKjGbfBeB+3NXZb4hoVGjhhr57s5G/tITKbe6TPxxDYgY72/Q7xu3+jsktJHv7mzkLz2RcqvLrp64opL+6RPa+iTvctRSb+Qyyip2J1I+DX3Gn01rltEk5Rxt06h3d6qkgUj5KPFnWD7jozu06car8mjULz2Rcmvorp5MqZm3MunCo4jUEyX+NLn6/KPG5ouI1Bol/jStORK5LjyKSD1RH38oKpHrwqOI1BMl/tDOA6N//OjCo4jUCyX+UFd3T0MVRKsnKu4mUhj18adRbZjao+JuIoVT4s+gIZq1RcXdRAqnxJ9BQzRri+6xEClcwyb+5iajeUDfG7Y0RLP26B4LkcI1bOKf/elxzP7MuIYsiFZPdI+FSOEadlRPen18qV26x0KkcBVJ/GY2GbgaaAJ+6u5XlHP/uWrySG3SPRYihSl7V4+ZNQH/DZwAHARMNbODyhnD1KP2KefuRESqSiX6+I8EnnH3de7+LvA/wKfKtfPPT2jju1MOLdfuRESqTiUSfyvwYtrrl8K2PsxsmpmtMLMVGzZsKGwHOUZ0tA5vUdIXkYZXicSfrYN9h3rI7j7H3dvdvX3kyJEF7UAjPUREcqvExd2XgPRO9r2Bl0u5A430EBHJrRKJ/2HgADMbA3QCpwGfK/VONNJDRCS7sid+d99iZucCSwmGc4U47z0AAAdpSURBVN7g7mvLHYeISKOqyDh+d/818OtK7FtEpNE1bMkGEZFGpcQvItJglPhFRBqMue8whL7qmNkG4Pl+rr4H8FoJw0lCtcdY7fGBYiyFao8PFGOh9nX3HW6EqonEXwwzW+Hu7ZWOI0q1x1jt8YFiLIVqjw8UY6moq0dEpMEo8YuINJhGSPxzKh1ADNUeY7XHB4qxFKo9PlCMJVH3ffwiItJXI5zxi4hIGiV+EZFG4+51+wAmAx3AM8CMMuzvOWANsBpYEbbtBtwF/Dn8OyJt+ZlhbB3ApLT2I8LtPAP8F9u75HYGFoTtDwKj88RzA/Aq8HhaW1niAc4I9/Fn4IwCY7yEoHLr6vDxiUrFSFBC/F7gSWAtcEG1HceIGKvpOA4CHgIeDWO8tJqOY0R8VXMMS5qrkt5BpR4ElT//AuwH7BT+Bz0o4X0+B+yR0XYl4ZcOMAP4Xvj8oDCmnYExYaxN4XsPAR8kmLTmN8AJYftXgB+Hz08DFuSJ50PA4fRNqonHE/5jXhf+HRE+H1FAjJcA38iybNljBPYCDg+fDwGeDuOomuMYEWM1HUcDdg2fNxMkvgnVchwj4quaY1jKRz139VR0bt80nwLmh8/nA1PS2v/H3d9x92cJzgKONLO9gKHu/oAH/1fcmLFOalu3AseZWbYZzQBw998Dr1cgnknAXe7+urtvJDiTm1xAjLmUPUZ3X+/uj4TP3yA4q26lio5jRIzVdBzd3f8evmwOH14txzEivqo5hqVUz4k/1ty+JebA78xspZlNC9v2dPf1EPwDBf4hT3yt4fPM9j7ruPsWYBOwe4ExliOeUhz7c83sMTO7wcxGVEOMZjYaGE9wNliVxzEjRqii42hmTWa2mqBr7y53r6rjmCM+qKJjWCr1nPhjze1bYse4++HACcBXzexDEcvmii8q7iQ/UynjKTbO64D9gfcD64EfVDpGM9sVWAhc6O6bcy1XZTFW1XF09153fz/BdKtHmtkhOT5KRWLMEV9VHcNSqefEn/jcvpnc/eXw76vAbQTdTa+EP/8I/76aJ76XwufZ4t62jpkNBIYRv5skpRzxFHXs3f2V8B/hVuB6guNYsRjNrJkgod7k7ovC5qo6jtlirLbjmOLuXcAygu6MqjqOmfFV6zEsWlIXDyr9IJhdbB3BhZfUxd2DE9zfLsCQtOd/JPgfezZ9L15dGT4/mL4Xh9ax/eLQwwQXllIXhz4Rtn+VvheHfhkjrtH0vXCaeDwEF6meJbhQNSJ8vlsBMe6V9vwigr7UisQYbu9G4KqM9qo5jhExVtNxHAkMD5+3AH8ATqyW4xgRX9Ucw5LmqyQ3XukH8AmCEQ5/AWYlvK/9wv8RUsPBZoXtuwN3EwzTujv9PygwK4ytg/DKf9jeDjwevnct24eDDQJuIbiQ9BCwX56Ybib4edpDcFZxTrniAc4O258Bziowxp8TDId7DLgj4x9fWWMEjiX42f0YaUP6quk4RsRYTcfxMGBVGMvjwHfK+e8jX4wR8VXNMSzlQyUbREQaTD338YuISBZK/CIiDUaJX0SkwSjxi4g0GCV+EZEGo8QvdcHMdjez1eHjr2bWmfZ6p4xlLzSzwTG2uczMIifNNrOPmNmv+hnzaDP7XNrrM83s2v5sS6QQSvxSF9z9b+7+fg9uuf8x8MPUaw+K9KW7EMib+MtgNPC5fAuJlJoSv9QtMzvOzFaZ2ZqwwNbOZnY+MAq418zuDZe7zsxWmNlaM7s0xnYnm9lTZnY/cHJa+y7hfh4O9/upsH20mf3BzB4JH0eHq1wB/FP4q+SisG2Umf3WzP5sZleG6zeZ2Twzezz8LBchUoSBlQ5AJCGDgHnAce7+tJndCPxfd7/KzL4GTHT318JlZ7n762bWBNxtZoe5+2PZNmpmgwhqtnyU4C7LBWlvzwLucfezzWw48JCZ/S9B/ZmPu/vbZnYAwd3K7QQlCr7h7ieG2z6ToBjYeOAdoMPMriGoWNnq7oeEyw0vyRGShqUzfqlXTcCz7v50+Ho+waQv2ZxqZo8Q3LJ/MMEkG7kcGG73zx7c9v6LtPeOB2aEpX2XEXz5tBHUdr/ezNYQ3LIftf273X2Tu78NPAHsS1AHZj8zu8bMJgNR1UFF8tIZv9SrN+MsZGZjgG8AH3D3jWY2jyBhR8lV58SAU9y9I2MflwCvAOMITrbejtj2O2nPe4GBYVzjCCbs+CpwKkFtF5F+0Rm/1KtBwGgz+8fw9ReA+8LnbxBMUQgwlOBLYpOZ7Ukwl0KUp4AxZrZ/+Hpq2ntLgfPCWZUws/Fh+zBgvQelfb9A8GskM46czGwPYIC7LwT+H8FUlSL9pjN+qVdvA2cBt4S1zx8mGO0DMAf4jZmtd/eJZraKoKLqOmB51EbDfvppwBIzew24H0hNKPLvwFXAY2Hyf46gtO+PgIVm9hmCSdFTv0YeA7aY2aME1yM25thtKzDXzFInajPjHQKR7FSdU0SkwairR0SkwSjxi4g0GCV+EZEGo8QvItJglPhFRBqMEr+ISINR4hcRaTD/H86jVtI0IF/EAAAAAElFTkSuQmCC\n",
=======
      "image/png": "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\n",
>>>>>>> c6748ff9a0e8e121c95c64bfdcb4b48de5a411b2
      "text/plain": [
       "<Figure size 432x288 with 1 Axes>"
      ]
     },
     "metadata": {
      "needs_background": "light"
     },
     "output_type": "display_data"
    }
   ],
   "source": [
    "# Add the linear regression equation and line to plot\n",
    "x_values = covid_renamed_df['Total deaths']\n",
    "y_values = covid_renamed_df['Hospital beds per thousand']\n",
    "(slope, intercept, rvalue, pvalue, stderr) = linregress(x_values, y_values)\n",
    "regress_values = x_values * slope + intercept\n",
    "line_eq = \"y = \" + str(round(slope,2)) + \"x + \" + str(round(intercept,2))\n",
    "plt.scatter(x_values,y_values)\n",
    "plt.plot(x_values,regress_values,\"r-\")\n",
    "plt.annotate(line_eq,(6,10),fontsize=15,color=\"red\")\n",
    "plt.xlabel('Total deaths')\n",
    "plt.ylabel('Hospital beds per thousand')\n",
    "plt.show()"
   ]
  },
  {
   "cell_type": "code",
   "execution_count": 39,
   "metadata": {},
   "outputs": [
    {
     "name": "stdout",
     "output_type": "stream",
     "text": [
      "The r-squared is: 0.00010503868991530593\n"
     ]
    },
    {
     "data": {
<<<<<<< HEAD
      "image/png": "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\n",
=======
      "image/png": "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\n",
>>>>>>> c6748ff9a0e8e121c95c64bfdcb4b48de5a411b2
      "text/plain": [
       "<Figure size 432x288 with 1 Axes>"
      ]
     },
     "metadata": {
      "needs_background": "light"
     },
     "output_type": "display_data"
    }
   ],
   "source": [
    "# Print out the r-squared value along with the plot.\n",
    "x_values = covid_renamed_df['Total deaths']\n",
    "y_values = covid_renamed_df['Hospital beds per thousand']\n",
    "(slope, intercept, rvalue, pvalue, stderr) = linregress(x_values, y_values)\n",
    "regress_values = x_values * slope + intercept\n",
    "line_eq = \"y = \" + str(round(slope,2)) + \"x + \" + str(round(intercept,2))\n",
    "plt.scatter(x_values,y_values)\n",
    "plt.plot(x_values,regress_values,\"r-\")\n",
    "plt.annotate(line_eq,(6,10),fontsize=15,color=\"red\")\n",
    "plt.xlabel('Total deaths')\n",
    "plt.ylabel('Hospital beds per thousand')\n",
    "print(f\"The r-squared is: {rvalue**2}\")\n",
    "plt.show()"
   ]
  },
  {
   "cell_type": "code",
   "execution_count": 40,
   "metadata": {},
   "outputs": [
    {
     "data": {
      "image/png": "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\n",
      "text/plain": [
       "<Figure size 432x288 with 1 Axes>"
      ]
     },
     "metadata": {
      "needs_background": "light"
     },
     "output_type": "display_data"
    }
   ],
   "source": [
    "# Perform a linear regression on total deaths versus hospital beds per thousand\n",
    "vc_slope, vc_int, vc_r, vc_p, vc_std_err = stats.linregress(Total_deaths, Hospital_beds_per_thousand)\n",
    "\n",
    "# Create equation of line to calculate predicted hospital beds per thousand\n",
    "vc_fit = vc_slope * Total_deaths + vc_int\n",
    "\n",
    "# Plot the linear model on top of scatter plot \n",
    "Total_deaths = covid_renamed_df[\"Total deaths\"]\n",
    "Hospital_beds_per_thousand = covid_renamed_df[\"Hospital beds per thousand\"]\n",
    "plt.scatter(Total_deaths,Hospital_beds_per_thousand)\n",
    "plt.plot(Total_deaths,vc_fit,\"--\")\n",
    "##plt.xticks(Total deaths, rotation=90)???\n",
    "plt.xlabel('Total_deaths')\n",
    "plt.ylabel('Hospital beds per thousand')\n",
    "plt.show()"
   ]
  },
  {
   "cell_type": "code",
   "execution_count": 41,
   "metadata": {},
   "outputs": [],
   "source": [
    "#organized_df['continent'].value_counts()"
   ]
  },
  {
   "cell_type": "code",
   "execution_count": 42,
   "metadata": {},
   "outputs": [],
   "source": [
    "#organized_df['date'] = pd.to_datetime(organized_df[\"date\"])\n",
    "#organized_df['date']"
   ]
  },
  {
   "cell_type": "code",
   "execution_count": 43,
   "metadata": {},
   "outputs": [],
   "source": [
    "#organized_df['mnth_yr'] = organized_df['date'].apply(lambda x: x.strftime('%B-%Y')) \n",
    "#organized_df['month_year'] = organized_df['date'].dt.strftime('%B-%Y')\n",
    "#organized_df"
   ]
  },
  {
   "cell_type": "code",
   "execution_count": 44,
   "metadata": {},
   "outputs": [],
   "source": [
    "#organized_df[\"year\"] = organized_df[\"date\"].dt.year\n",
    "#organized_df[\"month\"] = organized_df[\"date\"].dt.month\n",
    "#organized_df"
   ]
  },
  {
   "cell_type": "code",
   "execution_count": 45,
   "metadata": {
    "scrolled": true
   },
   "outputs": [],
   "source": [
    "#organized_group = organized_df.groupby([\"location\", \"continent\"]).sum()\n",
    "#organized_group = organized_df.groupby([\"location\", \"continent\", \"new_deaths\", \"hospital_beds_per_thousand\"]).sum()\n",
    "#organized_group"
   ]
  },
  {
   "cell_type": "markdown",
   "metadata": {},
   "source": [
    "# Total Deaths vs Median age\n"
   ]
  },
  {
   "cell_type": "code",
   "execution_count": 46,
   "metadata": {},
   "outputs": [],
   "source": [
    "median_df = covid[[\"continent\", \"location\", \"new_deaths\", \"median_age\"]]"
   ]
  },
  {
   "cell_type": "code",
   "execution_count": 47,
   "metadata": {},
   "outputs": [
    {
     "data": {
      "text/html": [
       "<div>\n",
       "<style scoped>\n",
       "    .dataframe tbody tr th:only-of-type {\n",
       "        vertical-align: middle;\n",
       "    }\n",
       "\n",
       "    .dataframe tbody tr th {\n",
       "        vertical-align: top;\n",
       "    }\n",
       "\n",
       "    .dataframe thead th {\n",
       "        text-align: right;\n",
       "    }\n",
       "</style>\n",
       "<table border=\"1\" class=\"dataframe\">\n",
       "  <thead>\n",
       "    <tr style=\"text-align: right;\">\n",
       "      <th></th>\n",
       "      <th>continent</th>\n",
       "      <th>location</th>\n",
       "      <th>new_deaths</th>\n",
       "      <th>median_age</th>\n",
       "    </tr>\n",
       "  </thead>\n",
       "  <tbody>\n",
       "    <tr>\n",
       "      <th>0</th>\n",
       "      <td>Asia</td>\n",
       "      <td>Afghanistan</td>\n",
       "      <td>NaN</td>\n",
       "      <td>18.6</td>\n",
       "    </tr>\n",
       "    <tr>\n",
       "      <th>1</th>\n",
       "      <td>Asia</td>\n",
       "      <td>Afghanistan</td>\n",
       "      <td>NaN</td>\n",
       "      <td>18.6</td>\n",
       "    </tr>\n",
       "    <tr>\n",
       "      <th>2</th>\n",
       "      <td>Asia</td>\n",
       "      <td>Afghanistan</td>\n",
       "      <td>NaN</td>\n",
       "      <td>18.6</td>\n",
       "    </tr>\n",
       "    <tr>\n",
       "      <th>3</th>\n",
       "      <td>Asia</td>\n",
       "      <td>Afghanistan</td>\n",
       "      <td>NaN</td>\n",
       "      <td>18.6</td>\n",
       "    </tr>\n",
       "    <tr>\n",
       "      <th>4</th>\n",
       "      <td>Asia</td>\n",
       "      <td>Afghanistan</td>\n",
       "      <td>NaN</td>\n",
       "      <td>18.6</td>\n",
       "    </tr>\n",
       "  </tbody>\n",
       "</table>\n",
       "</div>"
      ],
      "text/plain": [
       "  continent     location new_deaths median_age\n",
       "0      Asia  Afghanistan        NaN       18.6\n",
       "1      Asia  Afghanistan        NaN       18.6\n",
       "2      Asia  Afghanistan        NaN       18.6\n",
       "3      Asia  Afghanistan        NaN       18.6\n",
       "4      Asia  Afghanistan        NaN       18.6"
      ]
     },
     "execution_count": 47,
     "metadata": {},
     "output_type": "execute_result"
    }
   ],
   "source": [
    "median_df.head()"
   ]
  },
  {
   "cell_type": "code",
   "execution_count": 48,
   "metadata": {},
   "outputs": [
    {
     "data": {
      "text/plain": [
       "continent     58624\n",
       "location      59319\n",
       "new_deaths    50364\n",
       "median_age    56440\n",
       "dtype: int64"
      ]
     },
     "execution_count": 48,
     "metadata": {},
     "output_type": "execute_result"
    }
   ],
   "source": [
    "median_df.count()"
   ]
  },
  {
   "cell_type": "code",
   "execution_count": 49,
   "metadata": {},
   "outputs": [],
   "source": [
    "median_df = median_df.dropna(how='any')"
   ]
  },
  {
   "cell_type": "code",
   "execution_count": 50,
   "metadata": {},
   "outputs": [
    {
     "data": {
      "text/plain": [
       "continent     48210\n",
       "location      48210\n",
       "new_deaths    48210\n",
       "median_age    48210\n",
       "dtype: int64"
      ]
     },
     "execution_count": 50,
     "metadata": {},
     "output_type": "execute_result"
    }
   ],
   "source": [
    "median_df.count()"
   ]
  },
  {
   "cell_type": "code",
   "execution_count": 51,
   "metadata": {},
   "outputs": [
    {
     "data": {
      "text/html": [
       "<div>\n",
       "<style scoped>\n",
       "    .dataframe tbody tr th:only-of-type {\n",
       "        vertical-align: middle;\n",
       "    }\n",
       "\n",
       "    .dataframe tbody tr th {\n",
       "        vertical-align: top;\n",
       "    }\n",
       "\n",
       "    .dataframe thead th {\n",
       "        text-align: right;\n",
       "    }\n",
       "</style>\n",
       "<table border=\"1\" class=\"dataframe\">\n",
       "  <thead>\n",
       "    <tr style=\"text-align: right;\">\n",
       "      <th></th>\n",
       "      <th>continent</th>\n",
       "      <th>location</th>\n",
       "      <th>new_deaths</th>\n",
       "      <th>median_age</th>\n",
       "    </tr>\n",
       "  </thead>\n",
       "  <tbody>\n",
       "    <tr>\n",
       "      <th>27</th>\n",
       "      <td>Asia</td>\n",
       "      <td>Afghanistan</td>\n",
       "      <td>1</td>\n",
       "      <td>18.6</td>\n",
       "    </tr>\n",
       "    <tr>\n",
       "      <th>28</th>\n",
       "      <td>Asia</td>\n",
       "      <td>Afghanistan</td>\n",
       "      <td>0</td>\n",
       "      <td>18.6</td>\n",
       "    </tr>\n",
       "    <tr>\n",
       "      <th>29</th>\n",
       "      <td>Asia</td>\n",
       "      <td>Afghanistan</td>\n",
       "      <td>0</td>\n",
       "      <td>18.6</td>\n",
       "    </tr>\n",
       "    <tr>\n",
       "      <th>30</th>\n",
       "      <td>Asia</td>\n",
       "      <td>Afghanistan</td>\n",
       "      <td>1</td>\n",
       "      <td>18.6</td>\n",
       "    </tr>\n",
       "    <tr>\n",
       "      <th>31</th>\n",
       "      <td>Asia</td>\n",
       "      <td>Afghanistan</td>\n",
       "      <td>1</td>\n",
       "      <td>18.6</td>\n",
       "    </tr>\n",
       "    <tr>\n",
       "      <th>...</th>\n",
       "      <td>...</td>\n",
       "      <td>...</td>\n",
       "      <td>...</td>\n",
       "      <td>...</td>\n",
       "    </tr>\n",
       "    <tr>\n",
       "      <th>59314</th>\n",
       "      <td>Africa</td>\n",
       "      <td>Zimbabwe</td>\n",
       "      <td>13</td>\n",
       "      <td>19.6</td>\n",
       "    </tr>\n",
       "    <tr>\n",
       "      <th>59315</th>\n",
       "      <td>Africa</td>\n",
       "      <td>Zimbabwe</td>\n",
       "      <td>15</td>\n",
       "      <td>19.6</td>\n",
       "    </tr>\n",
       "    <tr>\n",
       "      <th>59316</th>\n",
       "      <td>Africa</td>\n",
       "      <td>Zimbabwe</td>\n",
       "      <td>22</td>\n",
       "      <td>19.6</td>\n",
       "    </tr>\n",
       "    <tr>\n",
       "      <th>59317</th>\n",
       "      <td>Africa</td>\n",
       "      <td>Zimbabwe</td>\n",
       "      <td>15</td>\n",
       "      <td>19.6</td>\n",
       "    </tr>\n",
       "    <tr>\n",
       "      <th>59318</th>\n",
       "      <td>Africa</td>\n",
       "      <td>Zimbabwe</td>\n",
       "      <td>24</td>\n",
       "      <td>19.6</td>\n",
       "    </tr>\n",
       "  </tbody>\n",
       "</table>\n",
       "<p>48210 rows × 4 columns</p>\n",
       "</div>"
      ],
      "text/plain": [
       "      continent     location new_deaths median_age\n",
       "27         Asia  Afghanistan          1       18.6\n",
       "28         Asia  Afghanistan          0       18.6\n",
       "29         Asia  Afghanistan          0       18.6\n",
       "30         Asia  Afghanistan          1       18.6\n",
       "31         Asia  Afghanistan          1       18.6\n",
       "...         ...          ...        ...        ...\n",
       "59314    Africa     Zimbabwe         13       19.6\n",
       "59315    Africa     Zimbabwe         15       19.6\n",
       "59316    Africa     Zimbabwe         22       19.6\n",
       "59317    Africa     Zimbabwe         15       19.6\n",
       "59318    Africa     Zimbabwe         24       19.6\n",
       "\n",
       "[48210 rows x 4 columns]"
      ]
     },
     "execution_count": 51,
     "metadata": {},
     "output_type": "execute_result"
    }
   ],
   "source": [
    "median_df"
   ]
  },
  {
   "cell_type": "code",
   "execution_count": 52,
   "metadata": {},
   "outputs": [
    {
     "name": "stdout",
     "output_type": "stream",
     "text": [
      "continent     object\n",
      "location      object\n",
      "new_deaths    object\n",
      "median_age    object\n",
      "dtype: object\n"
     ]
    }
   ],
   "source": [
    "print(median_df.dtypes)"
   ]
  },
  {
   "cell_type": "code",
   "execution_count": 53,
   "metadata": {
    "scrolled": true
   },
   "outputs": [],
   "source": [
    "median_df['new_deaths'] = pd.to_numeric(median_df['new_deaths'])\n",
    "median_df['median_age'] = pd.to_numeric(median_df['median_age'])"
   ]
  },
  {
   "cell_type": "code",
   "execution_count": 54,
   "metadata": {},
   "outputs": [
    {
     "name": "stdout",
     "output_type": "stream",
     "text": [
      "continent      object\n",
      "location       object\n",
      "new_deaths      int64\n",
      "median_age    float64\n",
      "dtype: object\n"
     ]
    }
   ],
   "source": [
    "print(median_df.dtypes)"
   ]
  },
  {
   "cell_type": "code",
   "execution_count": 55,
   "metadata": {},
   "outputs": [
    {
     "data": {
      "text/html": [
       "<div>\n",
       "<style scoped>\n",
       "    .dataframe tbody tr th:only-of-type {\n",
       "        vertical-align: middle;\n",
       "    }\n",
       "\n",
       "    .dataframe tbody tr th {\n",
       "        vertical-align: top;\n",
       "    }\n",
       "\n",
       "    .dataframe thead th {\n",
       "        text-align: right;\n",
       "    }\n",
       "</style>\n",
       "<table border=\"1\" class=\"dataframe\">\n",
       "  <thead>\n",
       "    <tr style=\"text-align: right;\">\n",
       "      <th></th>\n",
       "      <th></th>\n",
       "      <th>new_deaths</th>\n",
       "      <th>median_age</th>\n",
       "    </tr>\n",
       "    <tr>\n",
       "      <th>continent</th>\n",
       "      <th>location</th>\n",
       "      <th></th>\n",
       "      <th></th>\n",
       "    </tr>\n",
       "  </thead>\n",
       "  <tbody>\n",
       "    <tr>\n",
       "      <th rowspan=\"20\" valign=\"top\">Africa</th>\n",
       "      <th>Algeria</th>\n",
       "      <td>305</td>\n",
       "      <td>305</td>\n",
       "    </tr>\n",
       "    <tr>\n",
       "      <th>Angola</th>\n",
       "      <td>288</td>\n",
       "      <td>288</td>\n",
       "    </tr>\n",
       "    <tr>\n",
       "      <th>Benin</th>\n",
       "      <td>280</td>\n",
       "      <td>280</td>\n",
       "    </tr>\n",
       "    <tr>\n",
       "      <th>Botswana</th>\n",
       "      <td>286</td>\n",
       "      <td>286</td>\n",
       "    </tr>\n",
       "    <tr>\n",
       "      <th>Burkina Faso</th>\n",
       "      <td>299</td>\n",
       "      <td>299</td>\n",
       "    </tr>\n",
       "    <tr>\n",
       "      <th>Burundi</th>\n",
       "      <td>273</td>\n",
       "      <td>273</td>\n",
       "    </tr>\n",
       "    <tr>\n",
       "      <th>Cameroon</th>\n",
       "      <td>292</td>\n",
       "      <td>292</td>\n",
       "    </tr>\n",
       "    <tr>\n",
       "      <th>Cape Verde</th>\n",
       "      <td>293</td>\n",
       "      <td>293</td>\n",
       "    </tr>\n",
       "    <tr>\n",
       "      <th>Central African Republic</th>\n",
       "      <td>233</td>\n",
       "      <td>233</td>\n",
       "    </tr>\n",
       "    <tr>\n",
       "      <th>Chad</th>\n",
       "      <td>258</td>\n",
       "      <td>258</td>\n",
       "    </tr>\n",
       "    <tr>\n",
       "      <th>Comoros</th>\n",
       "      <td>250</td>\n",
       "      <td>250</td>\n",
       "    </tr>\n",
       "    <tr>\n",
       "      <th>Congo</th>\n",
       "      <td>284</td>\n",
       "      <td>284</td>\n",
       "    </tr>\n",
       "    <tr>\n",
       "      <th>Cote d'Ivoire</th>\n",
       "      <td>288</td>\n",
       "      <td>288</td>\n",
       "    </tr>\n",
       "    <tr>\n",
       "      <th>Democratic Republic of Congo</th>\n",
       "      <td>296</td>\n",
       "      <td>296</td>\n",
       "    </tr>\n",
       "    <tr>\n",
       "      <th>Djibouti</th>\n",
       "      <td>276</td>\n",
       "      <td>276</td>\n",
       "    </tr>\n",
       "    <tr>\n",
       "      <th>Egypt</th>\n",
       "      <td>309</td>\n",
       "      <td>309</td>\n",
       "    </tr>\n",
       "    <tr>\n",
       "      <th>Equatorial Guinea</th>\n",
       "      <td>264</td>\n",
       "      <td>264</td>\n",
       "    </tr>\n",
       "    <tr>\n",
       "      <th>Eritrea</th>\n",
       "      <td>20</td>\n",
       "      <td>20</td>\n",
       "    </tr>\n",
       "    <tr>\n",
       "      <th>Eswatini</th>\n",
       "      <td>270</td>\n",
       "      <td>270</td>\n",
       "    </tr>\n",
       "    <tr>\n",
       "      <th>Ethiopia</th>\n",
       "      <td>281</td>\n",
       "      <td>281</td>\n",
       "    </tr>\n",
       "  </tbody>\n",
       "</table>\n",
       "</div>"
      ],
      "text/plain": [
       "                                        new_deaths  median_age\n",
       "continent location                                            \n",
       "Africa    Algeria                              305         305\n",
       "          Angola                               288         288\n",
       "          Benin                                280         280\n",
       "          Botswana                             286         286\n",
       "          Burkina Faso                         299         299\n",
       "          Burundi                              273         273\n",
       "          Cameroon                             292         292\n",
       "          Cape Verde                           293         293\n",
       "          Central African Republic             233         233\n",
       "          Chad                                 258         258\n",
       "          Comoros                              250         250\n",
       "          Congo                                284         284\n",
       "          Cote d'Ivoire                        288         288\n",
       "          Democratic Republic of Congo         296         296\n",
       "          Djibouti                             276         276\n",
       "          Egypt                                309         309\n",
       "          Equatorial Guinea                    264         264\n",
       "          Eritrea                               20          20\n",
       "          Eswatini                             270         270\n",
       "          Ethiopia                             281         281"
      ]
     },
     "execution_count": 55,
     "metadata": {},
     "output_type": "execute_result"
    }
   ],
   "source": [
    "grouped_median_data = median_df.groupby(['continent', 'location'])\n",
    "\n",
    "grouped_median_data.count().head(20)"
   ]
  },
  {
   "cell_type": "code",
   "execution_count": 56,
   "metadata": {},
   "outputs": [
    {
     "data": {
      "text/html": [
       "<div>\n",
       "<style scoped>\n",
       "    .dataframe tbody tr th:only-of-type {\n",
       "        vertical-align: middle;\n",
       "    }\n",
       "\n",
       "    .dataframe tbody tr th {\n",
       "        vertical-align: top;\n",
       "    }\n",
       "\n",
       "    .dataframe thead th {\n",
       "        text-align: right;\n",
       "    }\n",
       "</style>\n",
       "<table border=\"1\" class=\"dataframe\">\n",
       "  <thead>\n",
       "    <tr style=\"text-align: right;\">\n",
       "      <th></th>\n",
       "      <th></th>\n",
       "      <th>new_deaths</th>\n",
       "      <th>median_age</th>\n",
       "    </tr>\n",
       "    <tr>\n",
       "      <th>continent</th>\n",
       "      <th>location</th>\n",
       "      <th></th>\n",
       "      <th></th>\n",
       "    </tr>\n",
       "  </thead>\n",
       "  <tbody>\n",
       "    <tr>\n",
       "      <th rowspan=\"5\" valign=\"top\">Africa</th>\n",
       "      <th>Algeria</th>\n",
       "      <td>2807</td>\n",
       "      <td>29.1</td>\n",
       "    </tr>\n",
       "    <tr>\n",
       "      <th>Angola</th>\n",
       "      <td>416</td>\n",
       "      <td>16.8</td>\n",
       "    </tr>\n",
       "    <tr>\n",
       "      <th>Benin</th>\n",
       "      <td>44</td>\n",
       "      <td>18.8</td>\n",
       "    </tr>\n",
       "    <tr>\n",
       "      <th>Botswana</th>\n",
       "      <td>48</td>\n",
       "      <td>25.8</td>\n",
       "    </tr>\n",
       "    <tr>\n",
       "      <th>Burkina Faso</th>\n",
       "      <td>89</td>\n",
       "      <td>17.6</td>\n",
       "    </tr>\n",
       "    <tr>\n",
       "      <th>...</th>\n",
       "      <th>...</th>\n",
       "      <td>...</td>\n",
       "      <td>...</td>\n",
       "    </tr>\n",
       "    <tr>\n",
       "      <th rowspan=\"5\" valign=\"top\">South America</th>\n",
       "      <th>Paraguay</th>\n",
       "      <td>2405</td>\n",
       "      <td>26.5</td>\n",
       "    </tr>\n",
       "    <tr>\n",
       "      <th>Peru</th>\n",
       "      <td>38049</td>\n",
       "      <td>29.1</td>\n",
       "    </tr>\n",
       "    <tr>\n",
       "      <th>Suriname</th>\n",
       "      <td>133</td>\n",
       "      <td>29.6</td>\n",
       "    </tr>\n",
       "    <tr>\n",
       "      <th>Uruguay</th>\n",
       "      <td>256</td>\n",
       "      <td>35.6</td>\n",
       "    </tr>\n",
       "    <tr>\n",
       "      <th>Venezuela</th>\n",
       "      <td>1061</td>\n",
       "      <td>29.0</td>\n",
       "    </tr>\n",
       "  </tbody>\n",
       "</table>\n",
       "<p>170 rows × 2 columns</p>\n",
       "</div>"
      ],
      "text/plain": [
       "                            new_deaths  median_age\n",
       "continent     location                            \n",
       "Africa        Algeria             2807        29.1\n",
       "              Angola               416        16.8\n",
       "              Benin                 44        18.8\n",
       "              Botswana              48        25.8\n",
       "              Burkina Faso          89        17.6\n",
       "...                                ...         ...\n",
       "South America Paraguay            2405        26.5\n",
       "              Peru               38049        29.1\n",
       "              Suriname             133        29.6\n",
       "              Uruguay              256        35.6\n",
       "              Venezuela           1061        29.0\n",
       "\n",
       "[170 rows x 2 columns]"
      ]
     },
     "execution_count": 56,
     "metadata": {},
     "output_type": "execute_result"
    }
   ],
   "source": [
    "grouped_median_data = median_df.groupby(['continent', 'location']).agg({'new_deaths':'sum','median_age':'mean'})\n",
    "grouped_median_data"
   ]
  },
  {
   "cell_type": "code",
   "execution_count": 57,
   "metadata": {},
   "outputs": [
    {
     "data": {
      "text/html": [
       "<div>\n",
       "<style scoped>\n",
       "    .dataframe tbody tr th:only-of-type {\n",
       "        vertical-align: middle;\n",
       "    }\n",
       "\n",
       "    .dataframe tbody tr th {\n",
       "        vertical-align: top;\n",
       "    }\n",
       "\n",
       "    .dataframe thead th {\n",
       "        text-align: right;\n",
       "    }\n",
       "</style>\n",
       "<table border=\"1\" class=\"dataframe\">\n",
       "  <thead>\n",
       "    <tr style=\"text-align: right;\">\n",
       "      <th></th>\n",
       "      <th></th>\n",
       "      <th>Total Deaths</th>\n",
       "      <th>Median Age</th>\n",
       "    </tr>\n",
       "    <tr>\n",
       "      <th>continent</th>\n",
       "      <th>location</th>\n",
       "      <th></th>\n",
       "      <th></th>\n",
       "    </tr>\n",
       "  </thead>\n",
       "  <tbody>\n",
       "    <tr>\n",
       "      <th rowspan=\"5\" valign=\"top\">Africa</th>\n",
       "      <th>Algeria</th>\n",
       "      <td>2807</td>\n",
       "      <td>29.1</td>\n",
       "    </tr>\n",
       "    <tr>\n",
       "      <th>Angola</th>\n",
       "      <td>416</td>\n",
       "      <td>16.8</td>\n",
       "    </tr>\n",
       "    <tr>\n",
       "      <th>Benin</th>\n",
       "      <td>44</td>\n",
       "      <td>18.8</td>\n",
       "    </tr>\n",
       "    <tr>\n",
       "      <th>Botswana</th>\n",
       "      <td>48</td>\n",
       "      <td>25.8</td>\n",
       "    </tr>\n",
       "    <tr>\n",
       "      <th>Burkina Faso</th>\n",
       "      <td>89</td>\n",
       "      <td>17.6</td>\n",
       "    </tr>\n",
       "    <tr>\n",
       "      <th>...</th>\n",
       "      <th>...</th>\n",
       "      <td>...</td>\n",
       "      <td>...</td>\n",
       "    </tr>\n",
       "    <tr>\n",
       "      <th rowspan=\"5\" valign=\"top\">South America</th>\n",
       "      <th>Paraguay</th>\n",
       "      <td>2405</td>\n",
       "      <td>26.5</td>\n",
       "    </tr>\n",
       "    <tr>\n",
       "      <th>Peru</th>\n",
       "      <td>38049</td>\n",
       "      <td>29.1</td>\n",
       "    </tr>\n",
       "    <tr>\n",
       "      <th>Suriname</th>\n",
       "      <td>133</td>\n",
       "      <td>29.6</td>\n",
       "    </tr>\n",
       "    <tr>\n",
       "      <th>Uruguay</th>\n",
       "      <td>256</td>\n",
       "      <td>35.6</td>\n",
       "    </tr>\n",
       "    <tr>\n",
       "      <th>Venezuela</th>\n",
       "      <td>1061</td>\n",
       "      <td>29.0</td>\n",
       "    </tr>\n",
       "  </tbody>\n",
       "</table>\n",
       "<p>170 rows × 2 columns</p>\n",
       "</div>"
      ],
      "text/plain": [
       "                            Total Deaths  Median Age\n",
       "continent     location                              \n",
       "Africa        Algeria               2807        29.1\n",
       "              Angola                 416        16.8\n",
       "              Benin                   44        18.8\n",
       "              Botswana                48        25.8\n",
       "              Burkina Faso            89        17.6\n",
       "...                                  ...         ...\n",
       "South America Paraguay              2405        26.5\n",
       "              Peru                 38049        29.1\n",
       "              Suriname               133        29.6\n",
       "              Uruguay                256        35.6\n",
       "              Venezuela             1061        29.0\n",
       "\n",
       "[170 rows x 2 columns]"
      ]
     },
     "execution_count": 57,
     "metadata": {},
     "output_type": "execute_result"
    }
   ],
   "source": [
    "median_renamed_df = grouped_median_data.rename(columns={\"new_deaths\": \"Total Deaths\", \"median_age\": \"Median Age\"})\n",
    "median_renamed_df"
   ]
  },
  {
   "cell_type": "code",
   "execution_count": 58,
   "metadata": {},
   "outputs": [
    {
     "data": {
      "image/png": "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\n",
      "text/plain": [
       "<Figure size 576x576 with 1 Axes>"
      ]
     },
     "metadata": {
      "needs_background": "light"
     },
     "output_type": "display_data"
    }
   ],
   "source": [
    "median_renamed_df.plot(kind=\"scatter\", x=\"Total Deaths\", y=\"Median Age\", grid=True, figsize=(8,8),\n",
    "              title=\"Total Deaths Vs. Median Age\")\n",
    "plt.show()"
   ]
  },
  {
   "cell_type": "code",
   "execution_count": 59,
   "metadata": {},
   "outputs": [
    {
     "data": {
      "image/png": "iVBORw0KGgoAAAANSUhEUgAAAf4AAAHwCAYAAABHZQ1VAAAABHNCSVQICAgIfAhkiAAAAAlwSFlzAAALEgAACxIB0t1+/AAAADh0RVh0U29mdHdhcmUAbWF0cGxvdGxpYiB2ZXJzaW9uMy4yLjIsIGh0dHA6Ly9tYXRwbG90bGliLm9yZy+WH4yJAAAgAElEQVR4nO3de5ycVX348c93ZjebwAaCSYyBBJEGsYGSKFSwoZqI9oeKsf6gVitga5Fe1NrWNnipCtIb2Fpr9VeL6E+sl5/UWEHUtipEK9VYaEPkIkoVSMJNYgJZTDa7O+f3x/NMMrvZy+xlduaZ+bxfr33tzDMzz3POZrPf55zzPedESglJktQZSs0ugCRJmj0GfkmSOoiBX5KkDmLglySpgxj4JUnqIAZ+SZI6iIFfmoSISBGxotnlqIqIeyPiBc0ux2yrrXdEvC0irm52maSiMPCrLUREX81XJSL21jx/9RifWRsR22ewDJsiYl9E7ImIxyPi1oh4S0T0zND5PxYRfzoT5xpx3u9FxGtHOf6miLhlmufelN8srRpx/PP58bXTOT9ASunPU0oXTfc8Y4mIw/Pfoy816hrSbDLwqy2klHqrX8D9wEtrjn1yFovyhpTSfGAp8GbglcCXIiJmsQyTdQ1w4SjHL8hfm67v154/IhYCZwA/noFzz4bzgH7glyJiabMLI02XgV9tLSJ6IuJ9EfFA/vW+/NjhwJeBo2t6Bo6OiGdHxLciYndEPBgRH4iIOZO9bkrpiZTSJmA98BzgJXl5SnkvwP9ExM6IuDYinlRT3n+KiIci4rGI+EZEnJQfvxh4NbAhL+sXai63OiK25p/5TETMzT+zKCJuyOvyk4j494gY7f/8PwJnRsRTa8rxs8ApwKfz578eET/MezN+NFYvyhg+CfxqRJTz568C/hnYX3O9iX4uF0TEfflrb689eURcGhGfmOhnmL/2sYj4YER8Ma/L5oj4mQnK/xrgQ8BWsn+D2ms/KyL+Oz/XP+U//z+tef2ciNiS/xv8R0ScUu8PTWoUA7/a3dvJWpergVXAs4E/SSk9AbwIeKCmZ+ABYAj4A2ARWcA+C/jdqV48pXQ/cAvwi/mh3wN+GXgecDSwC/hgzUe+DJwAPBn4L7KgSUrpqvzxlXlZX1rzmVcAZwNPIwvWv54ffzOwHVgMLAHeBhyyRndKaTtwE1kLv+pC4EsppUfzm6T3Ay/KezN+AdgyiR/DA8CdwC/VnPvjI94z5s8lIlYCf5+X72hgIbBsnOuN+jOs8SrgMuAo4B7gz8Y6UUQcC6zNz/FJhvdczCG7gfkY8CSym6SX17z+LOCjwG/lZf4H4PqZGvqRpsrAr3b3auDdKaVHUko/JvuDf8FYb04p3ZpS+nZKaTCldC/ZH+vnTbMMD5AFBsiCwNtTSttTSv3ApcB5EdGVX/+jKaU9Na+tiogjJzj/+1NKD6SUfgJ8gewmB2CAbMjhqSmlgZTSv6exN+e4hvznkvcKvJrh3fwV4OSImJdSejCldEfdtc98HLgwIk4EFqSUvjXi9fF+LucBN6SUvpG/9o68PKOq42f4uZTSd1JKg2TBfPVo58ldCGxNKd1JFthPiohn5q+dAXSR/fwHUkqfA75T89nXAf+QUtqcUhpKKV1DNmRwxjjXkxrOwK92dzRwX83z+/Jjo4qIp+fd4w9FxOPAn5O1/qfjGOAn+eOnAv+cd/3uBu4i62VYEhHliPjLvLv7ceDe/DMTXf+hmsc/BXrzx+8ha9H+W95N/5ZxzvE5YGlEnEHWwj0M+CJkwxbArwK/DTyYd5M/Y6JKj3L+5wNvJBtaGGnMnwvZv9e26hvz8uwc7SJ1/gzH+nmN5kIO9ro8AHydrOufvFw7RtxMbat5/FTgzdU65fVazji/f9JsMPCr3T1A9ge46tj8GIzS7U3Wpfw94ISU0hFk3eNTTsyLiOXAqcC/54e2kXWZL6j5mptS2gH8GvAy4AXAkcBx1dOMU94x5a3eN6eUjgdeCvxhRJw1xnt/CnyWLNBdAPy/lNL+mtf/NaX0QrIehO8BH55kWX5K1gX/O4we+Mf7uTxIFjABiIjDyLrORzPRz7BuEfELZEMGb81vBB8CTgdelfdEPAgcEzEscXN5zeNtwJ+NqNNhKaVPT7Ys0kwy8KvdfRr4k4hYHBGLgHcC1USwh4GFI7qB5wOPA315q/Z3pnLRiDgsIp4HXEfW/VudCvYh4M+qiXR5uV5Wc+1+stbsYWS9DbUeBo6fRBnOiYgVeWB6nKwFPTTOR64ha9mfS003f0QsiYj1+Vh/P9A3wXnG8jbgefkQykjj/Vw+C5wTEWfm4+rvZuy/XRP9DCfjNcBXgJVkwwGrgZPz874I+BbZz+ENEdGVl/fZNZ//MPDbEXF6ZA6PiJdExPxplEmaNgO/2t2fkiXXbQW+S5bs9acAKaXvkd0Y/DDvij0a+COyVuMesj/cn5nk9T4QEXvIgvT7gI3A2Sml6pj03wLXk3W/7wG+TdaKhGwc/D5gB1ky3LdHnPsjwMq8rJ+voywnAF8lC9TfAv5PPtNgLN8AHiPrvv7PmuMlskTBB8iGLJ5HnvAYEb8YEX11lIU8D+GbY7w85s8lzyd4PfApslb2LrKkxdFM9DOsS2QzI14B/F1K6aGarx+R9Vi8Ju8R+d/AbwK7gfOBG8huPEgp3UI2zv+BvMz3cDDxUmqaGDvXR5I0GRGxGfhQSun/Nrss0lhs8UvSFEXE8yLiKXlX/2vIplP+S7PLJY2nq9kFkKQCOxG4lmxmwP8A56WUHmxukaTx2dUvSVIHsatfkqQOYuCXJKmDFGKMf8GCBWnFipbZAn3KnnjiCQ4//PBmF2Na2qEO0B71aIc6gPVoJe1QB2iPetx6662PppQWN+LchQj8S5Ys4ZZbprUteEvYtGkTa9eubXYxpqUd6gDtUY92qANYj1bSDnWA9qhHRNw38bumxq5+SZI6iIFfkqQOYuCXJKmDGPglSeogBn5JkjqIgV+SpA5i4JckqYMY+CVJ6iAGfkmSOoiBX5KkDmLglySpgxj4JUnqIAZ+SZI6iIFfkqQOYuCXJKmDdFTg39nXz23bdrOzr7/ZRZEkqSm6ml2A2XLdlh1csnEr3aUSA5UKV557CutXH9PsYkmSNKs6osW/s6+fSzZuZd9AhT39g+wbqLBh41Zb/pKkjtMRgX/7rr10l4ZXtbtUYvuuvU0qkSRpOhy6nbqO6OpfdtQ8BiqVYccGKhWWHTWvSSWSJE2VQ7fT0xEt/oW9PVx57inM7S4xv6eLud0lrjz3FBb29jS7aJKkSXDodvo6osUPsH71MaxZsYjtu/ay7Kh5Bn1JKqDq0O0+DvbiVodu/bten44J/JC1/P3FkKTicuh2+jqiq1+S1B4cup2+jmrxS5KKz6Hb6THwS5IKx6HbqbOrX5KkDmLglySpgxj4JUnqIAZ+SZI6iIFfkqQOYuCXJKmDGPglSeogBn5JkjqIgV9qE+5PLqkertwntQH3J5dUL1v8UsG5P7mkyTDwSwVX3Z+8VnV/ckkaycAvFZz7k0uaDAP/NJhMpVbg/uSSJsPkvikymUqtxP3JJdXLwD8FtclU+8i6WDds3MqaFYv8g6umcX9ySfWwq38KTKaSJBWVgX8KTKaSJBWVgX8KTKaSJBWVY/xTZDKVJKmIDPzTYDKVJKlo7OqX1NJcL0OaWbb4JbUs18uQZp4t/pytCqm1uPmQ1Bi2+LFVIbWi6noZ1UWy4OB6GebWSFPX8S1+WxVSa3K9DKkxGh74I6IcEf8dETfkzy+NiB0RsSX/enGjyzAeV+GTWpPrZUiNMRtd/W8C7gKOqDn2Nymlv5qFa0/IVoXUulwvQ5p5DW3xR8Qy4CXA1Y28znTYqpBa28LeHlYtX+D/SWmGNLrF/z5gAzB/xPE3RMSFwC3Am1NKuxpcjnHZqpAkdYpIKTXmxBHnAC9OKf1uRKwF/iildE5ELAEeBRJwObA0pfTaUT5/MXAxwOLFi0+99tprG1LO6RqqJPYPVZhTLlEuxbjv7evro7e3d5ZK1hjtUAdoj3q0Qx3AerSSdqgDtEc91q1bd2tK6bRGnLuRgf8vgAuAQWAu2Rj/51JK59e85zjghpTSyeOd68QTT0x33313Q8o5HZOdBrhp0ybWrl07ewVsgHaoA7RHPdqhDmA9Wkk71AHaox4R0bDA37Ax/pTSW1NKy1JKxwGvBG5MKZ0fEUtr3vZy4PZGlaGRnAYoSSqiZizgc2VErCbr6r8X+K1GXWhnX3/Dxu1dXESSVESzEvhTSpuATfnjC2bjmjO5Gt9oNxBOA5QkFVFbrtw3k93w123ZwZorbuT8qzez5oobuX7LDsBpgJKkYmrLtfpnqhu+9gaieq4NG7eyZsUiFvb2OA1QklQ4bRn4Z6obvp4biIW9PQZ8SVJhtGVX/0x1wzuOL0lqN23Z4oeJV+OrJ+O/egOxYUSSoC18SVJRFS7wT2aK3ljd8JPJ+HccX5LUTgoV+Gdiit5ECXujcRxfktQuCjPGP1NT9KoJe7WqCXuSJLW7wgT+mQrYJuxJkjpZYQL/TAVsF96RJHWywozx15NhX2/inwl7kqROVZjAD8MD9uFzyjyxf4idff0s7O2ZdOJfMxP2Grl5kCRJ4ylU4IcsYH/znkeHBfl3vGQll3/xzkll6jfLVGYmeKMgSZophQv8o03Hu+wLdzCna/TEv1YKlEOVVPdUwmqwv33HY1z+xTtnZJdBSZIKF/hHXT+/XGL/UBr2vlbM1N8/VKlr86Bqr0BXKejrHwJo+Z4MSVIxFCar/7Ztu9nZ1z9qdv9QSrzrpSublqm/s6//QPnGM6dcmnBmQm2PRjXo13LNAUnSdBSixb93YIjzr958oKt7tOz+9auP4eyTnjLrY+GTGbMvl2LCmQmj9WjUmk5PhrkCkqRCBH6APf2DQNbVffMlz+fmS55/SBCb7Uz9qSz/O9FUwtF6NAAOn1NmKKUp92TMxHLHkqTiK0zgrypFcMcDj/Hcpz+56a3WUfMN6kgqHO8GZbT1Ct5xzkpOPvrIKbfUp3KDIklqT4UL/D/dP8TrPn4L7zlvVdNbrI1a/nemFxia6g2KJKn9FCa5r1b/YJrSBj0zrZHL/y7s7WHV8gUzci73J5AkVRWuxV/VKi3WIiz/W89yx5KkzlDYwN9K2e3NXP63XkW4QZEkNV4hA39P19S71Ds5u70INyiSpMYqXOB/yclP4d2/fPKBADaZ1rvZ7ZKkTle4wP/V7z3Cu/PHk229m90uSep0hcvqL5eC7bv2Dmu97+kfZN9AZcJMf7PbJUmdrnCBf6iSWHbUvAOt91oTrWPfyOl3kiQVQeG6+t+wbsWBQD2V1rvZ7ZI6iXt0aKRCBf6eruDXTj8WmN7cdLPbJXWCTp7FpLEVIvAHjNotb+t99g1VErdt292WP29bRmonzmLSWAoR+Od0lbn5kueP+stq6332XLdlB9sf2sOHvr657VoPtozUbpzFpLEUIrmvFPiL2mTV1kMlpbpnURTFVGaISK3OWUwaSyECv5pvKrMoiqKd66bO5SwmjaUQXf1qvnZuPbRz3dTZzIPSaGzxd5idff3ctm33pLuxq62HUgTze7ro6Qpev3ZFg0o5u2wZqZ3N5Bbfag+2+DvIdBPY1q8+hq/95Pu8bskyPnjTPVz1jR/ywU33tEUinC0jSZ2ibVv8I1u2U23ptouZTGD7P5vuoX+w/RLhbBlJ6gRt2eIf2bJ9xWnLuPaW7R09VWumpvbsH6o4RUiSCqztWvyjtWw//q37O36q1kwlsM0pl0yEk6QCa7vAP9rUrJFma6pWKw0vzFQCW7kUJsJJUoG1XVf/aC3bkWajhTpaIt0RDb3ixGYqgc1EOEkqrrZr8Y/Wsr3wOcfOagt1rES6oUpq2DXrNVMJbCbCSSqiVuqJbZa2a/HD6C3SN5319FlroY6VSLd/aPyeCElS47gnR6YtAz8cunnPbG7mM1Yi3Zxy23WwSFIhuFvhQUaiBhgrka5cimYXTZI6kntyHNS2Lf5mG224YdOmHzS7WJLUkdyT4yBb/A1kApwktQb35Dio0C3+nX39TimTJNXFqciZwgZ+szMlSZM1m4neraoQXf2VxLA5lzO54YwkSZ2k4YE/IsoR8d8RcUP+/EkR8ZWI+EH+/aiJzrF/cIg1V9zI9Vt2AGZnSpI0VbPR4n8TcFfN87cAX0spnQB8LX8+rgTDWvVmZ0qSNDUNDfwRsQx4CXB1zeGXAdfkj68Bfrne89Vu/2p2piRJk9fo5L73ARuA+TXHlqSUHgRIKT0YEU+u92S1rXqzMyVJmrxIqTEbx0TEOcCLU0q/GxFrgT9KKZ0TEbtTSgtq3rcrpXTIOH9EXAxcDLBo0eJT3/m+D3PE3G4W9s5hXne5kKvg9fX10dvb2+xiTEs71AHaox7tUAewHq2kHeoA7VGPdevW3ZpSOq0R525ki38NsD4iXgzMBY6IiE8AD0fE0ry1vxR4ZLQPp5SuAq4COPb4Femvv9tFNtrfT1cJ3vuK1YWbvrdp0ybWrl3b7GJMSzvUAdqjHu1QB2jPehR1jZF2/LfQoRo2xp9SemtKaVlK6TjglcCNKaXzgeuB1+Rvew1w3WTPPViBP/7sbU7fk9RyrtuygzVX3Mj5V28eNhtJahXNmMf/l8ALI+IHwAvz55NWDqfvSWotrjGiIpiVlftSSpuATfnjncBZ0z3nUHL6nqTWUl1jpLrtKwyfjSS1gkKs3NddLtFVU9KuErznvFX+R5LUUlxjREVQiLX6u0rBf7ztBdzxwGNAcNLRRxj0JbWc6hojG0bsI+LfK7WSQgR+yP5DPffpTz6QLVs9NpqiZtRKKj7XGFGrK0zgh/p25HPXPknN5g5wamWFGOOH+rJlzaiVJGl8hQn89ezI5659kiSNrzCBv55sWTNqJUkaX2ECfz078i3s7eEd56xkTleJw+aUmdNV4h3nrBx3rG1nXz+3bdvtcIAkqSMUKrlvomzZ67bs4PIb7iRI/HR/hTkluPyGO5nf0zVqgp+JgJKkTlOYFn/Vwt4eVi1fcEjQr03s6x/MdhzcX2HMBD8TASVJnahwgX8soyX2VY2W4GcioCSpE7VN4B8tsa9qtAQ/EwElSZ2obQJ/bfLf3O6sWj3lGDUJcOT7x0oWlCSp3RQquW8itcl/h88p88T+oXGXzHRpTUlSp2mrwA+TXyrTpTUlSZ2kbbr6JUnSxAob+F14R5KkyStEV38lZYF+YW8PO/v6+eTm+/ngTT9gTrnswjuSJE1CIQL//sEh1lxxI684bRmf+c/t9A9m0/D6BwcB2LBxK2tWLHKsXpKkCRSiqz+RrcD38W/dfyDo13LhHUmS6lOIwD+R8RbeMRdAkqSDCtHVP56erhhz4R034ZEkabhCtPgDmNtd4sLnHHtgpb2erhJvfuHT+Y+3nDVqMHcTHkmSDlWIFn93ucQNbziTFUvm86aznl7XSnvVTXj2cTAnoJoLYBKgJKlTFaLFv3+owov+9ht88tv3jbkt70huwiNJ0qEKEfgBBirw9s/fzic331fX+92ER5KkQxWiq7/WpdffwdknPaWuAO4mPJIkDVe4wF8uxaTG6d2ER5KkgwrT1V+VUnKcXpKkKSpU4O8qwXvOW2ULXpKkKSpEV39PV4mPvPbZnHT0EQZ9SZKmoRCBvxTBc5++uNnFkCSp8ArV1S9JkqbHwC9JUgcx8EuS1EEM/JIkdRADvyRJHaQwgf+2bbvdUleSpGkqRODfOzDE+VdvZs0VN3L9lh3NLo4kSYVViMAPsKd/kH0DFTZs3GrLX5KkKSpM4K/qLpXYvmtvs4shSVIhFS7wD1QqbtIjSdIUFWLJXoD5PV0MVCpcee4prtcvSdIUFSLwz+su84mLTmfZUfPqDvo7+/rZvmvvpD4jSVK7K0Tgn6zrtuzgko1b6S6VDvQSrF99TLOLJUlS0xVijH8y0/l29vVzycat7BuoOBNAkqQRChH4of7pfNt37aW7NLxazgSQJClTmMBfNVEQX3bUPAYqlWHHnAkw3M6+fldClKQOVbgx/omC+MLeHq489xQ2jBjjN8EvY/6DJHW2wgT+yUznW7/6GNasWGRW/wi1+Q/7yHpFNmzcypoVi/wZSVKHKETgn8p0voW9PQazEar5D9WgDweHTvxZSVJnaNgYf0TMjYjvRMRtEXFHRFyWH780InZExJb868X1nG/V8gUGp2ky/0GS1Mjkvn7g+SmlVcBq4OyIOCN/7W9SSqvzry81sAyqUc1/mNtdYn5PF3O7S+Y/SFKHaVhXf0opAX350+78K03lXJWUjU8boKbP/AdJ6myRxecGnTyiDNwKrAA+mFK6JCIuBX4deBy4BXhzSmnXKJ+9GLgYYNGixade+rdXs+yoeRw5r7th5W20vr4+ent7m12MaWmHOkB71KMd6gDWo5W0Qx2gPeqxbt26W1NKpzXi3A0N/AcuErEA+GfgjcCPgUfJWv+XA0tTSq8d7/PHHr8ilV7xt8ztLnHzJc8vbCt106ZNrF27ttnFmJZ2qAO0Rz3aoQ5gPVpJO9QB2qMeEdGwwD8rC/iklHYDm4CzU0oPp5SGUkoV4MPAs+s9jyvwSZI0PY3M6l+ct/SJiHnAC4DvRcTSmre9HLi93nOagS5J0vQ0ch7/UuCafJy/BFybUrohIv4xIlaTdfXfC/zWRCcKMANdkqQZ0Mis/q3AM0c5fsFkzzWnq1zosX1JklpFITbpKUW26pybykiSND2FCPx7B4Y4/+rNrLniRq7fsqPZxZEkqbAKEfgB9vQPsm+gwoaNW235S5I0RYUJ/FWVCtzxwGPNLoYkSYVUuMC/f6jCRdfcYpe/JElTULjAD7B/KNnlL0nSFNQV+CPizIj4jfzx4oh4WmOLNTFX8ZMkafImDPwR8S7gEuCt+aFu4BONLFQ9+ocqHD6n3OxiSJJUKPW0+F8OrAeeAEgpPQDMb2ShRprXXebNL3w6PV0l5nZnRY6UOOcD3xw21r+zr5/btu12CECSpDHUs3Lf/pRSiogEEBGHN7hMo3rjWSfwopOfwovf/+8A9A8lyMf616xYxDfveZRLNm6lu1RioFLhynNPYf3qY5pRVEmSWlY9Lf5rI+IfgAUR8Trgq2S76s26J/YP0dM1vHu/u1Tijgce55KNW9k3UHG+vyRJ45iwxZ9S+quIeCHwOHAi8M6U0lcaXrJRLDtqHgOVyrBj2fNEd6nEPg6+Vk3+c31/SZIOqmuTnjzQNyXY11rY28OV557ChhFd+icdfeSoNwRu4StJ0nATBv6I2EO2hW6tx4BbgDenlH7YiIKNZf3qY1izYhHbd+1l2VHzDrToR7shsLUvSdJw9bT43ws8AHwKCOCVwFOAu4GPAmsbVbixLOztOSSoj3VDIEmSDqon8J+dUjq95vlVEfHtlNK7I+JtjSrYVIx2QyBJkg6qJ6u/EhGviIhS/vWKmtdGDgFIkqQWVk/gfzVwAfAI8HD++PyImAe8oYFlkyRJM6ye6Xw/BF5aeywifj6ldA/wzUYVTJIkzby6pvMBRMRKssS+V5Fl9Z/WqEI1w86+fhMDJUltb9zAHxFPJQv0rwIGgacCp6WU7m180Q6qpCwwNyogX7dlh8v9SpI6wphj/BHxH8CXyHbjOy+ldCqwZ7aDPsD+wSHWXHHjsA15ZsrOvn6X+5UkdYzxkvt+TLYL3xJgcX6sKVn8Cdg3UOGPPruVex7eU9dn6t2pb/uuvXSXhv8Yqsv9Smpf7uapTjVmV39K6WURcSRwLnBZRKwg26jn2Sml78xaCWvsH6zw4vf/O3/1K6vG7YqfTNf9WOv/u9yv1L4c3lMnG3c6X0rpsZTSR1NKLwROB94JvC8its1K6UaxP9+Kd6y79Ml23VfX/5/bXWJ+Txdzu0su9yu1MYf31OnqzupPKT0C/B3wd3nSX9OMt/Netet+Mjv1udyvVL+iz4CZyt8IqZ3UHfhrpZTum+mCTMZ4XfFT7bp3uV9pYu3QRe7wnjpdPSv3tYxyMGFXvF33UmO0Sxe5fyPU6abU4m+WcqnEDW84kxVL5o/7vpnqui96l6Y0FWP93rdTF7nDe+pkEwb+iFgMvA44rvb9KaXXNq5Yo9s/VOHLtz/EGycI/DD9rvt26NKUJmu83/t26yJ3eE+dqp6u/uuAI4GvAl+s+WqKD9z0g4Z3LbZLl6Y0GRP93ttFLrWHerr6D0spXdLwktRpTrnc8K7FdurSlOpVz++9XeRS8dXT4r8hIl7c8JLUaTa6FtutS7PZXCGtGOr9vV/Y28Oq5QsM+lJB1RP430QW/PdGxOMRsSciHm90wUaaza5FuzRnznVbdrDmihs5/+rNDdtvQTPD33upM0zY1Z9SmjiTrsHmdpV510tXsnr5ggkz+meKXZrTVztmXO0+3rBxK2tWLPLn2aL8vZfaX13T+SLiKOAEYG71WErpG40q1Ej7Boe47At3znp2vVm/02OuRDH5ey+1twm7+iPiIuAbwL8Cl+XfL21ssQ5ldn3xmCshSa2n3jH+nwfuSymtA55JtmVvU7hlbnE4ZixJraeerv59KaV9EUFE9KSUvhcRJza8ZGMY2WJ0db3W5pixJLWWegL/9ohYAHwe+EpE7AIeaGyxDjW/p+vAGH81eLi6XjE4ZixJraOerP6X5w8vjYibyFbx+5eGlmqEed1lPnHR6cNajGaMS5I0eWMG/og4IqX0eEQ8qebwd/PvvcBPGlqyEVYtXzDsuRnjkiRN3ngt/k8B5wC3AgmImtcScHwDyzUhM8YlSZq8MbP6U0rn5N+fllI6Pv9e/Wpq0Ids3PgdL1nJnHJw+JyyGeOSJNVhvK7+Z433wZTSf818cUZXSdmYfm1Qv27LDi7/4p3M6SqxfyjxrpeuHJbYNzLb3+x/SZLG7+r/6/z7XOA04Day7v5TgM3AmY0t2kH7B4dYc8WNB7L2axP7qi6/4U7OPukpLOztOSTb/xWnLePaW7ab/S9J6njjdfWvyxfsuQ94VkrptJTSqWQL+NwzWwWELKGgdtW+amJfrWpi32h7in/8W/ePuce4JEmdpJ6V+56RUqpm85NSuh1Y3bgija0a3MdL7GWWbXoAAB7rSURBVBvtpmCs80iS1GnqCfx3RcTVEbE2Ip4XER8G7mp0wUZTDe7jLQU72k3BWOeRJKnT1LNy328Av0O2Zj9kG/b8fcNKNIqAQ7L2x1oKtnpTsGGCMX4T/CRJnaielfv2RcSHgC+llO6u98QRMZfsJqEnv85nU0rvyhcE+gxwHHAv8IqU0q7xzjWnq8zNlzz/kGA91lKwo90UvOmsp5vVL0nqePVsy7se2EK+TG9ErI6I6+s4dz/w/JTSKrKcgLMj4gzgLcDXUkonAF/Ln49fyGDSwXphbw+rli8Y1hNQ+1ySpE5Uzxj/u4BnA7sBUkpbyFrr40qZvvxpd/6VgJcB1+THrwF+ud7C7uzr57Ztu83IlyRpiuoZ4x9MKT0WERO/c4SIKJMt+bsC+GBKaXNELEkpPQiQUnowIp5cz7nciU+SpOmLlNL4b4j4CAe75M8Ffg/oTin9dt0Xybb1/WfgjcA3U0oLal7blVI6apTPXAxcDLB48eJT3/W+q6nUlLUUwTOeMp9yafI3JM3S19dHb29vs4sxLe1QB2iPerRDHcB6tJJ2qAO0Rz3WrVt3a0rptEacu54W/xuBt5ON2X8a+Ffg8slcJKW0OyI2AWcDD0fE0ry1vxR4ZIzPXAVcBXDC009MH7q7hz39gwden9/TxSd+8ZmH7NpXr2Ys4btp0ybWrl07K9dqlHaoA7RHPdqhDmA9Wkk71AHapx6NUk9W/0/JAv/bJ3PiiFgMDORBfx7wAuAK4HrgNcBf5t+vm/BcQP/g0LBj05mLPxPDBq79L0kqovE26Rk3cz+ltH6Ccy8FrsnH+UvAtSmlGyLiW8C1EfGbwP3Ar0xUyH2DQxxWChhK9JSDKMWU5+LXLum7j2yhnw0bt7JmxaK6z2e+gSSpqMZr8T8H2EbWvb+ZrOFdt5TSVrJ1/Uce3wmcNZlzAQc25EkRfPENZ7JiyfzJngLgwJK+1aAPB5fwrSfwz8SNgyRJzTLedL6nAG8DTgb+Fngh8GhK6esppa/PRuFG01Mu8cT+oYnfOIbx1vmvx3gbBGnynKIpSbNrvN35hlJK/5JSeg1wBtmOfJsi4o2zVrpRTHed/fHW+a/HdG8cdNB1W3aw5oobOf/qzay54kau37Kj2UWSpLY3bnJfRPQALwFeRbZoz/uBzzW+WIea39M1Y+vsj7XOfz1G2wvAtf8nzyETSWqO8ZL7riHr5v8ycFm+HW9TzOsu84mLTp9UkL7n4T1s2bab1csXjJoPMNY6//WYzo2DMtPNtWhnzhiR1EjjtfgvAJ4Ang78Xs3KfUG2Iu8RDS7bMLXz9Wv/MAKH/JF85+e/y8e/ff+B91/4nGN598t+bkbLM50bBzlkMhZnjEhqtDEDf0qpnnX8Z13tH8Z9g0OklJjXfXAYYOXSI4YFfYCPf+t+LjzjuCnPBNDMc8jkUA5/SJoN9azc1zJG+8MIHFjRb8PGrbzl7GeM+tkt23Yb+FuMQybDOfwhaTYUKvCP9oexVnepxKLeOaO+tnqKS/uqsRwyOcjhD0mzoSW788cy2h/GWgOVCs/5mUVc+Jxjhx2/8DnH2tpXy5vuVFNJqkchWvxDlcQ9D+9hxZL5w8aFRxvjX9jbw7tf9nNceMZx42b1S63I4Q9JjVaIwL9/qMIL/uYbB7Lza/8wwqFZ/QArlsw34KuQHP6Q1EiFCPxVtdn5tX8Y/SMpSVJ9CjXGD1l2viRJmprCBX6z8yVJmrpCBf5XnLaMJ/YPuZObJElTVIgx/jnlEhte9Aze+9Xv8+XvPuRSprieuyRpagoR+Mul4L1f/b5LmeZcz12SNFWF6OqvpGxVvlrVpUw7Te2yxXv6B9k3UGHDxq0Of0iS6lKIwF8KXMo0V122uFan3gRJkiavEIEfcCnTnOu5S5KmoxBj/OBSplVuZytJmo7CBH44dCnT0TLbOyHb3ZsgSdJUFSrw1xotsz3BrGa7N/Mmw/XcJUlTUcjAX5vZXp3e98ef3Qok+gfTrEz5c0qdJKmICpPcd9u23QemrI2W2V4uBeWYnWx3p9R1rp19/cN+FyWpaArR4t87MMT5V28+0LJes2LRIZntQ5UEpGHHGpXtXr3xqPYswMGbDLvf25e9PJLaQWFa/LUtazh0et97zjuF95y3alam/DmlrvPYyyOpXRSixV+r2rIeK7N9NrLdnVLXeezlkdQuChf4a1vWo2W2z1a2u1PqOou9PJLaRWG6+ltxxb6FvT2sWr6gZcqjxqn28rh6pKSiK0SLf153mU9cdLotazWVvTyS2kEhAj/AquULml0EyYWTJBVeYbr6JUnS9Bn4JUnqIG0X+F1ZTZKksRVmjL8erqwmSdL4CtPiH60VX9u6d2U1SZImVogW/8i1+tevPuaQ1v3r165wZTVJkiZQiMAP2Vr9kG21u3LpEYdsy/uBm34AxLDPuLKaJEnDFaarv6q7VGLLtt2HbMs7p1zmDetWuLKaJEnjKEyLv2qgUmH18gWjrpv+a6cfy6+dfqwrq0mSNIbCtPhrW/Erlswfc91018+XJGlshWjx93SV+OCrn8lJRx95IKC7brokSZNXiBZ//2CFi665hX+5/aFhx23dS5I0OYUI/AD7hxJv//ztfHLzfc0uiiRJhVWYwF912RfudFEeSZKmqHCBv7scbN+1t9nFkCSpkAoX+IcqqRCL8rhZkCSpFRUiq7+qq0RLLsqzs69/2OwCNwuSJLWqQgX+cqnEmhWLml2MYUYG+Xe8ZCWXf/HOYcsJ//Fnt7ZcuSVJnalQXf1zyqWWGt8fbUfAy75wB12l4XsG9A9W+NTm+5tUSkmSDmpY4I+I5RFxU0TcFRF3RMSb8uOXRsSOiNiSf7243nO22qY723ftPWTPgO5yif2D6ZD3fuCmHzBUOfS4JEmzqZEt/kHgzSmlnwXOAF4fESvz1/4mpbQ6//pSPSebUw7e8ZKVo47vNyuRbtlR8w7ZM2AoJX7zzOMOee+ccpn9Q5VDjkuSNJsaFvhTSg+mlP4rf7wHuAuYcobbnK4Sl3/xTq7fsmPY8eu27GDNFTdy/tWbWXPFjYe83sibgoW9PaPuGXDRLx5PT9ehWwTPKRdqZEWS1IZmJbkvIo4DnglsBtYAb4iIC4FbyHoFdk10jr7+IQA2bMwS5Rb29gwbY68m0tW+PhvZ9WPtGfCe81axYcS1y7t/MKPXliRpsiKlxo47R0Qv8HXgz1JKn4uIJcCjQAIuB5amlF47yucuBi4GWLRo8anvfN+HAShH8LTFhzOvu8zegSF+9OMnGKqpQ/X1OeUS33toD5Wa10oRPOMp8ymPSL5rlKFKYv9Q1tIvl4K+vj56e3tn5dqN0g51gPaoRzvUAaxHK2mHOkB71GPdunW3ppROa8S5G9rij4huYCPwyZTS5wBSSg/XvP5h4IbRPptSugq4CuDY41ekv/5uVtS53SVuXn/mgRb/H1xxI/sGDo6dV1/fvmsvH/r6Zvb0Dx54bX5PF5/4xWeyavmCGa9rPTZt2sTatWubcu2Z0g51gPaoRzvUAaxHK2mHOkD71KNRGpnVH8BHgLtSSu+tOb605m0vB26v53y1Y+jV7vSxxtgX9vaMmnjXarMCJEmabY1s8a8BLgC+GxFb8mNvA14VEavJuvrvBX5rohPN6y7ziYtOHzaGXjXWGHv1pmDkOHurrfonSdJsaljgTyl9ExhtML2u6Xsjjdc9v7C3Z9SAPtZNgSRJnaowS/betm33lIL3WDcFkiR1okJMLN87MDTmPH1JklS/QgR+4MBa+Bs2bnWrW0mSpqgwgb+qu9RaG/VIklQkhQv8TsmTJGnqCpPcN7+nyyl5kiRNUyEC/3jz+CVJUv0KEfhh/Hn8kiSpPoUb45ckSVNn4JckqYMY+JtgZ18/t23b7XoEkqRZV5gx/nZx3ZYdXDJi46D1q49pdrEkSR2iEC3+SqItWsdDlcQlG7eyb6DiSoSSpKYoRODfPzg0Y+v0N7Obff9Qhe7S8B+5KxFKkmZTIbr6ExxoHa9ZsWjKc/mb3c0+p5xdt5YrEUqSZlMhWvy1pto63tnX3/Ru9nIpuPLcU5jbXWJ+Txdzu0uuRChJmlWFaPFX7RuocPic8pQ+u33XXrpLJfZxsMVd7WafzcC7fvUxrFmxiO279roSoSRp1hUq8PeUgyf2D03ps8uOmjdmN/vOvv5ZDcQLe3sM+JKkpihU4I9STHk8fGFvD1eeewobRozxf/OeR51eJ0nqGIUI/AEzMh4+spsdYM0VN7JvoHJgCGC6CYSSJLWyQgT+7nKJG95wJiuWzJ/2uWq72W/btrslxv0lSZothcjqHxiqcM4Hvjkj8/hrjTfuL0lSOypE4K+dxz+T0++q4/5Or5MkdYpCdPVXNaIb3ul1kqROUqjAv29wqCHd8E6vkyR1ikJ09VellJpdBEmSCq1Qgb8c4YY2kiRNQ6ECf/9QmvKSvZIkqWCBv6dr6kv2SpKkggX+/sHE7Q881uxiSJJUWIUK/ACX33DnrG6lK0lSOylc4C9HcNP3HjH4S5I0BYUL/E/sH+LSL9zBmitunPElfCVJaneFCfy12fx9/UMNWcJXkqR2V4jAP7erzG+e+bRDpvJVl/CVJEn1KUTg3zc4xEe++aNDpvK5k54kSZNTmLX6a4P+4T1lhirJnfQkSZqkwgT+qsPnlLnspSex7hlPNuhLkjRJhejqrzVYqRj0JUmaosIF/kqCm+95tNnFkCSpkAoX+AeGktP4JEmaokIE/hjx3Gl8kiRNTSECfxrx3Gl8kiRNTSGy+ueUS3R1l+gulRioVJzGJ0nSFBUi8JdLwc2XPJ/tu/ay7Kh5Bn1JkqaoEIEfYGFvjwFfkqRpKsQYvyRJmhmFCPyVxJjT93b29XPbtt1O75MkqQ6F6OrvHxzijL/4Kq9+9lN5/s8+mZOOPpKFvT1ct2UHl2zcOizpb/3qY5pdXEmSWlYhAj/AwBB87Fv38bFv3Ud3Obh0/UlcfsOd7BuosI8KABs2bmXNikXmAkiSNIZCdPWPNDCUuOz6OyjH8KV9XNhHkqTxNSzwR8TyiLgpIu6KiDsi4k358SdFxFci4gf596Omcv5yqcTAUGXYMRf2kSRpfI1s8Q8Cb04p/SxwBvD6iFgJvAX4WkrpBOBr+fNJq6TEu156Ej1dJQ6bU6anq9SWC/uYvChJmkkNG+NPKT0IPJg/3hMRdwHHAC8D1uZvuwbYBFwymXN3l4P3nHdKvpRvghQcurBv8Zm8KEmaabOS3BcRxwHPBDYDS/KbAlJKD0bEkyf6/LzuMh9+7c/z+N5BjpjXxUlHHwnAmitupH8wAUMA/NFnt7Jy6RGsWDK/MRWZRTv7+rlk41aTFyVJMypSamxLOSJ6ga8Df5ZS+lxE7E4pLah5fVdK6ZBx/oi4GLgYYPHixadee+21w17fOzDED3/8BJUR5Y8Ilh81jyPndTegNtPT19dHb29vXe/dOzDEj378BEM19StH8LTFhzOvu9yoIk5oMnVoZe1Qj3aoA1iPVtIOdYD2qMe6detuTSmd1ohzN7TFHxHdwEbgkymlz+WHH46IpXlrfynwyGifTSldBVwFcOKJJ6bS0ScB6cAc/k9++z7e87XbR73u3O5Bbr7kuS3XMt60aRNr166t6707+/r5gytuZN/AwQTGud0lbl5/ZlPrNZk6tLJ2qEc71AGsRytphzpA+9SjURoW+CMigI8Ad6WU3lvz0vXAa4C/zL9fN9G59g4MceFHvwNwcA7/F+8c8/3VaX2tFvgnY2FvD1eeewobRozxF7lOkqTma2SLfw1wAfDdiNiSH3sbWcC/NiJ+E7gf+JXJnLQ6h7+7PPaEhHaZ1rd+9TGsWbHIXQklSTOmkVn93wRijJfPms65R5vDD3D4nDJDKbVVy9hdCSVJM6kwS/bWqs7hv/yLdx7oBn/HOSs5+egjbRlLkjSOwgX+rlI2h3/96mM4++Sn2A0uSdIkFC7w/8ELVhxYxMZucEmSJqdwm/TM6WreHHZJkoqucIF//+ChSX2SJKk+hQv8PV2FK7IkSS2jcFG0f3Co2UWQJKmwChf43/fVH3D9lh3NLoYkSYVUuMA/UIE/vHbLqPvTu3e9JEnjK9x0PoDBCtzxwOM89+mLDxxz73pJkiZWuBb/QQe3q63du35P/yD7Bips2LjVlr8kSSMUMvB3l4OTjj7ywPPtu/bSXRpeleoOfZIk6aDCBf7ucvDXv7Jq2Ip9y46ax0Bl+Pz+dtmhT5KkmVSYwN8V8DvPO55vv/WsQ8buq3vXz+0uMb+ni7ndpbbaoU+SpJlSmOS+wQQfvflHXPSLxx84trOv/8AmPe5dL0nSxAoT+AH6BxOf2nw/bzzrhDGz+A34kiSNrTBd/VUfuOke7nl4j1n8kiRNQeEC/5xyiS3bdpvFL0nSFBQu8A9UKqxevsAsfkmSpqAwgX9uOeguwztespIVS+abxS9J0hQUJrlv31C2Ut+lX7iD+XO7zOKXJGkKChP4qwaGEn/82a2sWbGIhb09BnxJkiahMF39tcqlMJFPkqQpKGTgH6okE/kkSZqCQgb+N6xbYRe/JElTULjAP6cc/Nrpxza7GJIkFVKhAn93OfirETvzSZKk+hUiq7+nq8RHXvvzHH3kPJ7YP8TOvn6DvyRJU1CIwF+KYNdPB7j4H289ZFMeSZJUv8J09bspjyRJ01eIwF9JiRhxzE15JEmavEJ09fcPVhgYcFMeSZKmqxAt/tG845yVJvhJkjRJhQz8c7tKnHz0kc0uhiRJhVPIwJ9wyV5JkqaicIG/HPCe81zER5KkqShc4D/31GXO35ckaYoKF/ivvWU79zy8p9nFkCSpkAoX+AG2bNvd7CJIklRIhQz8q5cvaHYRJEkqpMIF/gufcywrlsxvdjEkSSqkQqzcN7erzJ+fdwqrly8w6EuSNA2FCPwRcN5py5tdDEmSCq9wXf2SJGnqDPySJHUQA78kSR3EwC9JUgcx8EuS1EEM/JIkdRADvyRJHaQwgf+2bbvZ2dff7GJIklRoDQv8EfHRiHgkIm6vOXZpROyIiC3514vrOdfegSHOv3oza664keu37GhUkSVJanuNbPF/DDh7lON/k1JanX99qd6T7ekfZN9AhQ0bt9rylyRpihoW+FNK3wB+MtPn7S6V2L5r70yfVpKkjhAppcadPOI44IaU0sn580uBXwceB24B3pxS2jXGZy8GLgZYtGjxqe9834cBKEXwjKfMp1yKhpW7Ufr6+ujt7W12MaalHeoA7VGPdqgDWI9W0g51gPaox7p1625NKZ3WiHPPduBfAjwKJOByYGlK6bUTnefY41ekIy/4IAOVCleeewrrVx/TsDI30qZNm1i7dm2zizEt7VAHaI96tEMdwHq0knaoA7RHPSKiYYF/VnfnSyk9XH0cER8Gbqjnc/O6y3ziotNZdtQ8Fvb2NKx8kiS1u1kN/BGxNKX0YP705cDt472/1qrlCxpTKEmSOkjDAn9EfBpYCyyKiO3Au4C1EbGarKv/XuC3GnV9SZJ0qIYF/pTSq0Y5/JFGXU+SJE2sMCv3SZKk6TPwS5LUQQz8kiR1EAO/JEkdxMAvSVIHMfBLktRBDPySJHUQA78kSR3EwC9JUgcx8EuS1EEM/JIkdRADvyRJHcTAL0lSB4mUUrPLMKGI2APc3exyzIBFwKPNLsQ0tUMdoD3q0Q51AOvRStqhDtAe9TgxpTS/ESdu2La8M+zulNJpzS7EdEXELUWvRzvUAdqjHu1QB7AeraQd6gDtUY+IuKVR57arX5KkDmLglySpgxQl8F/V7ALMkHaoRzvUAdqjHu1QB7AeraQd6gDtUY+G1aEQyX2SJGlmFKXFL0mSZkBLB/6IODsi7o6IeyLiLc0uD0BEfDQiHomI22uOPSkivhIRP8i/H1Xz2lvz8t8dEf+r5vipEfHd/LX3R0Tkx3si4jP58c0RcVwD6rA8Im6KiLsi4o6IeFNB6zE3Ir4TEbfl9bisiPXIr1OOiP+OiBsKXId78+tvqWYkF60eEbEgIj4bEd/L/388p4B1ODH/N6h+PR4Rv1/AevxB/v/69oj4dP7/vVB1yK/zprwOd0TE7+fHmluPlFJLfgFl4H+A44E5wG3AyhYo13OBZwG31xy7EnhL/vgtwBX545V5uXuAp+X1KeevfQd4DhDAl4EX5cd/F/hQ/viVwGcaUIelwLPyx/OB7+dlLVo9AujNH3cDm4EzilaP/Nx/CHwKuKGIv1P5ue8FFo04Vqh6ANcAF+WP5wALilaHEfUpAw8BTy1SPYBjgB8B8/Ln1wK/XqQ65Oc9GbgdOIxs+vxXgROaXY+G/cLNwA/sOcC/1jx/K/DWZpcrL8txDA/8dwNL88dLydYdOKTMwL/m9VoKfK/m+KuAf6h9T/64i2wRimhwfa4DXljkeuT/sf4LOL1o9QCWAV8Dns/BwF+oOuTnvpdDA39h6gEcQRZsoqh1GKVOvwTcXLR6kAX+bcCT8vPfkNelMHXIz/srwNU1z98BbGh2PVq5q7/6D1+1PT/WipaklB4EyL8/OT8+Vh2OyR+PPD7sMymlQeAxYGGjCp53Cz2TrLVcuHpE1kW+BXgE+EpKqYj1eB/ZH4NKzbGi1QEgAf8WEbdGxMUFrMfxwI+B/xvZsMvVEXF4weow0iuBT+ePC1OPlNIO4K+A+4EHgcdSSv9WpDrkbgeeGxELI+Iw4MXA8mbXo5UDf4xyLM16KaZnrDqMV7dZq3dE9AIbgd9PKT0+3lvHKFPT65FSGkoprSZrNT87Ik4e5+0tV4+IOAd4JKV0a70fGaM8Tf+3ANaklJ4FvAh4fUQ8d5z3tmI9usiG8f4+pfRM4AmybtixtGIdDoiIOcB64J8meusox5r9/+Io4GVk3d1HA4dHxPnjfWSM8jT13yKldBdwBfAV4F/IuvEHx/nIrNSjlQP/drI7o6plwANNKstEHo6IpQD590fy42PVYXv+eOTxYZ+JiC7gSOAnM13giOgmC/qfTCl9rqj1qEop7QY2AWdTrHqsAdZHxL3A/wOeHxGfKFgdAEgpPZB/fwT4Z+DZBavHdmB73msE8FmyG4Ei1aHWi4D/Sik9nD8vUj1eAPwopfTjlNIA8DngFwpWBwBSSh9JKT0rpfTc/Pw/aHY9Wjnw/ydwQkQ8Lb9zfSVwfZPLNJbrgdfkj19DNmZePf7KPOvyaWRJHd/Ju3b2RMQZeWbmhSM+Uz3XecCNKR+8mSn5NT8C3JVSem+B67E4Ihbkj+eR/bH4XpHqkVJ6a0ppWUrpOLLf8RtTSucXqQ4AEXF4RMyvPiYbj729SPVIKT0EbIuIE/NDZwF3FqkOI7yKg938I6/d6vW4HzgjIg7Lr30WcFfB6gBARDw5/34s8L/J/k2aW4+ZTGSY6S+y8ZDvk2U2vr3Z5cnL9GmyMacBsjut3yQbT/ka2Z3c14An1bz/7Xn57ybPwsyPn0b2h/F/gA9wcDGluWRdc/eQZXEe34A6nEnWFbQV2JJ/vbiA9TgF+O+8HrcD78yPF6oeNWVYy8HkvkLVgWx8/Lb8647q/9cC1mM1cEv+O/V54Kii1SG/zmHATuDImmOFqgdwGdmN/O3AP5JluheqDvl1/p3sBvI24KxW+Ldw5T5JkjpIK3f1S5KkGWbglySpgxj4JUnqIAZ+SZI6iIFfkqQOYuCXWly+3Gd1p7WHImJHzfM5I977+/nSoBOdc1NEnDbG8bsjYmtkO9R9oLpWwhTLPqw8EdE31XNJmhkGfqnFpZR2ppRWp2xp4g8Bf1N9nlLaP+Ltv082h3s6Xp1SOoVsnYR+Di4UMhUzUR5JM8jALxVQRJyVbyTz3Yj4aL7S1++RrWt+U0TclL/v7yPilsj2Ar9sMtfIbyo2AMdGxKr8fOdHxHfy3oZ/iIjyWNcZrTz58T+LiNsi4tsRsSQ/9iuR7Vl+W0R8Y/o/IUljMfBLxTMX+BjwqymlnyPbXOZ3UkrvJ1u/e11KaV3+3renlE4ja70/LyJOmcyFUkpDZCuOPSMifhb4VbLNeFYDQ8Crx7rOGOU5HPh2SmkV8A3gdfnxdwL/Kz++fjJllDQ5Bn6peMpkG5h8P39+DTDWTniviIj/Ilva+CRg5RSuV9396yzgVOA/I9sK+SyypXonc539ZHurA9wKHJc/vhn4WES8jqx+khqkq9kFkDRpT9TzpnyTjz8Cfj6ltCsiPkbWW1C3vCv/58g2SHkycE1K6a3TuM5AOrhO+BD536CU0m9HxOnAS4AtEbE6pbRzMmWVVB9b/FLxzAWOi4gV+fMLgK/nj/cA8/PHR5DdJDyWj6W/aDIXiWzr5r8AtqWUtpJtJnJezW5jT4qIp05wndryjHetn0kpbU4pvRN4lOFbk0qaQbb4peLZB/wG8E+R7b/9n2TZ/gBXAV+OiAdTSusi4r/Jdsv7IVl3ej0+GRH9ZLuhfRV4GUBK6c6I+BPg3yKiRLZD5etTSt8e5zrDyjPONd8TESeQDSt8jSyvQFIDuDufJEkdxK5+SZI6iIFfkqQOYuCXJKmDGPglSeogBn5JkjqIgV+SpA5i4JckqYMY+CVJ6iD/HyP7S3fBtzxsAAAAAElFTkSuQmCC\n",
      "text/plain": [
       "<Figure size 576x576 with 1 Axes>"
      ]
     },
     "metadata": {
      "needs_background": "light"
     },
     "output_type": "display_data"
    }
   ],
   "source": [
    "median_renamed_df.plot(kind=\"scatter\", x=\"Total Deaths\", y=\"Median Age\", grid=True, figsize=(8,8),\n",
    "              title=\"Total Deaths Vs. Median Age\")\n",
    "\n",
    "plt.xlim(0, 90000)\n",
    "plt.show()"
   ]
  },
  {
   "cell_type": "code",
   "execution_count": 60,
   "metadata": {},
   "outputs": [
    {
     "data": {
      "image/png": "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\n",
      "text/plain": [
       "<Figure size 432x288 with 1 Axes>"
      ]
     },
     "metadata": {
      "needs_background": "light"
     },
     "output_type": "display_data"
    }
   ],
   "source": [
    "x_values = median_renamed_df['Total Deaths']\n",
    "y_values = median_renamed_df['Median Age']\n",
    "(slope, intercept, rvalue, pvalue, stderr) = linregress(x_values, y_values)\n",
    "regress_values = x_values * slope + intercept\n",
    "line_eq = \"y = \" + str(round(slope,2)) + \"x + \" + str(round(intercept,2))\n",
    "plt.scatter(x_values,y_values)\n",
    "plt.plot(x_values,regress_values,\"r-\")\n",
    "plt.annotate(line_eq,(6,10),fontsize=15,color=\"red\")\n",
    "plt.xlabel('Total Deaths')\n",
    "plt.ylabel('Median Age')\n",
    "\n",
    "plt.grid(linestyle='-', linewidth=1, alpha = 0.5)\n",
    "\n",
    "plt.show()"
   ]
  },
  {
   "cell_type": "code",
   "execution_count": 61,
   "metadata": {},
   "outputs": [
    {
     "data": {
      "image/png": "iVBORw0KGgoAAAANSUhEUgAAAY4AAAEGCAYAAABy53LJAAAABHNCSVQICAgIfAhkiAAAAAlwSFlzAAALEgAACxIB0t1+/AAAADh0RVh0U29mdHdhcmUAbWF0cGxvdGxpYiB2ZXJzaW9uMy4yLjIsIGh0dHA6Ly9tYXRwbG90bGliLm9yZy+WH4yJAAAgAElEQVR4nO3de5xcdX3/8ddnNwNZDGFDEjAsd/DHBgiGi0KJPwWiRbmDysVCsbTEn7UKVqIJthJqbWKxRW37UIMXaLUqCgYEhWICtcADNCGBBJmolHBZIiGQEEg2sNn9/P44ZzezuzOz5+zOmXPOzPv5eOxjZ87OnPPJZHc+8719vubuiIiIRNWSdgAiIpIvShwiIhKLEoeIiMSixCEiIrEocYiISCzj0g4gikmTJvkhhxySdhiDbN++nfHjx6cdxiBZjAmyGZdiikYxRZfFuFasWLHR3afW+ry5SBwdHR0sX7487TAGKRaLdHZ2ph3GIFmMCbIZl2KKRjFFl8W4zOzpJM6rrioREYlFiUNERGJR4hARkViUOEREJBYlDhERiSUXs6riWrKyi+vuXsvzm7vZp72NuacexjlHd6QdlohIQ2i4xLFkZRfzb11Nd08vAF2bu5l/62oAJQ8RkRpouMRx3d1rB5JGv+6eXq67e60Sh4iMiXozAg2XOJ7f3B3ruIhIFOrN2KnhBsf3aW+LdVxEJIpqvRnNpuESx9xTD6Ot0DroWFuhlbmnHpZSRCLSCNSbsVPDJY5zju5g4Xkz6Ghvw4CO9jYWnjej6ZqSIlJb6s3YqeHGOCBIHkoUIlJLc089bNAYBzRvb0ZDJg4RkVrr/zCqWVVKHCIikak3I6DEIU1Lc/JFRkeJQ5pScf0W5i9bpzn5IqOgxDGEPoU2hweffInunr5Bx1RhQCQaJY4SWhnaPF7d3gO0DjvejHPyReJquHUcY6GVoc1j9/GFssebcU6+SFxKHCW0MrR5nHjIZFUYEBklJY4SWhnaPDqnTcxFhYElK7uYtWgZB827k1mLlrFkZVfaIYlojKOUVoY2l6zPydeYm2RVUyWOkWZMaWWoZIn2lpGsSjxxmFkrsBzocvczzGwBcDnwYviQq939Z0nHEfXTW9Y/hUrz0JibZFU9xjiuAJ4Ycux6d58ZfiWeNEAzpiR/NOYmWZVo4jCzfYHTgW8meZ0o4nx604CkZIH2lpGsMndP7uRmPwYWArsDV5V0VX0Y2ELQhfUpd99U5rlzgDkAe++997H33Xdf1WsV12/hwSdf4tXtPew+vsCJh0ymc9rEgZ9/+/6n2LK9Z9jzJo4vcNk7Dhp0nqXFDfT07lxVXGhtYXbnXoPOt3HjRqZMmTLia1BPWYwJshlXXmIa6fc6jZjSlsWYIJtxTZ8+fYW7H1fr8yaWOMzsDOA0d/9LMzuJnYljb2Aj4MDngWnuflm1cx155JG+Zs2aij8fOn4BwSez0umVlR7z/mM7uLf44sBg+LY3drBp2/AE09HexgPzThm4XywW6ezsjPBK1E8WY4JsxqWYolFM0WUxLjNLJHEk2VU1CzjLzNYBPwBOMbPvuvsL7t7r7n3ADcDbx3qhKOMX5XYGfP+xHdyyoouuzd04wYB5uaQBGpAUEemX2Kwqd58PzAcoaXFcbGbT3H19+LBzgcpNiYgqval3be5m1qJlg6bWlrYaZi1aNizhVKIBSRGRQBrrOP7RzGYSdFWtAz4S5UnV1mDs095GV5nkYTBwvNz026itCA1IiojsVJeSI+5+n7ufEd6+xN1nuPtR7n5WSeujou09vcy/dfWgLqX5t64emO1UbvaJEWSmUkO7ryq1ItrbCpkvRSEikpZcrBx/7fUdjC8zhrHg9scHWiF7tBUYX2hh87aeii0QGNzKqFRiZMFZRyhRiIhUkIvE0ddXfubX5u4eNnf3DNxuK7Ry/QUzOefoDmYtWlY2eZS2MsZaYkSbPolIM8pF4mhpsUiPK63jE7Vg4WhLjFTbehR2JqP23Qq4wyvdPUouItIQcpE44iw16e+KSro1UWnr0QW3P87rO/oGEkrp9N6o1U3VkhGRLMtF4uiLkTmGdkWN5g03SkHESluP9nedVTJSdVOV0haRrGuojZxqNW02yoLCSluPRlFtGrCKMYpI1uWixVFJocWYMH7cwEyqoV06o+3yiVIQ8cRDJvPTp18eNoYyvtBScfV5v2qLCVVKW0SyLtctjp4+Z7ddxnH9BTN5YN4pw5JGtbUf1UQpZ11p69Frzjxi2JqSUiO1ilRKW0SyLtctDqg8BjCW3dNqMSNrtLOqtH2tiGRd7hMHlE8IY+nyGeuMrLHsIqjta6VZaTZhfjRE4oDhCaHS6vGoXT5pbiE7mmsvWdnFgyue4kc3PpnZPzq9MUglmk2YL7ke4yg1NCE00+5p/X90W7b3xB7PqZexjDlJ49NswnzJZeIoDFlJXmn8odzgdSN+esnDH10eYpT0aDZhvuSuq+riE/bnuAP2jNTlkWZ301jF6dapth/JkpVdmXgN9MYg1Yy1a1nqKxeJo7/FUPrmOfTNsP+NtmtzN61m9LoPe05exO3vrVYNOCv9xHpjkGo0mzBfctFVtdfE8cPWaZQq7T8H6A1LlNSyH33Jyi5mLVrGQfPuZNaiZRTXbxnzOSuJ261TbjwnyvPqqZnGnCS+ZupabgS5aHGMpNwbbb+oazeqKdcCWFrcBu3JdAPF7dbpj+GuB1bEel49aZqxjCTPXctDNfoMwoZIHCO9MY71jbNcYurp7RtzQqpkNN065xzdwYMrHgP6hv0sK91BjfTGIFJJM0wtzkVX1UhGemMc6xtnvQd2R9utc+Ihk9UdJJKyZphBmMsWx9Bm4MmdU7llRVfZ7qpavHHWe2B3tN06Qf2sjoZuIotkXTPMIMxd4ijXDLxlRRfvP7aDe4svJjKrqtyMj0JrS6Kf5EfbraPuIJF0NcMMwsQTh5m1AsuBLnc/w8z2BH4IHAisA853903VzrFhy3ZmLVrG3FMPq9gMvLf4Ig/MOyWRf0O5FsDszgl6gxaRYZphanE9WhxXAE8AE8P784Cl7r7IzOaF9z9T7QT9JSrm/uhRevrK7waYdDNw6Cf5YrGY6PVEJJ+aYQZhoonDzPYFTge+APx1ePhs4KTw9k3AfYyQOPpVShrQWM1AEcm3Ru8yTrrF8WXg08DuJcf2dvf1AO6+3sz2KvdEM5sDzAFonzyV9+5bfp0GBOMNszsn1LUVsHHjxsy1OrIYE2QzLsUUTX9MxfVbePDJl3h1ew+7jy9w4iGT6Zw2ceQTJBhT1mQ1riQkljjM7Axgg7uvMLOT4j7f3RcDiwGm7n+o3/Xc8JXRBqk1A4vFIp2dnXW95kiyGBNkMy7FFE2xWKTYvTvzl62ju6cPaAX6+OnTL7PwvHQ+VWfxdYLsxpWEJFscs4CzzOw0YDww0cy+C7xgZtPC1sY0YMNoL/DUotNrFKqIVDKW3TSlMSW2ANDd57v7vu5+IHAhsMzdLwZuBy4NH3YpcNtozm8lldWH1pHSHg8itdMM6xIknjTWcSwCbjazPweeAT44mpMYDCSIRl/eL5KmZliXIPHUJXG4+30Es6dw95eA2XGeb2bDjvV50ITe9saOEZvRjV5wTCRJzbAuQeLJx8pxLz8Nt9IeFKU/a4aCYyJJaoZ1CRJPLhJHS8vwFgcwUFqk0s9AA3sitdDo6xIknlxUx52w67iyVV8rJQ3YuZmTBvZERGorF4ljfKF1YHcwCFoT3T29A62KcvofW2kATwN7IiKjk4vEsWHLdq796eNs2vo6sLM1UanFUWixgYE7bVkqIlJbuRjjcGDTtp6KP2+xYJYVQHtbgQVnHTHQH6uBPRGR2spF4hiJO6xbdPrAtNtP/nAV1929diBBaGBPRKR2GiJx7NPepmm3IiJ1kosxjmr6xyuaYZ9fEZEsyHXiaG8rsPC8GZxzdIem3YqI1Eluu6q+fMHMQV1QqqcjIlIfuWxxdLS3DRu30LRbEZH6yF2Lo8Uomww07VZEpD5ylTh2K7TwD+cdVTEZaNqtiEjycpE4jKB7Si0IEZH05WKMw9m5LkO7+4mIpCtS4jCzd5jZn4W3p5rZQcmGVZ7WZYiIpG/EriozuwY4DjgM+A5QAL4LzEo2tPIqbd6kXf5EROojSovjXOAsYCuAuz8P7J5kUNWU7jXer7/cSNfmbnVriYgkLErieMPdnWCoATN7U7IhVecwrLuqUcuNLFnZxaxFyzho3p3MWrRMiVBEMiHKrKqbzewbQLuZXQ5cBtyQbFjVDS0j0ojlRlS0UUSyasQWh7t/CfgxcAvBOMfn3P1fRnqemY03s1+Z2aNm9riZXRseX2BmXWa2Kvw6LW7QQ8uINOIuf43aihKR/Iu0jsPd7wHuiXnu14FT3P01MysA95vZz8OfXR8mpNjKlRGZe+phgz6dV3pcnjRiK0pEGsOILQ4ze9XMtgz5etbMfmJmB1d6ngdeC+8Wwq/ye71GZMD7jx2+OvycozsG9iTvXyzYXzU3rxqxFSUijcG8wr7dAw8IupieB/6T4L37QuDNwFrgo+5+UpXntgIrgEOBf3P3z5jZAuDDwBZgOfApd99U5rlzgDkA7ZOnHnvBgm8CMHF8gcvekcoykkE2btzIlClTEjt/cf0WlhY30NPbN3Cs0NrC7M696Jw2MZWYRiuLcSmmaBRTdFmMa/r06Svc/bhanzdK4njY3Y8fcuwhdz/BzB5197eOeBGzduAnwMeBF4GNBK2PzwPT3P2yas+fuv+h/qYPfWXg/rpFp490ycQVi0U6OzsTvUbctSn1iGk0shiXYopGMUWXxbjMLJHEEWWMo8/MzicYIAf4QMnPInU9uftmM7sPeG/p2IaZ3QDcETHWAUtWduW6GyoqFW0UkSyKso7jT4BLgA3AC+Hti82sDfirSk8KS5O0h7fbgHcDRTObVvKwc4E1cYP+65tXaU2DiEhKRmxxuPv/AmeWHjOzt7n774H7qzx1GnBTOM7RAtzs7neY2X+Y2UyC1so64CNxg+5ztKZBRCQlkcuqm9nhBAPjFwGvENSvqsjdHwOOLnP8kpgxllW6pkE1qkRE6qdq4jCzAwgSxUXADuAA4Dh3X5d8aCPrX02t1dUi0lTc4bbb4Mor4emn6375imMcZvYg8DOC9RcfcPdjgVezkjT6aXW1iOTW1q2wYAGYxftqaYFzz00laUD1wfEXCarg7g1MDY+NaQFfvWh1tYjU1W9+w76XXx4/AUyYANdeW7s49tgDvvMd2LEjaJUkpGLicPezgRnAI8C1ZvYUMMnM3p5YNBW0tlj541b+uFZXi0hs7vCDH8Cb3xw/ARxxBBPurzZXKKbZs2H58iCmOF+bN8OHPwytrbWLpYyq03Hd/RV3/7a7vwc4Hvgc8GUzezbRqIaYsOs42gqDX4i2QisXHb9f2eN5rlElImO0aRNcddXoun8uugheeKF2sXzmM0E8cRPAL34Bxx5buzhqLPKsKnffAPwL8C/hoHndbOnuoaPQwq7jWnilu2fQ7KnjDtgz0qwq7RAokjMrV8InPwn//d+DDtd9bfbee8OXvwznnx8klwqyuHI8KZETRyl3r+uIjAObtvXQVmjl+gtmDnrDj7K6WntbiKSkrw/+/d+D2T+vvJJuLGedBQsXwuGHpxtHAxhV4khLd08v1/708dgtimp7WyhxSCOrWUv7xRfhb/8WvvGN2gcZ08aPfYwpixYFA8uSilwlDghaHkNrVY3UotDeFpK0LHaFlvu7+MFXb+ady/+DPdesjHSOxDpeDjkEvvQlOPvsYHwhho3FIlOUNFI1YuIws6nA5cCBpY8fqaJtkoa2FEZqUezT3kZXmSSh2VdSC3XvCu3pCT75X3UVvP56xYedE34l6oIL4AtfCBKBNI0oLY7bgP8BfgH0jvDYuoi753i5HQILLca2N3Zw0Lw7M/MJUbKvXMti1F2hzz8PV18NN90EpDDoW2rhQrjiCmgb/GGqmQZ8JbooiWM3d/9M4pHEsEdbYdD9kVoUpWMdz2/uZo+2Alvf2MGmbT1Acw2WZ7FLJS8qtSxm/n4lNyy7gcM3PDX8SfPrGOBRRwXdP+95DwCzFi0r+3fR0d7GA/NOqWNg0miiJI47zOw0d/9Z4tFENLRLNMqe46Wzr2YtWsbm7p5B52iGwXLNLqti+/ZgyuX8yu/0den6Abj0Uvj852G//cZ0mih/FyKjEWU/jisIkkd3uN/4q2a2JenAqtm8bfCbftw9x5t1sLxal0rDWLcOLrxwxMVendOnDz7W1lY1acTVay2s/tSCYAwi4qKv4hNPBLdvvHHMSQPi/12IRBVlP47d6xFIHG2FFmYtWjasuyXqH0SzDpbnJmG6w513BoO/a1NOascfD9ddB//3/1bt+ukf68haF6B2kZQkRJqOa2aTgLcA4/uPufsvkwpqJNt6+tgW/gGPprulWZvwdU+YW7fCddfRWcsibqP1kY8EVUjf/GZgdIO+1X5v9AYtzWTErioz+wvgl8DdwLXh9wXJhhVP3O6WZm3Czz31sNHV9vrtb+Gcc9Kv/DlxIixeHExHjVv75+tfH0gao9WsvzciQ0VpcVwBvA14yN1PNrNOggSSKV2buwe6r9p3K+DOsLpWpZruE6I756z9H05d/EnaNvxh8M/+vs6xvOtdQffP295W5wuPXdP93oiUESVxbHf37WaGme3q7kUzy2SfTn83zKaSwfOGmzm0ZQv8wz/AF7847EdROl5q2il1xRVBGYrJk6s+TGsBRBpLlMTxnJm1A0uAe8xsE/B8smHVVian2q5aFQz+Ll2abhx77w3XXx+sAK5S+VNEpF+UWVXnhjcXmNm9wB7AXYlGlYBEZg5lqfLnqafy1Ec/ykFnn51uHCLS8ComDjOb6O5bzGzPksOrw+8TgJerndjMxhMMqu8aXufH7n5NeL4fEtS+Wgec7+6bogbcakbvKLZErDpz6OWX4e/+Dr7ylcjnS6zj5eqr4dOfDraAjOn1YjGBgEREBqvW4vhP4AxgBcGWGKXrtR04eIRzvw6c4u6vmVkBuN/Mfg6cByx190VmNg+YB0QuabLLOGNHH/T07kwehVYDh5lPr+az936Lmet/V/7J9Sr/cMABwSrkUVT+FBHJuoqJw93PCL8fNJoTu7sDr4V3C+GXA2cDJ4XHbwLuY4TEccCzT7L8i2eMJowx+eXhJ/LG3y/k3ee+c9jPNOArIs3KvEK3j5kdU+2J7v7IiCc3ayVosRwK/Ju7f8bMNrt7e8ljNrn7pDLPnQPMATgWjl0+0sWq+MmZl7DspDPp2WVXCq0tzO7ci85pE4c9rrh+C0uLG+jp7Rs4VunxGzduZMqUKWOIqvayGBNkMy7FFI1iii6LcU2fPn2Fux9X6/NWSxz3hjfHA8cBjxJ0Vx0FPOzu74h8kWBW1k+AjwP3R0kcpY4z8+XAJ868itsPPyl4HvDUotOrXjduddA4j89ii2O0MSVdMbeRXqskKaZoshgTZDMuM0skcVTrqjo5vPAPgDnuvjq8fyRwVZyLuPtmM7sPeC/wgplNc/f1ZjYN2DDS85/e7xAO/NDggevSwe4lK7tYcPvjAxVvJ+1W4Jozj4hdmyk3tZxqqNEq5qpsvEjyoqzj6OxPGgDuvsbMZo70pHDnwJ4wabQB7wa+CNwOXAosCr/fNprAn3+lmwPn3cmk3Qq8sq2HvpKfbdrWw9wfP0r7boVBiwH7VZph1YzFDxtpP/ZGS4IiWRVlxdcTZvZNMzvJzN5lZjcAT0R43jTgXjN7DPg1cI+730GQMN5jZr8D3hPej62/h23TkKTRr6fXcSdWbaZR13LKsUZqZTVF2XiRDIjS4vgz4KMENasgWJvxtZGe5O6PAUeXOf4SMDtGjKP2SncP118wM3LXxdCdApuhq6ORWlmNlARFsizKyvHtZvZ14GfunquPbvu0t8UuStdsRewaqcR8IyVBkSyLUlb9LGAVYZkRM5tpZrcnHdhYFVotl29+9dZIpcKbsatRJA1RuqquAd5OsFAPd19lZgcmF1J8hVZjXIvR3ROMdvTPqsrim18WZ/00SiurGbsaRdIQJXHscPdXLGOlM8yCAfKOHL05aNZP8holCYpkWZTEscbMPgS0mtlbgE8ADyYb1sj22aP8Ir4sa6SpryLSvKIkjo8DnyUoWvh9gq1jP59kUFH07/h3cudU7i2+mIuuCc36EZFGEGVW1TaCxPHZ5MOJp2tzN9996JlB98fa9ZPkGIRm/YhII6i2H0fVmVPuflbtw6kQS4zHjqXrJ+kxiEaa+lprWZw0ICLlVWtx/BHwLEH31MPEe/+uqbjbNo226yfpMQjN+ilPkwZE8qVa4ngzQUmQi4APAXcC33f3x+sR2FiMtuunHmMQmvUznCYNiORLxQWA7t7r7ne5+6XACcDvgfvM7ON1i24UxtL1U634oSRHkwZE8qXqynEz29XMzgO+C3wM+Cpwaz0Cq6bVbGCV88Un7F+zVc9aeZwOJWyRfKk2OH4TcCTwc+Bad19Tt6iqaCu0DkoOS1Z2cW/xxZqcW2MQ6dCkAZF8qTbGcQmwFfg/wCdKVo4bwZbiw/deTYiF4/KtZhyz/x5cd/daPvnDVezRVmDrGzvo6Q2Gz2sxqKoxiPpTwhbJl2o7AEbZq6MuPJxX1evOA0++PHC8f8e/UhpUzSclbJH8yExyqCUNqoqIJKchE4cGVUVEktNwiUODqiIiyYpS5DDTCi3GhPHj2LytJ9FB1WElMY6fQGdnzS8jIpJ5uUwcHe1tic6+GZokTu6cyi0rugaVxFha3AbtXRrQFZGmk8vEkeQ+HOXqJn3voWeG1cvq6e3T7C0RaUqJJQ4z2w/4d4KaV33AYnf/ipktAC4H+lftXe3uP4t7/nLVVGHsawHK1U2qVGSxXIl0EZFGl2SLYwfwKXd/xMx2B1aY2T3hz6539y+N9sR/s2T1sK6juT96FIwxLwaMM5W3NWPb6YqI1ENis6rcfb27PxLefhV4AqhJv873H352WKugp88Hkka//sWAccSZytvrcQu+i4jkX13GOMzsQOBogn09ZgF/ZWZ/CiwnaJVsKvOcOcAcgPbJU3nvvr1DHxLt2rxGsViM/Pi5x09gaXEbPb19JecY3l116ETn/ENbYp07aRs3bsxUPP2yGJdiikYxRZfVuJKQeOIwswnALcCV7r7FzL5GsGe5h9//Cbhs6PPcfTGwGGDq/of6Xc/trFrbahb5035HexudMebNdnYC7dVnVQGceYAz+4Sj6OzMzuB4sViM9W+tlyzGpZiiUUzRZTWuJCSaOMysQJA0vufutwK4+wslP78BuCPueU84eBKPPPPKoDfyQosNGuOA0S8GLFc36bgD9hyUTGZ3TtCMKhFpSknOqjLgW8AT7v7PJcenufv68O65QOxy7ete6mbheTMSmVVVydBk0ixNUhGRoZJsccwiKM2+2sxWhceuBi4ys5kEXVXrgI/EPfHzm7srVlNVK0BEJFmJJQ53vx8oN1819pqNoVTEUEQkPblbOZ6lIoblFiGqxSMijS5XiWPSbgWuOfOITLw5F9dvYf6ydYMWIY5190ERkTzIVeJ47fUdkR+bdGvgwSdforunb9Ax7T4oIs0gV4mjp9e59qePj/jGXK5Q4dwfPcq1P328ZuXXX93eA7QOO67dB0Wk0eVuI6dN24bvMz5UuUKFPX3Opm09ODu7lZas7Bp1HLuPL5Q9roF7EWl0uUscUUT51D+aOlalTjxkMm2FwS2OLA3ci4gkJXeJo60wcshRP/WPpVupc9pEFp43g472NoygtMnC82ZofENEGl6uxjgAWiKUMp976mGDxjgqGWu3UqVFiCIijSx3iWPrGyNXye1/M++fVbVHW4Gtb+yoSR0rEZFml7vEEdXQ1oAW64mI1EYuE8eSlV2x3/TVrSQiUhu5GxwH+NTNj45pKq2IiIxeLhNHr/uY12GIiMjo5DJxwNjXYYiIyOjkNnGAynuIiKQh14lD5T1EROovt4lD6zBERNKR28Sh8h4iIunIZeJobytw3d1rOWjencxatEyzq0RE6iiXCwC3bO9hc3dQXl0774mI1FdiLQ4z28/M7jWzJ8zscTO7Ijy+p5ndY2a/C79PinvuPh98X1NzRUTqJ8muqh3Ap9x9OnAC8DEzOxyYByx197cAS8P7Y5bFqblLVnYxa9EydamJSENJLHG4+3p3fyS8/SrwBNABnA3cFD7sJuCcWlxvt12Gb+Oapv7ta7s2d9ds10ERkSyoy+C4mR0IHA08DOzt7ushSC7AXrW4xtY3ejP1plxu+1p1qYlII0h8cNzMJgC3AFe6+xaLsBFT+Lw5wByA9slTee++I+/D8eCKx+hse3UM0Ua3ceNGisVixZ8fNeE1ZkwYftx4rerzkowpLVmMSzFFo5iiy2pcSUg0cZhZgSBpfM/dbw0Pv2Bm09x9vZlNAzaUe667LwYWA0zd/1C/67mRu6KMPv7xLzprE/wIisUinZ2Vr/XYkufpKjPu0tHeVvV5ScaUlizGpZiiUUzRZTWuJCQ5q8qAbwFPuPs/l/zoduDS8PalwG21umaWSpDMPfUw2gqDk51Wu4tII0iyxTELuARYbWarwmNXA4uAm83sz4FngA/W4mJZe1Meun2tdh0UkUaRWOJw9/uBSgMas2txjVYzet3pyOibsnYdFJFGlMuSIwAXn7A//3T+W+lob+P5zd1cd/faTM2qEhFpVLksOQLwvYee4ZYVXQNTXlV6RESkPnLb4nDQOgkRkRTkNnFUksXSIyIijaThEkeWpuSKiDSihkocWZuSKyLSiHI7OD5UVqfkiog0moZIHB3tbTww75S0wxARaQq576pS95SISH3lusWh7ikRkfrLZeJobTH+6YNvVcIQEUlBLruqchm0iEiDyOV7cE+fa4W4iEhKcpk4QCvERUTSktvEoRXiIiLpyG3i0BRcEZF05DZxaEaViEg6cpk4Wq3SxoIiIpK0XCaOi47fL+0QRESaVi4WAFq4dXmrGRcdvx9/f86MlCMSEWleuUgce03clTWLTk87DBERIcGuKjP7tpltMLM1JccWmFmXma0Kv06Lcq4NW7Yza9EylqzsSrlit4UAAAlFSURBVCpcERGJKMkxjhuB95Y5fr27zwy/fhblRA50be5m/q2rlTxERFKWWOJw918CL9fynN09vSo1IiKSsjRmVf2VmT0WdmVNivtklRoREUmXuXtyJzc7ELjD3Y8M7+8NbCToffo8MM3dL6vw3DnAHID2yVOPvWDBNwGYOL7AZe84KLGYo9q4cSNTpkxJO4xBshgTZDMuxRSNYooui3FNnz59hbsfV+vz1nVWlbu/0H/bzG4A7qjy2MXAYoCp+x/qdz3XSluhlYXnzaCzM/1V48Vikc7OzrTDGCSLMUE241JM0Sim6LIaVxLq2lVlZtNK7p4LrKn02EHPI9jtb+F5M1RqREQkZYm1OMzs+8BJwBQzew64BjjJzGYSdFWtAz4S5Vx7TRzPA/NOSShSERGJI7HE4e4XlTn8raSuJyIi9ZHLWlUiIpIeJQ4REYlFiUNERGJR4hARkVgSXQBYK2b2KpC1WiNTCBYzZkkWY4JsxqWYolFM0WUxrsPcffdanzQXZdWBtUmsfhwLM1uumKLJYlyKKRrFFF0W4zKz5UmcV11VIiISixKHiIjEkpfEsTjtAMpQTNFlMS7FFI1iii6LcSUSUy4Gx0VEJDvy0uIQEZGMUOIQEZF43D2zXwR7lq8Ffg/MS+D83wY2AGtKju0J3AP8Lvw+qeRn88NY1gKnlhw/Flgd/uyr7OwC3BX4YXj8YeDACDHtB9wLPAE8DlyRdlzAeOBXwKNhTNemHVPJ+VqBlQQbhmUlpnXh+VYBy7MQF9AO/Bgohr9bf5Ty79Rh4evT/7UFuDIDr9MnCX7H1wDfJ/jdTzumK8J4HgeuzMTvU5Q/hDS+CN4QngQOBnYheNM6vMbXeCdwDIMTxz8SJilgHvDF8PbhYQy7AgeFsbWGP/sVwR+iAT8H3hce/0vg6+HtC4EfRohpGnBMeHt34LfhtVOLK3z+hPB2IfzlOiHt1yp87F8D/8nOxJGFmNYBU4YcS/v36ibgL8LbuxAkktRfq5K/9T8AB6QZE9ABPAW0hfdvBj6cckxHEiSN3QjW3f0CeEva/3epJ4gqL9gfAXeX3J8PzE/gOgcyOHGsJdjSFoI38bXlrg/cHcY4DSiWHL8I+EbpY8Lb4whWlVrM+G4D3pOVuMJf4EeA49OOCdgXWAqcws7EkfrrRPnEkVpcwESCN0TLSkxD4vhj4IG0YyJIHM8SfJofR7BD6R+nHNMHgW+W3P9b4NNp/99leYyj/z+x33PhsaTt7e7rAcLve40QT0d4u1ycA89x9x3AK8DkqIGEe7YfTfAJP9W4zKzVzFYRdO3d4+6pxwR8meCPqK/kWNoxQbBR2X+Z2Qozm5OBuA4GXgS+Y2YrzeybZvamlGMqdSFBtxBpxuTuXcCXgGeA9cAr7v5facZE0Np4p5lNNrPdgNMIurNT/b/LcuKwMse87lHsVCmeanGO+t9gZhOAWwj6NLekHZe797r7TIJP+W83syPTjMnMzgA2uPuKKnHUNaYSs9z9GOB9wMfM7J0pxzWOoEv2a+5+NLCVoHsjzZiCJ5ntApwF/GikhyYdk5lNAs4m6OLZB3iTmV2cZkzu/gTwRYJxjLsIuqF2pBkTZDtxPEeQWfvtCzxfh+u+0L83evh9wwjxPBfeLhfnwHPMbBywB/DySAGYWYEgaXzP3W/NSlwA7r4ZuI9g4kKaMc0CzjKzdcAPgFPM7LspxwSAuz8fft8A/AR4e8pxPQc8F7YSIRgkPyblmPq9D3jE3V8I76cZ07uBp9z9RXfvAW4FTkw5Jtz9W+5+jLu/M3zs79KOKcuJ49fAW8zsoPBTyYXA7XW47u3ApeHtSwnGGPqPX2hmu5rZQQQDVL8Km4mvmtkJZmbAnw55Tv+5PgAs87AjsZLwHN8CnnD3f85CXGY21czaw9ttBH9gxTRjcvf57r6vux9I8LuxzN0vTjOm8PV5k5nt3n+boI98Tcqv1R+AZ83ssPDQbOA3ab9WoYvY2U019Dz1jukZ4AQz2y0812yCGWhp/07tFX7fHzgvfL3S/b+rNgCS9hdBf95vCWYGfDaB83+foC+zhyDr/jlB395Sgqy+FNiz5PGfDWNZSzgjITx+HMGbw5PAv7Jzmtt4gib47wlmNBwcIaZ3EDQTH2PnVMXT0owLOIpgyutj4fk+Fx5P9bUqOedJ7BwcT/v/72CC7oT+qcufzUhcM4Hl4f/hEmBSBmLaDXgJ2KPkWNoxXUvwoWgN8B8Es5PSjul/CBL9o8DsLLxOKjkiIiKxZLmrSkREMkiJQ0REYlHiEBGRWJQ4REQkFiUOERGJRYlDci8sx7Aq/PqDmXWV3N9lyGOvDEs3jHTO+8zsuArH15rZY2ZWNLN/7V/jMsrYB8VjZq+N9lwi9aLEIbnn7i+5+0wPSqJ8Hbi+/767vzHk4VcSrB8Yiz9x96MI1re8zs6FVKNRi3hE6kqJQxqSmc0OC/qtNrNvhytpP0FQg+heM7s3fNzXzGy5mT1uZtfGuUaYlD4N7G9mbw3Pd7GZ/Sps7XzDzForXadcPOHxL5jZo2b2kJntHR77oJmtCY//cuyvkMjoKXFIIxoP3Ahc4O4zCIr8fdTdv0pQn+dkdz85fOxn3f04gtbDu8zsqDgXcvdeghW9nWY2HbiAoMjhTKAX+JNK16kQz5uAh9z9rcAvgcvD458j2JTnrQRFAUVSo8QhjaiVoFjdb8P7NxFs2lXO+Wb2CEFJlSMINsKJq7+66GyCXdZ+bUEJ+tkEJUjiXOcNgn0gAFYQ7BcD8ABwo5ldTvDvE0nNuLQDEEnA1igPCovAXQW8zd03mdmNBK2VyMKuqBkExfD2Am5y9/ljuE6P76wD1Ev4N+ru/8/MjgdOB1aZ2Ux3fylOrCK1ohaHNKLxwIFmdmh4/xLgv8PbrxJsyQvBznhbgVfCsYT3xbmIBeXvFwLPuvtjBMXmPlBSzXRPMztghOuUxlPtWoe4+8Pu/jmCHdr2G+k5IklRi0Ma0Xbgz4AfWbC/wK8JZlsBLAZ+bmbr3f1kM1tJUMX2fwm6g6L4npm9TlA59RcEm//g7r8xs78h2P2vhaDq8sfc/aEq1xkUT5VrXmdmbyHoFltKMK4ikgpVxxURkVjUVSUiIrEocYiISCxKHCIiEosSh4iIxKLEISIisShxiIhILEocIiISy/8H6OjcH72SLosAAAAASUVORK5CYII=\n",
      "text/plain": [
       "<Figure size 432x288 with 1 Axes>"
      ]
     },
     "metadata": {
      "needs_background": "light"
     },
     "output_type": "display_data"
    }
   ],
   "source": [
    "x_values = median_renamed_df['Total Deaths']\n",
    "y_values = median_renamed_df['Median Age']\n",
    "(slope, intercept, rvalue, pvalue, stderr) = linregress(x_values, y_values)\n",
    "regress_values = x_values * slope + intercept\n",
    "line_eq = \"y = \" + str(round(slope,2)) + \"x + \" + str(round(intercept,2))\n",
    "plt.scatter(x_values,y_values)\n",
    "plt.plot(x_values,regress_values,\"r-\")\n",
    "plt.annotate(line_eq,(6,10),fontsize=15,color=\"red\")\n",
    "plt.xlabel('Total Deaths')\n",
    "plt.ylabel('Median Age')\n",
    "\n",
    "plt.grid(linestyle='-', linewidth=1, alpha = 0.5)\n",
    "\n",
    "plt.xlim(0, 90000)\n",
    "plt.show()"
   ]
  },
  {
   "cell_type": "code",
   "execution_count": 62,
   "metadata": {},
   "outputs": [
    {
     "name": "stdout",
     "output_type": "stream",
     "text": [
      "The r-squared is: 0.03129086510251411\n"
     ]
    },
    {
     "data": {
      "image/png": "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\n",
      "text/plain": [
       "<Figure size 432x288 with 1 Axes>"
      ]
     },
     "metadata": {
      "needs_background": "light"
     },
     "output_type": "display_data"
    }
   ],
   "source": [
    "x_values = median_renamed_df['Total Deaths']\n",
    "y_values = median_renamed_df['Median Age']\n",
    "(slope, intercept, rvalue, pvalue, stderr) = linregress(x_values, y_values)\n",
    "regress_values = x_values * slope + intercept\n",
    "line_eq = \"y = \" + str(round(slope,2)) + \"x + \" + str(round(intercept,2))\n",
    "plt.scatter(x_values,y_values)\n",
    "plt.plot(x_values,regress_values,\"r-\")\n",
    "plt.annotate(line_eq,(6,10),fontsize=15,color=\"red\")\n",
    "plt.xlabel('Total Deaths')\n",
    "plt.ylabel('Median Age')\n",
    "print(f\"The r-squared is: {rvalue**2}\")\n",
    "\n",
    "plt.grid(linestyle='-', linewidth=1, alpha = 0.5)\n",
    "\n",
    "plt.show()"
   ]
  },
  {
   "cell_type": "code",
   "execution_count": 63,
   "metadata": {},
   "outputs": [
    {
     "name": "stdout",
     "output_type": "stream",
     "text": [
      "The r-squared is: 0.03129086510251411\n"
     ]
    },
    {
     "data": {
      "image/png": "iVBORw0KGgoAAAANSUhEUgAAAY4AAAEGCAYAAABy53LJAAAABHNCSVQICAgIfAhkiAAAAAlwSFlzAAALEgAACxIB0t1+/AAAADh0RVh0U29mdHdhcmUAbWF0cGxvdGxpYiB2ZXJzaW9uMy4yLjIsIGh0dHA6Ly9tYXRwbG90bGliLm9yZy+WH4yJAAAgAElEQVR4nO3de5xcdX3/8ddnNwNZDGFDEjAsd/DHBgiGi0KJPwWiRbmDysVCsbTEn7UKVqIJthJqbWKxRW37UIMXaLUqCgYEhWICtcADNCGBBJmolHBZIiGQEEg2sNn9/P44ZzezuzOz5+zOmXPOzPv5eOxjZ87OnPPJZHc+8719vubuiIiIRNWSdgAiIpIvShwiIhKLEoeIiMSixCEiIrEocYiISCzj0g4gikmTJvkhhxySdhiDbN++nfHjx6cdxiBZjAmyGZdiikYxRZfFuFasWLHR3afW+ry5SBwdHR0sX7487TAGKRaLdHZ2ph3GIFmMCbIZl2KKRjFFl8W4zOzpJM6rrioREYlFiUNERGJR4hARkViUOEREJBYlDhERiSUXs6riWrKyi+vuXsvzm7vZp72NuacexjlHd6QdlohIQ2i4xLFkZRfzb11Nd08vAF2bu5l/62oAJQ8RkRpouMRx3d1rB5JGv+6eXq67e60Sh4iMiXozAg2XOJ7f3B3ruIhIFOrN2KnhBsf3aW+LdVxEJIpqvRnNpuESx9xTD6Ot0DroWFuhlbmnHpZSRCLSCNSbsVPDJY5zju5g4Xkz6Ghvw4CO9jYWnjej6ZqSIlJb6s3YqeHGOCBIHkoUIlJLc089bNAYBzRvb0ZDJg4RkVrr/zCqWVVKHCIikak3I6DEIU1Lc/JFRkeJQ5pScf0W5i9bpzn5IqOgxDGEPoU2hweffInunr5Bx1RhQCQaJY4SWhnaPF7d3gO0DjvejHPyReJquHUcY6GVoc1j9/GFssebcU6+SFxKHCW0MrR5nHjIZFUYEBklJY4SWhnaPDqnTcxFhYElK7uYtWgZB827k1mLlrFkZVfaIYlojKOUVoY2l6zPydeYm2RVUyWOkWZMaWWoZIn2lpGsSjxxmFkrsBzocvczzGwBcDnwYviQq939Z0nHEfXTW9Y/hUrz0JibZFU9xjiuAJ4Ycux6d58ZfiWeNEAzpiR/NOYmWZVo4jCzfYHTgW8meZ0o4nx604CkZIH2lpGsMndP7uRmPwYWArsDV5V0VX0Y2ELQhfUpd99U5rlzgDkAe++997H33Xdf1WsV12/hwSdf4tXtPew+vsCJh0ymc9rEgZ9/+/6n2LK9Z9jzJo4vcNk7Dhp0nqXFDfT07lxVXGhtYXbnXoPOt3HjRqZMmTLia1BPWYwJshlXXmIa6fc6jZjSlsWYIJtxTZ8+fYW7H1fr8yaWOMzsDOA0d/9LMzuJnYljb2Aj4MDngWnuflm1cx155JG+Zs2aij8fOn4BwSez0umVlR7z/mM7uLf44sBg+LY3drBp2/AE09HexgPzThm4XywW6ezsjPBK1E8WY4JsxqWYolFM0WUxLjNLJHEk2VU1CzjLzNYBPwBOMbPvuvsL7t7r7n3ADcDbx3qhKOMX5XYGfP+xHdyyoouuzd04wYB5uaQBGpAUEemX2Kwqd58PzAcoaXFcbGbT3H19+LBzgcpNiYgqval3be5m1qJlg6bWlrYaZi1aNizhVKIBSRGRQBrrOP7RzGYSdFWtAz4S5UnV1mDs095GV5nkYTBwvNz026itCA1IiojsVJeSI+5+n7ufEd6+xN1nuPtR7n5WSeujou09vcy/dfWgLqX5t64emO1UbvaJEWSmUkO7ryq1ItrbCpkvRSEikpZcrBx/7fUdjC8zhrHg9scHWiF7tBUYX2hh87aeii0QGNzKqFRiZMFZRyhRiIhUkIvE0ddXfubX5u4eNnf3DNxuK7Ry/QUzOefoDmYtWlY2eZS2MsZaYkSbPolIM8pF4mhpsUiPK63jE7Vg4WhLjFTbehR2JqP23Qq4wyvdPUouItIQcpE44iw16e+KSro1UWnr0QW3P87rO/oGEkrp9N6o1U3VkhGRLMtF4uiLkTmGdkWN5g03SkHESluP9nedVTJSdVOV0haRrGuojZxqNW02yoLCSluPRlFtGrCKMYpI1uWixVFJocWYMH7cwEyqoV06o+3yiVIQ8cRDJvPTp18eNoYyvtBScfV5v2qLCVVKW0SyLtctjp4+Z7ddxnH9BTN5YN4pw5JGtbUf1UQpZ11p69Frzjxi2JqSUiO1ilRKW0SyLtctDqg8BjCW3dNqMSNrtLOqtH2tiGRd7hMHlE8IY+nyGeuMrLHsIqjta6VZaTZhfjRE4oDhCaHS6vGoXT5pbiE7mmsvWdnFgyue4kc3PpnZPzq9MUglmk2YL7ke4yg1NCE00+5p/X90W7b3xB7PqZexjDlJ49NswnzJZeIoDFlJXmn8odzgdSN+esnDH10eYpT0aDZhvuSuq+riE/bnuAP2jNTlkWZ301jF6dapth/JkpVdmXgN9MYg1Yy1a1nqKxeJo7/FUPrmOfTNsP+NtmtzN61m9LoPe05exO3vrVYNOCv9xHpjkGo0mzBfctFVtdfE8cPWaZQq7T8H6A1LlNSyH33Jyi5mLVrGQfPuZNaiZRTXbxnzOSuJ261TbjwnyvPqqZnGnCS+ZupabgS5aHGMpNwbbb+oazeqKdcCWFrcBu3JdAPF7dbpj+GuB1bEel49aZqxjCTPXctDNfoMwoZIHCO9MY71jbNcYurp7RtzQqpkNN065xzdwYMrHgP6hv0sK91BjfTGIFJJM0wtzkVX1UhGemMc6xtnvQd2R9utc+Ihk9UdJJKyZphBmMsWx9Bm4MmdU7llRVfZ7qpavHHWe2B3tN06Qf2sjoZuIotkXTPMIMxd4ijXDLxlRRfvP7aDe4svJjKrqtyMj0JrS6Kf5EfbraPuIJF0NcMMwsQTh5m1AsuBLnc/w8z2BH4IHAisA853903VzrFhy3ZmLVrG3FMPq9gMvLf4Ig/MOyWRf0O5FsDszgl6gxaRYZphanE9WhxXAE8AE8P784Cl7r7IzOaF9z9T7QT9JSrm/uhRevrK7waYdDNw6Cf5YrGY6PVEJJ+aYQZhoonDzPYFTge+APx1ePhs4KTw9k3AfYyQOPpVShrQWM1AEcm3Ru8yTrrF8WXg08DuJcf2dvf1AO6+3sz2KvdEM5sDzAFonzyV9+5bfp0GBOMNszsn1LUVsHHjxsy1OrIYE2QzLsUUTX9MxfVbePDJl3h1ew+7jy9w4iGT6Zw2ceQTJBhT1mQ1riQkljjM7Axgg7uvMLOT4j7f3RcDiwGm7n+o3/Xc8JXRBqk1A4vFIp2dnXW95kiyGBNkMy7FFE2xWKTYvTvzl62ju6cPaAX6+OnTL7PwvHQ+VWfxdYLsxpWEJFscs4CzzOw0YDww0cy+C7xgZtPC1sY0YMNoL/DUotNrFKqIVDKW3TSlMSW2ANDd57v7vu5+IHAhsMzdLwZuBy4NH3YpcNtozm8lldWH1pHSHg8itdMM6xIknjTWcSwCbjazPweeAT44mpMYDCSIRl/eL5KmZliXIPHUJXG4+30Es6dw95eA2XGeb2bDjvV50ITe9saOEZvRjV5wTCRJzbAuQeLJx8pxLz8Nt9IeFKU/a4aCYyJJaoZ1CRJPLhJHS8vwFgcwUFqk0s9AA3sitdDo6xIknlxUx52w67iyVV8rJQ3YuZmTBvZERGorF4ljfKF1YHcwCFoT3T29A62KcvofW2kATwN7IiKjk4vEsWHLdq796eNs2vo6sLM1UanFUWixgYE7bVkqIlJbuRjjcGDTtp6KP2+xYJYVQHtbgQVnHTHQH6uBPRGR2spF4hiJO6xbdPrAtNtP/nAV1929diBBaGBPRKR2GiJx7NPepmm3IiJ1kosxjmr6xyuaYZ9fEZEsyHXiaG8rsPC8GZxzdIem3YqI1Eluu6q+fMHMQV1QqqcjIlIfuWxxdLS3DRu30LRbEZH6yF2Lo8Uomww07VZEpD5ylTh2K7TwD+cdVTEZaNqtiEjycpE4jKB7Si0IEZH05WKMw9m5LkO7+4mIpCtS4jCzd5jZn4W3p5rZQcmGVZ7WZYiIpG/EriozuwY4DjgM+A5QAL4LzEo2tPIqbd6kXf5EROojSovjXOAsYCuAuz8P7J5kUNWU7jXer7/cSNfmbnVriYgkLErieMPdnWCoATN7U7IhVecwrLuqUcuNLFnZxaxFyzho3p3MWrRMiVBEMiHKrKqbzewbQLuZXQ5cBtyQbFjVDS0j0ojlRlS0UUSyasQWh7t/CfgxcAvBOMfn3P1fRnqemY03s1+Z2aNm9riZXRseX2BmXWa2Kvw6LW7QQ8uINOIuf43aihKR/Iu0jsPd7wHuiXnu14FT3P01MysA95vZz8OfXR8mpNjKlRGZe+phgz6dV3pcnjRiK0pEGsOILQ4ze9XMtgz5etbMfmJmB1d6ngdeC+8Wwq/ye71GZMD7jx2+OvycozsG9iTvXyzYXzU3rxqxFSUijcG8wr7dAw8IupieB/6T4L37QuDNwFrgo+5+UpXntgIrgEOBf3P3z5jZAuDDwBZgOfApd99U5rlzgDkA7ZOnHnvBgm8CMHF8gcvekcoykkE2btzIlClTEjt/cf0WlhY30NPbN3Cs0NrC7M696Jw2MZWYRiuLcSmmaBRTdFmMa/r06Svc/bhanzdK4njY3Y8fcuwhdz/BzB5197eOeBGzduAnwMeBF4GNBK2PzwPT3P2yas+fuv+h/qYPfWXg/rpFp490ycQVi0U6OzsTvUbctSn1iGk0shiXYopGMUWXxbjMLJHEEWWMo8/MzicYIAf4QMnPInU9uftmM7sPeG/p2IaZ3QDcETHWAUtWduW6GyoqFW0UkSyKso7jT4BLgA3AC+Hti82sDfirSk8KS5O0h7fbgHcDRTObVvKwc4E1cYP+65tXaU2DiEhKRmxxuPv/AmeWHjOzt7n774H7qzx1GnBTOM7RAtzs7neY2X+Y2UyC1so64CNxg+5ztKZBRCQlkcuqm9nhBAPjFwGvENSvqsjdHwOOLnP8kpgxllW6pkE1qkRE6qdq4jCzAwgSxUXADuAA4Dh3X5d8aCPrX02t1dUi0lTc4bbb4Mor4emn6375imMcZvYg8DOC9RcfcPdjgVezkjT6aXW1iOTW1q2wYAGYxftqaYFzz00laUD1wfEXCarg7g1MDY+NaQFfvWh1tYjU1W9+w76XXx4/AUyYANdeW7s49tgDvvMd2LEjaJUkpGLicPezgRnAI8C1ZvYUMMnM3p5YNBW0tlj541b+uFZXi0hs7vCDH8Cb3xw/ARxxBBPurzZXKKbZs2H58iCmOF+bN8OHPwytrbWLpYyq03Hd/RV3/7a7vwc4Hvgc8GUzezbRqIaYsOs42gqDX4i2QisXHb9f2eN5rlElImO0aRNcddXoun8uugheeKF2sXzmM0E8cRPAL34Bxx5buzhqLPKsKnffAPwL8C/hoHndbOnuoaPQwq7jWnilu2fQ7KnjDtgz0qwq7RAokjMrV8InPwn//d+DDtd9bfbee8OXvwznnx8klwqyuHI8KZETRyl3r+uIjAObtvXQVmjl+gtmDnrDj7K6WntbiKSkrw/+/d+D2T+vvJJuLGedBQsXwuGHpxtHAxhV4khLd08v1/708dgtimp7WyhxSCOrWUv7xRfhb/8WvvGN2gcZ08aPfYwpixYFA8uSilwlDghaHkNrVY3UotDeFpK0LHaFlvu7+MFXb+ady/+DPdesjHSOxDpeDjkEvvQlOPvsYHwhho3FIlOUNFI1YuIws6nA5cCBpY8fqaJtkoa2FEZqUezT3kZXmSSh2VdSC3XvCu3pCT75X3UVvP56xYedE34l6oIL4AtfCBKBNI0oLY7bgP8BfgH0jvDYuoi753i5HQILLca2N3Zw0Lw7M/MJUbKvXMti1F2hzz8PV18NN90EpDDoW2rhQrjiCmgb/GGqmQZ8JbooiWM3d/9M4pHEsEdbYdD9kVoUpWMdz2/uZo+2Alvf2MGmbT1Acw2WZ7FLJS8qtSxm/n4lNyy7gcM3PDX8SfPrGOBRRwXdP+95DwCzFi0r+3fR0d7GA/NOqWNg0miiJI47zOw0d/9Z4tFENLRLNMqe46Wzr2YtWsbm7p5B52iGwXLNLqti+/ZgyuX8yu/0den6Abj0Uvj852G//cZ0mih/FyKjEWU/jisIkkd3uN/4q2a2JenAqtm8bfCbftw9x5t1sLxal0rDWLcOLrxwxMVendOnDz7W1lY1acTVay2s/tSCYAwi4qKv4hNPBLdvvHHMSQPi/12IRBVlP47d6xFIHG2FFmYtWjasuyXqH0SzDpbnJmG6w513BoO/a1NOascfD9ddB//3/1bt+ukf68haF6B2kZQkRJqOa2aTgLcA4/uPufsvkwpqJNt6+tgW/gGPprulWZvwdU+YW7fCddfRWcsibqP1kY8EVUjf/GZgdIO+1X5v9AYtzWTErioz+wvgl8DdwLXh9wXJhhVP3O6WZm3Czz31sNHV9vrtb+Gcc9Kv/DlxIixeHExHjVv75+tfH0gao9WsvzciQ0VpcVwBvA14yN1PNrNOggSSKV2buwe6r9p3K+DOsLpWpZruE6I756z9H05d/EnaNvxh8M/+vs6xvOtdQffP295W5wuPXdP93oiUESVxbHf37WaGme3q7kUzy2SfTn83zKaSwfOGmzm0ZQv8wz/AF7847EdROl5q2il1xRVBGYrJk6s+TGsBRBpLlMTxnJm1A0uAe8xsE/B8smHVVian2q5aFQz+Ll2abhx77w3XXx+sAK5S+VNEpF+UWVXnhjcXmNm9wB7AXYlGlYBEZg5lqfLnqafy1Ec/ykFnn51uHCLS8ComDjOb6O5bzGzPksOrw+8TgJerndjMxhMMqu8aXufH7n5NeL4fEtS+Wgec7+6bogbcakbvKLZErDpz6OWX4e/+Dr7ylcjnS6zj5eqr4dOfDraAjOn1YjGBgEREBqvW4vhP4AxgBcGWGKXrtR04eIRzvw6c4u6vmVkBuN/Mfg6cByx190VmNg+YB0QuabLLOGNHH/T07kwehVYDh5lPr+az936Lmet/V/7J9Sr/cMABwSrkUVT+FBHJuoqJw93PCL8fNJoTu7sDr4V3C+GXA2cDJ4XHbwLuY4TEccCzT7L8i2eMJowx+eXhJ/LG3y/k3ee+c9jPNOArIs3KvEK3j5kdU+2J7v7IiCc3ayVosRwK/Ju7f8bMNrt7e8ljNrn7pDLPnQPMATgWjl0+0sWq+MmZl7DspDPp2WVXCq0tzO7ci85pE4c9rrh+C0uLG+jp7Rs4VunxGzduZMqUKWOIqvayGBNkMy7FFI1iii6LcU2fPn2Fux9X6/NWSxz3hjfHA8cBjxJ0Vx0FPOzu74h8kWBW1k+AjwP3R0kcpY4z8+XAJ868itsPPyl4HvDUotOrXjduddA4j89ii2O0MSVdMbeRXqskKaZoshgTZDMuM0skcVTrqjo5vPAPgDnuvjq8fyRwVZyLuPtmM7sPeC/wgplNc/f1ZjYN2DDS85/e7xAO/NDggevSwe4lK7tYcPvjAxVvJ+1W4Jozj4hdmyk3tZxqqNEq5qpsvEjyoqzj6OxPGgDuvsbMZo70pHDnwJ4wabQB7wa+CNwOXAosCr/fNprAn3+lmwPn3cmk3Qq8sq2HvpKfbdrWw9wfP0r7boVBiwH7VZph1YzFDxtpP/ZGS4IiWRVlxdcTZvZNMzvJzN5lZjcAT0R43jTgXjN7DPg1cI+730GQMN5jZr8D3hPej62/h23TkKTRr6fXcSdWbaZR13LKsUZqZTVF2XiRDIjS4vgz4KMENasgWJvxtZGe5O6PAUeXOf4SMDtGjKP2SncP118wM3LXxdCdApuhq6ORWlmNlARFsizKyvHtZvZ14GfunquPbvu0t8UuStdsRewaqcR8IyVBkSyLUlb9LGAVYZkRM5tpZrcnHdhYFVotl29+9dZIpcKbsatRJA1RuqquAd5OsFAPd19lZgcmF1J8hVZjXIvR3ROMdvTPqsrim18WZ/00SiurGbsaRdIQJXHscPdXLGOlM8yCAfKOHL05aNZP8holCYpkWZTEscbMPgS0mtlbgE8ADyYb1sj22aP8Ir4sa6SpryLSvKIkjo8DnyUoWvh9gq1jP59kUFH07/h3cudU7i2+mIuuCc36EZFGEGVW1TaCxPHZ5MOJp2tzN9996JlB98fa9ZPkGIRm/YhII6i2H0fVmVPuflbtw6kQS4zHjqXrJ+kxiEaa+lprWZw0ICLlVWtx/BHwLEH31MPEe/+uqbjbNo226yfpMQjN+ilPkwZE8qVa4ngzQUmQi4APAXcC33f3x+sR2FiMtuunHmMQmvUznCYNiORLxQWA7t7r7ne5+6XACcDvgfvM7ON1i24UxtL1U634oSRHkwZE8qXqynEz29XMzgO+C3wM+Cpwaz0Cq6bVbGCV88Un7F+zVc9aeZwOJWyRfKk2OH4TcCTwc+Bad19Tt6iqaCu0DkoOS1Z2cW/xxZqcW2MQ6dCkAZF8qTbGcQmwFfg/wCdKVo4bwZbiw/deTYiF4/KtZhyz/x5cd/daPvnDVezRVmDrGzvo6Q2Gz2sxqKoxiPpTwhbJl2o7AEbZq6MuPJxX1evOA0++PHC8f8e/UhpUzSclbJH8yExyqCUNqoqIJKchE4cGVUVEktNwiUODqiIiyYpS5DDTCi3GhPHj2LytJ9FB1WElMY6fQGdnzS8jIpJ5uUwcHe1tic6+GZokTu6cyi0rugaVxFha3AbtXRrQFZGmk8vEkeQ+HOXqJn3voWeG1cvq6e3T7C0RaUqJJQ4z2w/4d4KaV33AYnf/ipktAC4H+lftXe3uP4t7/nLVVGHsawHK1U2qVGSxXIl0EZFGl2SLYwfwKXd/xMx2B1aY2T3hz6539y+N9sR/s2T1sK6juT96FIwxLwaMM5W3NWPb6YqI1ENis6rcfb27PxLefhV4AqhJv873H352WKugp88Hkka//sWAccSZytvrcQu+i4jkX13GOMzsQOBogn09ZgF/ZWZ/CiwnaJVsKvOcOcAcgPbJU3nvvr1DHxLt2rxGsViM/Pi5x09gaXEbPb19JecY3l116ETn/ENbYp07aRs3bsxUPP2yGJdiikYxRZfVuJKQeOIwswnALcCV7r7FzL5GsGe5h9//Cbhs6PPcfTGwGGDq/of6Xc/trFrbahb5035HexudMebNdnYC7dVnVQGceYAz+4Sj6OzMzuB4sViM9W+tlyzGpZiiUUzRZTWuJCSaOMysQJA0vufutwK4+wslP78BuCPueU84eBKPPPPKoDfyQosNGuOA0S8GLFc36bgD9hyUTGZ3TtCMKhFpSknOqjLgW8AT7v7PJcenufv68O65QOxy7ete6mbheTMSmVVVydBk0ixNUhGRoZJsccwiKM2+2sxWhceuBi4ys5kEXVXrgI/EPfHzm7srVlNVK0BEJFmJJQ53vx8oN1819pqNoVTEUEQkPblbOZ6lIoblFiGqxSMijS5XiWPSbgWuOfOITLw5F9dvYf6ydYMWIY5190ERkTzIVeJ47fUdkR+bdGvgwSdforunb9Ax7T4oIs0gV4mjp9e59qePj/jGXK5Q4dwfPcq1P328ZuXXX93eA7QOO67dB0Wk0eVuI6dN24bvMz5UuUKFPX3Opm09ODu7lZas7Bp1HLuPL5Q9roF7EWl0uUscUUT51D+aOlalTjxkMm2FwS2OLA3ci4gkJXeJo60wcshRP/WPpVupc9pEFp43g472NoygtMnC82ZofENEGl6uxjgAWiKUMp976mGDxjgqGWu3UqVFiCIijSx3iWPrGyNXye1/M++fVbVHW4Gtb+yoSR0rEZFml7vEEdXQ1oAW64mI1EYuE8eSlV2x3/TVrSQiUhu5GxwH+NTNj45pKq2IiIxeLhNHr/uY12GIiMjo5DJxwNjXYYiIyOjkNnGAynuIiKQh14lD5T1EROovt4lD6zBERNKR28Sh8h4iIunIZeJobytw3d1rOWjencxatEyzq0RE6iiXCwC3bO9hc3dQXl0774mI1FdiLQ4z28/M7jWzJ8zscTO7Ijy+p5ndY2a/C79PinvuPh98X1NzRUTqJ8muqh3Ap9x9OnAC8DEzOxyYByx197cAS8P7Y5bFqblLVnYxa9EydamJSENJLHG4+3p3fyS8/SrwBNABnA3cFD7sJuCcWlxvt12Gb+Oapv7ta7s2d9ds10ERkSyoy+C4mR0IHA08DOzt7ushSC7AXrW4xtY3ejP1plxu+1p1qYlII0h8cNzMJgC3AFe6+xaLsBFT+Lw5wByA9slTee++I+/D8eCKx+hse3UM0Ua3ceNGisVixZ8fNeE1ZkwYftx4rerzkowpLVmMSzFFo5iiy2pcSUg0cZhZgSBpfM/dbw0Pv2Bm09x9vZlNAzaUe667LwYWA0zd/1C/67mRu6KMPv7xLzprE/wIisUinZ2Vr/XYkufpKjPu0tHeVvV5ScaUlizGpZiiUUzRZTWuJCQ5q8qAbwFPuPs/l/zoduDS8PalwG21umaWSpDMPfUw2gqDk51Wu4tII0iyxTELuARYbWarwmNXA4uAm83sz4FngA/W4mJZe1Meun2tdh0UkUaRWOJw9/uBSgMas2txjVYzet3pyOibsnYdFJFGlMuSIwAXn7A//3T+W+lob+P5zd1cd/faTM2qEhFpVLksOQLwvYee4ZYVXQNTXlV6RESkPnLb4nDQOgkRkRTkNnFUksXSIyIijaThEkeWpuSKiDSihkocWZuSKyLSiHI7OD5UVqfkiog0moZIHB3tbTww75S0wxARaQq576pS95SISH3lusWh7ikRkfrLZeJobTH+6YNvVcIQEUlBLruqchm0iEiDyOV7cE+fa4W4iEhKcpk4QCvERUTSktvEoRXiIiLpyG3i0BRcEZF05DZxaEaViEg6cpk4Wq3SxoIiIpK0XCaOi47fL+0QRESaVi4WAFq4dXmrGRcdvx9/f86MlCMSEWleuUgce03clTWLTk87DBERIcGuKjP7tpltMLM1JccWmFmXma0Kv06Lcq4NW7Yza9EylqzsSrlit4UAAAlFSURBVCpcERGJKMkxjhuB95Y5fr27zwy/fhblRA50be5m/q2rlTxERFKWWOJw918CL9fynN09vSo1IiKSsjRmVf2VmT0WdmVNivtklRoREUmXuXtyJzc7ELjD3Y8M7+8NbCToffo8MM3dL6vw3DnAHID2yVOPvWDBNwGYOL7AZe84KLGYo9q4cSNTpkxJO4xBshgTZDMuxRSNYooui3FNnz59hbsfV+vz1nVWlbu/0H/bzG4A7qjy2MXAYoCp+x/qdz3XSluhlYXnzaCzM/1V48Vikc7OzrTDGCSLMUE241JM0Sim6LIaVxLq2lVlZtNK7p4LrKn02EHPI9jtb+F5M1RqREQkZYm1OMzs+8BJwBQzew64BjjJzGYSdFWtAz4S5Vx7TRzPA/NOSShSERGJI7HE4e4XlTn8raSuJyIi9ZHLWlUiIpIeJQ4REYlFiUNERGJR4hARkVgSXQBYK2b2KpC1WiNTCBYzZkkWY4JsxqWYolFM0WUxrsPcffdanzQXZdWBtUmsfhwLM1uumKLJYlyKKRrFFF0W4zKz5UmcV11VIiISixKHiIjEkpfEsTjtAMpQTNFlMS7FFI1iii6LcSUSUy4Gx0VEJDvy0uIQEZGMUOIQEZF43D2zXwR7lq8Ffg/MS+D83wY2AGtKju0J3AP8Lvw+qeRn88NY1gKnlhw/Flgd/uyr7OwC3BX4YXj8YeDACDHtB9wLPAE8DlyRdlzAeOBXwKNhTNemHVPJ+VqBlQQbhmUlpnXh+VYBy7MQF9AO/Bgohr9bf5Ty79Rh4evT/7UFuDIDr9MnCX7H1wDfJ/jdTzumK8J4HgeuzMTvU5Q/hDS+CN4QngQOBnYheNM6vMbXeCdwDIMTxz8SJilgHvDF8PbhYQy7AgeFsbWGP/sVwR+iAT8H3hce/0vg6+HtC4EfRohpGnBMeHt34LfhtVOLK3z+hPB2IfzlOiHt1yp87F8D/8nOxJGFmNYBU4YcS/v36ibgL8LbuxAkktRfq5K/9T8AB6QZE9ABPAW0hfdvBj6cckxHEiSN3QjW3f0CeEva/3epJ4gqL9gfAXeX3J8PzE/gOgcyOHGsJdjSFoI38bXlrg/cHcY4DSiWHL8I+EbpY8Lb4whWlVrM+G4D3pOVuMJf4EeA49OOCdgXWAqcws7EkfrrRPnEkVpcwESCN0TLSkxD4vhj4IG0YyJIHM8SfJofR7BD6R+nHNMHgW+W3P9b4NNp/99leYyj/z+x33PhsaTt7e7rAcLve40QT0d4u1ycA89x9x3AK8DkqIGEe7YfTfAJP9W4zKzVzFYRdO3d4+6pxwR8meCPqK/kWNoxQbBR2X+Z2Qozm5OBuA4GXgS+Y2YrzeybZvamlGMqdSFBtxBpxuTuXcCXgGeA9cAr7v5facZE0Np4p5lNNrPdgNMIurNT/b/LcuKwMse87lHsVCmeanGO+t9gZhOAWwj6NLekHZe797r7TIJP+W83syPTjMnMzgA2uPuKKnHUNaYSs9z9GOB9wMfM7J0pxzWOoEv2a+5+NLCVoHsjzZiCJ5ntApwF/GikhyYdk5lNAs4m6OLZB3iTmV2cZkzu/gTwRYJxjLsIuqF2pBkTZDtxPEeQWfvtCzxfh+u+0L83evh9wwjxPBfeLhfnwHPMbBywB/DySAGYWYEgaXzP3W/NSlwA7r4ZuI9g4kKaMc0CzjKzdcAPgFPM7LspxwSAuz8fft8A/AR4e8pxPQc8F7YSIRgkPyblmPq9D3jE3V8I76cZ07uBp9z9RXfvAW4FTkw5Jtz9W+5+jLu/M3zs79KOKcuJ49fAW8zsoPBTyYXA7XW47u3ApeHtSwnGGPqPX2hmu5rZQQQDVL8Km4mvmtkJZmbAnw55Tv+5PgAs87AjsZLwHN8CnnD3f85CXGY21czaw9ttBH9gxTRjcvf57r6vux9I8LuxzN0vTjOm8PV5k5nt3n+boI98Tcqv1R+AZ83ssPDQbOA3ab9WoYvY2U019Dz1jukZ4AQz2y0812yCGWhp/07tFX7fHzgvfL3S/b+rNgCS9hdBf95vCWYGfDaB83+foC+zhyDr/jlB395Sgqy+FNiz5PGfDWNZSzgjITx+HMGbw5PAv7Jzmtt4gib47wlmNBwcIaZ3EDQTH2PnVMXT0owLOIpgyutj4fk+Fx5P9bUqOedJ7BwcT/v/72CC7oT+qcufzUhcM4Hl4f/hEmBSBmLaDXgJ2KPkWNoxXUvwoWgN8B8Es5PSjul/CBL9o8DsLLxOKjkiIiKxZLmrSkREMkiJQ0REYlHiEBGRWJQ4REQkFiUOERGJRYlDci8sx7Aq/PqDmXWV3N9lyGOvDEs3jHTO+8zsuArH15rZY2ZWNLN/7V/jMsrYB8VjZq+N9lwi9aLEIbnn7i+5+0wPSqJ8Hbi+/767vzHk4VcSrB8Yiz9x96MI1re8zs6FVKNRi3hE6kqJQxqSmc0OC/qtNrNvhytpP0FQg+heM7s3fNzXzGy5mT1uZtfGuUaYlD4N7G9mbw3Pd7GZ/Sps7XzDzForXadcPOHxL5jZo2b2kJntHR77oJmtCY//cuyvkMjoKXFIIxoP3Ahc4O4zCIr8fdTdv0pQn+dkdz85fOxn3f04gtbDu8zsqDgXcvdeghW9nWY2HbiAoMjhTKAX+JNK16kQz5uAh9z9rcAvgcvD458j2JTnrQRFAUVSo8QhjaiVoFjdb8P7NxFs2lXO+Wb2CEFJlSMINsKJq7+66GyCXdZ+bUEJ+tkEJUjiXOcNgn0gAFYQ7BcD8ABwo5ldTvDvE0nNuLQDEEnA1igPCovAXQW8zd03mdmNBK2VyMKuqBkExfD2Am5y9/ljuE6P76wD1Ev4N+ru/8/MjgdOB1aZ2Ux3fylOrCK1ohaHNKLxwIFmdmh4/xLgv8PbrxJsyQvBznhbgVfCsYT3xbmIBeXvFwLPuvtjBMXmPlBSzXRPMztghOuUxlPtWoe4+8Pu/jmCHdr2G+k5IklRi0Ma0Xbgz4AfWbC/wK8JZlsBLAZ+bmbr3f1kM1tJUMX2fwm6g6L4npm9TlA59RcEm//g7r8xs78h2P2vhaDq8sfc/aEq1xkUT5VrXmdmbyHoFltKMK4ikgpVxxURkVjUVSUiIrEocYiISCxKHCIiEosSh4iIxKLEISIisShxiIhILEocIiISy/8H6OjcH72SLosAAAAASUVORK5CYII=\n",
      "text/plain": [
       "<Figure size 432x288 with 1 Axes>"
      ]
     },
     "metadata": {
      "needs_background": "light"
     },
     "output_type": "display_data"
    }
   ],
   "source": [
    "x_values = median_renamed_df['Total Deaths']\n",
    "y_values = median_renamed_df['Median Age']\n",
    "(slope, intercept, rvalue, pvalue, stderr) = linregress(x_values, y_values)\n",
    "regress_values = x_values * slope + intercept\n",
    "line_eq = \"y = \" + str(round(slope,2)) + \"x + \" + str(round(intercept,2))\n",
    "plt.scatter(x_values,y_values)\n",
    "plt.plot(x_values,regress_values,\"r-\")\n",
    "plt.annotate(line_eq,(6,10),fontsize=15,color=\"red\")\n",
    "plt.xlabel('Total Deaths')\n",
    "plt.ylabel('Median Age')\n",
    "print(f\"The r-squared is: {rvalue**2}\")\n",
    "\n",
    "plt.grid(linestyle='-', linewidth=1, alpha = 0.5)\n",
    "\n",
    "plt.xlim(0, 90000)\n",
    "plt.show()"
   ]
  },
  {
   "cell_type": "code",
   "execution_count": 64,
   "metadata": {},
   "outputs": [
    {
     "name": "stdout",
     "output_type": "stream",
     "text": [
      "The correlation between both factors is 0.1768922415\n"
     ]
    }
   ],
   "source": [
    "Total_deaths = median_renamed_df[\"Total Deaths\"]\n",
    "Median_age = median_renamed_df[\"Median Age\"]\n",
    "correlation = st.pearsonr(Total_deaths,Median_age)\n",
    "print(f\"The correlation between both factors is {round(correlation[0],10)}\")"
   ]
  },
  {
   "cell_type": "code",
   "execution_count": 65,
   "metadata": {},
   "outputs": [
    {
     "data": {
      "image/png": "iVBORw0KGgoAAAANSUhEUgAAAX4AAAEGCAYAAABiq/5QAAAABHNCSVQICAgIfAhkiAAAAAlwSFlzAAALEgAACxIB0t1+/AAAADh0RVh0U29mdHdhcmUAbWF0cGxvdGxpYiB2ZXJzaW9uMy4yLjIsIGh0dHA6Ly9tYXRwbG90bGliLm9yZy+WH4yJAAAgAElEQVR4nO3de3xU5bX4/89KCCQIIUC4JOF+KUFAQFNA0VaKFrRWEVs9tvq1x1Z6epUea6u1v1a/tgeO9Fd77q2e41GP1uKt8VKVWtRTLyAGCfdB5U64BhJIQgJDsr5/7D25MTOZSeaWPev9euXF5Nkzs1c2sLLn2WuvR1QVY4wx6SMj2QEYY4xJLEv8xhiTZizxG2NMmrHEb4wxacYSvzHGpJkeyQ4gEvn5+Tpq1KhOvbahoYHs7OzYBhRjqR5jqscHFmMspHp8YDFGa+3atZWqOqj9eLdI/KNGjaKsrKxTr/X5fBQXF8c4othK9RhTPT6wGGMh1eMDizFaIrI72LhN9RhjTJqxxG+MMWnGEr8xxqQZS/zGGJNmLPEbY0ya6RZVPV1Vuq6CZSu2sb+6nsK8HO6cN4EF04uSHZYxxiSF5xO/78AJ7n5jF/X+RgAqquu5+/mNAJb8jTFpyfOJ/73tR6n3N7UZq/c3smzFNk8nfvuUY4wJxfOJv6bBD2SeNb6/uj7xwSRI6boK7n5+o33KMcYE5fmLu32zs4KOF+blJDiSxFm2Yltz0g8IfMoxxhjPJ/6Lxg4kJ6vtGX9OViZ3zpuQpIjiL9SnGS9/yjHGRM7zib+4IJclC6dQlJeDAEV5OSxZOMXTUx6hPs14+VOOMSZynp/jB2de28uJvr07501oM8cP3v+UY4yJXFok/nQT+CVnVT3GmGAs8XtUun3KMcZEzhJ/HFktvTEmFVnijxOrpTfGpKq0TPyJOBMPV0tvid8Yk0xpl/gTdSZutfTGmFTl+Tr+9hJ1V6vV0htjuuJY3WmeW7uPxiaN+Xun3Rl/os7ErZbeGBOt2lNneH3LQf5l5SfsqKwDYECfnsyZMDim+0m7xF+Yl0NFkCQf6zPxSGvpS9dV8N7anTzz6Har/DEmDW3Zf4KXNuxn8/4TZGUIK32Hye/TE4A7Lv9UzJM+pGHiT+SZeEe19IHrDZ8d4kfJtMofY9LE3mMnueWRNc1n9QCjBvbmplkjWXzZp5hUmEtGhsRt/2mT+FtX8vTLySI7K4Pqk/6knmVb5Y8x6UFV+ehQLe9tr+TdT47yl62Hmrf1yBB+8zfT+MKUAkTil+xbi3viF5FMoAyoUNWrRORe4DbgiPuUn6jqK/GMoX0lT3W9n5ysTB68YVpSE6xV/hjjXY1NyuOrdnHfS1uax0TgtkvG8NMxE5lTPJixg/okJbZEnPHfDmwFcluNPaiqv0rAvoHUPbNO1PUGY0xi+Bub+LjyFL9/YROPr9rdZtsPLvsUN84czuC+2UmKrkVcE7+IDAO+APwS+Pt47iucUGfQFdX1zF76RtKmegLXG8Aqf4zpro6f9PMPr2zl48M1bD9Sx7j+Pdh85BQXj8snI0P45YLJDB/QO9lhtiGqsa8RbX5zkWeBJUBf4Ietpnq+BpzAmQK6Q1Wrgrx2EbAIoLCw8IKVK1d2KobKykqe3XychnZn/K1lZWYwt3gwxQW5IZ8TL74DJ9h74BBbjil9s7O4aOzApMQRTmVlJfn5+ckOIyyLsetSPT5InRjrTjfy/t6TPPD24Tbjc8f2YcYgZea4wWT3SP5tUhMnTlyrqiXtx+OW+EXkKuBKVf22iFxKS+IfAlQCCtwPFKjqreHeq6SkRMvKyjoVR+mba7jzL5X4G8P/nEV5Obx71+c6tY+u8vl8FBcXJ2XfkUj1+MBijIVUjw+SG+OB4/W8te0IuyrreGbtPo7VnW7etugzY1h82Xh69+yRUsdRRIIm/nhO9cwGrhaRK4FsIFdEnlDVm1oF9TDwchxj4L3tRztM+mAXVI0xZyvbdYzb/1De5lrc6Pxz+PH8CYwb3Ifpw/vHtewyXuKW+FX1buBugFZn/DeJSIGqHnCfdi2wKV4xANQ0+IHMDp9nF1SNMQCfHK6hfO9xHn1vJ5sqTrTZ9tJ3L2ZyUW7Cyi7jJRl1/A+IyDScqZ5dwDfjtaPSdRUR/wXZBVVj0lNTk/Lkmj38f6WbyM7KoMHfxGc/NYiszAy++dkxzBozMC53zyZTQhK/qr4FvOU+vjkR+2y5K7bjaZ68nCy7YcqYNHKmsYkPdlWx/IM9lJbvbx5v8Ddx/zWTmDd5aEqUXcaLZ+/cDVa7H0xOVib3Xj0pAREZY5LpRIOfF8r3s3FfNSdPN/LKxgNkZTqVNxeOGcg/LJzC6PxzkhxlYng28UdysVaA7KwMfrC8nGUrtlmDNGM8pvbUGe57cTPPrN3XPNa3Vw+unlbIE9+YydRheZzTy7NpMCTP/sR5vbOoOukPuT0rQ0Bofk5FdT2Ll5dz9/MbWLLwPPsFYEw3dazuNCu3HuKjQzU8tmo3p880NW/7+sWj+fH8YnqmQI19Mnk28Ye7YQugUZWmprPH6/1NLF5ezuLl5RRZm2RjuoW1u6u485n1bbpdLjy/iJtmjuSS8fnMHpef9sm+NU8m/tJ1FdT7g2R1lwCRLGpjbZKNSV0Hjtfzx3UV/GrFtjb/ny8/dwi3zx3PpMLuX3YZL55M/B0toxjNvcqp0MzNGOO0Nn7toxP8ek0ZOyvrKMjL4a8fHWFyUS4VVfU88KWpXH7ukGSH2S14MvEH63jZFXZXrzHJ0dikrN1dxfW/W9Vm/MIxA1k4vYhlXzqPIbneLbuMF08m/kwRGmPYg8ju6jUmcU6daWTV9qO8v/MYq7YfpXxvdfO2SYOz+aebZjBucN8kRtj9eTLxxzLpW5tkY+KvsvYU9720hZfWt9xMdU7PTL43dzzfuGQ0l04YTJ9eTgM0S/pd58nEH432lTutl2hM1cXPu0OMxnSk+uRpyvdW8+T7e3h9y6E22359/VSunFJAdlbHfbZM9NI68QdrxRxYID2QXDu6uSvRSbj9MpJWeWS6kw37qvnhM+s5VneaqpN+Lh6Xz0eHavjyBcMozMvh23PG0quHJft4S9vEH24KJ9LkmowknKrLSBoTyq7KOl7ZdIAHXmtbbfftS8dy9bRCJgzpa2WXCebJxN87K4OTYer4O7oxK9LkmowkbAu0m1Snqrz7yVHW7DpGRVU9f95ykJqGM4DTIuU3N0xj/uSCJEeZ3jyZ+P9h4Xn8/dPlZ92kddOsEfxiwZSwry1dVxGyHLT9eDKSsC3QblJRU5Py1Ad7uOePLctriMDM0QN48PppTBjaN+XWnU1nnkz8gbPtZSu2IdSSk5XBqTNNPLF6D0+9v5cbZw4P+gsgMHUTirjPCbx/MpJwYIH21p80rPLIJIO/sYlV24+y7WAND729gyM1p5q3TR2ex8M3X8Bgq7FPSZ5M/NBykfbfS/+XV/fVNo83qvLE6j3sPFLLrqP1bS7KdtTKWaHNNE4yknDrX2pW1WMSraruNPf/aQvPf1jRPHb5uUP49Kj+XDQ2nznFgymyT58pz7OJP8BZOu3s5kzvbj/W/DhwUTaS/v2tp3GSlYQDv9QiYaWfpqtOnj7Dis0HeXL1Hsp2VzWP5/fpyZKF53HJ+Hwru+xmPJ/4myK8mave3xjRHb/tp3GiScKJZqWfprO27D/B8g/2sKOyjswM4e2PK8nv0xNwqnG+P3e8JftuzPOJPyOKMrFGVXKyMkOe+Xe3uXQr/TTROFjj5+//6W22HGhZYHzUwN5cO30Y91w5kbGD+pCRYWWXXuDpxF+6roLMKFpwF7Wa699fXU9e7yxU4Xi9v1tOk1jppwlHVfnoUC2vbznIjiN1PL+uZd4+M0P49fVTuXpqodXYe5BnE3+oxdYzBC4cM4AP9xwPelE2laduomWln6a9xibl8VW7uO+lLc1jIvD12aO5rWQgX7k0fdadTWdxT/wikgmUARWqepWIDACWA6OAXcD1qloV+h06576XNgedsinol8OTt12YFhc9rfTTgFN2+dGhGpZ/sJfHV+1us+22S0Zz2yVjGJybjc/ns6SfJhJxxn87sBXIdb+/C1ipqktF5C73+x/Hcoel6ypCrrcbmObw0pl9KFb6mb6On/Sz5NWtrN1dxZHaU0wdlsf7O49y+blD8Dc2cf81k+2GqjQW18QvIsOALwC/BP7eHb4GuNR9/BjwFjFO/Pe+uDnktnSb5kiHX3DGUdPg5w3fYW7/Q3mb8WunF3Ht9CJ+d/MFVoljgPif8f8G+BHQuoH2EFU9AKCqB0RkcLAXisgiYBFAYWEhPp8v4p3OGtjQ/HhcrjJ/WMtUx4gBjVG9VyJUVlaGjMl34ATvbT9KTYOfvtlZXDR2IMUFuUGfm4z4UkW6xnio1s+H++vZergBX2UDe6pbPuleN6kfN08bQHZWBjQdZdf2owmPL9YsxtiIW+IXkauAw6q6VkQujfb1qvoQ8BBASUmJFhcXR/za1x7d3vx4/rBGXtvXcpaTWeHnJ1+J/L0SwefzEeznK11Xwd1v7HIXjs8Emnhp9zGWLEzsWXyo+FJJOsX44Z4qvv/UOvZVtVy4Hz4gh+/NnciYQecwfUR/MjtRdplOxzCeukOM8Tzjnw1cLSJXAtlArog8ARwSkQL3bL8AOBzrHffvnRVyjj+Wq3PFm9Xhm4BPDtewYd9x/vvdXWysON5m2zN/dyElI/tb2aWJWNwSv6reDdwN4J7x/1BVbxKRZcAtwFL3zxdive+ff3ESi5eXB93Wnf5vWB1++mpqUn6/Zg8/LW3pdvnZTw2iR6aw+LLxTB2Wx5zioLOkxnQoGXX8S4GnReTrwB7gy7HewYLpRfzbmx/z8eG6szdq2w6bqczq8NNLY5OyZucxXtl4gP9Z3bbs8v5rJvH5SUMZYt0uTQwkJPGr6ls41Tuo6lFgbrz3efJ08IVYFLjj6fVA6versTp876tp8LP8g718fKiWwzUNrN1dxakzzr/dWWMGsGTheVZbb2LOs3fuhpsOaVTtFs3KrA7fm2pPneEfX/W1Oavv26sHcycO5tFbZzBhSF/O6eXZ/5omBXj2X1eoaZKA7nKR1OrwveFY3Wn+/PEJSnf6eOTdnZw+0/KJ9GsXjeLuK4ttkXHTRjy7C3g28d85b0LIC7wBdpHUxNO6PVXc8cx6dhxpuda0YFoWN80cyZziQcwcPZCePaLoImjSRrxbqns28S+YXtRh4reLpCbWDp9o4NkP9/H4e7s5eKLlRsIZowdw8+TeXHXReVZ2aToU71Juzyb+n5aGXjsX7CKpiQ1V5ZmyfbywvoLDJ06R36cXZbuPcW5BLlk9hJ9dNYnLzx0CODf2WNI3kYh3KbcnE3/pugqeWL0n5PYiu0hquqCxSVm7u4rrf7eqzfisMQO4eloh//bV8xlwTs8kRWe8IN6l3J5M/MtWbAu73ZK+iVaDv5HVO47yhu8we46d5K1tR5q3lYzsz9LrpjBucN8w72BM5OJdyu3JxN/Rx6HuUMppku9o7Sn+78tbeKF8f/PYOT0z+faccVx3/jAunTCIvtlZSYzQeFW8S7k9mfh79shovgkmmO5SymkSr/rkaTZWHOfxVbt5fcuhNtt+sWAyX7pgmLU2NgkRz1JuTyb+cEk/wEo5TcCmiuP88Jn1fHK4FgUuGjuQTw7X8n8uHMmAc3ryrUvHWo298RRPJv5IWClnettVWceKzQdZ8mrbvunfunQsV51XwLkFuVaBYzwrLRO/lXKmH1XlrW1HKN9bzYZ91ew+epIdlc6NVb16ZPDgDdO4YvJQS/YmLXgy8c8eO4B3tx8Lus1KOdNHU5Py7Np9/Oi5DW3GZ4wawE+unMiEoX1t3VmTljyZ+J+87UK++vCqNsl/9tgBPHnbhUmMyiSCv7GJ1TuOsu1gDQ/9dQeHa041b5s6rB//ftMFFNk0n0lznkz8AF8uGcGuo/UItRTl5fDlkhHJDsnESVXdaX719iH+0mrJzbnFgykZ1Z85EwZz0bh8S/bGtOLJxN+6wdGUPrFvcGSSr8HfyGubDvLS+v2s9LWs3tkjQ/iPmy7gkvH5VnZpTAgRJX4RuRgYr6r/LSKDgD6qujO+oXWerVXrTVv2n+C/393JoZpT1J06w/YjtfRyu1veMCWP+66fZcnemAh0mPhF5OdACTAB+G8gC3gCZzH1lBSqRr+iup7ZS9+wi7vdyN5jJ/nB8nLKdlc1j40c2JsrJhfw6+unMrx/bzIyBJ/PZ0nfmAhFcsZ/LTAd+BBAVfeLSEo3JemXk0V1vT/oNpv2SW2qykeHalmx+SAVVfUsL9vbvC0zQ/j19VO5emqhlV0a0wWRJP7TqqoiogAikvILgHaUE8JN+8Rz1RsTXGOT8viqXdz30pbmMRFnZap7rpzI5ycNYeTAlP9nZ0y3EUnif1pEfgfkichtwK3Aw/ENq2uqTwY/228t2HRQvFe9MS3ONDbx8eFanlqzh8dX7W6z7cYZI/jBZeMZnJudpOiM8bYOE7+q/kpELgdO4Mzz/0xVX+/odSKSDfwV6OXu51lV/bmI3AvcBgT62v5EVV/pZPxBdbTebuA57dlF4fg6Xu9n6atbWbn1MKcbm5g4NJdN+48zb9IQemRkcNcVxXZDlTEJEFFVj5voO0z27ZwCPqeqtSKSBbwjIq+62x5U1V9F+X4Ru3PeBO58dj3+Rg26PVTLhnivepOOahr8vOE7zO1/aLsM5rXTi7jqvAIuGT/I1p01JsEiqeqpAdpn0ONAGXCHqu4I9jpVVaDW/TbL/QqeieMhxJ7CtWyI96o36WL30TpWbT/Km9sOU1XnZ82uljuoF31mDIsvG0/vnp68hcSYbkGc/BzmCSL3AfuB3wMC/A0wFNgGfEtVLw3z2kxgLTAO+DdV/bE71fM1nKmjwC+PqiCvXQQsAigsLLxg5cqVEf9Qj7yzkxMNzjz/uFzlkxPO1d7c7CxuvXh0yNf5Dpxgpe8w/saWts5ZmRnMLR5McUFuxPuPVmVlJfn5+XF7/66KJL6PK0/xy7cOcrD2TPPY0D49uOG8/ozol0XxoGwyM+JXiZPqxxBSP8ZUjw8sxmhNnDhxraqWtB+PJPG/r6oz242tVtVZIrJeVad2tHMRyQP+CHwPZ26/Euec/H6gQFVvDff6kpISLSsr62g3zUbf9afmE/75wxp5bZ9T3y3AzqVfCPvaZFT1+Hw+iouL47qPrggV3yeHa9i8/wT/+fZONlYcb7Ptia/PZPa4gQkru0z1YwipH2OqxwcWY7REJGjij+TzdpOIXA88637/pVbbIpq6UdVqEXkLmN96bl9EHgZejuQ9opHXO4uqIJU9eb07XiYvnqvedHdNTcrv1+zhp6Wbmsc+86lBZGYIP5o/gYkFucyZMDiJERpjIhFJ4v8q8E/Av+Mk+tXATSKSA3w31Ivc1g5+N+nnAJcB/ygiBap6wH3atcCmUO/RWafaVeYE1J06E3TchKaqbDhYzx8+2syj7+1qs+3/XjOJz587lKH9rOzSmO4kknLOHcAXW4+JyKdV9RPgnTAvLQAec+f5M4CnVfVlEfkfEZmG80tkF/DNzgYfykl/8KUXTzcqpesq7Iy+AzUNfh57bxd7j9Wz5cAJqmtPcqjO+WV64ZiB/MPCKYzOtxuqjOmuIi6tEJFzcS7s3ohT1XPWvFFrqroBp9VD+/Gbo4wxpu59cbMl/iBqT53hN69/xH++09J7r2ePDOZPGsqcqX34/MzJnNPLKnGM8YKw/5NFZCROor8ROAOMBEpUdVf8Q+u8vDC9eqrr/XbW7zpWd5q/bD3E7qN1PPz2Tk63WqT+axeN4sfzi8npmYnP57OkHwO+Ayf4eukb1g7EJF3I/80i8h7QD/gD8CVV/VhEdqZ60ge49+pJLF5eHnJ7Ot+J++GeKn749Prm9WYBvji1kJtmjuSycwdTMnKA3VAVB6XrKljpO0xFtVPlZO1ATDKFO407AgwDhgCDgI9J5A1YXbBgelHYxJ9ud+JW1p7imbJ9vFBege9gTfP4xIJcHrjuPCYX5Vq3yzhbtmIbU/o0AS2to60diEmWkIlfVa8RkX7AdcB9IjIOp1HbDFVdk7AIO6koTL8er9+Jq6o8U7aPJ97fTYO/kZ49Mthf3cDw/jmcW5DL4svG8/lJQ5MdZlrZX13PlD7Bx41JtLATt6p6HHgEeEREBgM3AL8RkeGqOjwRAXbWnfMmcOcz688az8qUoH16urvGJuXDPVV87ZE11J1uKWedOXoAV0weysILhpGb3fF9DCY+nJON2hDjxiRWxFfsVPUw8C/Av7gXfVNen+weONekHSLgb1SWrdgGdP+51bpTZ/hg1zFWbD7E0dpT/HnLoeZtJSP7s/S6KYwbnNJr5qSNO+dNYOXqdW3GQjULNCbeOlWqoaq7O35W8rTpqz+gZTzQnaI7X1g7Vneae1/czIvr9zeP9e6Zybc+O5YvTi3k0gmD6Gtn9ilnwfQiqK7gw+O1VtVjks6TNXrB+uq3l6oX1oL1Crp0wiC27D/Bo+/tanNWD/DTL0zkplkjbb3ZbqC4IJd375qR7DCM8Wbi72gRloBkXFgLltiLc1q2tV8BbPHycjIEZowewIHjDXztolEM7ZfN384eRa8eluyNMdGLpB//IJwVs0a1fn5HHTW7g0RfWAu1tOOSzw2guBiWvLI16CeV3j178JMrJzKlqJ+VXRpjuiySM/4XgLeBvwDh50+6mTnFgxK2r9J1Fdzx9Hoa27XBrvc38tCaIzy29V0O1ZwK+tq6U2c4b1heIsI0xqSBSBJ/b1X9cdwjSYLn1lZQMnJAh/P8Xe3RHzjTb5/0A7ZUwYx+GQzo3ZNjJ0+ftd1K/owxsRTJvfkvi8iVcY8khiKdDAlc4A0nkLQrqutRWqZnStdVRBzPA6/5wl5svmKE8PTfXcjPvnguOe0u0lrJnzEm1iJJ/LfjJP96ETkhIjUiciLegXVFNH0lOrrAG6xCKJJfGFV1p7nj6fWMuutP7D/eEPJ5OVmZzJvoLNO2YHoRSxZOoSgvB8G5+3jJwikpV3lkjOneIunH3+3uAArXnbO9jqZRQv1iCDZ++kwTr2w8wGubDvLa5oMd7jtThCULp1Cc09I/x1YAM8bEW0TlnCLSHxgPNC+1pKp/jVdQXRVp4Usk0yiFIXr+BH5hbNl/gn9982NqTzWyq7KOXj0yOF7vJ693Fl+ZMYLvzx3Pa5sOtqnmCew7cDbv8/ki/+GMMaaLIinn/AbOdM8woByYBawCPhff0DqvOsh6uwGZIjSpRnyR9s55E85K2r16ZNA3uwej7vpT81hBv2yunlrIjTNGMGJAbzIyWn77BPaR6EXcjTEmmEjO+G8HPg2sVtU5IlIM3BffsLom1Fk6QKMqv7lhWsRJd8H0IlSVJa/6OFxzit49Mzl5urG5vXGGwIM3TOPqqYVha+xtCscYkyoiSfwNqtogIohIL1X1iUhKl5nMKR7EE6v3hNwe6NoZLhE3Nin/s2oX9760pc34ly8YRlH/HOZNGsrIgbburDGm+4kk8e8TkTygFHhdRKqA/R28Jqne9B0Ju93fpEH79JxpbGJHZR1Prt5Nafl+jre6QHzNtELuuXIig3Oz27+dMcZ0K5FU9VzrPrxXRN7EWY7xtbhG1UWR9OAJPOd4vZ+lr27l+Q8r6N0zk4J+ORyv9zNz9AD65WTxvc+NZ8TA3vEO2RhjEibcmru5qnpCRFo1Nmaj+2cf4Fi4NxaRbOCvQC93P8+q6s/d91uO0/tnF3C9qlZ1+icIItwcf0Be76w2F2cBrpg8lPmTh3L5uUPJzLCeOMYYbwp3xv974CpgLc49Ua0zoQJjOnjvU8DnVLVWRLKAd0TkVWAhsFJVl4rIXcBdQExbQgRW3/I3Bb+VS4CqVpU/t10ymh9c/il69/Rks1JjjGkj3Jq7V7l/ju7MG6uq0rLWXJb7pcA1wKXu+GPAW8Q48S+YXsQzZXt4d/sxVlacfXNy4NdBYb9sfjS/2KptjDFpRTRE4zAROT/cC1X1ww7fXCQT5xPDOODfVPXHIlKtqnmtnlOlqv2DvHYRsAigsLDwgpUrV3a0u2a+AydYsfkgO2qEbcdbEv/5AxsZlN32Bq+szAzmFg+muCA34vePtcrKSvLz85O2/46kenxgMcZCqscHFmO0Jk6cuFZVS9qPh0v8b7oPs4ESYD3OLMl5wPuqenGkO3ergv4IfA94J5LE31pJSYmWlZVFujtmL32jeY7/4iGNvHMo/IIlRXk5vHtX+PvRutqhMxyfz0dxcXFM3iseEhVfV45xqh9DSP0YUz0+sBijJSJBE3+4qZ457gv/ACxS1Y3u95OBH0azc1WtFpG3gPnAIREpUNUDIlIAHI7mvSLRuqqnTwTLz3ZUBRRqARUIfi9APH9JeFW0x9gY03mRdOcsDiR9AFXdBEzr6EUiMsg900dEcoDLAB/wInCL+7RbcBZ6ialo+9d39PxoOnTGoo1zOupsF1RjTPQiSfxbReQ/ReRSEfmsiDwMbI3gdQXAmyKyAfgAeF1VXwaWApeLyMfA5e73MXXnvAlEWo0ZSaO2aDp0WgLrnGiOsTGmayKpX/xb4Fs4PXvAqc3/j45epKobgOlBxo8Cc6OIMWoLphexeHl5h88rinAapqMOna1ZAuucaI6xMaZrIrlzt0FEfgu8oqrd4rT1p6Ubw27PFGH7ksgXFQvWoTPUJwVLYJ0TzTE2xnRNh1M9InI1Tjvm19zvp4nIi/EOrCueen9v2O03zhwe1ftFszLWnfMm2PKJnWCrjxmTOJFM9fwcmIFzoxWqWi4io+IXUteFWtQcYPzgc/jFgilnjXdUiRNpW2Xrvd95nW1dXbqugvfW7uSZR7fb8TYmApEk/jOqejxcr/lUkykSMvl/Z874s8ZiXUpovfcTJ/B399khfpRMKwM1JgKRVPVsEpGvAJkiMl5E/gV4L85xdUm4qZxg1TVWidN92d+dMdGLJPF/D5iE03TtKeAEsDieQXVVsKmcgGAXXq0Sp/uyvztjohdJVc9J4B73q9vIy8miuj742rvT7vszx+v9zfPBVonTfdnfnTHRC9ePP0dbl4cAABDMSURBVGzljqpeHftwYuf0mcaQ2wK/EALzwdddUMRzays6XUpoLRqSJ1AGClYGakykwp3xXwjsxZneeZ+2/fhTWum6Ck76myJ6br2/kTd9R1iycEqnkrf1mEmuwDF+b+0GhCb7xWtMBMIl/qE4LRVuBL4C/Al4SlU3JyKwroj2wt7+6vpOV+KEu7hoyScxFkwvojinhge+kRodEY1JdSEv7qpqo6q+pqq3ALOAT4C3ROR7CYuuk6K9sNeV+WC7uGiM6W7CVvWISC8RWQg8AXwH+Gfg+UQE1hWhErkAWe26t3V1PjjUvuziojEmVYVM/CLyGE69/vnAfar6aVW9X1VTvr9wsLYJ4CywfsOM4TFtC2AtGowx3U24Of6bgTrgU8D3W925KzhL6iZvrcIOLJheRNnuYzyxek+b8aqTfp5bWxHTHjDWosEY092EW4Erkpu7UlLpugqWfxC8UVs8LrxaiwZjTHfSbZN7OMtWbMPfGLpRm114NcakM08m/o4Su114NcakM08m/rzeoVdYF7ALr8aYtBZJW+Zup8Eful3DV2eNYMH0ImuzYIxJW55M/PVh2jX8YsEUflq6kSdX7yFwFcDaLBhj0oknp3rCKV1X0SbpB1gPd2NMuohb4heR4SLypohsFZHNInK7O36viFSISLn7Ffmq5zHwg6fLz0r6AcHa+xpjjNfEc6rnDHCHqn4oIn2BtSLyurvtQVX9Vbx23DsrI2R3zjDL8ZLZjZaXNMaYzopb4lfVA8AB93GNiGwFEjKB3isrM+K2zK2FW6TdGGO8IiEXd0VkFDAdp6//bOC7IvJ/gDKcTwVVQV6zCFgEUFhYiM/ni3h/swY0oAOcx+NylfnDQlf5tJabnRXVfmKlsrIyKfuNVKrHBxZjLKR6fGAxxoponM9yRaQP8L/AL1X1eREZAlQCCtwPFKjqreHeo6SkRMvKyiLe5+ylbzTP188f1shr+85u2NZeTlZmTHv4RMPn81FcnLq95FM9PrAYYyHV4wOLMVoislZVS9qPx7WqR0SygOeAJ1X1eQBVPeT2+m8CHgZmxHq/c4oHhd2elSncNGtETLt0GmNMdxG3qR5x2nn+F7BVVX/darzAnf8HuBbYFOt9v+k7EnJb/95Z/PyLkyzJG2PSVjzn+GfjtHbeKCLl7thPgBtFZBrOVM8u4Jux3nGoXj0CrPvZ52O9O2OM6VbiWdXzDsEXaH8lXvsMKMzLCVqTb83ZjDHGo3fuRroqVum6CmYvfYPRd/2J2UvfoHRdyi8uZowxXebJxL9gehHXXVDUfENWpgjXXdB2sZTSdRXc/fxGKqrrUVr69VjyN8Z4nSebtAVW4ArckNWoyhOr9/DE6j0UuZ04l63YRn27Lp7xWJ3LGGNSjScT/30vbQ65AldFdT0/WB66X4+tzmWM8TpPTvVUnfSH3R7uljW7AGyM8TpPJv5ItS85CnYB2BhjvMaTiT8nK7IfS8Hu3jXGpB1PzvFnRNheuSgvh3fv+lycozHGmNTiyTP+utMdd+O0aR1jTLry5Bl/OAK2uLoxJq2lXeLfufQLyQ7BGGOSypNTPcYYY0JLu8RvLRmMMenOk4n/nJ6hV9xatmJbAiMxxpjU48nEn5UZ+seylgzGmHTnycRfXR+6ZYO1ZDDGpDtPJv7MMDdwWe2+MSbdeTLxB9oxB2O1+8aYdOfJxF8UYjonLycrwZEYY0zq8WTin1M8KOj48Xq/lXMaY9Je3BK/iAwXkTdFZKuIbBaR293xASLyuoh87P7ZP9b7fm7tvqDjCtz74uZY784YY7qVeJ7xnwHuUNWJwCzgOyJyLnAXsFJVxwMr3e9jqt7fFHJbsIofW3TdGJNO4pb4VfWAqn7oPq4BtgJFwDXAY+7THgMWxCuGUFondlt03RiTbhIyxy8io4DpwPvAEFU9AM4vB2BwrPeX0UE7/vteapnuCbfoujHGeFHcu3OKSB/gOWCxqp6QCBdJEZFFwCKAwsJCfD5fxPv8xpSe7Dnm3KE7LleZP6x9f/7G5vc7r08tU/oE2T+1Ue2zKyorKxO2r85I9fjAYoyFVI8PLMZYiWviF5EsnKT/pKo+7w4fEpECVT0gIgXA4WCvVdWHgIcASkpKtLi4OOL9PvHkTk76nX4984c18tq+s3v3/NZ9vw2l+6kI0sahKC+HaPbZFT6fL2H76oxUjw8sxlhI9fjAYoyVeFb1CPBfwFZV/XWrTS8Ct7iPbwFeiPW+T4a5uAtt6/nvnDeBnKy2vxhsdS5jjJfF84x/NnAzsFFEyt2xnwBLgadF5OvAHuDLcYwhqHuvntT8OHAn77IV29hfXW+rcxljPC9uiV9V38FZ6TCYufHab0dumjXirKS+YHqRJXpjTNrw5J274ew8UpvsEIwxJqnSLvG/u/2Y1egbY9Ja2iV+sFW4jDHpLS0Tv63CZYxJZ55M/B39ULYKlzEmnXky8Yer4hdsFS5jTHrzZOIPR7FVuIwx6S3tEn+49XiNMSYdpF3iD7cerzHGpIO0S/yh1uM1xph0kXaJ3y7sGmPSnScTf0cLsRhjTDrzZOIfO+ickNtar75ljDHpyJOJf8eRkyG3VZ08e7F1Y4xJJ55M/Fa5Y4wxoXky8YfTevUtY4xJR2mX+FuvvmWMMenIk4k/1N25GWLtGowxxpOJ/8aZw4OOf2XmiARHYowxqSeei60nzS8WTAHgqff3As4ngBtnDm8eN8aYdObJxA9O8v/Fgin4fD5+W1yc7HCMMSZlxG2qR0QeEZHDIrKp1di9IlIhIuXu15Xx2n/pugpmL32Df/rLR8xe+oats2uMMa54zvE/CswPMv6gqk5zv16Jx45L11Vw9/MbqaiuR4GK6nrufn6jJX9jjCGOiV9V/woci9f7h7NsxTbq/Y1txur9jbbIujHGkJyqnu+KyAZ3Kqh/PHYQajF1W2TdGGNANI7tDURkFPCyqk52vx8CVOKsgHg/UKCqt4Z47SJgEUBhYeEFK1eujHi/j7yzkxMNTk+ecbnKJyecuv7c7CxuvXh0J3+a+KmsrCQ/Pz/ZYYSU6vGBxRgLqR4fWIzRmjhx4lpVLWk/ntCqHlU9FHgsIg8DL4d57kPAQwAlJSVaHEVlzkX1fbn7+Y3U+xuZP6yR1/ZlkpOVyZKFUyguTr0buHw+H9H8fImW6vGBxRgLqR4fWIyxktDELyIFqnrA/fZaYFO453dW4O7cZSu2IdRSlJfDnfMm2F27xhhDHBO/iDwFXArki8g+4OfApSIyDWeqZxfwzXjtf8H0IhZML+oWv32NMSaR4pb4VfXGIMP/Fa/9GWOMiYwne/UYY4wJzRK/McakGUv8xhiTZizxG2NMmonrDVyxIiJHgN2dfHk+zk1jqSzVY0z1+MBijIVUjw8sxmiNVNVB7Qe7ReLvChEpC3bnWipJ9RhTPT6wGGMh1eMDizFWbKrHGGPSjCV+Y4xJM+mQ+B9KdgARSPUYUz0+sBhjIdXjA4sxJjw/x2+MMaatdDjjN8YY04olfmOMSTeq6tkvnDV/twGfAHclYH+7gI1AOVDmjg0AXgc+dv/s3+r5d7uxbQPmtRq/wH2fT4B/pmVKrhew3B1/HxjVQTyPAIeBTa3GEhIPcIu7j4+BW6KM8V6gwj2O5cCVyYoRGA68CWwFNgO3p9pxDBNjKh3HbGANsN6N8b5UOo5h4kuZYxjTXBXvHSTrC8gEtgNjgJ7uX+i5cd7nLiC/3dgDuL90gLuAf3Qfn+vG1AsY7caa6W5bA1wICPAqcIU7/m3gt+7jvwGWdxDPZ4DzaZtU4x6P+595h/tnf/dx/yhivBf4YZDnJjxGoAA4333cF/jIjSNljmOYGFPpOArQx32chZP4ZqXKcQwTX8ocw1h+eXmqZwbwiaruUNXTwB+Aa5IQxzXAY+7jx4AFrcb/oKqnVHUnzlnADBEpAHJVdZU6/yoeb/eawHs9C8wVEQm1Yw2+4H0i4pkHvK6qx1S1CudMbn4UMYaS8BhV9YCqfug+rsE5qy4ihY5jmBhT6Tiqqta632a5X5oqxzFMfClzDGPJy4m/CNjb6vt9hP/PEAsK/FlE1rprBgMMUXfVMffPwR3EV+Q+bj/e5jWqegY4DgyMMsZExBOLY/9dEdkgIo+ISP9UiNFdQ3o6ztlgSh7HdjFCCh1HEckUkXKcqb3XVTWljmOI+CCFjmGseDnxBzsTjnft6mxVPR+4AviOiHwmzHNDxRcu7nj+TLGMp6tx/gcwFpgGHAD+/2THKCJ9gOeAxap6ItTzUizGlDqOqtqoqtOAYThnx5ND/ChJiTFEfCl1DGPFy4l/H85Fr4BhwP547lBV97t/Hgb+iDPddMj9+If75+EO4tvnPg4Wd/NrRKQH0I/Ip0kCEhFPl469qh5y/xM2AQ/jHMekxSgiWTgJ9UlVfd4dTqnjGCzGVDuOAapaDbyFM52RUsexfXypegy7LF4XD5L9hbOs5A6cCy+Bi7uT4ri/c4C+rR6/h/MPexltL1494D6eRNuLQztouTj0Ac6FpcDFoSvd8e/Q9uLQ0xHENYq2F07jHg/ORaqdOBeq+ruPB0QRY0Grxz/AmUtNSozu+z0O/KbdeMocxzAxptJxHATkuY9zgLeBq1LlOIaJL2WOYUzzVTzfPNlfwJU4FQ7bgXvivK8x7j+EQDnYPe74QGAlTpnWytZ/ocA9bmzbcK/8u+MlwCZ327/SUg6WDTyDcyFpDTCmg5iewvl46sc5q/h6ouIBbnXHPwH+NsoY/wenHG4D8GK7/3wJjRG4GOdj9wZalfSl0nEME2MqHcfzgHVuLJuAnyXy/0dHMYaJL2WOYSy/rGWDMcakGS/P8RtjjAnCEr8xxqQZS/zGGJNmLPEbY0yascRvjDFpxhK/6fZEZKCIlLtfB0WkotX3Pds9d7GI9I7gPd8SkbMWzHbHt7m38PtE5F9FJK8LsbeJR0Rqwz3fmFiwxG+6PVU9qqrT1Lnd/rfAg4Hv1WnQ19pioMPE34Gvqup5OLXfp4AXuvBesYjHmKhY4jeeJCJzRWSdiGx0m2v1EpHvA4XAmyLypvu8/xCRMhHZLCL3RbMP95fKj4ARIjLVfb+bRGSN+2njdyKSGWo/weJxx38pIutFZLWIDHHHviwim9zxv3b9CJl0ZonfeFE28Chwg6pOwWnf8S1V/WecHihzVHWO+9x7VLUE5+z9syJyXjQ7UtVGnLu1i0VkInADTrO+aUAj8NVQ+wkRzznAalWdCvwVuM0d/xnOYh9TgaujidGY9izxGy/KBHaq6kfu94/hLPgSzPUi8iHO7fqTcBbYiFagu+JcnNWXPnDb+87FaeURzX5OAy+7j9fi9DECeBd4VERuw/n5jOm0HskOwJg4qIvkSSIyGvgh8GlVrRKRR3E+LUTMncqZgrP4yWDgMVW9uwv78WtLH5VG3P+jqvp3IjIT+AJQLiLTVPVoNLEaE2Bn/MaLsoFRIjLO/f5m4H/dxzU4yxMC5OL8kjjuzqVfEc1O3FbIS4C9qroBp8nYl0RksLt9gIiM7GA/reMJt6+xqvq+qv4MqKRtG19jomJn/MaLGoC/BZ5x+55/gFPtA/AQ8KqIHFDVOSKyDqeb6g6c6ZRIPCkip3Ba8v4Fd0lPVd0iIj/FWYUtA6fj6HdUdXWY/bSJJ8w+l4nIeJxppZU41xWM6RTrzmmMMWnGpnqMMSbNWOI3xpg0Y4nfGGPSjCV+Y4xJM5b4jTEmzVjiN8aYNGOJ3xhj0sz/AwaDoWzASwkfAAAAAElFTkSuQmCC\n",
      "text/plain": [
       "<Figure size 432x288 with 1 Axes>"
      ]
     },
     "metadata": {
      "needs_background": "light"
     },
     "output_type": "display_data"
    }
   ],
   "source": [
    "# Perform a linear regression on total deaths versus median age\n",
    "vc_slope, vc_int, vc_r, vc_p, vc_std_err = stats.linregress(Total_deaths,Median_age)\n",
    "\n",
    "# Create equation of line to calculate predicted median age\n",
    "vc_fit = vc_slope * Total_deaths + vc_int\n",
    "\n",
    "# Plot the linear model on top of scatter plot \n",
    "Total_deaths = median_renamed_df[\"Total Deaths\"]\n",
    "median_age = median_renamed_df[\"Median Age\"]\n",
    "plt.scatter(Total_deaths,Median_age)\n",
    "plt.plot(Total_deaths,vc_fit,\"--\")\n",
    "##plt.xticks(Total deaths, rotation=90)???\n",
    "plt.xlabel('Total Deaths')\n",
    "plt.ylabel('Median Age')\n",
    "\n",
    "plt.grid(linestyle='-', linewidth=1, alpha = 0.5)\n",
    "\n",
    "plt.show()"
   ]
  },
  {
   "cell_type": "code",
   "execution_count": 66,
   "metadata": {},
   "outputs": [
    {
     "data": {
      "image/png": "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\n",
      "text/plain": [
       "<Figure size 432x288 with 1 Axes>"
      ]
     },
     "metadata": {
      "needs_background": "light"
     },
     "output_type": "display_data"
    }
   ],
   "source": [
    "# Perform a linear regression on total deaths versus median age\n",
    "vc_slope, vc_int, vc_r, vc_p, vc_std_err = stats.linregress(Total_deaths,Median_age)\n",
    "\n",
    "# Create equation of line to calculate predicted median age\n",
    "vc_fit = vc_slope * Total_deaths + vc_int\n",
    "\n",
    "# Plot the linear model on top of scatter plot \n",
    "Total_deaths = median_renamed_df[\"Total Deaths\"]\n",
    "median_age = median_renamed_df[\"Median Age\"]\n",
    "plt.scatter(Total_deaths,Median_age)\n",
    "plt.plot(Total_deaths,vc_fit,\"--\")\n",
    "##plt.xticks(Total deaths, rotation=90)???\n",
    "plt.xlabel('Total Deaths')\n",
    "plt.ylabel('Median Age')\n",
    "\n",
    "plt.grid(linestyle='-', linewidth=1, alpha = 0.5)\n",
    "\n",
    "plt.xlim(0, 90000)\n",
    "plt.show()"
   ]
  },
  {
   "cell_type": "code",
   "execution_count": 67,
   "metadata": {},
   "outputs": [
    {
     "data": {
      "text/html": [
       "<div>\n",
       "<style scoped>\n",
       "    .dataframe tbody tr th:only-of-type {\n",
       "        vertical-align: middle;\n",
       "    }\n",
       "\n",
       "    .dataframe tbody tr th {\n",
       "        vertical-align: top;\n",
       "    }\n",
       "\n",
       "    .dataframe thead th {\n",
       "        text-align: right;\n",
       "    }\n",
       "</style>\n",
       "<table border=\"1\" class=\"dataframe\">\n",
       "  <thead>\n",
       "    <tr style=\"text-align: right;\">\n",
       "      <th></th>\n",
       "      <th></th>\n",
       "      <th>Total Deaths</th>\n",
       "      <th>Median Age</th>\n",
       "    </tr>\n",
       "    <tr>\n",
       "      <th>continent</th>\n",
       "      <th>location</th>\n",
       "      <th></th>\n",
       "      <th></th>\n",
       "    </tr>\n",
       "  </thead>\n",
       "  <tbody>\n",
       "    <tr>\n",
       "      <th>Asia</th>\n",
       "      <th>Japan</th>\n",
       "      <td>3850</td>\n",
       "      <td>48.2</td>\n",
       "    </tr>\n",
       "    <tr>\n",
       "      <th rowspan=\"4\" valign=\"top\">Europe</th>\n",
       "      <th>Italy</th>\n",
       "      <td>78755</td>\n",
       "      <td>47.9</td>\n",
       "    </tr>\n",
       "    <tr>\n",
       "      <th>Germany</th>\n",
       "      <td>40936</td>\n",
       "      <td>46.6</td>\n",
       "    </tr>\n",
       "    <tr>\n",
       "      <th>Portugal</th>\n",
       "      <td>7803</td>\n",
       "      <td>46.2</td>\n",
       "    </tr>\n",
       "    <tr>\n",
       "      <th>Spain</th>\n",
       "      <td>51874</td>\n",
       "      <td>45.5</td>\n",
       "    </tr>\n",
       "  </tbody>\n",
       "</table>\n",
       "</div>"
      ],
      "text/plain": [
       "                    Total Deaths  Median Age\n",
       "continent location                          \n",
       "Asia      Japan             3850        48.2\n",
       "Europe    Italy            78755        47.9\n",
       "          Germany          40936        46.6\n",
       "          Portugal          7803        46.2\n",
       "          Spain            51874        45.5"
      ]
     },
     "execution_count": 67,
     "metadata": {},
     "output_type": "execute_result"
    }
   ],
   "source": [
    "median_age_high = median_renamed_df.sort_values(\"Median Age\", ascending=False)\n",
    "median_age_high.head()"
   ]
  },
  {
   "cell_type": "code",
   "execution_count": 68,
   "metadata": {},
   "outputs": [
    {
     "data": {
      "text/html": [
       "<div>\n",
       "<style scoped>\n",
       "    .dataframe tbody tr th:only-of-type {\n",
       "        vertical-align: middle;\n",
       "    }\n",
       "\n",
       "    .dataframe tbody tr th {\n",
       "        vertical-align: top;\n",
       "    }\n",
       "\n",
       "    .dataframe thead th {\n",
       "        text-align: right;\n",
       "    }\n",
       "</style>\n",
       "<table border=\"1\" class=\"dataframe\">\n",
       "  <thead>\n",
       "    <tr style=\"text-align: right;\">\n",
       "      <th></th>\n",
       "      <th></th>\n",
       "      <th>Total Deaths</th>\n",
       "      <th>Median Age</th>\n",
       "    </tr>\n",
       "    <tr>\n",
       "      <th>continent</th>\n",
       "      <th>location</th>\n",
       "      <th></th>\n",
       "      <th></th>\n",
       "    </tr>\n",
       "  </thead>\n",
       "  <tbody>\n",
       "    <tr>\n",
       "      <th rowspan=\"5\" valign=\"top\">Africa</th>\n",
       "      <th>Niger</th>\n",
       "      <td>126</td>\n",
       "      <td>15.1</td>\n",
       "    </tr>\n",
       "    <tr>\n",
       "      <th>Mali</th>\n",
       "      <td>298</td>\n",
       "      <td>16.4</td>\n",
       "    </tr>\n",
       "    <tr>\n",
       "      <th>Uganda</th>\n",
       "      <td>301</td>\n",
       "      <td>16.4</td>\n",
       "    </tr>\n",
       "    <tr>\n",
       "      <th>Chad</th>\n",
       "      <td>107</td>\n",
       "      <td>16.7</td>\n",
       "    </tr>\n",
       "    <tr>\n",
       "      <th>Somalia</th>\n",
       "      <td>130</td>\n",
       "      <td>16.8</td>\n",
       "    </tr>\n",
       "  </tbody>\n",
       "</table>\n",
       "</div>"
      ],
      "text/plain": [
       "                    Total Deaths  Median Age\n",
       "continent location                          \n",
       "Africa    Niger              126        15.1\n",
       "          Mali               298        16.4\n",
       "          Uganda             301        16.4\n",
       "          Chad               107        16.7\n",
       "          Somalia            130        16.8"
      ]
     },
     "execution_count": 68,
     "metadata": {},
     "output_type": "execute_result"
    }
   ],
   "source": [
    "median_age_low = median_renamed_df.sort_values(\"Median Age\")\n",
    "median_age_low.head()"
   ]
  },
  {
   "cell_type": "code",
   "execution_count": 69,
   "metadata": {},
   "outputs": [
    {
     "data": {
      "text/html": [
       "<div>\n",
       "<style scoped>\n",
       "    .dataframe tbody tr th:only-of-type {\n",
       "        vertical-align: middle;\n",
       "    }\n",
       "\n",
       "    .dataframe tbody tr th {\n",
       "        vertical-align: top;\n",
       "    }\n",
       "\n",
       "    .dataframe thead th {\n",
       "        text-align: right;\n",
       "    }\n",
       "</style>\n",
       "<table border=\"1\" class=\"dataframe\">\n",
       "  <thead>\n",
       "    <tr style=\"text-align: right;\">\n",
       "      <th></th>\n",
       "      <th>continent</th>\n",
       "      <th>location</th>\n",
       "      <th>Total Deaths</th>\n",
       "      <th>Median Age</th>\n",
       "    </tr>\n",
       "  </thead>\n",
       "  <tbody>\n",
       "    <tr>\n",
       "      <th>0</th>\n",
       "      <td>Africa</td>\n",
       "      <td>Algeria</td>\n",
       "      <td>2807</td>\n",
       "      <td>29.1</td>\n",
       "    </tr>\n",
       "    <tr>\n",
       "      <th>1</th>\n",
       "      <td>Africa</td>\n",
       "      <td>Angola</td>\n",
       "      <td>416</td>\n",
       "      <td>16.8</td>\n",
       "    </tr>\n",
       "    <tr>\n",
       "      <th>2</th>\n",
       "      <td>Africa</td>\n",
       "      <td>Benin</td>\n",
       "      <td>44</td>\n",
       "      <td>18.8</td>\n",
       "    </tr>\n",
       "    <tr>\n",
       "      <th>3</th>\n",
       "      <td>Africa</td>\n",
       "      <td>Botswana</td>\n",
       "      <td>48</td>\n",
       "      <td>25.8</td>\n",
       "    </tr>\n",
       "    <tr>\n",
       "      <th>4</th>\n",
       "      <td>Africa</td>\n",
       "      <td>Burkina Faso</td>\n",
       "      <td>89</td>\n",
       "      <td>17.6</td>\n",
       "    </tr>\n",
       "    <tr>\n",
       "      <th>...</th>\n",
       "      <td>...</td>\n",
       "      <td>...</td>\n",
       "      <td>...</td>\n",
       "      <td>...</td>\n",
       "    </tr>\n",
       "    <tr>\n",
       "      <th>165</th>\n",
       "      <td>South America</td>\n",
       "      <td>Paraguay</td>\n",
       "      <td>2405</td>\n",
       "      <td>26.5</td>\n",
       "    </tr>\n",
       "    <tr>\n",
       "      <th>166</th>\n",
       "      <td>South America</td>\n",
       "      <td>Peru</td>\n",
       "      <td>38049</td>\n",
       "      <td>29.1</td>\n",
       "    </tr>\n",
       "    <tr>\n",
       "      <th>167</th>\n",
       "      <td>South America</td>\n",
       "      <td>Suriname</td>\n",
       "      <td>133</td>\n",
       "      <td>29.6</td>\n",
       "    </tr>\n",
       "    <tr>\n",
       "      <th>168</th>\n",
       "      <td>South America</td>\n",
       "      <td>Uruguay</td>\n",
       "      <td>256</td>\n",
       "      <td>35.6</td>\n",
       "    </tr>\n",
       "    <tr>\n",
       "      <th>169</th>\n",
       "      <td>South America</td>\n",
       "      <td>Venezuela</td>\n",
       "      <td>1061</td>\n",
       "      <td>29.0</td>\n",
       "    </tr>\n",
       "  </tbody>\n",
       "</table>\n",
       "<p>170 rows × 4 columns</p>\n",
       "</div>"
      ],
      "text/plain": [
       "         continent      location  Total Deaths  Median Age\n",
       "0           Africa       Algeria          2807        29.1\n",
       "1           Africa        Angola           416        16.8\n",
       "2           Africa         Benin            44        18.8\n",
       "3           Africa      Botswana            48        25.8\n",
       "4           Africa  Burkina Faso            89        17.6\n",
       "..             ...           ...           ...         ...\n",
       "165  South America      Paraguay          2405        26.5\n",
       "166  South America          Peru         38049        29.1\n",
       "167  South America      Suriname           133        29.6\n",
       "168  South America       Uruguay           256        35.6\n",
       "169  South America     Venezuela          1061        29.0\n",
       "\n",
       "[170 rows x 4 columns]"
      ]
     },
     "execution_count": 69,
     "metadata": {},
     "output_type": "execute_result"
    }
   ],
   "source": [
    "median_renamed_df.reset_index()"
   ]
  },
  {
   "cell_type": "code",
   "execution_count": 101,
   "metadata": {},
   "outputs": [],
   "source": [
    "median_renamed_df.sort_values('Median Age',inplace=True) "
   ]
  },
  {
   "cell_type": "code",
   "execution_count": 116,
   "metadata": {},
   "outputs": [
    {
     "data": {
      "text/plain": [
       "<matplotlib.axes._subplots.AxesSubplot at 0x7fee85707d68>"
      ]
     },
     "execution_count": 116,
     "metadata": {},
     "output_type": "execute_result"
    },
    {
     "data": {
      "image/png": "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\n",
      "text/plain": [
       "<Figure size 432x288 with 1 Axes>"
      ]
     },
     "metadata": {
      "needs_background": "light"
     },
     "output_type": "display_data"
    }
   ],
   "source": [
    "median_renamed_df.plot(x='Median Age')"
   ]
  },
  {
   "cell_type": "markdown",
   "metadata": {},
   "source": [
    "# Total Deaths and Total GDP"
   ]
  },
  {
   "cell_type": "code",
   "execution_count": 47,
   "metadata": {},
   "outputs": [
    {
     "data": {
      "text/plain": [
       "923873184.9999999"
      ]
     },
     "execution_count": 47,
     "metadata": {},
     "output_type": "execute_result"
    }
   ],
   "source": [
    "## The sum method adds every entry in the series\n",
    "total3 = organized_df[\"gdp_per_capita\"].sum()\n",
    "total3"
   ]
  },
  {
   "cell_type": "code",
   "execution_count": 48,
   "metadata": {},
   "outputs": [
    {
     "data": {
      "text/plain": [
       "21498.421952806686"
      ]
     },
     "execution_count": 48,
     "metadata": {},
     "output_type": "execute_result"
    }
   ],
   "source": [
    "# The mean method averages the series\n",
    "average3 = organized_df[\"gdp_per_capita\"].mean()\n",
    "average3"
   ]
  },
  {
   "cell_type": "code",
   "execution_count": 49,
   "metadata": {},
   "outputs": [
    {
     "data": {
      "text/html": [
       "<div>\n",
       "<style scoped>\n",
       "    .dataframe tbody tr th:only-of-type {\n",
       "        vertical-align: middle;\n",
       "    }\n",
       "\n",
       "    .dataframe tbody tr th {\n",
       "        vertical-align: top;\n",
       "    }\n",
       "\n",
       "    .dataframe thead th {\n",
       "        text-align: right;\n",
       "    }\n",
       "</style>\n",
       "<table border=\"1\" class=\"dataframe\">\n",
       "  <thead>\n",
       "    <tr style=\"text-align: right;\">\n",
       "      <th></th>\n",
       "      <th></th>\n",
       "      <th>Total deaths</th>\n",
       "      <th>Hospital beds per thousand</th>\n",
       "      <th>GDP per capita</th>\n",
       "    </tr>\n",
       "    <tr>\n",
       "      <th>continent</th>\n",
       "      <th>location</th>\n",
       "      <th></th>\n",
       "      <th></th>\n",
       "      <th></th>\n",
       "    </tr>\n",
       "  </thead>\n",
       "  <tbody>\n",
       "    <tr>\n",
       "      <th>Asia</th>\n",
       "      <th>Qatar</th>\n",
       "      <td>246</td>\n",
       "      <td>1.20</td>\n",
       "      <td>116935.600</td>\n",
       "    </tr>\n",
       "    <tr>\n",
       "      <th>Europe</th>\n",
       "      <th>Luxembourg</th>\n",
       "      <td>527</td>\n",
       "      <td>4.51</td>\n",
       "      <td>94277.965</td>\n",
       "    </tr>\n",
       "    <tr>\n",
       "      <th rowspan=\"2\" valign=\"top\">Asia</th>\n",
       "      <th>Singapore</th>\n",
       "      <td>29</td>\n",
       "      <td>2.40</td>\n",
       "      <td>85535.383</td>\n",
       "    </tr>\n",
       "    <tr>\n",
       "      <th>Brunei</th>\n",
       "      <td>3</td>\n",
       "      <td>2.70</td>\n",
       "      <td>71809.251</td>\n",
       "    </tr>\n",
       "    <tr>\n",
       "      <th>Europe</th>\n",
       "      <th>Ireland</th>\n",
       "      <td>2344</td>\n",
       "      <td>2.96</td>\n",
       "      <td>67335.293</td>\n",
       "    </tr>\n",
       "  </tbody>\n",
       "</table>\n",
       "</div>"
      ],
      "text/plain": [
       "                      Total deaths  Hospital beds per thousand  GDP per capita\n",
       "continent location                                                            \n",
       "Asia      Qatar                246                        1.20      116935.600\n",
       "Europe    Luxembourg           527                        4.51       94277.965\n",
       "Asia      Singapore             29                        2.40       85535.383\n",
       "          Brunei                 3                        2.70       71809.251\n",
       "Europe    Ireland             2344                        2.96       67335.293"
      ]
     },
     "execution_count": 49,
     "metadata": {},
     "output_type": "execute_result"
    }
   ],
   "source": [
    "gdp_per_capita_high = covid_renamed_df.sort_values(\"GDP per capita\", ascending=False)\n",
    "gdp_per_capita_high.head()"
   ]
  },
  {
   "cell_type": "code",
   "execution_count": 50,
   "metadata": {},
   "outputs": [
    {
     "data": {
      "text/html": [
       "<div>\n",
       "<style scoped>\n",
       "    .dataframe tbody tr th:only-of-type {\n",
       "        vertical-align: middle;\n",
       "    }\n",
       "\n",
       "    .dataframe tbody tr th {\n",
       "        vertical-align: top;\n",
       "    }\n",
       "\n",
       "    .dataframe thead th {\n",
       "        text-align: right;\n",
       "    }\n",
       "</style>\n",
       "<table border=\"1\" class=\"dataframe\">\n",
       "  <thead>\n",
       "    <tr style=\"text-align: right;\">\n",
       "      <th></th>\n",
       "      <th></th>\n",
       "      <th>Total deaths</th>\n",
       "      <th>Hospital beds per thousand</th>\n",
       "      <th>GDP per capita</th>\n",
       "    </tr>\n",
       "    <tr>\n",
       "      <th>continent</th>\n",
       "      <th>location</th>\n",
       "      <th></th>\n",
       "      <th></th>\n",
       "      <th></th>\n",
       "    </tr>\n",
       "  </thead>\n",
       "  <tbody>\n",
       "    <tr>\n",
       "      <th rowspan=\"5\" valign=\"top\">Africa</th>\n",
       "      <th>Central African Republic</th>\n",
       "      <td>63</td>\n",
       "      <td>1.0</td>\n",
       "      <td>661.240</td>\n",
       "    </tr>\n",
       "    <tr>\n",
       "      <th>Burundi</th>\n",
       "      <td>2</td>\n",
       "      <td>0.8</td>\n",
       "      <td>702.225</td>\n",
       "    </tr>\n",
       "    <tr>\n",
       "      <th>Liberia</th>\n",
       "      <td>83</td>\n",
       "      <td>0.8</td>\n",
       "      <td>752.788</td>\n",
       "    </tr>\n",
       "    <tr>\n",
       "      <th>Niger</th>\n",
       "      <td>126</td>\n",
       "      <td>0.3</td>\n",
       "      <td>926.000</td>\n",
       "    </tr>\n",
       "    <tr>\n",
       "      <th>Malawi</th>\n",
       "      <td>225</td>\n",
       "      <td>1.3</td>\n",
       "      <td>1095.042</td>\n",
       "    </tr>\n",
       "  </tbody>\n",
       "</table>\n",
       "</div>"
      ],
      "text/plain": [
       "                                    Total deaths  Hospital beds per thousand  \\\n",
       "continent location                                                             \n",
       "Africa    Central African Republic            63                         1.0   \n",
       "          Burundi                              2                         0.8   \n",
       "          Liberia                             83                         0.8   \n",
       "          Niger                              126                         0.3   \n",
       "          Malawi                             225                         1.3   \n",
       "\n",
       "                                    GDP per capita  \n",
       "continent location                                  \n",
       "Africa    Central African Republic         661.240  \n",
       "          Burundi                          702.225  \n",
       "          Liberia                          752.788  \n",
       "          Niger                            926.000  \n",
       "          Malawi                          1095.042  "
      ]
     },
     "execution_count": 50,
     "metadata": {},
     "output_type": "execute_result"
    }
   ],
   "source": [
    "gdp_per_capita_low = covid_renamed_df.sort_values(\"GDP per capita\")\n",
    "gdp_per_capita_low.head()"
   ]
  },
  {
   "cell_type": "code",
   "execution_count": 51,
   "metadata": {},
   "outputs": [
    {
     "data": {
      "image/png": "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\n",
      "text/plain": [
       "<Figure size 576x576 with 1 Axes>"
      ]
     },
     "metadata": {
      "needs_background": "light"
     },
     "output_type": "display_data"
    }
   ],
   "source": [
    "# Create a scatter plot which compares total deaths to hospital beds per thousand\n",
    "covid_renamed_df.plot(kind=\"scatter\", x=\"Total deaths\", y=\"GDP per capita\", grid=True, figsize=(8,8),\n",
    "              title=\"Total deaths Vs. GDP per capita\")\n",
    "plt.show()"
   ]
  },
  {
   "cell_type": "code",
   "execution_count": 52,
   "metadata": {},
   "outputs": [
    {
     "data": {
      "image/png": "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\n",
      "text/plain": [
       "<Figure size 576x576 with 1 Axes>"
      ]
     },
     "metadata": {
      "needs_background": "light"
     },
     "output_type": "display_data"
    }
   ],
   "source": [
    "# Create a scatter plot which compares total deaths to hospital beds per thousand (limit the x axis from 0 to 100000)\n",
    "covid_renamed_df.plot(kind=\"scatter\", x=\"Total deaths\", y=\"GDP per capita\", grid=True, figsize=(8,8),\n",
    "              title=\"Total deaths Vs. GDP per capita\")\n",
    "plt.xlim(0, 100000)\n",
    "plt.show()"
   ]
  },
  {
   "cell_type": "code",
   "execution_count": 53,
   "metadata": {},
   "outputs": [
    {
     "name": "stdout",
     "output_type": "stream",
     "text": [
      "The correlation between both factors is 0.1173729232\n"
     ]
    }
   ],
   "source": [
    "# Compute the Pearson correlation coefficient between \"Total deaths\" and \"GDP per capita\"\n",
    "Total_deaths = covid_renamed_df[\"Total deaths\"]\n",
    "gdp_per_capita = covid_renamed_df[\"GDP per capita\"]\n",
    "correlation = st.pearsonr(Total_deaths,gdp_per_capita)\n",
    "print(f\"The correlation between both factors is {round(correlation[0],10)}\")"
   ]
  },
  {
   "cell_type": "code",
   "execution_count": 54,
   "metadata": {},
   "outputs": [
    {
     "data": {
      "image/png": "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\n",
      "text/plain": [
       "<Figure size 432x288 with 1 Axes>"
      ]
     },
     "metadata": {
      "needs_background": "light"
     },
     "output_type": "display_data"
    }
   ],
   "source": [
    "# Add the linear regression equation and line to plot\n",
    "x_values = covid_renamed_df['Total deaths']\n",
    "y_values = covid_renamed_df['GDP per capita']\n",
    "(slope, intercept, rvalue, pvalue, stderr) = linregress(x_values, y_values)\n",
    "regress_values = x_values * slope + intercept\n",
    "line_eq = \"y = \" + str(round(slope,2)) + \"x + \" + str(round(intercept,2))\n",
    "plt.scatter(x_values,y_values)\n",
    "plt.plot(x_values,regress_values,\"r-\")\n",
    "plt.annotate(line_eq,(6,10),fontsize=15,color=\"red\")\n",
    "plt.xlabel('Total deaths')\n",
    "plt.ylabel('GDP per capita')\n",
    "plt.show()"
   ]
  },
  {
   "cell_type": "code",
   "execution_count": 55,
   "metadata": {},
   "outputs": [
    {
     "name": "stdout",
     "output_type": "stream",
     "text": [
      "The r-squared is: 0.013776403101048421\n"
     ]
    },
    {
     "data": {
      "image/png": "iVBORw0KGgoAAAANSUhEUgAAAZgAAAEGCAYAAABYV4NmAAAABHNCSVQICAgIfAhkiAAAAAlwSFlzAAALEgAACxIB0t1+/AAAADh0RVh0U29mdHdhcmUAbWF0cGxvdGxpYiB2ZXJzaW9uMy4yLjIsIGh0dHA6Ly9tYXRwbG90bGliLm9yZy+WH4yJAAAgAElEQVR4nO3deZxU1Zn/8c9D00LjQqOigUYFl+CIG9qi0UyiEgVXiNGIWcQlYeKYTRMUfsm4JOOIMYmZaGKiiVtiFEWDjkYJgpoNwSbsKoJiZFN2JKZFaJ7fH+cWXVVdVV3dVbe6uvv7fr3qVVXn3nPvqQtdT531mrsjIiJSbF3augAiItIxKcCIiEgsFGBERCQWCjAiIhILBRgREYlF17YuQLnYe++9vX///m1dDBGRdmX27Nnr3L13pm0KMJH+/ftTV1fX1sUQEWlXzOwf2bbF1kRmZveY2RozW5iUdquZvWZm883s92ZWnbRtvJktNbPFZjYsKf1YM1sQbfupmVmU3s3MJkbpM82sf1Ke0Wa2JHqMjusziohIdnH2wdwHDE9Lmwoc7u5HAq8D4wHM7DBgFDAoyvNzM6uI8twJjAEOiR6JY14ObHT3g4HbgFuiY+0JXA8cDwwBrjezXjF8PhERySG2AOPufwI2pKX90d23R29fAvpFr0cAD7v7VndfBiwFhphZH2APd5/hYcmBB4CRSXnuj15PAoZGtZthwFR33+DuGwlBLT3QiYhIzNpyFNllwDPR6xpgedK2FVFaTfQ6PT0lTxS0NgN75ThWE2Y2xszqzKxu7dq1BX0YERFJ1SYBxsy+A2wHHkwkZdjNc6S3Nk9qovtd7l7r7rW9e2ccBCEiIq1U8lFkUaf72cBQb1xpcwWwX9Ju/YBVUXq/DOnJeVaYWVegJ6FJbgVwclqeF4r6IZJMnrOSW6csZtWmevpWVzF22EBGDs5YYRIR6VRKWoMxs+HAtcC57v6vpE1PAqOikWEDCJ35s9x9NbDFzE6I+lcuBp5IypMYIXY+MD0KWFOA082sV9S5f3qUVnST56xk/OMLWLmpHgdWbqpn/OMLmDxnZRynExFpV+IcpvwQMAMYaGYrzOxy4A5gd2Cqmc01s18AuPsi4BHgFeBZ4Ep3b4gOdQXwK0LH/xs09tv8GtjLzJYCVwPjomNtAL4PvBw9vhelFd2tUxZTv60hJa1+WwO3Tlkcx+lERNoV0/1ggtraWm/pRMsB457O2LljwLIJZxWlXCIi5czMZrt7baZtWousAH2rq1qULiLSmSjAFGDssIFUVVakpFVVVjB22MA2KpGISPnQWmQFSIwW0ygyEZGmFGAKNHJwjQKKiEgGaiITEZFYKMCIiEgsFGBERCQWCjAiIhILBRgREYmFAoyIiMRCAUZERGKhACMiIrFQgBERkVgowIiISCwUYEREJBYKMCIiEgsFGBERiYUCjIiIxEIBRkREYqEAIyIisVCAERGRWCjAiIhILBRgREQkFgowIiISCwUYERGJRWwBxszuMbM1ZrYwKW1PM5tqZkui515J28ab2VIzW2xmw5LSjzWzBdG2n5qZRendzGxilD7TzPon5RkdnWOJmY2O6zOKiEh2cdZg7gOGp6WNA6a5+yHAtOg9ZnYYMAoYFOX5uZlVRHnuBMYAh0SPxDEvBza6+8HAbcAt0bH2BK4HjgeGANcnBzIRESmN2AKMu/8J2JCWPAK4P3p9PzAyKf1hd9/q7suApcAQM+sD7OHuM9zdgQfS8iSONQkYGtVuhgFT3X2Du28EptI00ImISMxK3Qezr7uvBoie94nSa4DlSfutiNJqotfp6Sl53H07sBnYK8exmjCzMWZWZ2Z1a9euLeBjiYhIunLp5LcMaZ4jvbV5UhPd73L3Wnev7d27d14FFRGR/JQ6wLwbNXsRPa+J0lcA+yXt1w9YFaX3y5CeksfMugI9CU1y2Y4lIiIlVOoA8ySQGNU1GngiKX1UNDJsAKEzf1bUjLbFzE6I+lcuTsuTONb5wPSon2YKcLqZ9Yo690+P0kREpIS6xnVgM3sIOBnY28xWEEZ2TQAeMbPLgbeBCwDcfZGZPQK8AmwHrnT3huhQVxBGpFUBz0QPgF8DvzGzpYSay6joWBvM7PvAy9F+33P39MEGIiISMws/+qW2ttbr6urauhgiIu2Kmc1299pM28qlk19ERDqY2JrIOovJc1Zy65TFrNpUT9/qKsYOG8jIwRlHRYuIdCoKMAWYPGcl4x9fQP220F20clM94x9fAKAgIyKdnprICnDrlMU7g0tC/bYGbp2yuI1KJCJSPhRgCrBqU32L0kVEOhMFmAL0ra5qUbqISGeiAFOAscMGUlVZkZJWVVnB2GED26hEIiLlQ538BUh05GsUmYhIUwowBRo5uEYBRUQkAzWRiYhILBRgREQkFgowIiISCwUYERGJhQKMiIjEQgFGRERioQAjIiKx0DyYAmm5fhGRzBRgCqDl+kVEslMTWQG0XL+ISHYKMAXQcv0iItkpwBRAy/WLiGSnAFMALdcvIpKdOvkLoOX6RUSyU4ApkJbrFxHJTE1kIiISizYJMGZ2lZktMrOFZvaQmXU3sz3NbKqZLYmeeyXtP97MlprZYjMblpR+rJktiLb91MwsSu9mZhOj9Jlm1r/0n1JEpHMreYAxsxrg60Ctux8OVACjgHHANHc/BJgWvcfMDou2DwKGAz83s0TP+p3AGOCQ6DE8Sr8c2OjuBwO3AbeU4KOJiEiStmoi6wpUmVlXoAewChgB3B9tvx8YGb0eATzs7lvdfRmwFBhiZn2APdx9hrs78EBansSxJgFDE7UbEREpjbwDjJntY2b7Jx6tPaG7rwR+CLwNrAY2u/sfgX3dfXW0z2pgnyhLDbA86RArorSa6HV6ekoed98ObAb2yvCZxphZnZnVrV27trUfSUREMmg2wJjZuWa2BFgGvAi8BTzT2hNGfSsjgAFAX2BXM/tCriwZ0jxHeq48qQnud7l7rbvX9u7dO3fBRUSkRfKpwXwfOAF43d0HAEOBvxZwzk8By9x9rbtvAx4HTgTejZq9iJ7XRPuvAPZLyt+P0KS2Inqdnp6SJ2qG6wlsKKDMIiLSQvkEmG3uvh7oYmZd3P154OgCzvk2cIKZ9Yj6RYYCrwJPAqOjfUYDT0SvnwRGRSPDBhA682dFzWhbzOyE6DgXp+VJHOt8YHrUTyMiIiWSz0TLTWa2G/An4EEzWwNsb+0J3X2mmU0C/h4dZw5wF7Ab8IiZXU4IQhdE+y8ys0eAV6L9r3T3xBLGVwD3AVWEZrtE092vgd+Y2VJCzWVUa8srIiKtY839sDezXYF6Qm3n84Tmpt+6e4dqcqqtrfW6urq2LoaISLtiZrPdvTbTtnyayK5z9x3uvt3d73f3nwLXFreIIiLS0eQTYE7LkHZGsQsiIiIdS9Y+GDO7AvhP4EAzm5+0aXcKG0UmIiKdQK5O/t8ROs1vJlq2JbKlo/W/iIhI8eUKMO7ub5nZlekbzGxPBRkREcmluRrM2cBsms6cd+DAGMvVbkyes1I3HBMRySBrgHH3s6PnAaUrTvsyec5Kxj++gPptYVrOyk31jH98AYCCjIh0enktdmlm55nZj83sR2Y2svkcncOtUxbvDC4J9dsauHXK4jYqkYhI+chnscufA18BFgALga+Y2c/iLlh7sGpTfYvSRUQ6k3yWivkkcHhiLS8zu58QbDq9vtVVrMwQTPpWV7VBaUREyks+TWSLgeT7v+wHzM+yb6cydthAqiorUtKqKisYO2xgG5VIRKR85FOD2Qt41cxmRe+PA2aY2ZMA7n5uXIUrd4mOfI0iExFpKp8Ac13spWjHRg6uUUAREcmg2QDj7i+WoiDtVWIezMpN9VSY0eBOjWoyIiJ5jSI7wcxeNrN/mtmHZtZgZu+VonDlLjEPJtHR3xDd+iAxH2bynJVtWTwRkTaVTyf/HcBFwBLCjb2+FKV1epnmwSRoPoyIdHb59MHg7kvNrCK6k+S9Zva3mMvVLjQ330XzYUSkM8snwPzLzHYB5prZD4DVwK7xFqt9qO5RycZ/bcu6XfNhRKQzy6eJ7IvRfl8F3ifMg/lMnIVqLz7I0jwGmg8jIpJPDWYd8KG7fwDcaGYVQLd4i9U+1G/bkXXbzecdoVFkItKp5VODmQb0SHpfBTwXT3E6DgUXEens8gkw3d39n4k30eseOfbvNHr1qGxRuohIZ5JPgHnfzI5JvDGzYwENjwKuP2cQlRWWklZZYVx/zqA2KpGISPnIpw/mm8CjZrYqet8HuDC+IrUfWotMRCS7fJaKednMDgUGEm6b/Jq7Zx+b28loLTIRkczyuqOlu29z94XuvqAYwcXMqs1skpm9ZmavmtnHzGxPM5tqZkui515J+483s6VmttjMhiWlH2tmC6JtPzUzi9K7mdnEKH2mmfUvtMwiItIyeQWYGPwv8Ky7HwocBbwKjAOmufshhJFr4wDM7DBgFDAIGA78PBoqDXAnMAY4JHoMj9IvBza6+8HAbcAtpfhQIiLSKGeAsWC/Yp7QzPYAPgH8GsDdP3T3TcAI4P5ot/uBkdHrEcDD7r7V3ZcBS4EhZtYH2MPdZ0R323wgLU/iWJOAoYnajYiIlEbOABN9cU8u8jkPBNYS1jSbY2a/MrNdgX3dfXV03tXAPtH+NcDypPwrorSa6HV6ekoed98ObCbcOC2FmY0xszozq1u7dm2xPp+IiJBfE9lLZnZcEc/ZFTgGuNPdBxOWnxmXY/9MNQ/PkZ4rT2qC+13uXuvutb17985d6haaPGclJ02YzoBxT3PShOlaul9EOp18himfAnzFzN4iBAMjVG6ObOU5VwAr3H1m9H4SIcC8a2Z93H111Py1Jmn/5Ga6fsCqKL1fhvTkPCvMrCvQE9jQyvLmlLjhWPIwZYDxjy/YuZR/4v4woBn+ItJ55BNgzijmCd39HTNbbmYD3X0xMBR4JXqMBiZEz09EWZ4EfmdmPwb6EjrzZ7l7g5ltMbMTgJnAxcDtSXlGAzOA84HpUXNfUSVuOJYeSLpXdmlyn5jE/WEUYESks8hnHsw/zOzjwCHufq+Z9QZ2K/C8XwMejG4D8CZwKaG57hEzuxx4G7ggOv8iM3uEEIC2A1dG96UBuAK4j7A+2jPRA8IAgt+Y2VJCzWVUgeXNKNMNx+q3NWS9CZnuDyMinUmzAcbMrgdqCRMt7wUqgd8CJ7X2pO4+NzpmuqFZ9r8JuClDeh1weIb0D4gCVJxaGjB0fxgR6Uzy6eT/NHAuof8Fd18F7B5nodqLbAGjuqqSqsqKlDTdH0ZEOpt8AsyHUf+FA0RDigUYO2xgxkByw7mDuPm8I6iprsKAmuoq3R9GRMpO3KNd8+nkf8TMfglUm9mXgcuAu4tainaqucUuFVBEpFxlG6QExfvusnwGV5nZacDp0ds/uvvUopy9jNTW1npdXV1bF0NEpCROmjCdlRn6kWuqq/jruFPzPo6ZzXb3TH3qedVgABYQRmp59FpERNqxbIOUijnatdk+GDP7EjALOI8wp+QlM7usaCUQEZGSyzZIqZijXfPp5B8LDHb3S9x9NHAscG3RSiAiIiWXbZBSMUe75tNEtgLYkvR+C6mLT4qISDtTijvy5hNgVgIzzewJQh/MCGCWmV0N4O4/LlppRESkZOK+I28+AeaN6JGQWCNMky1FRCSrfNYiu7EUBelIMq2wrDkxItLZ5DtMWfKUbfJS3T828PxraxV0RKTTUIApsmwrLD/40ts773im+8OISGeQzzyYvUtRkI4i2ySl9PUSEveHERHpqLLWYMzsHOAeYLuZNQCfdfe/laxk7cTkOSu58f8WsfFf24DM92rORveHEZGOLFcN5ibg3929D/AZ4ObSFKn9mDxnJWMnzdsZXKBpTSUX3R9GRDqyXH0w2939NQB3n2lmGpac5tYpi9nW0Lo7MRdzxqxGrYlIOcoVYPZJTKbM9F4TLFvfxFVTxCBQiiW3RURaI1eAuZvUyZTp7zu9nlWVbKrf1vyOkarKCm4+7wgg1H6umji34BpHtlFrt05ZrAAjIm0qa4DRBMvmWUt69GFncClmjaMUS26LiLRGzmHKZnaKmT1mZouixyQzO7lEZSt7yZ37zamprmLk4JqcNY7WKMWS2yIirZE1wJjZWYRhyk8BnwM+D/wBuMfMzixN8cpbRZ5VmOQO/Ww1i5Wb6lt1T+xSLLktItIaufpgxgIj3X1eUtpcM6sDbicEm06tIcftpmuqqzKO6upbXZXxNqXQuuayUiy5LSLSGrkCzEfSggsA7j7fzPaNsUztRk2WYJHrntZjhw1M6YNJ15oO+riX3BaRDmL1anjxRXjhhfBYHDXN33svXHJJ0U+XK8C838ptncbYYQMZ++g8tu1orMlUdrGczVPJNY5sNRl10ItIq2QLIPnki0GuAHOQmT2ZId2AAws9sZlVAHXASnc/28z2BCYC/YG3CEvTbIz2HQ9cDjQAX3f3KVH6scB9QBWhye4b7u5m1g14gHB75/XAhe7+VqFlzvxBmnmfQaLGcdKE6RmDTHvsoNdkT5ESaG0ASejVC04+ufFx+OHQpdklKVstV4AZkWPbD4tw7m8ArwJ7RO/HAdPcfYKZjYveX2tmhwGjgEFAX+A5M/uouzcAdwJjgJcIAWY48AwhGG1094PNbBRwC3BhEcqcItNM/m0NnncTV6bmsvbYQa/JniJF0s4CSHNyzYN5Ma6Tmlk/4CzCemeJ1QFGACdHr+8HXgCujdIfdvetwDIzWwoMMbO3gD3cfUZ0zAeAkYQAMwK4ITrWJOAOMzP3HL3yrdDciLDmfsWXewd9vrUSTfYUydM77zQGjw4QQJqTazXlEUA/d/9Z9H4m0DvafI27TyrgvD8BriF1ZYB93X01gLuvNrN9ovQaQg0lYUWUti16nZ6eyLM8OtZ2M9sM7AWsS/uMYwg1IPbff/8Wf4hijAgr1w76ltRKNNlTJNLJAkhzcjWRXUNomkroBhwH7ArcS6gZtJiZnQ2scffZeU7azNSr4TnSc+VJTXC/C7gLoLa2tsW1mzhGhJWLltRKsgXa9tiXJJKTAkiL5Aowu7j78qT3f3H39cB6M9u1gHOeBJwbTdbsDuxhZr8F3jWzPlHtpQ+wJtp/BbBfUv5+wKoovV+G9OQ8K8ysK9AT2FBAmTMaObiGun9sSLlbZbr2+iu+JbWSjtKXJKIAUly5Akyv5Dfu/tWkt71pJXcfD4wHiGow33b3L5jZrcBoYEL0/ESU5Ungd2b2Y0In/yHALHdvMLMtZnYCMBO4mDABNJFnNDADOB+YXuz+l4Sn5q3OeQ+Y9vorviW1knLvSxLZ6d13UzvRX321ZfkVQFokV4CZaWZfdve7kxPN7D+AWTGUZQLwiJldDrwNXADg7ovM7BHgFWA7cGU0ggzgChqHKT8TPQB+DfwmGhCwgdSmvqKZPGdlztWU2/Ov+JbWSsq1L0k6mUIDSHV1agA54ggFkAJYth/2USf7ZGAr8Pco+VhCX8xId3+3JCUskdraWq+rq2tRnqNv/GPWAGPAbRce3a6/dPMZRab5L1JShQaQnj2bBpCKimYySS5mNtvdazNtyzVMeQ1wopmdSpiDAvC0u0+PoYztUq7aS3WPynb/RdtcrUTzX6ToFEA6lFxNZABEAUVBpYU2tWAp/1KIo6ah+S/SYgognUqzAUay69WjMus9Ycqpcz+umobmv0gTCiCSRAGmANefM4hvPTqPhh1N+7He37qdyXNWlsUv+bhqGpr/0gmtWZM6jFcBRHJQgClAYh7M72a+TXqM2VS/LaWW0Jad4XHVNDT/pQNasya1BvLKKy3LrwAiSRRgCjB5zkoem72ySXBJSL4Vclt2hsdV09D8l3Zo7drUALJoUcvy77FHagA58kgFEMkq6zDlzqY1w5SzLbefzMj+BZ/rxmTFlN4HA6GmcfN5RygYdDSFBpDdd08NIEcdpQAiObVqmLI0L58mpr7RrZNbm78YVNPoQBRApB1RgClArtWUIdRexg4bmPXulaXsDNdM+3ZCAUQ6EAWYAmS6ZXIyp7H2oM5wARRApFNRgClQtuACUGHhrgFqoupEFEBEdlKAKcANT+b+8mhIGkChJqoOYt261ACycGHL8iuASCeiAFOAXGuRQajBDBj3tGos7cm6dfCnPzUGkAULWpZ/t93glFMUQERQgIlVogZT6LwXrVhcRIUGkF13TQ0gRx+tACKShQJMAYwM92HOon5bA996ZB7QsiCjFYtbqBgBJLkJ6+ijoav+TERaQ385BWjpFNUG9xYHB61YnEYBRKTd0F9WiWULDtmawdp6kmbJrV+f2omuACLSbukvrwBVlV2o37ajxfnSg0OuZrBSrFhc0j4eBRCRTkN/mQXoXlnRqgCTHhxyNYPFvWJx0ft41q9PbcKaP79l+RVARDoM/eUWoDV3rayqrOCUQ3tz0oTpO2sM2ZabWbWpPvZJmi3u49mwITWAzJvXshP26NF0FJYCiEiHpL/sAjS3FlmyxKrKpxzam8dmr0ypMeQ6PsQ7STO9ua5n/RaOX76QE95eAA9f3boAklwDGTxYAUSkk9JffgHGDhvI2Enz2NaQezxZ8rL8J02Y3qTGkElsa5Wl1UCWtTSAVFWlBpBjjlEAEZGM9M1QqGbGKncxUgJFrtFfFWbscC+sGazAJqz6rt14+YAj2POs0zn88yMUQESk1fTNUYBbpyzOudglpK6oDLmb1Xa4s2zCWblPWmgfSIYayOQF7zbp4/lEZ5xjIyJFpQBTgHz6X9JvGDp22ECumjg3Y8Wnb3VVLAGkuRqIFuIUkTiUPMCY2X7AA8BHgB3AXe7+v2a2JzAR6A+8BXzW3TdGecYDlwMNwNfdfUqUfixwH1AF/AH4hru7mXWLznEssB640N3fKvpnofnZ/Ikl+xNG9u/BP+0Ntj43nRPeXsCgNW+mZhjfzAHVByIi7URbfDNtB77l7n83s92B2WY2FbgEmObuE8xsHDAOuNbMDgNGAYOAvsBzZvZRd28A7gTGAC8RAsxw4BlCMNro7geb2SjgFuDCYn+QTMGluv49jlvxCie8vaAxgExI3ecLuQ6aHkAGD4bKymIVWUSkZEoeYNx9NbA6er3FzF4FaoARwMnRbvcDLwDXRukPu/tWYJmZLQWGmNlbwB7uPgPAzB4ARhICzAjghuhYk4A7zMzc0xusivKBeOsH5+S/f/fuTWsgRQwg+czK1+rMIlIKbdq2Ymb9gcHATGDfKPjg7qvNbJ9otxpCDSVhRZS2LXqdnp7Iszw61nYz2wzsBaxLO/8YQg2I/fffv7UfoknSiwOOoa7/UfylZhALPnIw2yu6UlVZwc3nHRHrF3k+s/K1OrOIlEqbBRgz2w14DPimu79nGb6oE7tmSPMc6bnypCa43wXcBVBbW9vi2k11VSWb6rfR/9qnmt23FCsg5zMrX6szi0ipdGmLk5pZJSG4POjuj0fJ75pZn2h7H2BNlL4C2C8pez9gVZTeL0N6Sh4z6wr0BDYU+3PccO6gFu0f9wrI+ay83OlWZ04zec5KTpownQHjnuakCdOZPGdlWxdJpMMqeYCxUFX5NfCqu/84adOTwOjo9WjgiaT0UWbWzcwGAIcAs6LmtC1mdkJ0zIvT8iSOdT4wPZb+lxYq5grILTl+cno++3RUiebBlZvqcRqbBxVkROLRFjWYk4AvAqea2dzocSZhrNVpZrYEOC16j7svAh4BXgGeBa6MRpABXAH8ClgKvEHo4IcQwPaKBgRcTRiRVnTXPpb/SsGVFcb7W7fH+st57LCBVFWm3r43fcmZfPbpqHI1D4pI8bXFKLK/kLmPBGBoljw3ATdlSK8DDs+Q/gFwQQHFzMvW7bmX6u9isMOhV49K/vnBdjbVh9WX4+pYz2fl5bhXZy5nnb15UKTUNEMvRjucnbWF9CVl4upYz2dWfmeduV+Km7eJSKM26eTvTOq3NbAxy31j9Mu5tDpL86AGMki5UA2mAJVdoBU3tNxJv5xLqzM0D2qek5QTBZgCXDhkf3770tvN7lddVcnW7Ttiu+1xOs3Uz66jNw9qnpOUEwWYAjw9f3Ve+yXmyxT6pZ8eOE45tDfPv7Y25ZiAfsF2YhrIIOVEAaYA2fpWkvXqUbnzi72QL/hMTR/JtadEIOnWtYt+wXZiGsgg5USd/DE768g+ee+bq3M2U9NHuvptDTuHQqfTL9jOobMMZJD2QTWYmP32pbd5/rW1O//AszWTNdc5W2iA0C/YzqEzDGSQ9kMBpgRWbqpn7KPzwGBbg+9MSw4gzXXO5rrVcrJePSr5YFvpBhRI+enoAxmk/VATWQHS71aZy7YdvjO4JCQvU9Jc52ympo90VZUVXH/OIG4+7whqqqswoKa6KvbbBIiIZKIaTAEuOn6/vIYp55IIIM11zmZq+sg0iqwYAwpERIpBAaYAtQfsye9mvs2OAtZpTgSQscMGpvTBQNOmLTV9iEh7ogBTgBv/b1GLgktFF6MhKUNVZQWnHNqbkyZMZ9Wmeqp7VNKtaxc2129T56yItHsKMAXIZx5MsoYdTq8elWz617adTVyPzV65s9ay8V/bqKqs4LYLj1ZgEZF2TwGmxNxh2YSzADhpwnRNimxHtASPSMsowJRY8kRILevRfmgRSZGW0zDlNtSZb1/c3uhumCItpwDTBhJLwBR9WY9XXoGhQ6FHD+jbF667DhpyLy8DwObNcOml0KsX9OwJn/88rF/fdL/16+E//gM+8hGoqoJDD4UHHmhdWYvtww9h7Fj4938PZcs2R8kdbroJ9t8funeHY46BKVOa7rdoEZx+eriWe+/NFRN/SI8PU2uWb91yNn8dPzScK/nRrVvqcYYPD/8e3bqF837pS7A6j4VSV68O/y41NbDbbjB4MDz4YNP9tm+HCRPgkEPCOfr1g6uuav74IjFTE1kbSPSxFHVZj40b4VOfgsMOgyeegDfegG99C3bsgP/+79x5L7wQFi+GX/0KunSBa6+FkSPhz39u3Oe99+ATnwhfdLffDnvvHQLahx+2vKxx+Ne/QvmHDIETT4Tp0zPvN2ECfO974XH00fDb38I558Bf/wrHHRf22bwZTj0VPvpRmA+iW9EAABF6SURBVDgR1q/nrK9exT7vb2TMed/deahPf+GH9N69G3ddXNt4/HPOgZNOany/eTMMGAAXXxyCzLJlcOONMHs2vPwydM3yJ7hjB5x7bgjqP/hBCOqTJsEXvhCC3qc/3bjvpZfCtGlw/fUh6C9fHv5tRNqYAkwbSO5jKdrcll/8Aurr4fHHYY894LTTQlC44Qa45pqQlsmMGeEX/IsvhgAC4Rfz8cfDc8+FoAXwP/8DW7dCXV2oIQCcckrh5c7kvvtCud96K/881dWwYUOoQdxxR+YA8+GHcPPNIYBee21IGzYsfBnfeCM89VRI+/nPw7X8v/8LxwUWb3JOv+oyjli9hAV9DgHgtf6DGH3eEZD495s1C9atg4suajzniSeGR8LJJ4caxumnw/z5oQaVyeuvh2v95JMhaEGonc6cCQ8/3Bhgnn02vJ83L/y4ECkjaiIrklPeeJk3bzmHfpveSUnvt+kd3rzlHD61ZObOtFj6WJ55JnxZJgeSUaPCF+WLL+bOt+++jcEFQi1gwICwLeHee+HyyxuDSyZnnx1+QdcnNSX96EehKWrRopZ/ppZqbumeN96ALVsag2bCaafB1KmNtbG5c6G2dmdwATjhKxfhZoxYOTf7EjwPPwy77toYELLZa6/wnKv2ty0aDNKzZ2p6dXVo5ku4555Q21JwkTKkAFMkLw44hnd325PzF05LSb9gwTTW9+jJ8weFZpSMfSwNDaEdPddjRzP3Zn7ttfDlnmz//UNzymuvtSwfwL/9W2O+ZctgzZrw5XbmmbDLLtC7N1x9deqX5N13w9q1MH58eP/qq/Dd74bawaBBuctfCh98EJ532SU1vVu38DnefLNxv/R9unbFunThS3t/wLIJZ/HXcaemBhd3ePRRGDEiXPN0O3aEcyxeDOPGhea4IUOyl/Xww0Mt8rrrYMmSUBu9777QlPeVrzTuN3NmaMr76lfDj4sePeC882DVqrwvi0hcFGCKZEeXCiYd8Sk+s3B64y9Mdz6zcBq/H3QKDV1CZ37GhSeHDoXKytyPyy7LXYCNG1N+ce/Uq1fYVki+d6Ja2TXXhOazZ5+F//f/4M47QwBJ6NMnNE/99KehT2D06NAx/e1v5y77jh2Zg2lyWj6DFZpz4IGhlvPyy6nps2aF5w0bwvPBB4cmp21JE2lnzw5lSOyT7s9/hhUrQq0xkzPPDIHs0EPDMZ56KvR3ZWMWapA7doQA0rMnjBnTWGNJeOedEHjmzg01qHvvDWX99KdTazoibUB9MEX0yJGnceWMR/jY2wuYccCRfOzt+fR7bw2PHhGaZGqqqzL3t/zyl6HpJpe9926+AJmaiNybbzpqLl/iC3/QoFBLgfAlt2VL6Ju54YbGX+0XXRT6gc46K3yBzpsHFblXgeZ73wu1nHSVlY2vDzigZX0ymfTsGcp3002hhnDUUWFU1nPPhe2Jcn75y/C//wtf+1r4bOvXw3/+Z9ie7bM89FAIysOGZd5+++0hsCxZEgZdnHFGqI107555/x074ItfDOeeOBH22Qf+8IfQTLnXXmFkGoR/J/cwsCPR9NanD3zyk6EfaujQVl0qkWJQgCmi5dUf4aX9j+D8BVOZccCRXLDgOeb2+ShLeh+Qe/jxwQc3/2sz169dCF9umzY1Td+8OXMNJTnf2rVN0zdtasy3557hOb1T/9RTw8ilN96AI45oTL/oojDi6dxzw9DZ5owZE/pvEp56Cu66K3RwJyQP/S3ET34SRs0lagH77RdqYTfcEPqiINQy7rorDPX95S/DtR8zJgTcxD7Jtm+Hxx6Dz3ymadNaQuI6HH98GEo9YAD87nfZa6ZPPQVPPx06+xN5Tz45jBC75prGANOrV6iZJYILwMc/HsqRGLYu0kY6dBOZmQ03s8VmttTMxpXinA8fdTpnvP439t2yjuGv/41Hj/hU8/dkKUYT2aGHNu1rWb4c3n8/cx9LrnyQ2jdz0EGZvzgTQTE5+L33XvhiHjw4BIhMc0zS9e0bOtUTj/79w/mS05IDWCF69w6/7Jcvh4ULQ7/LrruGYcD9+zfud9ll8O67YaTXqlWh6W/pUjjhhKbHnDYtBOnk0WO5HHBACNqJPp9MXnst1ArTA/TgwSGgJ/zbv2XO7978jxKRmHXYGoyZVQA/A04DVgAvm9mT7h7rBIEpHz2R7//xTm5/8gdUuHPTxJty1yCgOE1kZ5wBt94ajrP77iFt4sQw6uuTn8yd7/vfh7/8JfzyhTA89s03wzYIX/anndZ06O+0aeFL8OCDG9O++c3QVzF9Olx5ZZhUuHBh09FQba1fv/D44IPQr5EpgHfv3hjY7r8/NFt99rNN93vooRCgTj45v3MvXhyavgYMyL7PAQeEuT2LF8PApJrv7NmpgfDss0Mtct26xv8jf/pT6D866qj8yiMSkw4bYIAhwFJ3fxPAzB4GRgCxBpitXXdh8qCTGf33p1k+fAT7NRdcIPULpLW+8pXQuX7eeWGOx5tvhmafq69OHbp88MEh4Pz61+H9xz4W+g0uvhh++MPGiZYf/3jqcN7rrgtpl14afqnPnx8mLf7XfzU2Xz31VOhkfuaZEFRvvz30dXzjG6EjOm7PPBNqbHPnhveTJoXn444LX9gAv/lN+PI98EB4+2247bbQr5IY+QahFnbTTWHodteu8PzzYbj13Xc3NhcmbN0KkyfDJZdkrjF8+9vhGMcfH67Jq6+GiZMHHZQ6IODyy8Nw8qVLw/szzwyjAEeODNe+d+/QZPbII/CznzXmGzMm/Lufc04YeLFlS/j3+9SnGn8wiLQVd++QD+B84FdJ778I3JG2zxigDqjbf//9vaUOuPapjI/PXfjfoet16tQWH7Mgixa5n3KKe/fu7h/5iPt3v+u+fXtaoQ9wHz06NW3jRvdLLnHv2dN9993dL7rIfe3apsd/9ln3wYPdd9nFvV8/9+99z72hIWxbv969Tx/3L385Nc9TT4Vr8eST+X+Oe+8N5WypAw5IdHmnPu69t3Gf++5z/+hH3bt1c99nH/cxY9zXrUs9zj//6X7aae69eoVrWVvr/vvfZz7n738fzjFjRubtDz3kfuKJ4VhVVe4DB7pffXXT6zt6dNPPvGSJ+/nnh+u6667uRx7p/otfuO/Y0XS/M85w79HDvbo6HGvDhpyXSqRYgDrP8j1s3kGHMprZBcAwd/9S9P6LwBB3/1qm/Wtra72urq5F5/j83TP46xtNh63eMechzn7tz2H+iNrBRaQDM7PZ7l6baVtH/vZbAeyX9L4fUNTZZw9++WOcdFBjk8mB61fwjfcWcPbfnghDXBVcRKQT68h9MC8Dh5jZAGAlMAr4XLFP8uCXP9b45uSTw8zqc8+Fr3+92KcSEWlXOmyAcfftZvZVYApQAdzj7vEuiPXCC7EeXkSkPemwAQbA3f8A/KGtyyEi0hmpk0BERGKhACMiIrFQgBERkVh02HkwLWVma4F/FHCIvYF1RSpOHMq9fKAyFkO5lw9UxmIop/Id4O69M21QgCkSM6vLNtmoHJR7+UBlLIZyLx+ojMVQ7uVLUBOZiIjEQgFGRERioQBTPHe1dQGaUe7lA5WxGMq9fKAyFkO5lw9QH4yIiMRENRgREYmFAoyIiMRCAaZAZjbczBab2VIzG1eC871lZgvMbK6Z1UVpe5rZVDNbEj33Stp/fFS2xWY2LCn92Og4S83sp2ZmUXo3M5sYpc80s/55lOkeM1tjZguT0kpSJjMbHZ1jiZmNbmEZbzCzldG1nGtmZ7ZVGc1sPzN73sxeNbNFZvaNcruOOcpYFtfRzLqb2SwzmxeV78YyvIbZylgW17Dost2JTI+87ppZAbwBHAjsAswDDov5nG8Be6el/QAYF70eB9wSvT4sKlM3YEBU1opo2yzgY4ABzwBnROn/Cfwiej0KmJhHmT4BHAMsLGWZgD2BN6PnXtHrXi0o4w3AtzPsW/IyAn2AY6LXuwOvR+Uom+uYo4xlcR2jY+0Wva4EZgInlNk1zFbGsriGxX6oBlOYIcBSd3/T3T8EHgZGtEE5RgD3R6/vB0YmpT/s7lvdfRmwFBhiZn2APdx9hof/eQ+k5UkcaxIwNPHLKBt3/xOQfmvPUpRpGDDV3Te4+0ZgKjC8BWXMpuRldPfV7v736PUW4FWghjK6jjnKWBbX0YN/Rm8ro4eX2TXMVsayuIbFpgBTmBpgedL7FeT+gysGB/5oZrPNbEyUtq+7r4bwJQDs00z5aqLX6ekpedx9O7AZ2KsV5SxFmYpx/b9qZvMtNKElmk7atIxRk8Zgwq/bsryOaWWEMrmOZlZhZnOBNYQv07K7hlnKCGVyDYtJAaYwmX7Zxz3u+yR3PwY4A7jSzD6RY99s5ctV7rg/UzHLVGhZ7wQOAo4GVgM/ausymtluwGPAN939vWz7lVkZy+Y6unuDux9NuEX6EDM7PNvnaIvy5Shj2VzDYlKAKcwKYL+k9/2AVXGe0N1XRc9rgN8TmunejarMRM9rminfiuh1pnLvzGNmXYGe5N+0lKwUZSro+rv7u9Ef+w7gbsK1bLMymlkl4Yv7QXd/PEouq+uYqYzldh2jMm0CXiA0AZXVNcxUxnK8hkURV+dOZ3gQ7gj6JqHzLdHJPyjG8+0K7J70+m+EP6BbSe3E/EH0ehCpHYRv0thB+DKhczHRQXhmlH4lqR2Ej+RZtv6kdqDHXiZCZ+UyQodlr+j1ni0oY5+k11cR2rrbpIzR8R4AfpKWXjbXMUcZy+I6Ar2B6uh1FfBn4Owyu4bZylgW17Do31lxHrwzPIAzCaNp3gC+E/O5Doz+s80DFiXOR2hfnQYsiZ73TMrznahsi4lGmUTptcDCaNsdNK7q0B14lNCZOAs4MI9yPUSo1m8j/Eq6vFRlAi6L0pcCl7awjL8BFgDzgSfT/shLWkbg44TmivnA3OhxZjldxxxlLIvrCBwJzInKsRC4rpR/H3lew2xlLItrWOyHlooREZFYqA9GRERioQAjIiKxUIAREZFYKMCIiEgsFGBERCQWCjAiLWBmeyWtePtO2gq4u6Tt+00z65HHMV8ws9pm9jnZzJ5qZZn7m9nnkt5fYmZ3tOZYIi2hACPSAu6+3t2P9rDUxy+A2xLvPSx4muybQLMBpgT6A59rbieRYlOAESmQmQ01sznRvTnuie7H8XWgL/C8mT0f7XenmdUl3wekmeMON7PXzOwvwHlJ6btG53k5Ou+IKL2/mf3ZzP4ePU6MskwA/j2qZV0VpfU1s2ej+4L8IMpfYWb3mdnC6LNchUgBurZ1AUTaue7AfcBQd3/dzB4ArnD3n5jZ1cAp7r4u2vc77r7BzCqAaWZ2pLvPz3RQM+tOWJPqVMKs64lJm78DTHf3y8ysGphlZs8R1tg6zd0/MLNDCKsX1BKWR/m2u58dHfsSwqKKg4GtwGIzu52wynCNux8e7VddlCsknZZqMCKFqQCWufvr0fv7CTc3y+SzZvZ3wlIhgwg3k8rm0Oi4Szwst/HbpG2nA+OiJd9fIAS5/Qn3FrnbzBYQlgrJdfxp7r7Z3T8AXgEOIKxzdaCZ3W5mw4FcqzmLNEs1GJHCvJ/PTmY2APg2cJy7bzSz+wiBIZds6zgZ8Bl3X5x2jhuAd4GjCD8eP8hx7K1JrxuArlG5jiLcmOpK4LOEtatEWkU1GJHCdAf6m9nB0fsvAi9Gr7cQbi0MsAchGG02s30J9/PJ5TVggJkdFL2/KGnbFOBr0V0KMbPBUXpPYLWHJd+/SKhdpZcjKzPbG+ji7o8B/0W4xbRIq6kGI1KYD4BLgUeje2+8TBhdBnAX8IyZrXb3U8xsDmEV7DeBv+Y6aNSPMgZ42szWAX8BEjfP+j7wE2B+FGTeIiz5/nPgMTO7AHiextrVfGC7mc0j9BdtzHLaGuBeM0v88Byf3yUQyUyrKYuISCzURCYiIrFQgBERkVgowIiISCwUYEREJBYKMCIiEgsFGBERiYUCjIiIxOL/A5fDIY1J0BV0AAAAAElFTkSuQmCC\n",
      "text/plain": [
       "<Figure size 432x288 with 1 Axes>"
      ]
     },
     "metadata": {
      "needs_background": "light"
     },
     "output_type": "display_data"
    }
   ],
   "source": [
    "# Print out the r-squared value along with the plot.\n",
    "x_values = covid_renamed_df['Total deaths']\n",
    "y_values = covid_renamed_df['GDP per capita']\n",
    "(slope, intercept, rvalue, pvalue, stderr) = linregress(x_values, y_values)\n",
    "regress_values = x_values * slope + intercept\n",
    "line_eq = \"y = \" + str(round(slope,2)) + \"x + \" + str(round(intercept,2))\n",
    "plt.scatter(x_values,y_values)\n",
    "plt.plot(x_values,regress_values,\"r-\")\n",
    "plt.annotate(line_eq,(6,10),fontsize=15,color=\"red\")\n",
    "plt.xlabel('Total deaths')\n",
    "plt.ylabel('GDP per capita')\n",
    "print(f\"The r-squared is: {rvalue**2}\")\n",
    "plt.show()"
   ]
  },
  {
   "cell_type": "code",
   "execution_count": 56,
   "metadata": {},
   "outputs": [
    {
     "data": {
      "image/png": "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\n",
      "text/plain": [
       "<Figure size 432x288 with 1 Axes>"
      ]
     },
     "metadata": {
      "needs_background": "light"
     },
     "output_type": "display_data"
    }
   ],
   "source": [
    "# Perform a linear regression on total deaths versus hospital beds per thousand\n",
    "vc_slope, vc_int, vc_r, vc_p, vc_std_err = stats.linregress(Total_deaths, gdp_per_capita)\n",
    "\n",
    "# Create equation of line to calculate predicted hospital beds per thousand\n",
    "vc_fit = vc_slope * Total_deaths + vc_int\n",
    "\n",
    "# Plot the linear model on top of scatter plot \n",
    "Total_deaths = covid_renamed_df[\"Total deaths\"]\n",
    "Hospital_beds_per_thousand = covid_renamed_df[\"GDP per capita\"]\n",
    "plt.scatter(Total_deaths,gdp_per_capita)\n",
    "plt.plot(Total_deaths,vc_fit,\"--\")\n",
    "###plt.xticks(Total_deaths, rotation=90)??\n",
    "plt.xlabel('Total_deaths')\n",
    "plt.ylabel('GDP per capita')\n",
    "plt.show()"
   ]
  },
  {
   "cell_type": "markdown",
   "metadata": {},
   "source": [
    "# Total Deaths vs Total Cases"
   ]
  },
  {
   "cell_type": "code",
   "execution_count": 57,
   "metadata": {},
   "outputs": [],
   "source": [
    "#"
   ]
  },
  {
   "cell_type": "code",
   "execution_count": 58,
   "metadata": {},
   "outputs": [],
   "source": [
    "# Export file as a CSV, without the Pandas index, but with the header\n",
    "#organized_df.to_csv(\"fileOne.csv\", index=False, header=True)"
   ]
  }
 ],
 "metadata": {
  "kernelspec": {
   "display_name": "Python 3",
   "language": "python",
   "name": "python3"
  },
  "language_info": {
   "codemirror_mode": {
    "name": "ipython",
    "version": 3
   },
   "file_extension": ".py",
   "mimetype": "text/x-python",
   "name": "python",
   "nbconvert_exporter": "python",
   "pygments_lexer": "ipython3",
   "version": "3.6.10"
  }
 },
 "nbformat": 4,
 "nbformat_minor": 4
}
